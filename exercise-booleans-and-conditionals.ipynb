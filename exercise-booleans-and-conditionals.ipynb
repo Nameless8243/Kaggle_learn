{
 "cells": [
  {
   "cell_type": "markdown",
   "id": "16af88ea",
   "metadata": {
    "papermill": {
     "duration": 0.01054,
     "end_time": "2024-04-05T09:53:47.893194",
     "exception": false,
     "start_time": "2024-04-05T09:53:47.882654",
     "status": "completed"
    },
    "tags": []
   },
   "source": [
    "**This notebook is an exercise in the [Python](https://www.kaggle.com/learn/python) course.  You can reference the tutorial at [this link](https://www.kaggle.com/colinmorris/booleans-and-conditionals).**\n",
    "\n",
    "---\n"
   ]
  },
  {
   "cell_type": "markdown",
   "id": "eeff444c",
   "metadata": {
    "papermill": {
     "duration": 0.010159,
     "end_time": "2024-04-05T09:53:47.913633",
     "exception": false,
     "start_time": "2024-04-05T09:53:47.903474",
     "status": "completed"
    },
    "tags": []
   },
   "source": [
    "In this exercise, you'll put to work what you have learned about booleans and conditionals.\n",
    "\n",
    "To get started, **run the setup code below** before writing your own code (and if you leave this notebook and come back later, don't forget to run the setup code again)."
   ]
  },
  {
   "cell_type": "code",
   "execution_count": 1,
   "id": "8050f1c6",
   "metadata": {
    "execution": {
     "iopub.execute_input": "2024-04-05T09:53:47.936269Z",
     "iopub.status.busy": "2024-04-05T09:53:47.935612Z",
     "iopub.status.idle": "2024-04-05T09:53:48.754551Z",
     "shell.execute_reply": "2024-04-05T09:53:48.753566Z"
    },
    "papermill": {
     "duration": 0.83335,
     "end_time": "2024-04-05T09:53:48.757307",
     "exception": false,
     "start_time": "2024-04-05T09:53:47.923957",
     "status": "completed"
    },
    "tags": []
   },
   "outputs": [
    {
     "name": "stdout",
     "output_type": "stream",
     "text": [
      "Setup complete.\n"
     ]
    }
   ],
   "source": [
    "from learntools.core import binder; binder.bind(globals())\n",
    "from learntools.python.ex3 import *\n",
    "print('Setup complete.')"
   ]
  },
  {
   "cell_type": "markdown",
   "id": "81b73c19",
   "metadata": {
    "papermill": {
     "duration": 0.010012,
     "end_time": "2024-04-05T09:53:48.778426",
     "exception": false,
     "start_time": "2024-04-05T09:53:48.768414",
     "status": "completed"
    },
    "tags": []
   },
   "source": [
    "# 1.\n",
    "\n",
    "Many programming languages have [`sign`](https://en.wikipedia.org/wiki/Sign_function) available as a built-in function. Python doesn't, but we can define our own!\n",
    "\n",
    "In the cell below, define a function called `sign` which takes a numerical argument and returns -1 if it's negative, 1 if it's positive, and 0 if it's 0."
   ]
  },
  {
   "cell_type": "code",
   "execution_count": 2,
   "id": "7a5f40f5",
   "metadata": {
    "execution": {
     "iopub.execute_input": "2024-04-05T09:53:48.800019Z",
     "iopub.status.busy": "2024-04-05T09:53:48.799571Z",
     "iopub.status.idle": "2024-04-05T09:53:48.808976Z",
     "shell.execute_reply": "2024-04-05T09:53:48.807951Z"
    },
    "papermill": {
     "duration": 0.022515,
     "end_time": "2024-04-05T09:53:48.811035",
     "exception": false,
     "start_time": "2024-04-05T09:53:48.788520",
     "status": "completed"
    },
    "tags": []
   },
   "outputs": [
    {
     "data": {
      "application/javascript": [
       "parent.postMessage({\"jupyterEvent\": \"custom.exercise_interaction\", \"data\": {\"outcomeType\": 1, \"valueTowardsCompletion\": 0.2, \"interactionType\": 1, \"questionType\": 2, \"questionId\": \"1_SignFunctionProblem\", \"learnToolsVersion\": \"0.3.4\", \"failureMessage\": \"\", \"exceptionClass\": \"\", \"trace\": \"\"}}, \"*\")"
      ],
      "text/plain": [
       "<IPython.core.display.Javascript object>"
      ]
     },
     "metadata": {},
     "output_type": "display_data"
    },
    {
     "data": {
      "text/markdown": [
       "<span style=\"color:#33cc33\">Correct</span>"
      ],
      "text/plain": [
       "Correct"
      ]
     },
     "metadata": {},
     "output_type": "display_data"
    }
   ],
   "source": [
    "# Your code goes here. Define a function called 'sign'\n",
    "def sign(n):\n",
    "    if n < 0:\n",
    "        return -1;\n",
    "    elif n == 0:\n",
    "        return 0;\n",
    "    else:\n",
    "        return 1;\n",
    "# Check your answer\n",
    "q1.check()"
   ]
  },
  {
   "cell_type": "code",
   "execution_count": 3,
   "id": "5452fa65",
   "metadata": {
    "execution": {
     "iopub.execute_input": "2024-04-05T09:53:48.832357Z",
     "iopub.status.busy": "2024-04-05T09:53:48.831964Z",
     "iopub.status.idle": "2024-04-05T09:53:48.836579Z",
     "shell.execute_reply": "2024-04-05T09:53:48.835621Z"
    },
    "papermill": {
     "duration": 0.017692,
     "end_time": "2024-04-05T09:53:48.838775",
     "exception": false,
     "start_time": "2024-04-05T09:53:48.821083",
     "status": "completed"
    },
    "tags": []
   },
   "outputs": [],
   "source": [
    "#q1.solution()"
   ]
  },
  {
   "cell_type": "markdown",
   "id": "4da475c5",
   "metadata": {
    "papermill": {
     "duration": 0.010186,
     "end_time": "2024-04-05T09:53:48.859602",
     "exception": false,
     "start_time": "2024-04-05T09:53:48.849416",
     "status": "completed"
    },
    "tags": []
   },
   "source": [
    "# 2.\n",
    "\n",
    "We've decided to add \"logging\" to our `to_smash` function from the previous exercise."
   ]
  },
  {
   "cell_type": "code",
   "execution_count": 4,
   "id": "fb4037c4",
   "metadata": {
    "execution": {
     "iopub.execute_input": "2024-04-05T09:53:48.882351Z",
     "iopub.status.busy": "2024-04-05T09:53:48.881997Z",
     "iopub.status.idle": "2024-04-05T09:53:48.889311Z",
     "shell.execute_reply": "2024-04-05T09:53:48.888560Z"
    },
    "papermill": {
     "duration": 0.020417,
     "end_time": "2024-04-05T09:53:48.891282",
     "exception": false,
     "start_time": "2024-04-05T09:53:48.870865",
     "status": "completed"
    },
    "tags": []
   },
   "outputs": [
    {
     "name": "stdout",
     "output_type": "stream",
     "text": [
      "Splitting 91 candies\n"
     ]
    },
    {
     "data": {
      "text/plain": [
       "1"
      ]
     },
     "execution_count": 4,
     "metadata": {},
     "output_type": "execute_result"
    }
   ],
   "source": [
    "def to_smash(total_candies):\n",
    "    \"\"\"Return the number of leftover candies that must be smashed after distributing\n",
    "    the given number of candies evenly between 3 friends.\n",
    "    \n",
    "    >>> to_smash(91)\n",
    "    1\n",
    "    \"\"\"\n",
    "    print(\"Splitting\", total_candies, \"candies\")\n",
    "    return total_candies % 3\n",
    "\n",
    "to_smash(91)"
   ]
  },
  {
   "cell_type": "markdown",
   "id": "69f447e5",
   "metadata": {
    "papermill": {
     "duration": 0.010213,
     "end_time": "2024-04-05T09:53:48.912009",
     "exception": false,
     "start_time": "2024-04-05T09:53:48.901796",
     "status": "completed"
    },
    "tags": []
   },
   "source": [
    "What happens if we call it with `total_candies = 1`?"
   ]
  },
  {
   "cell_type": "code",
   "execution_count": 5,
   "id": "645e1cdd",
   "metadata": {
    "execution": {
     "iopub.execute_input": "2024-04-05T09:53:48.934479Z",
     "iopub.status.busy": "2024-04-05T09:53:48.934146Z",
     "iopub.status.idle": "2024-04-05T09:53:48.940473Z",
     "shell.execute_reply": "2024-04-05T09:53:48.939576Z"
    },
    "papermill": {
     "duration": 0.019695,
     "end_time": "2024-04-05T09:53:48.942291",
     "exception": false,
     "start_time": "2024-04-05T09:53:48.922596",
     "status": "completed"
    },
    "tags": []
   },
   "outputs": [
    {
     "name": "stdout",
     "output_type": "stream",
     "text": [
      "Splitting 1 candies\n"
     ]
    },
    {
     "data": {
      "text/plain": [
       "1"
      ]
     },
     "execution_count": 5,
     "metadata": {},
     "output_type": "execute_result"
    }
   ],
   "source": [
    "to_smash(1)"
   ]
  },
  {
   "cell_type": "markdown",
   "id": "05dc1c6e",
   "metadata": {
    "papermill": {
     "duration": 0.01097,
     "end_time": "2024-04-05T09:53:48.964096",
     "exception": false,
     "start_time": "2024-04-05T09:53:48.953126",
     "status": "completed"
    },
    "tags": []
   },
   "source": [
    "That isn't great grammar!\n",
    "\n",
    "Modify the definition in the cell below to correct the grammar of our print statement. (If there's only one candy, we should use the singular \"candy\" instead of the plural \"candies\")"
   ]
  },
  {
   "cell_type": "code",
   "execution_count": 6,
   "id": "62d9ac93",
   "metadata": {
    "execution": {
     "iopub.execute_input": "2024-04-05T09:53:48.986893Z",
     "iopub.status.busy": "2024-04-05T09:53:48.986558Z",
     "iopub.status.idle": "2024-04-05T09:53:48.995251Z",
     "shell.execute_reply": "2024-04-05T09:53:48.994460Z"
    },
    "papermill": {
     "duration": 0.022448,
     "end_time": "2024-04-05T09:53:48.997161",
     "exception": false,
     "start_time": "2024-04-05T09:53:48.974713",
     "status": "completed"
    },
    "tags": []
   },
   "outputs": [
    {
     "name": "stdout",
     "output_type": "stream",
     "text": [
      "Splitting 91 candies\n",
      "Splitting 1 candy\n"
     ]
    },
    {
     "data": {
      "text/plain": [
       "1"
      ]
     },
     "execution_count": 6,
     "metadata": {},
     "output_type": "execute_result"
    }
   ],
   "source": [
    "def to_smash(total_candies):\n",
    "    \"\"\"Return the number of leftover candies that must be smashed after distributing\n",
    "    the given number of candies evenly between 3 friends.\n",
    "    \n",
    "    >>> to_smash(91)\n",
    "    1\n",
    "    \"\"\"\n",
    "    print(\"Splitting\", total_candies, \"candies\" if total_candies>1 else \"candy\")\n",
    "    return total_candies % 3\n",
    "\n",
    "to_smash(91)\n",
    "to_smash(1)"
   ]
  },
  {
   "cell_type": "markdown",
   "id": "f1835d0b",
   "metadata": {
    "papermill": {
     "duration": 0.011099,
     "end_time": "2024-04-05T09:53:49.019387",
     "exception": false,
     "start_time": "2024-04-05T09:53:49.008288",
     "status": "completed"
    },
    "tags": []
   },
   "source": [
    "To get credit for completing this problem, and to see the official answer, run the code cell below."
   ]
  },
  {
   "cell_type": "code",
   "execution_count": 7,
   "id": "ca6ff768",
   "metadata": {
    "execution": {
     "iopub.execute_input": "2024-04-05T09:53:49.042889Z",
     "iopub.status.busy": "2024-04-05T09:53:49.042582Z",
     "iopub.status.idle": "2024-04-05T09:53:49.051027Z",
     "shell.execute_reply": "2024-04-05T09:53:49.049978Z"
    },
    "papermill": {
     "duration": 0.022666,
     "end_time": "2024-04-05T09:53:49.053110",
     "exception": false,
     "start_time": "2024-04-05T09:53:49.030444",
     "status": "completed"
    },
    "tags": []
   },
   "outputs": [
    {
     "data": {
      "application/javascript": [
       "parent.postMessage({\"jupyterEvent\": \"custom.exercise_interaction\", \"data\": {\"interactionType\": 3, \"questionType\": 4, \"questionId\": \"2_PluralizationProblem\", \"learnToolsVersion\": \"0.3.4\", \"valueTowardsCompletion\": 0.0, \"failureMessage\": \"\", \"exceptionClass\": \"\", \"trace\": \"\", \"outcomeType\": 4}}, \"*\")"
      ],
      "text/plain": [
       "<IPython.core.display.Javascript object>"
      ]
     },
     "metadata": {},
     "output_type": "display_data"
    },
    {
     "data": {
      "text/markdown": [
       "<span style=\"color:#33cc99\">Solution:</span> A straightforward (and totally fine) solution is to replace the original `print` call with:\n",
       "\n",
       "```python\n",
       "if total_candies == 1:\n",
       "    print(\"Splitting 1 candy\")\n",
       "else:\n",
       "    print(\"Splitting\", total_candies, \"candies\")\n",
       "```\n",
       "\n",
       "Here's a slightly more succinct solution using a conditional expression:\n",
       "\n",
       "```python\n",
       "print(\"Splitting\", total_candies, \"candy\" if total_candies == 1 else \"candies\")\n",
       "```"
      ],
      "text/plain": [
       "Solution: A straightforward (and totally fine) solution is to replace the original `print` call with:\n",
       "\n",
       "```python\n",
       "if total_candies == 1:\n",
       "    print(\"Splitting 1 candy\")\n",
       "else:\n",
       "    print(\"Splitting\", total_candies, \"candies\")\n",
       "```\n",
       "\n",
       "Here's a slightly more succinct solution using a conditional expression:\n",
       "\n",
       "```python\n",
       "print(\"Splitting\", total_candies, \"candy\" if total_candies == 1 else \"candies\")\n",
       "```"
      ]
     },
     "metadata": {},
     "output_type": "display_data"
    }
   ],
   "source": [
    "# Check your answer (Run this code cell to receive credit!)\n",
    "q2.solution()"
   ]
  },
  {
   "cell_type": "markdown",
   "id": "00bfcc27",
   "metadata": {
    "papermill": {
     "duration": 0.011068,
     "end_time": "2024-04-05T09:53:49.075532",
     "exception": false,
     "start_time": "2024-04-05T09:53:49.064464",
     "status": "completed"
    },
    "tags": []
   },
   "source": [
    "# 3. <span title=\"A bit spicy\" style=\"color: darkgreen \">🌶️</span>\n",
    "\n",
    "In the tutorial, we talked about deciding whether we're prepared for the weather. I said that I'm safe from today's weather if...\n",
    "- I have an umbrella...\n",
    "- or if the rain isn't too heavy and I have a hood...\n",
    "- otherwise, I'm still fine unless it's raining *and* it's a workday\n",
    "\n",
    "The function below uses our first attempt at turning this logic into a Python expression. I claimed that there was a bug in that code. Can you find it?\n",
    "\n",
    "To prove that `prepared_for_weather` is buggy, come up with a set of inputs where either:\n",
    "- the function returns `False` (but should have returned `True`), or\n",
    "- the function returned `True` (but should have returned `False`).\n",
    "\n",
    "To get credit for completing this question, your code should return a <font color='#33cc33'>Correct</font> result."
   ]
  },
  {
   "cell_type": "code",
   "execution_count": 8,
   "id": "51fbf53c",
   "metadata": {
    "execution": {
     "iopub.execute_input": "2024-04-05T09:53:49.099595Z",
     "iopub.status.busy": "2024-04-05T09:53:49.099055Z",
     "iopub.status.idle": "2024-04-05T09:53:49.109584Z",
     "shell.execute_reply": "2024-04-05T09:53:49.108300Z"
    },
    "papermill": {
     "duration": 0.024887,
     "end_time": "2024-04-05T09:53:49.111693",
     "exception": false,
     "start_time": "2024-04-05T09:53:49.086806",
     "status": "completed"
    },
    "tags": []
   },
   "outputs": [
    {
     "name": "stdout",
     "output_type": "stream",
     "text": [
      "False\n"
     ]
    },
    {
     "data": {
      "application/javascript": [
       "parent.postMessage({\"jupyterEvent\": \"custom.exercise_interaction\", \"data\": {\"outcomeType\": 1, \"valueTowardsCompletion\": 0.2, \"interactionType\": 1, \"questionType\": 1, \"questionId\": \"3_WeatherDebug\", \"learnToolsVersion\": \"0.3.4\", \"failureMessage\": \"\", \"exceptionClass\": \"\", \"trace\": \"\"}}, \"*\")"
      ],
      "text/plain": [
       "<IPython.core.display.Javascript object>"
      ]
     },
     "metadata": {},
     "output_type": "display_data"
    },
    {
     "data": {
      "text/markdown": [
       "<span style=\"color:#33cc33\">Correct:</span> \n",
       "\n",
       "One example of a failing test case is:\n",
       "\n",
       "```python\n",
       "have_umbrella = False\n",
       "rain_level = 0.0\n",
       "have_hood = False\n",
       "is_workday = False\n",
       "```\n",
       "\n",
       "Clearly we're prepared for the weather in this case. It's not raining. Not only that, it's not a workday, so we don't even need to leave the house! But our function will return False on these inputs.\n",
       "\n",
       "The key problem is that Python implictly parenthesizes the last part as:\n",
       "\n",
       "```python\n",
       "(not (rain_level > 0)) and is_workday\n",
       "```\n",
       "\n",
       "Whereas what we were trying to express would look more like:\n",
       "\n",
       "```python\n",
       "not (rain_level > 0 and is_workday)\n",
       "```\n"
      ],
      "text/plain": [
       "Correct: \n",
       "\n",
       "One example of a failing test case is:\n",
       "\n",
       "```python\n",
       "have_umbrella = False\n",
       "rain_level = 0.0\n",
       "have_hood = False\n",
       "is_workday = False\n",
       "```\n",
       "\n",
       "Clearly we're prepared for the weather in this case. It's not raining. Not only that, it's not a workday, so we don't even need to leave the house! But our function will return False on these inputs.\n",
       "\n",
       "The key problem is that Python implictly parenthesizes the last part as:\n",
       "\n",
       "```python\n",
       "(not (rain_level > 0)) and is_workday\n",
       "```\n",
       "\n",
       "Whereas what we were trying to express would look more like:\n",
       "\n",
       "```python\n",
       "not (rain_level > 0 and is_workday)\n",
       "```"
      ]
     },
     "metadata": {},
     "output_type": "display_data"
    }
   ],
   "source": [
    "def prepared_for_weather(have_umbrella, rain_level, have_hood, is_workday):\n",
    "    # Don't change this code. Our goal is just to find the bug, not fix it!\n",
    "    return have_umbrella or rain_level < 5 and have_hood or not rain_level > 0 and is_workday\n",
    "\n",
    "# Change the values of these inputs so they represent a case where prepared_for_weather\n",
    "# returns the wrong answer.\n",
    "have_umbrella = False\n",
    "rain_level = 0.0\n",
    "have_hood = False\n",
    "is_workday = False\n",
    "\n",
    "# Check what the function returns given the current values of the variables above\n",
    "actual = prepared_for_weather(have_umbrella, rain_level, have_hood, is_workday)\n",
    "print(actual)\n",
    "\n",
    "# Check your answer\n",
    "q3.check()"
   ]
  },
  {
   "cell_type": "code",
   "execution_count": 9,
   "id": "938fc2a9",
   "metadata": {
    "execution": {
     "iopub.execute_input": "2024-04-05T09:53:49.136738Z",
     "iopub.status.busy": "2024-04-05T09:53:49.136041Z",
     "iopub.status.idle": "2024-04-05T09:53:49.139876Z",
     "shell.execute_reply": "2024-04-05T09:53:49.139100Z"
    },
    "papermill": {
     "duration": 0.018178,
     "end_time": "2024-04-05T09:53:49.141776",
     "exception": false,
     "start_time": "2024-04-05T09:53:49.123598",
     "status": "completed"
    },
    "tags": []
   },
   "outputs": [],
   "source": [
    "#q3.hint()\n",
    "#q3.solution()"
   ]
  },
  {
   "cell_type": "markdown",
   "id": "fdb0dbf7",
   "metadata": {
    "papermill": {
     "duration": 0.011571,
     "end_time": "2024-04-05T09:53:49.164866",
     "exception": false,
     "start_time": "2024-04-05T09:53:49.153295",
     "status": "completed"
    },
    "tags": []
   },
   "source": [
    "# 4.\n",
    "\n",
    "The function `is_negative` below is implemented correctly - it returns True if the given number is negative and False otherwise.\n",
    "\n",
    "However, it's more verbose than it needs to be. We can actually reduce the number of lines of code in this function by *75%* while keeping the same behaviour. \n",
    "\n",
    "See if you can come up with an equivalent body that uses just **one line** of code, and put it in the function `concise_is_negative`. (HINT: you don't even need Python's ternary syntax)"
   ]
  },
  {
   "cell_type": "code",
   "execution_count": 10,
   "id": "62c37608",
   "metadata": {
    "execution": {
     "iopub.execute_input": "2024-04-05T09:53:49.189715Z",
     "iopub.status.busy": "2024-04-05T09:53:49.189364Z",
     "iopub.status.idle": "2024-04-05T09:53:49.197841Z",
     "shell.execute_reply": "2024-04-05T09:53:49.196958Z"
    },
    "papermill": {
     "duration": 0.023429,
     "end_time": "2024-04-05T09:53:49.200107",
     "exception": false,
     "start_time": "2024-04-05T09:53:49.176678",
     "status": "completed"
    },
    "tags": []
   },
   "outputs": [
    {
     "data": {
      "application/javascript": [
       "parent.postMessage({\"jupyterEvent\": \"custom.exercise_interaction\", \"data\": {\"outcomeType\": 4, \"interactionType\": 1, \"questionType\": 2, \"questionId\": \"4_ConciseIsNegative\", \"learnToolsVersion\": \"0.3.4\", \"valueTowardsCompletion\": 0.0, \"failureMessage\": \"\", \"exceptionClass\": \"\", \"trace\": \"\"}}, \"*\")"
      ],
      "text/plain": [
       "<IPython.core.display.Javascript object>"
      ]
     },
     "metadata": {},
     "output_type": "display_data"
    },
    {
     "data": {
      "text/markdown": [
       "<span style=\"color:#ccaa33\">Check:</span> When you've updated the starter code, `check()` will tell you whether your code is correct. "
      ],
      "text/plain": [
       "Check: When you've updated the starter code, `check()` will tell you whether your code is correct. "
      ]
     },
     "metadata": {},
     "output_type": "display_data"
    }
   ],
   "source": [
    "def is_negative(number):\n",
    "    if number < 0:\n",
    "        return True\n",
    "    else:\n",
    "        return False\n",
    "\n",
    "def concise_is_negative(number):\n",
    "    pass # Your code goes here (try to keep it to one line!)\n",
    "\n",
    "# Check your answer\n",
    "q4.check()"
   ]
  },
  {
   "cell_type": "code",
   "execution_count": 11,
   "id": "2863a161",
   "metadata": {
    "execution": {
     "iopub.execute_input": "2024-04-05T09:53:49.225911Z",
     "iopub.status.busy": "2024-04-05T09:53:49.225635Z",
     "iopub.status.idle": "2024-04-05T09:53:49.228908Z",
     "shell.execute_reply": "2024-04-05T09:53:49.228128Z"
    },
    "papermill": {
     "duration": 0.01844,
     "end_time": "2024-04-05T09:53:49.230809",
     "exception": false,
     "start_time": "2024-04-05T09:53:49.212369",
     "status": "completed"
    },
    "tags": []
   },
   "outputs": [],
   "source": [
    "#q4.hint()\n",
    "#q4.solution()"
   ]
  },
  {
   "cell_type": "markdown",
   "id": "2492740e",
   "metadata": {
    "papermill": {
     "duration": 0.012895,
     "end_time": "2024-04-05T09:53:49.255748",
     "exception": false,
     "start_time": "2024-04-05T09:53:49.242853",
     "status": "completed"
    },
    "tags": []
   },
   "source": [
    "# 5a.\n",
    "\n",
    "The boolean variables `ketchup`, `mustard` and `onion` represent whether a customer wants a particular topping on their hot dog. We want to implement a number of boolean functions that correspond to some yes-or-no questions about the customer's order. For example:"
   ]
  },
  {
   "cell_type": "code",
   "execution_count": 12,
   "id": "a3fb0af9",
   "metadata": {
    "execution": {
     "iopub.execute_input": "2024-04-05T09:53:49.280893Z",
     "iopub.status.busy": "2024-04-05T09:53:49.280647Z",
     "iopub.status.idle": "2024-04-05T09:53:49.284543Z",
     "shell.execute_reply": "2024-04-05T09:53:49.283699Z"
    },
    "papermill": {
     "duration": 0.018704,
     "end_time": "2024-04-05T09:53:49.286415",
     "exception": false,
     "start_time": "2024-04-05T09:53:49.267711",
     "status": "completed"
    },
    "tags": []
   },
   "outputs": [],
   "source": [
    "def onionless(ketchup, mustard, onion):\n",
    "    \"\"\"Return whether the customer doesn't want onions.\n",
    "    \"\"\"\n",
    "    return not onion"
   ]
  },
  {
   "cell_type": "code",
   "execution_count": 13,
   "id": "6b318eab",
   "metadata": {
    "execution": {
     "iopub.execute_input": "2024-04-05T09:53:49.311700Z",
     "iopub.status.busy": "2024-04-05T09:53:49.311387Z",
     "iopub.status.idle": "2024-04-05T09:53:49.318790Z",
     "shell.execute_reply": "2024-04-05T09:53:49.318123Z"
    },
    "papermill": {
     "duration": 0.022438,
     "end_time": "2024-04-05T09:53:49.320708",
     "exception": false,
     "start_time": "2024-04-05T09:53:49.298270",
     "status": "completed"
    },
    "tags": []
   },
   "outputs": [
    {
     "data": {
      "application/javascript": [
       "parent.postMessage({\"jupyterEvent\": \"custom.exercise_interaction\", \"data\": {\"outcomeType\": 4, \"interactionType\": 1, \"questionType\": 2, \"questionId\": \"5.1_AllToppings\", \"learnToolsVersion\": \"0.3.4\", \"valueTowardsCompletion\": 0.0, \"failureMessage\": \"\", \"exceptionClass\": \"\", \"trace\": \"\"}}, \"*\")"
      ],
      "text/plain": [
       "<IPython.core.display.Javascript object>"
      ]
     },
     "metadata": {},
     "output_type": "display_data"
    },
    {
     "data": {
      "text/markdown": [
       "<span style=\"color:#ccaa33\">Check:</span> When you've updated the starter code, `check()` will tell you whether your code is correct. "
      ],
      "text/plain": [
       "Check: When you've updated the starter code, `check()` will tell you whether your code is correct. "
      ]
     },
     "metadata": {},
     "output_type": "display_data"
    }
   ],
   "source": [
    "def wants_all_toppings(ketchup, mustard, onion):\n",
    "    \"\"\"Return whether the customer wants \"the works\" (all 3 toppings)\n",
    "    \"\"\"\n",
    "    pass\n",
    "\n",
    "# Check your answer\n",
    "q5.a.check()"
   ]
  },
  {
   "cell_type": "code",
   "execution_count": 14,
   "id": "185f0ddc",
   "metadata": {
    "execution": {
     "iopub.execute_input": "2024-04-05T09:53:49.347396Z",
     "iopub.status.busy": "2024-04-05T09:53:49.347037Z",
     "iopub.status.idle": "2024-04-05T09:53:49.350900Z",
     "shell.execute_reply": "2024-04-05T09:53:49.349972Z"
    },
    "papermill": {
     "duration": 0.019415,
     "end_time": "2024-04-05T09:53:49.352870",
     "exception": false,
     "start_time": "2024-04-05T09:53:49.333455",
     "status": "completed"
    },
    "tags": []
   },
   "outputs": [],
   "source": [
    "#q5.a.hint()\n",
    "#q5.a.solution()"
   ]
  },
  {
   "cell_type": "markdown",
   "id": "5c90de10",
   "metadata": {
    "papermill": {
     "duration": 0.012316,
     "end_time": "2024-04-05T09:53:49.377940",
     "exception": false,
     "start_time": "2024-04-05T09:53:49.365624",
     "status": "completed"
    },
    "tags": []
   },
   "source": [
    "# 5b.\n",
    "\n",
    "For the next function, fill in the body to match the English description in the docstring. "
   ]
  },
  {
   "cell_type": "code",
   "execution_count": 15,
   "id": "80430991",
   "metadata": {
    "execution": {
     "iopub.execute_input": "2024-04-05T09:53:49.405392Z",
     "iopub.status.busy": "2024-04-05T09:53:49.405005Z",
     "iopub.status.idle": "2024-04-05T09:53:49.413942Z",
     "shell.execute_reply": "2024-04-05T09:53:49.412983Z"
    },
    "papermill": {
     "duration": 0.025893,
     "end_time": "2024-04-05T09:53:49.416205",
     "exception": false,
     "start_time": "2024-04-05T09:53:49.390312",
     "status": "completed"
    },
    "tags": []
   },
   "outputs": [
    {
     "data": {
      "application/javascript": [
       "parent.postMessage({\"jupyterEvent\": \"custom.exercise_interaction\", \"data\": {\"outcomeType\": 4, \"interactionType\": 1, \"questionType\": 2, \"questionId\": \"5.2_PlainDog\", \"learnToolsVersion\": \"0.3.4\", \"valueTowardsCompletion\": 0.0, \"failureMessage\": \"\", \"exceptionClass\": \"\", \"trace\": \"\"}}, \"*\")"
      ],
      "text/plain": [
       "<IPython.core.display.Javascript object>"
      ]
     },
     "metadata": {},
     "output_type": "display_data"
    },
    {
     "data": {
      "text/markdown": [
       "<span style=\"color:#ccaa33\">Check:</span> When you've updated the starter code, `check()` will tell you whether your code is correct. "
      ],
      "text/plain": [
       "Check: When you've updated the starter code, `check()` will tell you whether your code is correct. "
      ]
     },
     "metadata": {},
     "output_type": "display_data"
    }
   ],
   "source": [
    "def wants_plain_hotdog(ketchup, mustard, onion):\n",
    "    \"\"\"Return whether the customer wants a plain hot dog with no toppings.\n",
    "    \"\"\"\n",
    "    pass\n",
    "\n",
    "# Check your answer\n",
    "q5.b.check()"
   ]
  },
  {
   "cell_type": "code",
   "execution_count": 16,
   "id": "9cc42f39",
   "metadata": {
    "execution": {
     "iopub.execute_input": "2024-04-05T09:53:49.445834Z",
     "iopub.status.busy": "2024-04-05T09:53:49.445542Z",
     "iopub.status.idle": "2024-04-05T09:53:49.449581Z",
     "shell.execute_reply": "2024-04-05T09:53:49.448573Z"
    },
    "papermill": {
     "duration": 0.021224,
     "end_time": "2024-04-05T09:53:49.451658",
     "exception": false,
     "start_time": "2024-04-05T09:53:49.430434",
     "status": "completed"
    },
    "tags": []
   },
   "outputs": [],
   "source": [
    "#q5.b.hint()\n",
    "#q5.b.solution()"
   ]
  },
  {
   "cell_type": "markdown",
   "id": "6d502565",
   "metadata": {
    "papermill": {
     "duration": 0.013156,
     "end_time": "2024-04-05T09:53:49.478332",
     "exception": false,
     "start_time": "2024-04-05T09:53:49.465176",
     "status": "completed"
    },
    "tags": []
   },
   "source": [
    "# 5c.\n",
    "\n",
    "You know what to do: for the next function, fill in the body to match the English description in the docstring."
   ]
  },
  {
   "cell_type": "code",
   "execution_count": 17,
   "id": "4b55e3ab",
   "metadata": {
    "execution": {
     "iopub.execute_input": "2024-04-05T09:53:49.507228Z",
     "iopub.status.busy": "2024-04-05T09:53:49.506596Z",
     "iopub.status.idle": "2024-04-05T09:53:49.514734Z",
     "shell.execute_reply": "2024-04-05T09:53:49.514033Z"
    },
    "papermill": {
     "duration": 0.024543,
     "end_time": "2024-04-05T09:53:49.516566",
     "exception": false,
     "start_time": "2024-04-05T09:53:49.492023",
     "status": "completed"
    },
    "tags": []
   },
   "outputs": [
    {
     "data": {
      "application/javascript": [
       "parent.postMessage({\"jupyterEvent\": \"custom.exercise_interaction\", \"data\": {\"outcomeType\": 4, \"interactionType\": 1, \"questionType\": 2, \"questionId\": \"5.3_OneSauce\", \"learnToolsVersion\": \"0.3.4\", \"valueTowardsCompletion\": 0.0, \"failureMessage\": \"\", \"exceptionClass\": \"\", \"trace\": \"\"}}, \"*\")"
      ],
      "text/plain": [
       "<IPython.core.display.Javascript object>"
      ]
     },
     "metadata": {},
     "output_type": "display_data"
    },
    {
     "data": {
      "text/markdown": [
       "<span style=\"color:#ccaa33\">Check:</span> When you've updated the starter code, `check()` will tell you whether your code is correct. "
      ],
      "text/plain": [
       "Check: When you've updated the starter code, `check()` will tell you whether your code is correct. "
      ]
     },
     "metadata": {},
     "output_type": "display_data"
    }
   ],
   "source": [
    "def exactly_one_sauce(ketchup, mustard, onion):\n",
    "    \"\"\"Return whether the customer wants either ketchup or mustard, but not both.\n",
    "    (You may be familiar with this operation under the name \"exclusive or\")\n",
    "    \"\"\"\n",
    "    pass\n",
    "\n",
    "# Check your answer\n",
    "q5.c.check()"
   ]
  },
  {
   "cell_type": "code",
   "execution_count": 18,
   "id": "522cd748",
   "metadata": {
    "execution": {
     "iopub.execute_input": "2024-04-05T09:53:49.545789Z",
     "iopub.status.busy": "2024-04-05T09:53:49.545523Z",
     "iopub.status.idle": "2024-04-05T09:53:49.549173Z",
     "shell.execute_reply": "2024-04-05T09:53:49.548175Z"
    },
    "papermill": {
     "duration": 0.020673,
     "end_time": "2024-04-05T09:53:49.551194",
     "exception": false,
     "start_time": "2024-04-05T09:53:49.530521",
     "status": "completed"
    },
    "tags": []
   },
   "outputs": [],
   "source": [
    "#q5.c.hint()\n",
    "#q5.c.solution()"
   ]
  },
  {
   "cell_type": "markdown",
   "id": "2b2ae9b6",
   "metadata": {
    "papermill": {
     "duration": 0.013787,
     "end_time": "2024-04-05T09:53:49.579173",
     "exception": false,
     "start_time": "2024-04-05T09:53:49.565386",
     "status": "completed"
    },
    "tags": []
   },
   "source": [
    "# 6. <span title=\"A bit spicy\" style=\"color: darkgreen \">🌶️</span>\n",
    "\n",
    "We’ve seen that calling `bool()` on an integer returns `False` if it’s equal to 0 and `True` otherwise. What happens if we call `int()` on a bool? Try it out in the notebook cell below.\n",
    "\n",
    "Can you take advantage of this to write a succinct function that corresponds to the English sentence \"does the customer want exactly one topping?\"?"
   ]
  },
  {
   "cell_type": "code",
   "execution_count": 19,
   "id": "ed1d352f",
   "metadata": {
    "execution": {
     "iopub.execute_input": "2024-04-05T09:53:49.608587Z",
     "iopub.status.busy": "2024-04-05T09:53:49.608230Z",
     "iopub.status.idle": "2024-04-05T09:53:49.616846Z",
     "shell.execute_reply": "2024-04-05T09:53:49.615826Z"
    },
    "papermill": {
     "duration": 0.02591,
     "end_time": "2024-04-05T09:53:49.619152",
     "exception": false,
     "start_time": "2024-04-05T09:53:49.593242",
     "status": "completed"
    },
    "tags": []
   },
   "outputs": [
    {
     "data": {
      "application/javascript": [
       "parent.postMessage({\"jupyterEvent\": \"custom.exercise_interaction\", \"data\": {\"outcomeType\": 4, \"interactionType\": 1, \"questionType\": 2, \"questionId\": \"6_OneTopping\", \"learnToolsVersion\": \"0.3.4\", \"valueTowardsCompletion\": 0.0, \"failureMessage\": \"\", \"exceptionClass\": \"\", \"trace\": \"\"}}, \"*\")"
      ],
      "text/plain": [
       "<IPython.core.display.Javascript object>"
      ]
     },
     "metadata": {},
     "output_type": "display_data"
    },
    {
     "data": {
      "text/markdown": [
       "<span style=\"color:#ccaa33\">Check:</span> When you've updated the starter code, `check()` will tell you whether your code is correct. "
      ],
      "text/plain": [
       "Check: When you've updated the starter code, `check()` will tell you whether your code is correct. "
      ]
     },
     "metadata": {},
     "output_type": "display_data"
    }
   ],
   "source": [
    "def exactly_one_topping(ketchup, mustard, onion):\n",
    "    \"\"\"Return whether the customer wants exactly one of the three available toppings\n",
    "    on their hot dog.\n",
    "    \"\"\"\n",
    "    pass\n",
    "\n",
    "# Check your answer\n",
    "q6.check()"
   ]
  },
  {
   "cell_type": "code",
   "execution_count": 20,
   "id": "ab8df516",
   "metadata": {
    "execution": {
     "iopub.execute_input": "2024-04-05T09:53:49.649597Z",
     "iopub.status.busy": "2024-04-05T09:53:49.649232Z",
     "iopub.status.idle": "2024-04-05T09:53:49.653591Z",
     "shell.execute_reply": "2024-04-05T09:53:49.652547Z"
    },
    "papermill": {
     "duration": 0.021857,
     "end_time": "2024-04-05T09:53:49.655805",
     "exception": false,
     "start_time": "2024-04-05T09:53:49.633948",
     "status": "completed"
    },
    "tags": []
   },
   "outputs": [],
   "source": [
    "#q6.hint()\n",
    "#q6.solution()"
   ]
  },
  {
   "cell_type": "markdown",
   "id": "42f7aba3",
   "metadata": {
    "papermill": {
     "duration": 0.013936,
     "end_time": "2024-04-05T09:53:49.683898",
     "exception": false,
     "start_time": "2024-04-05T09:53:49.669962",
     "status": "completed"
    },
    "tags": []
   },
   "source": [
    "# 7. <span title=\"A bit spicy\" style=\"color: darkgreen \">🌶️</span> (Optional)\n",
    "\n",
    "In this problem we'll be working with a simplified version of [blackjack](https://en.wikipedia.org/wiki/Blackjack) (aka twenty-one). In this version there is one player (who you'll control) and a dealer. Play proceeds as follows:\n",
    "\n",
    "- The player is dealt two face-up cards. The dealer is dealt one face-up card.\n",
    "- The player may ask to be dealt another card ('hit') as many times as they wish. If the sum of their cards exceeds 21, they lose the round immediately.\n",
    "- The dealer then deals additional cards to himself until either:\n",
    "    - the sum of the dealer's cards exceeds 21, in which case the player wins the round\n",
    "    - the sum of the dealer's cards is greater than or equal to 17. If the player's total is greater than the dealer's, the player wins. Otherwise, the dealer wins (even in case of a tie).\n",
    "    \n",
    "When calculating the sum of cards, Jack, Queen, and King count for 10. Aces can count as 1 or 11 (when referring to a player's \"total\" above, we mean the largest total that can be made without exceeding 21. So e.g. A+8 = 19, A+8+8 = 17)\n",
    "\n",
    "For this problem, you'll write a function representing the player's decision-making strategy in this game. We've provided a very unintelligent implementation below:"
   ]
  },
  {
   "cell_type": "code",
   "execution_count": 21,
   "id": "0246c671",
   "metadata": {
    "execution": {
     "iopub.execute_input": "2024-04-05T09:53:49.713027Z",
     "iopub.status.busy": "2024-04-05T09:53:49.712710Z",
     "iopub.status.idle": "2024-04-05T09:53:49.717652Z",
     "shell.execute_reply": "2024-04-05T09:53:49.716753Z"
    },
    "papermill": {
     "duration": 0.021775,
     "end_time": "2024-04-05T09:53:49.719671",
     "exception": false,
     "start_time": "2024-04-05T09:53:49.697896",
     "status": "completed"
    },
    "tags": []
   },
   "outputs": [],
   "source": [
    "def should_hit(dealer_total, player_total, player_low_aces, player_high_aces):\n",
    "    \"\"\"Return True if the player should hit (request another card) given the current game\n",
    "    state, or False if the player should stay.\n",
    "    When calculating a hand's total value, we count aces as \"high\" (with value 11) if doing so\n",
    "    doesn't bring the total above 21, otherwise we count them as low (with value 1). \n",
    "    For example, if the player's hand is {A, A, A, 7}, we will count it as 11 + 1 + 1 + 7,\n",
    "    and therefore set player_total=20, player_low_aces=2, player_high_aces=1.\n",
    "    \"\"\"\n",
    "    return False"
   ]
  },
  {
   "cell_type": "markdown",
   "id": "74ea1fe4",
   "metadata": {
    "papermill": {
     "duration": 0.014013,
     "end_time": "2024-04-05T09:53:49.794605",
     "exception": false,
     "start_time": "2024-04-05T09:53:49.780592",
     "status": "completed"
    },
    "tags": []
   },
   "source": [
    "This very conservative agent *always* sticks with the hand of two cards that they're dealt.\n",
    "\n",
    "We'll be simulating games between your player agent and our own dealer agent by calling your function.\n",
    "\n",
    "Try running the function below to see an example of a simulated game:"
   ]
  },
  {
   "cell_type": "code",
   "execution_count": 22,
   "id": "178d5b15",
   "metadata": {
    "execution": {
     "iopub.execute_input": "2024-04-05T09:53:49.825480Z",
     "iopub.status.busy": "2024-04-05T09:53:49.825083Z",
     "iopub.status.idle": "2024-04-05T09:53:49.830881Z",
     "shell.execute_reply": "2024-04-05T09:53:49.829476Z"
    },
    "papermill": {
     "duration": 0.023883,
     "end_time": "2024-04-05T09:53:49.832761",
     "exception": false,
     "start_time": "2024-04-05T09:53:49.808878",
     "status": "completed"
    },
    "tags": []
   },
   "outputs": [
    {
     "name": "stdout",
     "output_type": "stream",
     "text": [
      "Player starts with 4 and 10 (total = 14)\n",
      "Dealer starts with 7\n",
      "\n",
      "__Player's turn__\n",
      "Player stays\n",
      "\n",
      "__Dealer's turn__\n",
      "Dealer hits and receives Q. (total = 17)\n",
      "Dealer stands.\n",
      "Dealer wins. 17 >= 14\n"
     ]
    }
   ],
   "source": [
    "q7.simulate_one_game()"
   ]
  },
  {
   "cell_type": "markdown",
   "id": "96fa72a1",
   "metadata": {
    "papermill": {
     "duration": 0.013873,
     "end_time": "2024-04-05T09:53:49.861129",
     "exception": false,
     "start_time": "2024-04-05T09:53:49.847256",
     "status": "completed"
    },
    "tags": []
   },
   "source": [
    "The real test of your agent's mettle is their average win rate over many games. Try calling the function below to simulate 50000 games of blackjack (it may take a couple seconds):"
   ]
  },
  {
   "cell_type": "code",
   "execution_count": 23,
   "id": "a2b01473",
   "metadata": {
    "execution": {
     "iopub.execute_input": "2024-04-05T09:53:49.890197Z",
     "iopub.status.busy": "2024-04-05T09:53:49.889849Z",
     "iopub.status.idle": "2024-04-05T09:53:51.929032Z",
     "shell.execute_reply": "2024-04-05T09:53:51.927927Z"
    },
    "papermill": {
     "duration": 2.056696,
     "end_time": "2024-04-05T09:53:51.931292",
     "exception": false,
     "start_time": "2024-04-05T09:53:49.874596",
     "status": "completed"
    },
    "tags": []
   },
   "outputs": [
    {
     "name": "stdout",
     "output_type": "stream",
     "text": [
      "Player won 18957 out of 50000 games (win rate = 37.9%)\n"
     ]
    }
   ],
   "source": [
    "q7.simulate(n_games=50000)"
   ]
  },
  {
   "cell_type": "markdown",
   "id": "38000442",
   "metadata": {
    "papermill": {
     "duration": 0.014716,
     "end_time": "2024-04-05T09:53:51.960868",
     "exception": false,
     "start_time": "2024-04-05T09:53:51.946152",
     "status": "completed"
    },
    "tags": []
   },
   "source": [
    "Our dumb agent that completely ignores the game state still manages to win shockingly often!\n",
    "\n",
    "Try adding some more smarts to the `should_hit` function and see how it affects the results."
   ]
  },
  {
   "cell_type": "code",
   "execution_count": 24,
   "id": "501a15cf",
   "metadata": {
    "execution": {
     "iopub.execute_input": "2024-04-05T09:53:51.993058Z",
     "iopub.status.busy": "2024-04-05T09:53:51.992363Z",
     "iopub.status.idle": "2024-04-05T09:53:54.066735Z",
     "shell.execute_reply": "2024-04-05T09:53:54.065550Z"
    },
    "papermill": {
     "duration": 2.094032,
     "end_time": "2024-04-05T09:53:54.069845",
     "exception": false,
     "start_time": "2024-04-05T09:53:51.975813",
     "status": "completed"
    },
    "tags": []
   },
   "outputs": [
    {
     "name": "stdout",
     "output_type": "stream",
     "text": [
      "Player won 19141 out of 50000 games (win rate = 38.3%)\n"
     ]
    }
   ],
   "source": [
    "def should_hit(dealer_total, player_total, player_low_aces, player_high_aces):\n",
    "    \"\"\"Return True if the player should hit (request another card) given the current game\n",
    "    state, or False if the player should stay.\n",
    "    When calculating a hand's total value, we count aces as \"high\" (with value 11) if doing so\n",
    "    doesn't bring the total above 21, otherwise we count them as low (with value 1). \n",
    "    For example, if the player's hand is {A, A, A, 7}, we will count it as 11 + 1 + 1 + 7,\n",
    "    and therefore set player_total=20, player_low_aces=2, player_high_aces=1.\n",
    "    \"\"\"\n",
    "    return False\n",
    "\n",
    "q7.simulate(n_games=50000)"
   ]
  },
  {
   "cell_type": "markdown",
   "id": "1d5e376a",
   "metadata": {
    "papermill": {
     "duration": 0.015155,
     "end_time": "2024-04-05T09:53:54.100564",
     "exception": false,
     "start_time": "2024-04-05T09:53:54.085409",
     "status": "completed"
    },
    "tags": []
   },
   "source": [
    "# Keep Going\n",
    "\n",
    "Learn about **[lists and tuples](https://www.kaggle.com/colinmorris/lists)** to handle multiple items of data in a systematic way."
   ]
  },
  {
   "cell_type": "markdown",
   "id": "2395d88f",
   "metadata": {
    "papermill": {
     "duration": 0.014886,
     "end_time": "2024-04-05T09:53:54.130359",
     "exception": false,
     "start_time": "2024-04-05T09:53:54.115473",
     "status": "completed"
    },
    "tags": []
   },
   "source": [
    "---\n",
    "\n",
    "\n",
    "\n",
    "\n",
    "*Have questions or comments? Visit the [course discussion forum](https://www.kaggle.com/learn/python/discussion) to chat with other learners.*"
   ]
  }
 ],
 "metadata": {
  "kaggle": {
   "accelerator": "none",
   "dataSources": [],
   "isGpuEnabled": false,
   "isInternetEnabled": false,
   "language": "python",
   "sourceType": "notebook"
  },
  "kernelspec": {
   "display_name": "Python 3",
   "language": "python",
   "name": "python3"
  },
  "language_info": {
   "codemirror_mode": {
    "name": "ipython",
    "version": 3
   },
   "file_extension": ".py",
   "mimetype": "text/x-python",
   "name": "python",
   "nbconvert_exporter": "python",
   "pygments_lexer": "ipython3",
   "version": "3.10.13"
  },
  "learntools_metadata": {
   "lesson_index": 2,
   "type": "exercise"
  },
  "papermill": {
   "default_parameters": {},
   "duration": 9.456742,
   "end_time": "2024-04-05T09:53:54.564638",
   "environment_variables": {},
   "exception": null,
   "input_path": "__notebook__.ipynb",
   "output_path": "__notebook__.ipynb",
   "parameters": {},
   "start_time": "2024-04-05T09:53:45.107896",
   "version": "2.5.0"
  }
 },
 "nbformat": 4,
 "nbformat_minor": 5
}
