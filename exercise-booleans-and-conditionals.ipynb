{
 "cells": [
  {
   "cell_type": "markdown",
   "id": "91ae7371",
   "metadata": {
    "papermill": {
     "duration": 0.01171,
     "end_time": "2024-04-05T09:49:20.238201",
     "exception": false,
     "start_time": "2024-04-05T09:49:20.226491",
     "status": "completed"
    },
    "tags": []
   },
   "source": [
    "**This notebook is an exercise in the [Python](https://www.kaggle.com/learn/python) course.  You can reference the tutorial at [this link](https://www.kaggle.com/colinmorris/booleans-and-conditionals).**\n",
    "\n",
    "---\n"
   ]
  },
  {
   "cell_type": "markdown",
   "id": "3f82d880",
   "metadata": {
    "papermill": {
     "duration": 0.010145,
     "end_time": "2024-04-05T09:49:20.258727",
     "exception": false,
     "start_time": "2024-04-05T09:49:20.248582",
     "status": "completed"
    },
    "tags": []
   },
   "source": [
    "In this exercise, you'll put to work what you have learned about booleans and conditionals.\n",
    "\n",
    "To get started, **run the setup code below** before writing your own code (and if you leave this notebook and come back later, don't forget to run the setup code again)."
   ]
  },
  {
   "cell_type": "code",
   "execution_count": 1,
   "id": "a89b8ea6",
   "metadata": {
    "execution": {
     "iopub.execute_input": "2024-04-05T09:49:20.281340Z",
     "iopub.status.busy": "2024-04-05T09:49:20.280298Z",
     "iopub.status.idle": "2024-04-05T09:49:21.308710Z",
     "shell.execute_reply": "2024-04-05T09:49:21.305731Z"
    },
    "papermill": {
     "duration": 1.042305,
     "end_time": "2024-04-05T09:49:21.311362",
     "exception": false,
     "start_time": "2024-04-05T09:49:20.269057",
     "status": "completed"
    },
    "tags": []
   },
   "outputs": [
    {
     "name": "stdout",
     "output_type": "stream",
     "text": [
      "Setup complete.\n"
     ]
    }
   ],
   "source": [
    "from learntools.core import binder; binder.bind(globals())\n",
    "from learntools.python.ex3 import *\n",
    "print('Setup complete.')"
   ]
  },
  {
   "cell_type": "markdown",
   "id": "9c8e0941",
   "metadata": {
    "papermill": {
     "duration": 0.011399,
     "end_time": "2024-04-05T09:49:21.333416",
     "exception": false,
     "start_time": "2024-04-05T09:49:21.322017",
     "status": "completed"
    },
    "tags": []
   },
   "source": [
    "# 1.\n",
    "\n",
    "Many programming languages have [`sign`](https://en.wikipedia.org/wiki/Sign_function) available as a built-in function. Python doesn't, but we can define our own!\n",
    "\n",
    "In the cell below, define a function called `sign` which takes a numerical argument and returns -1 if it's negative, 1 if it's positive, and 0 if it's 0."
   ]
  },
  {
   "cell_type": "code",
   "execution_count": 2,
   "id": "485945da",
   "metadata": {
    "execution": {
     "iopub.execute_input": "2024-04-05T09:49:21.356216Z",
     "iopub.status.busy": "2024-04-05T09:49:21.355674Z",
     "iopub.status.idle": "2024-04-05T09:49:21.368238Z",
     "shell.execute_reply": "2024-04-05T09:49:21.366716Z"
    },
    "papermill": {
     "duration": 0.026867,
     "end_time": "2024-04-05T09:49:21.370671",
     "exception": false,
     "start_time": "2024-04-05T09:49:21.343804",
     "status": "completed"
    },
    "tags": []
   },
   "outputs": [
    {
     "data": {
      "application/javascript": [
       "parent.postMessage({\"jupyterEvent\": \"custom.exercise_interaction\", \"data\": {\"outcomeType\": 1, \"valueTowardsCompletion\": 0.2, \"interactionType\": 1, \"questionType\": 2, \"questionId\": \"1_SignFunctionProblem\", \"learnToolsVersion\": \"0.3.4\", \"failureMessage\": \"\", \"exceptionClass\": \"\", \"trace\": \"\"}}, \"*\")"
      ],
      "text/plain": [
       "<IPython.core.display.Javascript object>"
      ]
     },
     "metadata": {},
     "output_type": "display_data"
    },
    {
     "data": {
      "text/markdown": [
       "<span style=\"color:#33cc33\">Correct</span>"
      ],
      "text/plain": [
       "Correct"
      ]
     },
     "metadata": {},
     "output_type": "display_data"
    }
   ],
   "source": [
    "# Your code goes here. Define a function called 'sign'\n",
    "def sign(n):\n",
    "    if n < 0:\n",
    "        return -1;\n",
    "    elif n == 0:\n",
    "        return 0;\n",
    "    else:\n",
    "        return 1;\n",
    "# Check your answer\n",
    "q1.check()"
   ]
  },
  {
   "cell_type": "code",
   "execution_count": 3,
   "id": "2a713865",
   "metadata": {
    "execution": {
     "iopub.execute_input": "2024-04-05T09:49:21.410004Z",
     "iopub.status.busy": "2024-04-05T09:49:21.409585Z",
     "iopub.status.idle": "2024-04-05T09:49:21.414969Z",
     "shell.execute_reply": "2024-04-05T09:49:21.413408Z"
    },
    "papermill": {
     "duration": 0.036369,
     "end_time": "2024-04-05T09:49:21.417741",
     "exception": false,
     "start_time": "2024-04-05T09:49:21.381372",
     "status": "completed"
    },
    "tags": []
   },
   "outputs": [],
   "source": [
    "#q1.solution()"
   ]
  },
  {
   "cell_type": "markdown",
   "id": "08c736bb",
   "metadata": {
    "papermill": {
     "duration": 0.010438,
     "end_time": "2024-04-05T09:49:21.439305",
     "exception": false,
     "start_time": "2024-04-05T09:49:21.428867",
     "status": "completed"
    },
    "tags": []
   },
   "source": [
    "# 2.\n",
    "\n",
    "We've decided to add \"logging\" to our `to_smash` function from the previous exercise."
   ]
  },
  {
   "cell_type": "code",
   "execution_count": 4,
   "id": "de874900",
   "metadata": {
    "execution": {
     "iopub.execute_input": "2024-04-05T09:49:21.463475Z",
     "iopub.status.busy": "2024-04-05T09:49:21.463079Z",
     "iopub.status.idle": "2024-04-05T09:49:21.472904Z",
     "shell.execute_reply": "2024-04-05T09:49:21.471860Z"
    },
    "papermill": {
     "duration": 0.024098,
     "end_time": "2024-04-05T09:49:21.475137",
     "exception": false,
     "start_time": "2024-04-05T09:49:21.451039",
     "status": "completed"
    },
    "tags": []
   },
   "outputs": [
    {
     "name": "stdout",
     "output_type": "stream",
     "text": [
      "Splitting 91 candies\n"
     ]
    },
    {
     "data": {
      "text/plain": [
       "1"
      ]
     },
     "execution_count": 4,
     "metadata": {},
     "output_type": "execute_result"
    }
   ],
   "source": [
    "def to_smash(total_candies):\n",
    "    \"\"\"Return the number of leftover candies that must be smashed after distributing\n",
    "    the given number of candies evenly between 3 friends.\n",
    "    \n",
    "    >>> to_smash(91)\n",
    "    1\n",
    "    \"\"\"\n",
    "    print(\"Splitting\", total_candies, \"candies\")\n",
    "    return total_candies % 3\n",
    "\n",
    "to_smash(91)"
   ]
  },
  {
   "cell_type": "markdown",
   "id": "45947689",
   "metadata": {
    "papermill": {
     "duration": 0.0107,
     "end_time": "2024-04-05T09:49:21.497013",
     "exception": false,
     "start_time": "2024-04-05T09:49:21.486313",
     "status": "completed"
    },
    "tags": []
   },
   "source": [
    "What happens if we call it with `total_candies = 1`?"
   ]
  },
  {
   "cell_type": "code",
   "execution_count": 5,
   "id": "052090ed",
   "metadata": {
    "execution": {
     "iopub.execute_input": "2024-04-05T09:49:21.520620Z",
     "iopub.status.busy": "2024-04-05T09:49:21.520205Z",
     "iopub.status.idle": "2024-04-05T09:49:21.528745Z",
     "shell.execute_reply": "2024-04-05T09:49:21.527412Z"
    },
    "papermill": {
     "duration": 0.023471,
     "end_time": "2024-04-05T09:49:21.531521",
     "exception": false,
     "start_time": "2024-04-05T09:49:21.508050",
     "status": "completed"
    },
    "tags": []
   },
   "outputs": [
    {
     "name": "stdout",
     "output_type": "stream",
     "text": [
      "Splitting 1 candies\n"
     ]
    },
    {
     "data": {
      "text/plain": [
       "1"
      ]
     },
     "execution_count": 5,
     "metadata": {},
     "output_type": "execute_result"
    }
   ],
   "source": [
    "to_smash(1)"
   ]
  },
  {
   "cell_type": "markdown",
   "id": "5d29787c",
   "metadata": {
    "papermill": {
     "duration": 0.010982,
     "end_time": "2024-04-05T09:49:21.553948",
     "exception": false,
     "start_time": "2024-04-05T09:49:21.542966",
     "status": "completed"
    },
    "tags": []
   },
   "source": [
    "That isn't great grammar!\n",
    "\n",
    "Modify the definition in the cell below to correct the grammar of our print statement. (If there's only one candy, we should use the singular \"candy\" instead of the plural \"candies\")"
   ]
  },
  {
   "cell_type": "code",
   "execution_count": 6,
   "id": "b42658f2",
   "metadata": {
    "execution": {
     "iopub.execute_input": "2024-04-05T09:49:21.578812Z",
     "iopub.status.busy": "2024-04-05T09:49:21.578388Z",
     "iopub.status.idle": "2024-04-05T09:49:21.588217Z",
     "shell.execute_reply": "2024-04-05T09:49:21.586714Z"
    },
    "papermill": {
     "duration": 0.025863,
     "end_time": "2024-04-05T09:49:21.591046",
     "exception": false,
     "start_time": "2024-04-05T09:49:21.565183",
     "status": "completed"
    },
    "tags": []
   },
   "outputs": [
    {
     "name": "stdout",
     "output_type": "stream",
     "text": [
      "Splitting 91 candies\n",
      "Splitting 1 candies\n"
     ]
    },
    {
     "data": {
      "text/plain": [
       "1"
      ]
     },
     "execution_count": 6,
     "metadata": {},
     "output_type": "execute_result"
    }
   ],
   "source": [
    "def to_smash(total_candies):\n",
    "    \"\"\"Return the number of leftover candies that must be smashed after distributing\n",
    "    the given number of candies evenly between 3 friends.\n",
    "    \n",
    "    >>> to_smash(91)\n",
    "    1\n",
    "    \"\"\"\n",
    "    print(\"Splitting\", total_candies, \"candies\")\n",
    "    return total_candies % 3\n",
    "\n",
    "to_smash(91)\n",
    "to_smash(1)"
   ]
  },
  {
   "cell_type": "markdown",
   "id": "3c62ee07",
   "metadata": {
    "papermill": {
     "duration": 0.011383,
     "end_time": "2024-04-05T09:49:21.614194",
     "exception": false,
     "start_time": "2024-04-05T09:49:21.602811",
     "status": "completed"
    },
    "tags": []
   },
   "source": [
    "To get credit for completing this problem, and to see the official answer, run the code cell below."
   ]
  },
  {
   "cell_type": "code",
   "execution_count": 7,
   "id": "48bcd4a6",
   "metadata": {
    "execution": {
     "iopub.execute_input": "2024-04-05T09:49:21.639512Z",
     "iopub.status.busy": "2024-04-05T09:49:21.639123Z",
     "iopub.status.idle": "2024-04-05T09:49:21.649240Z",
     "shell.execute_reply": "2024-04-05T09:49:21.647690Z"
    },
    "papermill": {
     "duration": 0.02581,
     "end_time": "2024-04-05T09:49:21.651947",
     "exception": false,
     "start_time": "2024-04-05T09:49:21.626137",
     "status": "completed"
    },
    "tags": []
   },
   "outputs": [
    {
     "data": {
      "application/javascript": [
       "parent.postMessage({\"jupyterEvent\": \"custom.exercise_interaction\", \"data\": {\"interactionType\": 3, \"questionType\": 4, \"questionId\": \"2_PluralizationProblem\", \"learnToolsVersion\": \"0.3.4\", \"valueTowardsCompletion\": 0.0, \"failureMessage\": \"\", \"exceptionClass\": \"\", \"trace\": \"\", \"outcomeType\": 4}}, \"*\")"
      ],
      "text/plain": [
       "<IPython.core.display.Javascript object>"
      ]
     },
     "metadata": {},
     "output_type": "display_data"
    },
    {
     "data": {
      "text/markdown": [
       "<span style=\"color:#33cc99\">Solution:</span> A straightforward (and totally fine) solution is to replace the original `print` call with:\n",
       "\n",
       "```python\n",
       "if total_candies == 1:\n",
       "    print(\"Splitting 1 candy\")\n",
       "else:\n",
       "    print(\"Splitting\", total_candies, \"candies\")\n",
       "```\n",
       "\n",
       "Here's a slightly more succinct solution using a conditional expression:\n",
       "\n",
       "```python\n",
       "print(\"Splitting\", total_candies, \"candy\" if total_candies == 1 else \"candies\")\n",
       "```"
      ],
      "text/plain": [
       "Solution: A straightforward (and totally fine) solution is to replace the original `print` call with:\n",
       "\n",
       "```python\n",
       "if total_candies == 1:\n",
       "    print(\"Splitting 1 candy\")\n",
       "else:\n",
       "    print(\"Splitting\", total_candies, \"candies\")\n",
       "```\n",
       "\n",
       "Here's a slightly more succinct solution using a conditional expression:\n",
       "\n",
       "```python\n",
       "print(\"Splitting\", total_candies, \"candy\" if total_candies == 1 else \"candies\")\n",
       "```"
      ]
     },
     "metadata": {},
     "output_type": "display_data"
    }
   ],
   "source": [
    "# Check your answer (Run this code cell to receive credit!)\n",
    "q2.solution()"
   ]
  },
  {
   "cell_type": "markdown",
   "id": "9dd2d017",
   "metadata": {
    "papermill": {
     "duration": 0.011899,
     "end_time": "2024-04-05T09:49:21.675937",
     "exception": false,
     "start_time": "2024-04-05T09:49:21.664038",
     "status": "completed"
    },
    "tags": []
   },
   "source": [
    "# 3. <span title=\"A bit spicy\" style=\"color: darkgreen \">🌶️</span>\n",
    "\n",
    "In the tutorial, we talked about deciding whether we're prepared for the weather. I said that I'm safe from today's weather if...\n",
    "- I have an umbrella...\n",
    "- or if the rain isn't too heavy and I have a hood...\n",
    "- otherwise, I'm still fine unless it's raining *and* it's a workday\n",
    "\n",
    "The function below uses our first attempt at turning this logic into a Python expression. I claimed that there was a bug in that code. Can you find it?\n",
    "\n",
    "To prove that `prepared_for_weather` is buggy, come up with a set of inputs where either:\n",
    "- the function returns `False` (but should have returned `True`), or\n",
    "- the function returned `True` (but should have returned `False`).\n",
    "\n",
    "To get credit for completing this question, your code should return a <font color='#33cc33'>Correct</font> result."
   ]
  },
  {
   "cell_type": "code",
   "execution_count": 8,
   "id": "5dfeca2d",
   "metadata": {
    "execution": {
     "iopub.execute_input": "2024-04-05T09:49:21.702440Z",
     "iopub.status.busy": "2024-04-05T09:49:21.702037Z",
     "iopub.status.idle": "2024-04-05T09:49:21.715194Z",
     "shell.execute_reply": "2024-04-05T09:49:21.713876Z"
    },
    "papermill": {
     "duration": 0.029399,
     "end_time": "2024-04-05T09:49:21.717954",
     "exception": false,
     "start_time": "2024-04-05T09:49:21.688555",
     "status": "completed"
    },
    "tags": []
   },
   "outputs": [
    {
     "name": "stdout",
     "output_type": "stream",
     "text": [
      "True\n"
     ]
    },
    {
     "data": {
      "application/javascript": [
       "parent.postMessage({\"jupyterEvent\": \"custom.exercise_interaction\", \"data\": {\"outcomeType\": 2, \"failureMessage\": \"Given `have_umbrella=True`, `rain_level=0.0`, `have_hood=True`, `is_workday=True`, `prepared_for_weather` returned `True`. But I think that's correct. (We want inputs that lead to an incorrect result from `prepared_for_weather`.)\", \"interactionType\": 1, \"questionType\": 1, \"questionId\": \"3_WeatherDebug\", \"learnToolsVersion\": \"0.3.4\", \"valueTowardsCompletion\": 0.0, \"exceptionClass\": \"\", \"trace\": \"\"}}, \"*\")"
      ],
      "text/plain": [
       "<IPython.core.display.Javascript object>"
      ]
     },
     "metadata": {},
     "output_type": "display_data"
    },
    {
     "data": {
      "text/markdown": [
       "<span style=\"color:#cc3333\">Incorrect:</span> Given `have_umbrella=True`, `rain_level=0.0`, `have_hood=True`, `is_workday=True`, `prepared_for_weather` returned `True`. But I think that's correct. (We want inputs that lead to an incorrect result from `prepared_for_weather`.)"
      ],
      "text/plain": [
       "Incorrect: Given `have_umbrella=True`, `rain_level=0.0`, `have_hood=True`, `is_workday=True`, `prepared_for_weather` returned `True`. But I think that's correct. (We want inputs that lead to an incorrect result from `prepared_for_weather`.)"
      ]
     },
     "metadata": {},
     "output_type": "display_data"
    }
   ],
   "source": [
    "def prepared_for_weather(have_umbrella, rain_level, have_hood, is_workday):\n",
    "    # Don't change this code. Our goal is just to find the bug, not fix it!\n",
    "    return have_umbrella or rain_level < 5 and have_hood or not rain_level > 0 and is_workday\n",
    "\n",
    "# Change the values of these inputs so they represent a case where prepared_for_weather\n",
    "# returns the wrong answer.\n",
    "have_umbrella = True\n",
    "rain_level = 0.0\n",
    "have_hood = True\n",
    "is_workday = True\n",
    "\n",
    "# Check what the function returns given the current values of the variables above\n",
    "actual = prepared_for_weather(have_umbrella, rain_level, have_hood, is_workday)\n",
    "print(actual)\n",
    "\n",
    "# Check your answer\n",
    "q3.check()"
   ]
  },
  {
   "cell_type": "code",
   "execution_count": 9,
   "id": "09e86cef",
   "metadata": {
    "execution": {
     "iopub.execute_input": "2024-04-05T09:49:21.744920Z",
     "iopub.status.busy": "2024-04-05T09:49:21.744501Z",
     "iopub.status.idle": "2024-04-05T09:49:21.749877Z",
     "shell.execute_reply": "2024-04-05T09:49:21.748349Z"
    },
    "papermill": {
     "duration": 0.02173,
     "end_time": "2024-04-05T09:49:21.752410",
     "exception": false,
     "start_time": "2024-04-05T09:49:21.730680",
     "status": "completed"
    },
    "tags": []
   },
   "outputs": [],
   "source": [
    "#q3.hint()\n",
    "#q3.solution()"
   ]
  },
  {
   "cell_type": "markdown",
   "id": "1d1ac4ce",
   "metadata": {
    "papermill": {
     "duration": 0.012138,
     "end_time": "2024-04-05T09:49:21.777420",
     "exception": false,
     "start_time": "2024-04-05T09:49:21.765282",
     "status": "completed"
    },
    "tags": []
   },
   "source": [
    "# 4.\n",
    "\n",
    "The function `is_negative` below is implemented correctly - it returns True if the given number is negative and False otherwise.\n",
    "\n",
    "However, it's more verbose than it needs to be. We can actually reduce the number of lines of code in this function by *75%* while keeping the same behaviour. \n",
    "\n",
    "See if you can come up with an equivalent body that uses just **one line** of code, and put it in the function `concise_is_negative`. (HINT: you don't even need Python's ternary syntax)"
   ]
  },
  {
   "cell_type": "code",
   "execution_count": 10,
   "id": "68b11209",
   "metadata": {
    "execution": {
     "iopub.execute_input": "2024-04-05T09:49:21.804373Z",
     "iopub.status.busy": "2024-04-05T09:49:21.803969Z",
     "iopub.status.idle": "2024-04-05T09:49:21.814683Z",
     "shell.execute_reply": "2024-04-05T09:49:21.813485Z"
    },
    "papermill": {
     "duration": 0.026908,
     "end_time": "2024-04-05T09:49:21.816981",
     "exception": false,
     "start_time": "2024-04-05T09:49:21.790073",
     "status": "completed"
    },
    "tags": []
   },
   "outputs": [
    {
     "data": {
      "application/javascript": [
       "parent.postMessage({\"jupyterEvent\": \"custom.exercise_interaction\", \"data\": {\"outcomeType\": 4, \"interactionType\": 1, \"questionType\": 2, \"questionId\": \"4_ConciseIsNegative\", \"learnToolsVersion\": \"0.3.4\", \"valueTowardsCompletion\": 0.0, \"failureMessage\": \"\", \"exceptionClass\": \"\", \"trace\": \"\"}}, \"*\")"
      ],
      "text/plain": [
       "<IPython.core.display.Javascript object>"
      ]
     },
     "metadata": {},
     "output_type": "display_data"
    },
    {
     "data": {
      "text/markdown": [
       "<span style=\"color:#ccaa33\">Check:</span> When you've updated the starter code, `check()` will tell you whether your code is correct. "
      ],
      "text/plain": [
       "Check: When you've updated the starter code, `check()` will tell you whether your code is correct. "
      ]
     },
     "metadata": {},
     "output_type": "display_data"
    }
   ],
   "source": [
    "def is_negative(number):\n",
    "    if number < 0:\n",
    "        return True\n",
    "    else:\n",
    "        return False\n",
    "\n",
    "def concise_is_negative(number):\n",
    "    pass # Your code goes here (try to keep it to one line!)\n",
    "\n",
    "# Check your answer\n",
    "q4.check()"
   ]
  },
  {
   "cell_type": "code",
   "execution_count": 11,
   "id": "bcb24c0f",
   "metadata": {
    "execution": {
     "iopub.execute_input": "2024-04-05T09:49:21.844596Z",
     "iopub.status.busy": "2024-04-05T09:49:21.844180Z",
     "iopub.status.idle": "2024-04-05T09:49:21.849585Z",
     "shell.execute_reply": "2024-04-05T09:49:21.848253Z"
    },
    "papermill": {
     "duration": 0.022322,
     "end_time": "2024-04-05T09:49:21.852342",
     "exception": false,
     "start_time": "2024-04-05T09:49:21.830020",
     "status": "completed"
    },
    "tags": []
   },
   "outputs": [],
   "source": [
    "#q4.hint()\n",
    "#q4.solution()"
   ]
  },
  {
   "cell_type": "markdown",
   "id": "966da1f2",
   "metadata": {
    "papermill": {
     "duration": 0.012549,
     "end_time": "2024-04-05T09:49:21.878261",
     "exception": false,
     "start_time": "2024-04-05T09:49:21.865712",
     "status": "completed"
    },
    "tags": []
   },
   "source": [
    "# 5a.\n",
    "\n",
    "The boolean variables `ketchup`, `mustard` and `onion` represent whether a customer wants a particular topping on their hot dog. We want to implement a number of boolean functions that correspond to some yes-or-no questions about the customer's order. For example:"
   ]
  },
  {
   "cell_type": "code",
   "execution_count": 12,
   "id": "cc09c122",
   "metadata": {
    "execution": {
     "iopub.execute_input": "2024-04-05T09:49:21.906400Z",
     "iopub.status.busy": "2024-04-05T09:49:21.905968Z",
     "iopub.status.idle": "2024-04-05T09:49:21.912508Z",
     "shell.execute_reply": "2024-04-05T09:49:21.911061Z"
    },
    "papermill": {
     "duration": 0.023446,
     "end_time": "2024-04-05T09:49:21.915010",
     "exception": false,
     "start_time": "2024-04-05T09:49:21.891564",
     "status": "completed"
    },
    "tags": []
   },
   "outputs": [],
   "source": [
    "def onionless(ketchup, mustard, onion):\n",
    "    \"\"\"Return whether the customer doesn't want onions.\n",
    "    \"\"\"\n",
    "    return not onion"
   ]
  },
  {
   "cell_type": "code",
   "execution_count": 13,
   "id": "37dec557",
   "metadata": {
    "execution": {
     "iopub.execute_input": "2024-04-05T09:49:21.943367Z",
     "iopub.status.busy": "2024-04-05T09:49:21.942957Z",
     "iopub.status.idle": "2024-04-05T09:49:21.956344Z",
     "shell.execute_reply": "2024-04-05T09:49:21.954709Z"
    },
    "papermill": {
     "duration": 0.030434,
     "end_time": "2024-04-05T09:49:21.958835",
     "exception": false,
     "start_time": "2024-04-05T09:49:21.928401",
     "status": "completed"
    },
    "tags": []
   },
   "outputs": [
    {
     "data": {
      "application/javascript": [
       "parent.postMessage({\"jupyterEvent\": \"custom.exercise_interaction\", \"data\": {\"outcomeType\": 4, \"interactionType\": 1, \"questionType\": 2, \"questionId\": \"5.1_AllToppings\", \"learnToolsVersion\": \"0.3.4\", \"valueTowardsCompletion\": 0.0, \"failureMessage\": \"\", \"exceptionClass\": \"\", \"trace\": \"\"}}, \"*\")"
      ],
      "text/plain": [
       "<IPython.core.display.Javascript object>"
      ]
     },
     "metadata": {},
     "output_type": "display_data"
    },
    {
     "data": {
      "text/markdown": [
       "<span style=\"color:#ccaa33\">Check:</span> When you've updated the starter code, `check()` will tell you whether your code is correct. "
      ],
      "text/plain": [
       "Check: When you've updated the starter code, `check()` will tell you whether your code is correct. "
      ]
     },
     "metadata": {},
     "output_type": "display_data"
    }
   ],
   "source": [
    "def wants_all_toppings(ketchup, mustard, onion):\n",
    "    \"\"\"Return whether the customer wants \"the works\" (all 3 toppings)\n",
    "    \"\"\"\n",
    "    pass\n",
    "\n",
    "# Check your answer\n",
    "q5.a.check()"
   ]
  },
  {
   "cell_type": "code",
   "execution_count": 14,
   "id": "4c42afc8",
   "metadata": {
    "execution": {
     "iopub.execute_input": "2024-04-05T09:49:21.987974Z",
     "iopub.status.busy": "2024-04-05T09:49:21.987511Z",
     "iopub.status.idle": "2024-04-05T09:49:21.992480Z",
     "shell.execute_reply": "2024-04-05T09:49:21.991300Z"
    },
    "papermill": {
     "duration": 0.022458,
     "end_time": "2024-04-05T09:49:21.995015",
     "exception": false,
     "start_time": "2024-04-05T09:49:21.972557",
     "status": "completed"
    },
    "tags": []
   },
   "outputs": [],
   "source": [
    "#q5.a.hint()\n",
    "#q5.a.solution()"
   ]
  },
  {
   "cell_type": "markdown",
   "id": "0cc3d0da",
   "metadata": {
    "papermill": {
     "duration": 0.013264,
     "end_time": "2024-04-05T09:49:22.022075",
     "exception": false,
     "start_time": "2024-04-05T09:49:22.008811",
     "status": "completed"
    },
    "tags": []
   },
   "source": [
    "# 5b.\n",
    "\n",
    "For the next function, fill in the body to match the English description in the docstring. "
   ]
  },
  {
   "cell_type": "code",
   "execution_count": 15,
   "id": "abbb3149",
   "metadata": {
    "execution": {
     "iopub.execute_input": "2024-04-05T09:49:22.051049Z",
     "iopub.status.busy": "2024-04-05T09:49:22.050602Z",
     "iopub.status.idle": "2024-04-05T09:49:22.060984Z",
     "shell.execute_reply": "2024-04-05T09:49:22.059612Z"
    },
    "papermill": {
     "duration": 0.027873,
     "end_time": "2024-04-05T09:49:22.063381",
     "exception": false,
     "start_time": "2024-04-05T09:49:22.035508",
     "status": "completed"
    },
    "tags": []
   },
   "outputs": [
    {
     "data": {
      "application/javascript": [
       "parent.postMessage({\"jupyterEvent\": \"custom.exercise_interaction\", \"data\": {\"outcomeType\": 4, \"interactionType\": 1, \"questionType\": 2, \"questionId\": \"5.2_PlainDog\", \"learnToolsVersion\": \"0.3.4\", \"valueTowardsCompletion\": 0.0, \"failureMessage\": \"\", \"exceptionClass\": \"\", \"trace\": \"\"}}, \"*\")"
      ],
      "text/plain": [
       "<IPython.core.display.Javascript object>"
      ]
     },
     "metadata": {},
     "output_type": "display_data"
    },
    {
     "data": {
      "text/markdown": [
       "<span style=\"color:#ccaa33\">Check:</span> When you've updated the starter code, `check()` will tell you whether your code is correct. "
      ],
      "text/plain": [
       "Check: When you've updated the starter code, `check()` will tell you whether your code is correct. "
      ]
     },
     "metadata": {},
     "output_type": "display_data"
    }
   ],
   "source": [
    "def wants_plain_hotdog(ketchup, mustard, onion):\n",
    "    \"\"\"Return whether the customer wants a plain hot dog with no toppings.\n",
    "    \"\"\"\n",
    "    pass\n",
    "\n",
    "# Check your answer\n",
    "q5.b.check()"
   ]
  },
  {
   "cell_type": "code",
   "execution_count": 16,
   "id": "4aa430bd",
   "metadata": {
    "execution": {
     "iopub.execute_input": "2024-04-05T09:49:22.093080Z",
     "iopub.status.busy": "2024-04-05T09:49:22.092666Z",
     "iopub.status.idle": "2024-04-05T09:49:22.097812Z",
     "shell.execute_reply": "2024-04-05T09:49:22.096411Z"
    },
    "papermill": {
     "duration": 0.022931,
     "end_time": "2024-04-05T09:49:22.100188",
     "exception": false,
     "start_time": "2024-04-05T09:49:22.077257",
     "status": "completed"
    },
    "tags": []
   },
   "outputs": [],
   "source": [
    "#q5.b.hint()\n",
    "#q5.b.solution()"
   ]
  },
  {
   "cell_type": "markdown",
   "id": "fd305736",
   "metadata": {
    "papermill": {
     "duration": 0.013827,
     "end_time": "2024-04-05T09:49:22.128075",
     "exception": false,
     "start_time": "2024-04-05T09:49:22.114248",
     "status": "completed"
    },
    "tags": []
   },
   "source": [
    "# 5c.\n",
    "\n",
    "You know what to do: for the next function, fill in the body to match the English description in the docstring."
   ]
  },
  {
   "cell_type": "code",
   "execution_count": 17,
   "id": "bc9ed11a",
   "metadata": {
    "execution": {
     "iopub.execute_input": "2024-04-05T09:49:22.158191Z",
     "iopub.status.busy": "2024-04-05T09:49:22.157782Z",
     "iopub.status.idle": "2024-04-05T09:49:22.168663Z",
     "shell.execute_reply": "2024-04-05T09:49:22.167282Z"
    },
    "papermill": {
     "duration": 0.029004,
     "end_time": "2024-04-05T09:49:22.171171",
     "exception": false,
     "start_time": "2024-04-05T09:49:22.142167",
     "status": "completed"
    },
    "tags": []
   },
   "outputs": [
    {
     "data": {
      "application/javascript": [
       "parent.postMessage({\"jupyterEvent\": \"custom.exercise_interaction\", \"data\": {\"outcomeType\": 4, \"interactionType\": 1, \"questionType\": 2, \"questionId\": \"5.3_OneSauce\", \"learnToolsVersion\": \"0.3.4\", \"valueTowardsCompletion\": 0.0, \"failureMessage\": \"\", \"exceptionClass\": \"\", \"trace\": \"\"}}, \"*\")"
      ],
      "text/plain": [
       "<IPython.core.display.Javascript object>"
      ]
     },
     "metadata": {},
     "output_type": "display_data"
    },
    {
     "data": {
      "text/markdown": [
       "<span style=\"color:#ccaa33\">Check:</span> When you've updated the starter code, `check()` will tell you whether your code is correct. "
      ],
      "text/plain": [
       "Check: When you've updated the starter code, `check()` will tell you whether your code is correct. "
      ]
     },
     "metadata": {},
     "output_type": "display_data"
    }
   ],
   "source": [
    "def exactly_one_sauce(ketchup, mustard, onion):\n",
    "    \"\"\"Return whether the customer wants either ketchup or mustard, but not both.\n",
    "    (You may be familiar with this operation under the name \"exclusive or\")\n",
    "    \"\"\"\n",
    "    pass\n",
    "\n",
    "# Check your answer\n",
    "q5.c.check()"
   ]
  },
  {
   "cell_type": "code",
   "execution_count": 18,
   "id": "63a65504",
   "metadata": {
    "execution": {
     "iopub.execute_input": "2024-04-05T09:49:22.201887Z",
     "iopub.status.busy": "2024-04-05T09:49:22.201440Z",
     "iopub.status.idle": "2024-04-05T09:49:22.206436Z",
     "shell.execute_reply": "2024-04-05T09:49:22.205077Z"
    },
    "papermill": {
     "duration": 0.023204,
     "end_time": "2024-04-05T09:49:22.208786",
     "exception": false,
     "start_time": "2024-04-05T09:49:22.185582",
     "status": "completed"
    },
    "tags": []
   },
   "outputs": [],
   "source": [
    "#q5.c.hint()\n",
    "#q5.c.solution()"
   ]
  },
  {
   "cell_type": "markdown",
   "id": "5183538e",
   "metadata": {
    "papermill": {
     "duration": 0.01441,
     "end_time": "2024-04-05T09:49:22.238675",
     "exception": false,
     "start_time": "2024-04-05T09:49:22.224265",
     "status": "completed"
    },
    "tags": []
   },
   "source": [
    "# 6. <span title=\"A bit spicy\" style=\"color: darkgreen \">🌶️</span>\n",
    "\n",
    "We’ve seen that calling `bool()` on an integer returns `False` if it’s equal to 0 and `True` otherwise. What happens if we call `int()` on a bool? Try it out in the notebook cell below.\n",
    "\n",
    "Can you take advantage of this to write a succinct function that corresponds to the English sentence \"does the customer want exactly one topping?\"?"
   ]
  },
  {
   "cell_type": "code",
   "execution_count": 19,
   "id": "5b1e8c68",
   "metadata": {
    "execution": {
     "iopub.execute_input": "2024-04-05T09:49:22.269570Z",
     "iopub.status.busy": "2024-04-05T09:49:22.269190Z",
     "iopub.status.idle": "2024-04-05T09:49:22.279121Z",
     "shell.execute_reply": "2024-04-05T09:49:22.277899Z"
    },
    "papermill": {
     "duration": 0.028465,
     "end_time": "2024-04-05T09:49:22.281908",
     "exception": false,
     "start_time": "2024-04-05T09:49:22.253443",
     "status": "completed"
    },
    "tags": []
   },
   "outputs": [
    {
     "data": {
      "application/javascript": [
       "parent.postMessage({\"jupyterEvent\": \"custom.exercise_interaction\", \"data\": {\"outcomeType\": 4, \"interactionType\": 1, \"questionType\": 2, \"questionId\": \"6_OneTopping\", \"learnToolsVersion\": \"0.3.4\", \"valueTowardsCompletion\": 0.0, \"failureMessage\": \"\", \"exceptionClass\": \"\", \"trace\": \"\"}}, \"*\")"
      ],
      "text/plain": [
       "<IPython.core.display.Javascript object>"
      ]
     },
     "metadata": {},
     "output_type": "display_data"
    },
    {
     "data": {
      "text/markdown": [
       "<span style=\"color:#ccaa33\">Check:</span> When you've updated the starter code, `check()` will tell you whether your code is correct. "
      ],
      "text/plain": [
       "Check: When you've updated the starter code, `check()` will tell you whether your code is correct. "
      ]
     },
     "metadata": {},
     "output_type": "display_data"
    }
   ],
   "source": [
    "def exactly_one_topping(ketchup, mustard, onion):\n",
    "    \"\"\"Return whether the customer wants exactly one of the three available toppings\n",
    "    on their hot dog.\n",
    "    \"\"\"\n",
    "    pass\n",
    "\n",
    "# Check your answer\n",
    "q6.check()"
   ]
  },
  {
   "cell_type": "code",
   "execution_count": 20,
   "id": "bf05ad73",
   "metadata": {
    "execution": {
     "iopub.execute_input": "2024-04-05T09:49:22.313794Z",
     "iopub.status.busy": "2024-04-05T09:49:22.313385Z",
     "iopub.status.idle": "2024-04-05T09:49:22.318047Z",
     "shell.execute_reply": "2024-04-05T09:49:22.316797Z"
    },
    "papermill": {
     "duration": 0.023162,
     "end_time": "2024-04-05T09:49:22.320465",
     "exception": false,
     "start_time": "2024-04-05T09:49:22.297303",
     "status": "completed"
    },
    "tags": []
   },
   "outputs": [],
   "source": [
    "#q6.hint()\n",
    "#q6.solution()"
   ]
  },
  {
   "cell_type": "markdown",
   "id": "c86a9fac",
   "metadata": {
    "papermill": {
     "duration": 0.015588,
     "end_time": "2024-04-05T09:49:22.351111",
     "exception": false,
     "start_time": "2024-04-05T09:49:22.335523",
     "status": "completed"
    },
    "tags": []
   },
   "source": [
    "# 7. <span title=\"A bit spicy\" style=\"color: darkgreen \">🌶️</span> (Optional)\n",
    "\n",
    "In this problem we'll be working with a simplified version of [blackjack](https://en.wikipedia.org/wiki/Blackjack) (aka twenty-one). In this version there is one player (who you'll control) and a dealer. Play proceeds as follows:\n",
    "\n",
    "- The player is dealt two face-up cards. The dealer is dealt one face-up card.\n",
    "- The player may ask to be dealt another card ('hit') as many times as they wish. If the sum of their cards exceeds 21, they lose the round immediately.\n",
    "- The dealer then deals additional cards to himself until either:\n",
    "    - the sum of the dealer's cards exceeds 21, in which case the player wins the round\n",
    "    - the sum of the dealer's cards is greater than or equal to 17. If the player's total is greater than the dealer's, the player wins. Otherwise, the dealer wins (even in case of a tie).\n",
    "    \n",
    "When calculating the sum of cards, Jack, Queen, and King count for 10. Aces can count as 1 or 11 (when referring to a player's \"total\" above, we mean the largest total that can be made without exceeding 21. So e.g. A+8 = 19, A+8+8 = 17)\n",
    "\n",
    "For this problem, you'll write a function representing the player's decision-making strategy in this game. We've provided a very unintelligent implementation below:"
   ]
  },
  {
   "cell_type": "code",
   "execution_count": 21,
   "id": "f23828e0",
   "metadata": {
    "execution": {
     "iopub.execute_input": "2024-04-05T09:49:22.383767Z",
     "iopub.status.busy": "2024-04-05T09:49:22.383356Z",
     "iopub.status.idle": "2024-04-05T09:49:22.389531Z",
     "shell.execute_reply": "2024-04-05T09:49:22.388188Z"
    },
    "papermill": {
     "duration": 0.025697,
     "end_time": "2024-04-05T09:49:22.392235",
     "exception": false,
     "start_time": "2024-04-05T09:49:22.366538",
     "status": "completed"
    },
    "tags": []
   },
   "outputs": [],
   "source": [
    "def should_hit(dealer_total, player_total, player_low_aces, player_high_aces):\n",
    "    \"\"\"Return True if the player should hit (request another card) given the current game\n",
    "    state, or False if the player should stay.\n",
    "    When calculating a hand's total value, we count aces as \"high\" (with value 11) if doing so\n",
    "    doesn't bring the total above 21, otherwise we count them as low (with value 1). \n",
    "    For example, if the player's hand is {A, A, A, 7}, we will count it as 11 + 1 + 1 + 7,\n",
    "    and therefore set player_total=20, player_low_aces=2, player_high_aces=1.\n",
    "    \"\"\"\n",
    "    return False"
   ]
  },
  {
   "cell_type": "markdown",
   "id": "15241dea",
   "metadata": {
    "papermill": {
     "duration": 0.015019,
     "end_time": "2024-04-05T09:49:22.475795",
     "exception": false,
     "start_time": "2024-04-05T09:49:22.460776",
     "status": "completed"
    },
    "tags": []
   },
   "source": [
    "This very conservative agent *always* sticks with the hand of two cards that they're dealt.\n",
    "\n",
    "We'll be simulating games between your player agent and our own dealer agent by calling your function.\n",
    "\n",
    "Try running the function below to see an example of a simulated game:"
   ]
  },
  {
   "cell_type": "code",
   "execution_count": 22,
   "id": "de654510",
   "metadata": {
    "execution": {
     "iopub.execute_input": "2024-04-05T09:49:22.508763Z",
     "iopub.status.busy": "2024-04-05T09:49:22.508348Z",
     "iopub.status.idle": "2024-04-05T09:49:22.514492Z",
     "shell.execute_reply": "2024-04-05T09:49:22.513139Z"
    },
    "papermill": {
     "duration": 0.026171,
     "end_time": "2024-04-05T09:49:22.517236",
     "exception": false,
     "start_time": "2024-04-05T09:49:22.491065",
     "status": "completed"
    },
    "tags": []
   },
   "outputs": [
    {
     "name": "stdout",
     "output_type": "stream",
     "text": [
      "Player starts with 5 and A (total = 16)\n",
      "Dealer starts with 9\n",
      "\n",
      "__Player's turn__\n",
      "Player stays\n",
      "\n",
      "__Dealer's turn__\n",
      "Dealer hits and receives A. (total = 20)\n",
      "Dealer stands.\n",
      "Dealer wins. 20 >= 16\n"
     ]
    }
   ],
   "source": [
    "q7.simulate_one_game()"
   ]
  },
  {
   "cell_type": "markdown",
   "id": "aed525f5",
   "metadata": {
    "papermill": {
     "duration": 0.015273,
     "end_time": "2024-04-05T09:49:22.548548",
     "exception": false,
     "start_time": "2024-04-05T09:49:22.533275",
     "status": "completed"
    },
    "tags": []
   },
   "source": [
    "The real test of your agent's mettle is their average win rate over many games. Try calling the function below to simulate 50000 games of blackjack (it may take a couple seconds):"
   ]
  },
  {
   "cell_type": "code",
   "execution_count": 23,
   "id": "1597896c",
   "metadata": {
    "execution": {
     "iopub.execute_input": "2024-04-05T09:49:22.581249Z",
     "iopub.status.busy": "2024-04-05T09:49:22.580862Z",
     "iopub.status.idle": "2024-04-05T09:49:24.598135Z",
     "shell.execute_reply": "2024-04-05T09:49:24.596547Z"
    },
    "papermill": {
     "duration": 2.036576,
     "end_time": "2024-04-05T09:49:24.600578",
     "exception": false,
     "start_time": "2024-04-05T09:49:22.564002",
     "status": "completed"
    },
    "tags": []
   },
   "outputs": [
    {
     "name": "stdout",
     "output_type": "stream",
     "text": [
      "Player won 19143 out of 50000 games (win rate = 38.3%)\n"
     ]
    }
   ],
   "source": [
    "q7.simulate(n_games=50000)"
   ]
  },
  {
   "cell_type": "markdown",
   "id": "226bf1b0",
   "metadata": {
    "papermill": {
     "duration": 0.015773,
     "end_time": "2024-04-05T09:49:24.632252",
     "exception": false,
     "start_time": "2024-04-05T09:49:24.616479",
     "status": "completed"
    },
    "tags": []
   },
   "source": [
    "Our dumb agent that completely ignores the game state still manages to win shockingly often!\n",
    "\n",
    "Try adding some more smarts to the `should_hit` function and see how it affects the results."
   ]
  },
  {
   "cell_type": "code",
   "execution_count": 24,
   "id": "881a58d1",
   "metadata": {
    "execution": {
     "iopub.execute_input": "2024-04-05T09:49:24.665204Z",
     "iopub.status.busy": "2024-04-05T09:49:24.664808Z",
     "iopub.status.idle": "2024-04-05T09:49:26.881203Z",
     "shell.execute_reply": "2024-04-05T09:49:26.880300Z"
    },
    "papermill": {
     "duration": 2.23613,
     "end_time": "2024-04-05T09:49:26.884033",
     "exception": false,
     "start_time": "2024-04-05T09:49:24.647903",
     "status": "completed"
    },
    "tags": []
   },
   "outputs": [
    {
     "name": "stdout",
     "output_type": "stream",
     "text": [
      "Player won 18970 out of 50000 games (win rate = 37.9%)\n"
     ]
    }
   ],
   "source": [
    "def should_hit(dealer_total, player_total, player_low_aces, player_high_aces):\n",
    "    \"\"\"Return True if the player should hit (request another card) given the current game\n",
    "    state, or False if the player should stay.\n",
    "    When calculating a hand's total value, we count aces as \"high\" (with value 11) if doing so\n",
    "    doesn't bring the total above 21, otherwise we count them as low (with value 1). \n",
    "    For example, if the player's hand is {A, A, A, 7}, we will count it as 11 + 1 + 1 + 7,\n",
    "    and therefore set player_total=20, player_low_aces=2, player_high_aces=1.\n",
    "    \"\"\"\n",
    "    return False\n",
    "\n",
    "q7.simulate(n_games=50000)"
   ]
  },
  {
   "cell_type": "markdown",
   "id": "a7f9297c",
   "metadata": {
    "papermill": {
     "duration": 0.015305,
     "end_time": "2024-04-05T09:49:26.915270",
     "exception": false,
     "start_time": "2024-04-05T09:49:26.899965",
     "status": "completed"
    },
    "tags": []
   },
   "source": [
    "# Keep Going\n",
    "\n",
    "Learn about **[lists and tuples](https://www.kaggle.com/colinmorris/lists)** to handle multiple items of data in a systematic way."
   ]
  },
  {
   "cell_type": "markdown",
   "id": "c3ad01d1",
   "metadata": {
    "papermill": {
     "duration": 0.01556,
     "end_time": "2024-04-05T09:49:26.946549",
     "exception": false,
     "start_time": "2024-04-05T09:49:26.930989",
     "status": "completed"
    },
    "tags": []
   },
   "source": [
    "---\n",
    "\n",
    "\n",
    "\n",
    "\n",
    "*Have questions or comments? Visit the [course discussion forum](https://www.kaggle.com/learn/python/discussion) to chat with other learners.*"
   ]
  }
 ],
 "metadata": {
  "kaggle": {
   "accelerator": "none",
   "dataSources": [],
   "isGpuEnabled": false,
   "isInternetEnabled": false,
   "language": "python",
   "sourceType": "notebook"
  },
  "kernelspec": {
   "display_name": "Python 3",
   "language": "python",
   "name": "python3"
  },
  "language_info": {
   "codemirror_mode": {
    "name": "ipython",
    "version": 3
   },
   "file_extension": ".py",
   "mimetype": "text/x-python",
   "name": "python",
   "nbconvert_exporter": "python",
   "pygments_lexer": "ipython3",
   "version": "3.10.13"
  },
  "learntools_metadata": {
   "lesson_index": 2,
   "type": "exercise"
  },
  "papermill": {
   "default_parameters": {},
   "duration": 10.446572,
   "end_time": "2024-04-05T09:49:27.484066",
   "environment_variables": {},
   "exception": null,
   "input_path": "__notebook__.ipynb",
   "output_path": "__notebook__.ipynb",
   "parameters": {},
   "start_time": "2024-04-05T09:49:17.037494",
   "version": "2.5.0"
  }
 },
 "nbformat": 4,
 "nbformat_minor": 5
}
