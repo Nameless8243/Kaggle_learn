{
 "cells": [
  {
   "cell_type": "markdown",
   "id": "2e475074",
   "metadata": {
    "papermill": {
     "duration": 0.009116,
     "end_time": "2024-04-09T11:14:39.159862",
     "exception": false,
     "start_time": "2024-04-09T11:14:39.150746",
     "status": "completed"
    },
    "tags": []
   },
   "source": [
    "**This notebook is an exercise in the [Intermediate Machine Learning](https://www.kaggle.com/learn/intermediate-machine-learning) course.  You can reference the tutorial at [this link](https://www.kaggle.com/alexisbcook/missing-values).**\n",
    "\n",
    "---\n"
   ]
  },
  {
   "cell_type": "markdown",
   "id": "b41a8dc2",
   "metadata": {
    "papermill": {
     "duration": 0.007783,
     "end_time": "2024-04-09T11:14:39.176312",
     "exception": false,
     "start_time": "2024-04-09T11:14:39.168529",
     "status": "completed"
    },
    "tags": []
   },
   "source": [
    "Now it's your turn to test your new knowledge of **missing values** handling. You'll probably find it makes a big difference.\n",
    "\n",
    "# Setup\n",
    "\n",
    "The questions will give you feedback on your work. Run the following cell to set up the feedback system."
   ]
  },
  {
   "cell_type": "code",
   "execution_count": 1,
   "id": "844f6ba2",
   "metadata": {
    "execution": {
     "iopub.execute_input": "2024-04-09T11:14:39.194338Z",
     "iopub.status.busy": "2024-04-09T11:14:39.193843Z",
     "iopub.status.idle": "2024-04-09T11:14:40.035087Z",
     "shell.execute_reply": "2024-04-09T11:14:40.033007Z"
    },
    "papermill": {
     "duration": 0.852973,
     "end_time": "2024-04-09T11:14:40.037409",
     "exception": false,
     "start_time": "2024-04-09T11:14:39.184436",
     "status": "completed"
    },
    "tags": []
   },
   "outputs": [
    {
     "name": "stdout",
     "output_type": "stream",
     "text": [
      "Setup Complete\n"
     ]
    }
   ],
   "source": [
    "# Set up code checking\n",
    "import os\n",
    "if not os.path.exists(\"../input/train.csv\"):\n",
    "    os.symlink(\"../input/home-data-for-ml-course/train.csv\", \"../input/train.csv\")  \n",
    "    os.symlink(\"../input/home-data-for-ml-course/test.csv\", \"../input/test.csv\") \n",
    "from learntools.core import binder\n",
    "binder.bind(globals())\n",
    "from learntools.ml_intermediate.ex2 import *\n",
    "print(\"Setup Complete\")"
   ]
  },
  {
   "cell_type": "markdown",
   "id": "756d3627",
   "metadata": {
    "papermill": {
     "duration": 0.007638,
     "end_time": "2024-04-09T11:14:40.053192",
     "exception": false,
     "start_time": "2024-04-09T11:14:40.045554",
     "status": "completed"
    },
    "tags": []
   },
   "source": [
    "In this exercise, you will work with data from the [Housing Prices Competition for Kaggle Learn Users](https://www.kaggle.com/c/home-data-for-ml-course). \n",
    "\n",
    "![Ames Housing dataset image](https://storage.googleapis.com/kaggle-media/learn/images/lTJVG4e.png)\n",
    "\n",
    "Run the next code cell without changes to load the training and validation sets in `X_train`, `X_valid`, `y_train`, and `y_valid`.  The test set is loaded in `X_test`."
   ]
  },
  {
   "cell_type": "code",
   "execution_count": 2,
   "id": "f1f913b5",
   "metadata": {
    "execution": {
     "iopub.execute_input": "2024-04-09T11:14:40.071063Z",
     "iopub.status.busy": "2024-04-09T11:14:40.070560Z",
     "iopub.status.idle": "2024-04-09T11:14:41.428211Z",
     "shell.execute_reply": "2024-04-09T11:14:41.427281Z"
    },
    "papermill": {
     "duration": 1.369506,
     "end_time": "2024-04-09T11:14:41.430687",
     "exception": false,
     "start_time": "2024-04-09T11:14:40.061181",
     "status": "completed"
    },
    "tags": []
   },
   "outputs": [],
   "source": [
    "import pandas as pd\n",
    "from sklearn.model_selection import train_test_split\n",
    "\n",
    "# Read the data\n",
    "X_full = pd.read_csv('../input/train.csv', index_col='Id')\n",
    "X_test_full = pd.read_csv('../input/test.csv', index_col='Id')\n",
    "\n",
    "# Remove rows with missing target, separate target from predictors\n",
    "X_full.dropna(axis=0, subset=['SalePrice'], inplace=True)\n",
    "y = X_full.SalePrice\n",
    "X_full.drop(['SalePrice'], axis=1, inplace=True)\n",
    "\n",
    "# To keep things simple, we'll use only numerical predictors\n",
    "X = X_full.select_dtypes(exclude=['object'])\n",
    "X_test = X_test_full.select_dtypes(exclude=['object'])\n",
    "\n",
    "# Break off validation set from training data\n",
    "X_train, X_valid, y_train, y_valid = train_test_split(X, y, train_size=0.8, test_size=0.2,\n",
    "                                                      random_state=0)"
   ]
  },
  {
   "cell_type": "markdown",
   "id": "d22d6b29",
   "metadata": {
    "papermill": {
     "duration": 0.007859,
     "end_time": "2024-04-09T11:14:41.447212",
     "exception": false,
     "start_time": "2024-04-09T11:14:41.439353",
     "status": "completed"
    },
    "tags": []
   },
   "source": [
    "Use the next code cell to print the first five rows of the data."
   ]
  },
  {
   "cell_type": "code",
   "execution_count": 3,
   "id": "200d7fcc",
   "metadata": {
    "execution": {
     "iopub.execute_input": "2024-04-09T11:14:41.466404Z",
     "iopub.status.busy": "2024-04-09T11:14:41.465870Z",
     "iopub.status.idle": "2024-04-09T11:14:41.491957Z",
     "shell.execute_reply": "2024-04-09T11:14:41.490792Z"
    },
    "papermill": {
     "duration": 0.037982,
     "end_time": "2024-04-09T11:14:41.494369",
     "exception": false,
     "start_time": "2024-04-09T11:14:41.456387",
     "status": "completed"
    },
    "tags": []
   },
   "outputs": [
    {
     "data": {
      "text/html": [
       "<div>\n",
       "<style scoped>\n",
       "    .dataframe tbody tr th:only-of-type {\n",
       "        vertical-align: middle;\n",
       "    }\n",
       "\n",
       "    .dataframe tbody tr th {\n",
       "        vertical-align: top;\n",
       "    }\n",
       "\n",
       "    .dataframe thead th {\n",
       "        text-align: right;\n",
       "    }\n",
       "</style>\n",
       "<table border=\"1\" class=\"dataframe\">\n",
       "  <thead>\n",
       "    <tr style=\"text-align: right;\">\n",
       "      <th></th>\n",
       "      <th>MSSubClass</th>\n",
       "      <th>LotFrontage</th>\n",
       "      <th>LotArea</th>\n",
       "      <th>OverallQual</th>\n",
       "      <th>OverallCond</th>\n",
       "      <th>YearBuilt</th>\n",
       "      <th>YearRemodAdd</th>\n",
       "      <th>MasVnrArea</th>\n",
       "      <th>BsmtFinSF1</th>\n",
       "      <th>BsmtFinSF2</th>\n",
       "      <th>...</th>\n",
       "      <th>GarageArea</th>\n",
       "      <th>WoodDeckSF</th>\n",
       "      <th>OpenPorchSF</th>\n",
       "      <th>EnclosedPorch</th>\n",
       "      <th>3SsnPorch</th>\n",
       "      <th>ScreenPorch</th>\n",
       "      <th>PoolArea</th>\n",
       "      <th>MiscVal</th>\n",
       "      <th>MoSold</th>\n",
       "      <th>YrSold</th>\n",
       "    </tr>\n",
       "    <tr>\n",
       "      <th>Id</th>\n",
       "      <th></th>\n",
       "      <th></th>\n",
       "      <th></th>\n",
       "      <th></th>\n",
       "      <th></th>\n",
       "      <th></th>\n",
       "      <th></th>\n",
       "      <th></th>\n",
       "      <th></th>\n",
       "      <th></th>\n",
       "      <th></th>\n",
       "      <th></th>\n",
       "      <th></th>\n",
       "      <th></th>\n",
       "      <th></th>\n",
       "      <th></th>\n",
       "      <th></th>\n",
       "      <th></th>\n",
       "      <th></th>\n",
       "      <th></th>\n",
       "      <th></th>\n",
       "    </tr>\n",
       "  </thead>\n",
       "  <tbody>\n",
       "    <tr>\n",
       "      <th>619</th>\n",
       "      <td>20</td>\n",
       "      <td>90.0</td>\n",
       "      <td>11694</td>\n",
       "      <td>9</td>\n",
       "      <td>5</td>\n",
       "      <td>2007</td>\n",
       "      <td>2007</td>\n",
       "      <td>452.0</td>\n",
       "      <td>48</td>\n",
       "      <td>0</td>\n",
       "      <td>...</td>\n",
       "      <td>774</td>\n",
       "      <td>0</td>\n",
       "      <td>108</td>\n",
       "      <td>0</td>\n",
       "      <td>0</td>\n",
       "      <td>260</td>\n",
       "      <td>0</td>\n",
       "      <td>0</td>\n",
       "      <td>7</td>\n",
       "      <td>2007</td>\n",
       "    </tr>\n",
       "    <tr>\n",
       "      <th>871</th>\n",
       "      <td>20</td>\n",
       "      <td>60.0</td>\n",
       "      <td>6600</td>\n",
       "      <td>5</td>\n",
       "      <td>5</td>\n",
       "      <td>1962</td>\n",
       "      <td>1962</td>\n",
       "      <td>0.0</td>\n",
       "      <td>0</td>\n",
       "      <td>0</td>\n",
       "      <td>...</td>\n",
       "      <td>308</td>\n",
       "      <td>0</td>\n",
       "      <td>0</td>\n",
       "      <td>0</td>\n",
       "      <td>0</td>\n",
       "      <td>0</td>\n",
       "      <td>0</td>\n",
       "      <td>0</td>\n",
       "      <td>8</td>\n",
       "      <td>2009</td>\n",
       "    </tr>\n",
       "    <tr>\n",
       "      <th>93</th>\n",
       "      <td>30</td>\n",
       "      <td>80.0</td>\n",
       "      <td>13360</td>\n",
       "      <td>5</td>\n",
       "      <td>7</td>\n",
       "      <td>1921</td>\n",
       "      <td>2006</td>\n",
       "      <td>0.0</td>\n",
       "      <td>713</td>\n",
       "      <td>0</td>\n",
       "      <td>...</td>\n",
       "      <td>432</td>\n",
       "      <td>0</td>\n",
       "      <td>0</td>\n",
       "      <td>44</td>\n",
       "      <td>0</td>\n",
       "      <td>0</td>\n",
       "      <td>0</td>\n",
       "      <td>0</td>\n",
       "      <td>8</td>\n",
       "      <td>2009</td>\n",
       "    </tr>\n",
       "    <tr>\n",
       "      <th>818</th>\n",
       "      <td>20</td>\n",
       "      <td>NaN</td>\n",
       "      <td>13265</td>\n",
       "      <td>8</td>\n",
       "      <td>5</td>\n",
       "      <td>2002</td>\n",
       "      <td>2002</td>\n",
       "      <td>148.0</td>\n",
       "      <td>1218</td>\n",
       "      <td>0</td>\n",
       "      <td>...</td>\n",
       "      <td>857</td>\n",
       "      <td>150</td>\n",
       "      <td>59</td>\n",
       "      <td>0</td>\n",
       "      <td>0</td>\n",
       "      <td>0</td>\n",
       "      <td>0</td>\n",
       "      <td>0</td>\n",
       "      <td>7</td>\n",
       "      <td>2008</td>\n",
       "    </tr>\n",
       "    <tr>\n",
       "      <th>303</th>\n",
       "      <td>20</td>\n",
       "      <td>118.0</td>\n",
       "      <td>13704</td>\n",
       "      <td>7</td>\n",
       "      <td>5</td>\n",
       "      <td>2001</td>\n",
       "      <td>2002</td>\n",
       "      <td>150.0</td>\n",
       "      <td>0</td>\n",
       "      <td>0</td>\n",
       "      <td>...</td>\n",
       "      <td>843</td>\n",
       "      <td>468</td>\n",
       "      <td>81</td>\n",
       "      <td>0</td>\n",
       "      <td>0</td>\n",
       "      <td>0</td>\n",
       "      <td>0</td>\n",
       "      <td>0</td>\n",
       "      <td>1</td>\n",
       "      <td>2006</td>\n",
       "    </tr>\n",
       "  </tbody>\n",
       "</table>\n",
       "<p>5 rows × 36 columns</p>\n",
       "</div>"
      ],
      "text/plain": [
       "     MSSubClass  LotFrontage  LotArea  OverallQual  OverallCond  YearBuilt  \\\n",
       "Id                                                                           \n",
       "619          20         90.0    11694            9            5       2007   \n",
       "871          20         60.0     6600            5            5       1962   \n",
       "93           30         80.0    13360            5            7       1921   \n",
       "818          20          NaN    13265            8            5       2002   \n",
       "303          20        118.0    13704            7            5       2001   \n",
       "\n",
       "     YearRemodAdd  MasVnrArea  BsmtFinSF1  BsmtFinSF2  ...  GarageArea  \\\n",
       "Id                                                     ...               \n",
       "619          2007       452.0          48           0  ...         774   \n",
       "871          1962         0.0           0           0  ...         308   \n",
       "93           2006         0.0         713           0  ...         432   \n",
       "818          2002       148.0        1218           0  ...         857   \n",
       "303          2002       150.0           0           0  ...         843   \n",
       "\n",
       "     WoodDeckSF  OpenPorchSF  EnclosedPorch  3SsnPorch  ScreenPorch  PoolArea  \\\n",
       "Id                                                                              \n",
       "619           0          108              0          0          260         0   \n",
       "871           0            0              0          0            0         0   \n",
       "93            0            0             44          0            0         0   \n",
       "818         150           59              0          0            0         0   \n",
       "303         468           81              0          0            0         0   \n",
       "\n",
       "     MiscVal  MoSold  YrSold  \n",
       "Id                            \n",
       "619        0       7    2007  \n",
       "871        0       8    2009  \n",
       "93         0       8    2009  \n",
       "818        0       7    2008  \n",
       "303        0       1    2006  \n",
       "\n",
       "[5 rows x 36 columns]"
      ]
     },
     "execution_count": 3,
     "metadata": {},
     "output_type": "execute_result"
    }
   ],
   "source": [
    "X_train.head()"
   ]
  },
  {
   "cell_type": "markdown",
   "id": "f28c545d",
   "metadata": {
    "papermill": {
     "duration": 0.008154,
     "end_time": "2024-04-09T11:14:41.511410",
     "exception": false,
     "start_time": "2024-04-09T11:14:41.503256",
     "status": "completed"
    },
    "tags": []
   },
   "source": [
    "You can already see a few missing values in the first several rows.  In the next step, you'll obtain a more comprehensive understanding of the missing values in the dataset.\n",
    "\n",
    "# Step 1: Preliminary investigation\n",
    "\n",
    "Run the code cell below without changes."
   ]
  },
  {
   "cell_type": "code",
   "execution_count": 4,
   "id": "d52fbb96",
   "metadata": {
    "execution": {
     "iopub.execute_input": "2024-04-09T11:14:41.530179Z",
     "iopub.status.busy": "2024-04-09T11:14:41.529778Z",
     "iopub.status.idle": "2024-04-09T11:14:41.537700Z",
     "shell.execute_reply": "2024-04-09T11:14:41.536345Z"
    },
    "papermill": {
     "duration": 0.020156,
     "end_time": "2024-04-09T11:14:41.540113",
     "exception": false,
     "start_time": "2024-04-09T11:14:41.519957",
     "status": "completed"
    },
    "tags": []
   },
   "outputs": [
    {
     "name": "stdout",
     "output_type": "stream",
     "text": [
      "(1168, 36)\n",
      "LotFrontage    212\n",
      "MasVnrArea       6\n",
      "GarageYrBlt     58\n",
      "dtype: int64\n"
     ]
    }
   ],
   "source": [
    "# Shape of training data (num_rows, num_columns)\n",
    "print(X_train.shape)\n",
    "\n",
    "# Number of missing values in each column of training data\n",
    "missing_val_count_by_column = (X_train.isnull().sum())\n",
    "print(missing_val_count_by_column[missing_val_count_by_column > 0])"
   ]
  },
  {
   "cell_type": "markdown",
   "id": "541ebb92",
   "metadata": {
    "papermill": {
     "duration": 0.008256,
     "end_time": "2024-04-09T11:14:41.557056",
     "exception": false,
     "start_time": "2024-04-09T11:14:41.548800",
     "status": "completed"
    },
    "tags": []
   },
   "source": [
    "### Part A\n",
    "\n",
    "Use the above output to answer the questions below."
   ]
  },
  {
   "cell_type": "code",
   "execution_count": 5,
   "id": "5b7c6b8c",
   "metadata": {
    "execution": {
     "iopub.execute_input": "2024-04-09T11:14:41.576197Z",
     "iopub.status.busy": "2024-04-09T11:14:41.575421Z",
     "iopub.status.idle": "2024-04-09T11:14:41.584269Z",
     "shell.execute_reply": "2024-04-09T11:14:41.583299Z"
    },
    "papermill": {
     "duration": 0.020768,
     "end_time": "2024-04-09T11:14:41.586430",
     "exception": false,
     "start_time": "2024-04-09T11:14:41.565662",
     "status": "completed"
    },
    "tags": []
   },
   "outputs": [
    {
     "data": {
      "application/javascript": [
       "parent.postMessage({\"jupyterEvent\": \"custom.exercise_interaction\", \"data\": {\"outcomeType\": 1, \"valueTowardsCompletion\": 1.0, \"interactionType\": 1, \"questionType\": 1, \"questionId\": \"1.1_InvestigateEquality\", \"learnToolsVersion\": \"0.3.4\", \"failureMessage\": \"\", \"exceptionClass\": \"\", \"trace\": \"\"}}, \"*\")"
      ],
      "text/plain": [
       "<IPython.core.display.Javascript object>"
      ]
     },
     "metadata": {},
     "output_type": "display_data"
    },
    {
     "data": {
      "text/markdown": [
       "<span style=\"color:#33cc33\">Correct</span>"
      ],
      "text/plain": [
       "Correct"
      ]
     },
     "metadata": {},
     "output_type": "display_data"
    }
   ],
   "source": [
    "# Fill in the line below: How many rows are in the training data?\n",
    "num_rows = 1168\n",
    "\n",
    "# Fill in the line below: How many columns in the training data\n",
    "# have missing values?\n",
    "num_cols_with_missing = 3\n",
    "\n",
    "# Fill in the line below: How many missing entries are contained in \n",
    "# all of the training data?\n",
    "tot_missing = 276\n",
    "\n",
    "# Check your answers\n",
    "step_1.a.check()"
   ]
  },
  {
   "cell_type": "code",
   "execution_count": 6,
   "id": "d1977160",
   "metadata": {
    "execution": {
     "iopub.execute_input": "2024-04-09T11:14:41.605441Z",
     "iopub.status.busy": "2024-04-09T11:14:41.605027Z",
     "iopub.status.idle": "2024-04-09T11:14:41.609588Z",
     "shell.execute_reply": "2024-04-09T11:14:41.608527Z"
    },
    "papermill": {
     "duration": 0.016704,
     "end_time": "2024-04-09T11:14:41.611904",
     "exception": false,
     "start_time": "2024-04-09T11:14:41.595200",
     "status": "completed"
    },
    "tags": []
   },
   "outputs": [],
   "source": [
    "# Lines below will give you a hint or solution code\n",
    "#step_1.a.hint()\n",
    "#step_1.a.solution()"
   ]
  },
  {
   "cell_type": "markdown",
   "id": "cf385cb4",
   "metadata": {
    "papermill": {
     "duration": 0.008364,
     "end_time": "2024-04-09T11:14:41.629213",
     "exception": false,
     "start_time": "2024-04-09T11:14:41.620849",
     "status": "completed"
    },
    "tags": []
   },
   "source": [
    "### Part B\n",
    "Considering your answers above, what do you think is likely the best approach to dealing with the missing values?"
   ]
  },
  {
   "cell_type": "code",
   "execution_count": 7,
   "id": "c17c8f12",
   "metadata": {
    "execution": {
     "iopub.execute_input": "2024-04-09T11:14:41.648186Z",
     "iopub.status.busy": "2024-04-09T11:14:41.647784Z",
     "iopub.status.idle": "2024-04-09T11:14:41.656128Z",
     "shell.execute_reply": "2024-04-09T11:14:41.655070Z"
    },
    "papermill": {
     "duration": 0.020444,
     "end_time": "2024-04-09T11:14:41.658411",
     "exception": false,
     "start_time": "2024-04-09T11:14:41.637967",
     "status": "completed"
    },
    "tags": []
   },
   "outputs": [
    {
     "data": {
      "application/javascript": [
       "parent.postMessage({\"jupyterEvent\": \"custom.exercise_interaction\", \"data\": {\"outcomeType\": 1, \"valueTowardsCompletion\": 1.0, \"interactionType\": 1, \"questionType\": 4, \"questionId\": \"1.2_InvestigateThought\", \"learnToolsVersion\": \"0.3.4\", \"failureMessage\": \"\", \"exceptionClass\": \"\", \"trace\": \"\"}}, \"*\")"
      ],
      "text/plain": [
       "<IPython.core.display.Javascript object>"
      ]
     },
     "metadata": {},
     "output_type": "display_data"
    },
    {
     "data": {
      "text/markdown": [
       "<span style=\"color:#33cc33\">Correct:</span> \n",
       "\n",
       "Since there are relatively few missing entries in the data (the column with the greatest percentage of missing values is missing less than 20% of its entries), we can expect that dropping columns is unlikely to yield good results.  This is because we'd be throwing away a lot of valuable data, and so imputation will likely perform better."
      ],
      "text/plain": [
       "Correct: \n",
       "\n",
       "Since there are relatively few missing entries in the data (the column with the greatest percentage of missing values is missing less than 20% of its entries), we can expect that dropping columns is unlikely to yield good results.  This is because we'd be throwing away a lot of valuable data, and so imputation will likely perform better."
      ]
     },
     "metadata": {},
     "output_type": "display_data"
    }
   ],
   "source": [
    "# Check your answer (Run this code cell to receive credit!)\n",
    "step_1.b.check()"
   ]
  },
  {
   "cell_type": "code",
   "execution_count": 8,
   "id": "57899c33",
   "metadata": {
    "execution": {
     "iopub.execute_input": "2024-04-09T11:14:41.678240Z",
     "iopub.status.busy": "2024-04-09T11:14:41.677838Z",
     "iopub.status.idle": "2024-04-09T11:14:41.681882Z",
     "shell.execute_reply": "2024-04-09T11:14:41.681100Z"
    },
    "papermill": {
     "duration": 0.016529,
     "end_time": "2024-04-09T11:14:41.684022",
     "exception": false,
     "start_time": "2024-04-09T11:14:41.667493",
     "status": "completed"
    },
    "tags": []
   },
   "outputs": [],
   "source": [
    "#step_1.b.hint()"
   ]
  },
  {
   "cell_type": "markdown",
   "id": "23ac60e6",
   "metadata": {
    "papermill": {
     "duration": 0.008933,
     "end_time": "2024-04-09T11:14:41.702191",
     "exception": false,
     "start_time": "2024-04-09T11:14:41.693258",
     "status": "completed"
    },
    "tags": []
   },
   "source": [
    "To compare different approaches to dealing with missing values, you'll use the same `score_dataset()` function from the tutorial.  This function reports the [mean absolute error](https://en.wikipedia.org/wiki/Mean_absolute_error) (MAE) from a random forest model."
   ]
  },
  {
   "cell_type": "code",
   "execution_count": 9,
   "id": "ba73d76e",
   "metadata": {
    "execution": {
     "iopub.execute_input": "2024-04-09T11:14:41.722767Z",
     "iopub.status.busy": "2024-04-09T11:14:41.721615Z",
     "iopub.status.idle": "2024-04-09T11:14:42.047199Z",
     "shell.execute_reply": "2024-04-09T11:14:42.046080Z"
    },
    "papermill": {
     "duration": 0.33848,
     "end_time": "2024-04-09T11:14:42.049910",
     "exception": false,
     "start_time": "2024-04-09T11:14:41.711430",
     "status": "completed"
    },
    "tags": []
   },
   "outputs": [],
   "source": [
    "from sklearn.ensemble import RandomForestRegressor\n",
    "from sklearn.metrics import mean_absolute_error\n",
    "\n",
    "# Function for comparing different approaches\n",
    "def score_dataset(X_train, X_valid, y_train, y_valid):\n",
    "    model = RandomForestRegressor(n_estimators=100, random_state=0)\n",
    "    model.fit(X_train, y_train)\n",
    "    preds = model.predict(X_valid)\n",
    "    return mean_absolute_error(y_valid, preds)"
   ]
  },
  {
   "cell_type": "markdown",
   "id": "37b0bc26",
   "metadata": {
    "papermill": {
     "duration": 0.009168,
     "end_time": "2024-04-09T11:14:42.068439",
     "exception": false,
     "start_time": "2024-04-09T11:14:42.059271",
     "status": "completed"
    },
    "tags": []
   },
   "source": [
    "# Step 2: Drop columns with missing values\n",
    "\n",
    "In this step, you'll preprocess the data in `X_train` and `X_valid` to remove columns with missing values.  Set the preprocessed DataFrames to `reduced_X_train` and `reduced_X_valid`, respectively.  "
   ]
  },
  {
   "cell_type": "code",
   "execution_count": 10,
   "id": "85b699a4",
   "metadata": {
    "execution": {
     "iopub.execute_input": "2024-04-09T11:14:42.089053Z",
     "iopub.status.busy": "2024-04-09T11:14:42.087899Z",
     "iopub.status.idle": "2024-04-09T11:14:42.109994Z",
     "shell.execute_reply": "2024-04-09T11:14:42.108979Z"
    },
    "papermill": {
     "duration": 0.034493,
     "end_time": "2024-04-09T11:14:42.112210",
     "exception": false,
     "start_time": "2024-04-09T11:14:42.077717",
     "status": "completed"
    },
    "tags": []
   },
   "outputs": [
    {
     "data": {
      "application/javascript": [
       "parent.postMessage({\"jupyterEvent\": \"custom.exercise_interaction\", \"data\": {\"outcomeType\": 1, \"valueTowardsCompletion\": 1.0, \"interactionType\": 1, \"questionType\": 2, \"questionId\": \"2_DropMissing\", \"learnToolsVersion\": \"0.3.4\", \"failureMessage\": \"\", \"exceptionClass\": \"\", \"trace\": \"\"}}, \"*\")"
      ],
      "text/plain": [
       "<IPython.core.display.Javascript object>"
      ]
     },
     "metadata": {},
     "output_type": "display_data"
    },
    {
     "data": {
      "text/markdown": [
       "<span style=\"color:#33cc33\">Correct</span>"
      ],
      "text/plain": [
       "Correct"
      ]
     },
     "metadata": {},
     "output_type": "display_data"
    }
   ],
   "source": [
    "# Fill in the line below: get names of columns with missing values\n",
    "cols_with_missing = [col for col in X_train.columns\n",
    "                     if X_train[col].isnull().any()]# Your code here\n",
    "\n",
    "# Fill in the lines below: drop columns in training and validation data\n",
    "reduced_X_train = X_train.drop(cols_with_missing, axis=1)\n",
    "reduced_X_valid = X_valid.drop(cols_with_missing, axis=1)\n",
    "\n",
    "# Check your answers\n",
    "step_2.check()"
   ]
  },
  {
   "cell_type": "code",
   "execution_count": 11,
   "id": "a2aba0ff",
   "metadata": {
    "execution": {
     "iopub.execute_input": "2024-04-09T11:14:42.134266Z",
     "iopub.status.busy": "2024-04-09T11:14:42.133853Z",
     "iopub.status.idle": "2024-04-09T11:14:42.137909Z",
     "shell.execute_reply": "2024-04-09T11:14:42.136957Z"
    },
    "papermill": {
     "duration": 0.01842,
     "end_time": "2024-04-09T11:14:42.140003",
     "exception": false,
     "start_time": "2024-04-09T11:14:42.121583",
     "status": "completed"
    },
    "tags": []
   },
   "outputs": [],
   "source": [
    "# Lines below will give you a hint or solution code\n",
    "#step_2.hint()\n",
    "#step_2.solution()"
   ]
  },
  {
   "cell_type": "markdown",
   "id": "0f4f460d",
   "metadata": {
    "papermill": {
     "duration": 0.008991,
     "end_time": "2024-04-09T11:14:42.158484",
     "exception": false,
     "start_time": "2024-04-09T11:14:42.149493",
     "status": "completed"
    },
    "tags": []
   },
   "source": [
    "Run the next code cell without changes to obtain the MAE for this approach."
   ]
  },
  {
   "cell_type": "code",
   "execution_count": 12,
   "id": "2bda14d0",
   "metadata": {
    "execution": {
     "iopub.execute_input": "2024-04-09T11:14:42.178837Z",
     "iopub.status.busy": "2024-04-09T11:14:42.178449Z",
     "iopub.status.idle": "2024-04-09T11:14:43.425773Z",
     "shell.execute_reply": "2024-04-09T11:14:43.424706Z"
    },
    "papermill": {
     "duration": 1.260686,
     "end_time": "2024-04-09T11:14:43.428446",
     "exception": false,
     "start_time": "2024-04-09T11:14:42.167760",
     "status": "completed"
    },
    "tags": []
   },
   "outputs": [
    {
     "name": "stdout",
     "output_type": "stream",
     "text": [
      "MAE (Drop columns with missing values):\n",
      "17837.82570776256\n"
     ]
    }
   ],
   "source": [
    "print(\"MAE (Drop columns with missing values):\")\n",
    "print(score_dataset(reduced_X_train, reduced_X_valid, y_train, y_valid))"
   ]
  },
  {
   "cell_type": "markdown",
   "id": "019dce4f",
   "metadata": {
    "papermill": {
     "duration": 0.009159,
     "end_time": "2024-04-09T11:14:43.447229",
     "exception": false,
     "start_time": "2024-04-09T11:14:43.438070",
     "status": "completed"
    },
    "tags": []
   },
   "source": [
    "# Step 3: Imputation\n",
    "\n",
    "### Part A\n",
    "\n",
    "Use the next code cell to impute missing values with the mean value along each column.  Set the preprocessed DataFrames to `imputed_X_train` and `imputed_X_valid`.  Make sure that the column names match those in `X_train` and `X_valid`."
   ]
  },
  {
   "cell_type": "code",
   "execution_count": 13,
   "id": "d7dc16bc",
   "metadata": {
    "execution": {
     "iopub.execute_input": "2024-04-09T11:14:43.467800Z",
     "iopub.status.busy": "2024-04-09T11:14:43.467438Z",
     "iopub.status.idle": "2024-04-09T11:14:43.497646Z",
     "shell.execute_reply": "2024-04-09T11:14:43.496952Z"
    },
    "papermill": {
     "duration": 0.042753,
     "end_time": "2024-04-09T11:14:43.499430",
     "exception": false,
     "start_time": "2024-04-09T11:14:43.456677",
     "status": "completed"
    },
    "tags": []
   },
   "outputs": [
    {
     "data": {
      "application/javascript": [
       "parent.postMessage({\"jupyterEvent\": \"custom.exercise_interaction\", \"data\": {\"outcomeType\": 1, \"valueTowardsCompletion\": 1.0, \"interactionType\": 1, \"questionType\": 2, \"questionId\": \"3.1_ImputeCode\", \"learnToolsVersion\": \"0.3.4\", \"failureMessage\": \"\", \"exceptionClass\": \"\", \"trace\": \"\"}}, \"*\")"
      ],
      "text/plain": [
       "<IPython.core.display.Javascript object>"
      ]
     },
     "metadata": {},
     "output_type": "display_data"
    },
    {
     "data": {
      "text/markdown": [
       "<span style=\"color:#33cc33\">Correct</span>"
      ],
      "text/plain": [
       "Correct"
      ]
     },
     "metadata": {},
     "output_type": "display_data"
    }
   ],
   "source": [
    "from sklearn.impute import SimpleImputer\n",
    "\n",
    "# Fill in the lines below: imputation\n",
    "my_imputer = SimpleImputer() # Your code here\n",
    "imputed_X_train = pd.DataFrame(my_imputer.fit_transform(X_train))\n",
    "imputed_X_valid = pd.DataFrame(my_imputer.transform(X_valid))\n",
    "\n",
    "# Fill in the lines below: imputation removed column names; put them back\n",
    "imputed_X_train.columns = X_train.columns\n",
    "imputed_X_valid.columns = X_valid.columns\n",
    "\n",
    "# Check your answers\n",
    "step_3.a.check()"
   ]
  },
  {
   "cell_type": "code",
   "execution_count": 14,
   "id": "16aacac1",
   "metadata": {
    "execution": {
     "iopub.execute_input": "2024-04-09T11:14:43.520454Z",
     "iopub.status.busy": "2024-04-09T11:14:43.520027Z",
     "iopub.status.idle": "2024-04-09T11:14:43.524535Z",
     "shell.execute_reply": "2024-04-09T11:14:43.523528Z"
    },
    "papermill": {
     "duration": 0.01757,
     "end_time": "2024-04-09T11:14:43.526700",
     "exception": false,
     "start_time": "2024-04-09T11:14:43.509130",
     "status": "completed"
    },
    "tags": []
   },
   "outputs": [],
   "source": [
    "# Lines below will give you a hint or solution code\n",
    "#step_3.a.hint()\n",
    "#step_3.a.solution()"
   ]
  },
  {
   "cell_type": "markdown",
   "id": "87832dc5",
   "metadata": {
    "papermill": {
     "duration": 0.010023,
     "end_time": "2024-04-09T11:14:43.546648",
     "exception": false,
     "start_time": "2024-04-09T11:14:43.536625",
     "status": "completed"
    },
    "tags": []
   },
   "source": [
    "Run the next code cell without changes to obtain the MAE for this approach."
   ]
  },
  {
   "cell_type": "code",
   "execution_count": 15,
   "id": "2c066105",
   "metadata": {
    "execution": {
     "iopub.execute_input": "2024-04-09T11:14:43.568765Z",
     "iopub.status.busy": "2024-04-09T11:14:43.568363Z",
     "iopub.status.idle": "2024-04-09T11:14:44.926299Z",
     "shell.execute_reply": "2024-04-09T11:14:44.925073Z"
    },
    "papermill": {
     "duration": 1.372259,
     "end_time": "2024-04-09T11:14:44.929082",
     "exception": false,
     "start_time": "2024-04-09T11:14:43.556823",
     "status": "completed"
    },
    "tags": []
   },
   "outputs": [
    {
     "name": "stdout",
     "output_type": "stream",
     "text": [
      "MAE (Imputation):\n",
      "18062.894611872147\n"
     ]
    }
   ],
   "source": [
    "print(\"MAE (Imputation):\")\n",
    "print(score_dataset(imputed_X_train, imputed_X_valid, y_train, y_valid))"
   ]
  },
  {
   "cell_type": "markdown",
   "id": "6f5d8e63",
   "metadata": {
    "papermill": {
     "duration": 0.009533,
     "end_time": "2024-04-09T11:14:44.949696",
     "exception": false,
     "start_time": "2024-04-09T11:14:44.940163",
     "status": "completed"
    },
    "tags": []
   },
   "source": [
    "### Part B\n",
    "\n",
    "Compare the MAE from each approach.  Does anything surprise you about the results?  Why do you think one approach performed better than the other?"
   ]
  },
  {
   "cell_type": "code",
   "execution_count": 16,
   "id": "6ba6ba1d",
   "metadata": {
    "execution": {
     "iopub.execute_input": "2024-04-09T11:14:44.971908Z",
     "iopub.status.busy": "2024-04-09T11:14:44.970790Z",
     "iopub.status.idle": "2024-04-09T11:14:44.978571Z",
     "shell.execute_reply": "2024-04-09T11:14:44.977529Z"
    },
    "papermill": {
     "duration": 0.021049,
     "end_time": "2024-04-09T11:14:44.980693",
     "exception": false,
     "start_time": "2024-04-09T11:14:44.959644",
     "status": "completed"
    },
    "tags": []
   },
   "outputs": [
    {
     "data": {
      "application/javascript": [
       "parent.postMessage({\"jupyterEvent\": \"custom.exercise_interaction\", \"data\": {\"outcomeType\": 1, \"valueTowardsCompletion\": 1.0, \"interactionType\": 1, \"questionType\": 4, \"questionId\": \"3.2_ImputeThought\", \"learnToolsVersion\": \"0.3.4\", \"failureMessage\": \"\", \"exceptionClass\": \"\", \"trace\": \"\"}}, \"*\")"
      ],
      "text/plain": [
       "<IPython.core.display.Javascript object>"
      ]
     },
     "metadata": {},
     "output_type": "display_data"
    },
    {
     "data": {
      "text/markdown": [
       "<span style=\"color:#33cc33\">Correct:</span> \n",
       "\n",
       "Given that thre are so few missing values in the dataset, we'd expect imputation to perform better than dropping columns entirely.  However, we see that dropping columns performs slightly better!  While this can probably partially be attributed to noise in the dataset, another potential explanation is that the imputation method is not a great match to this dataset.  That is, maybe instead of filling in the mean value, it makes more sense to set every missing value to a value of 0, to fill in the most frequently encountered value, or to use some other method.  For instance, consider the `GarageYrBlt` column (which indicates the year that the garage was built).  It's likely that in some cases, a missing value could indicate a house that does not have a garage.  Does it make more sense to fill in the median value along each column in this case?  Or could we get better results by filling in the minimum value along each column?  It's not quite clear what's best in this case, but perhaps we can rule out some options immediately - for instance, setting missing values in this column to 0 is likely to yield horrible results!"
      ],
      "text/plain": [
       "Correct: \n",
       "\n",
       "Given that thre are so few missing values in the dataset, we'd expect imputation to perform better than dropping columns entirely.  However, we see that dropping columns performs slightly better!  While this can probably partially be attributed to noise in the dataset, another potential explanation is that the imputation method is not a great match to this dataset.  That is, maybe instead of filling in the mean value, it makes more sense to set every missing value to a value of 0, to fill in the most frequently encountered value, or to use some other method.  For instance, consider the `GarageYrBlt` column (which indicates the year that the garage was built).  It's likely that in some cases, a missing value could indicate a house that does not have a garage.  Does it make more sense to fill in the median value along each column in this case?  Or could we get better results by filling in the minimum value along each column?  It's not quite clear what's best in this case, but perhaps we can rule out some options immediately - for instance, setting missing values in this column to 0 is likely to yield horrible results!"
      ]
     },
     "metadata": {},
     "output_type": "display_data"
    }
   ],
   "source": [
    "# Check your answer (Run this code cell to receive credit!)\n",
    "step_3.b.check()"
   ]
  },
  {
   "cell_type": "code",
   "execution_count": 17,
   "id": "00845764",
   "metadata": {
    "execution": {
     "iopub.execute_input": "2024-04-09T11:14:45.003689Z",
     "iopub.status.busy": "2024-04-09T11:14:45.003285Z",
     "iopub.status.idle": "2024-04-09T11:14:45.007530Z",
     "shell.execute_reply": "2024-04-09T11:14:45.006451Z"
    },
    "papermill": {
     "duration": 0.018651,
     "end_time": "2024-04-09T11:14:45.009753",
     "exception": false,
     "start_time": "2024-04-09T11:14:44.991102",
     "status": "completed"
    },
    "tags": []
   },
   "outputs": [],
   "source": [
    "#step_3.b.hint()"
   ]
  },
  {
   "cell_type": "markdown",
   "id": "3fb75ec6",
   "metadata": {
    "papermill": {
     "duration": 0.009921,
     "end_time": "2024-04-09T11:14:45.030139",
     "exception": false,
     "start_time": "2024-04-09T11:14:45.020218",
     "status": "completed"
    },
    "tags": []
   },
   "source": [
    "# Step 4: Generate test predictions\n",
    "\n",
    "In this final step, you'll use any approach of your choosing to deal with missing values.  Once you've preprocessed the training and validation features, you'll train and evaluate a random forest model.  Then, you'll preprocess the test data before generating predictions that can be submitted to the competition!\n",
    "\n",
    "### Part A\n",
    "\n",
    "Use the next code cell to preprocess the training and validation data.  Set the preprocessed DataFrames to `final_X_train` and `final_X_valid`.  **You can use any approach of your choosing here!**  in order for this step to be marked as correct, you need only ensure:\n",
    "- the preprocessed DataFrames have the same number of columns,\n",
    "- the preprocessed DataFrames have no missing values, \n",
    "- `final_X_train` and `y_train` have the same number of rows, and\n",
    "- `final_X_valid` and `y_valid` have the same number of rows."
   ]
  },
  {
   "cell_type": "code",
   "execution_count": 18,
   "id": "60c84aea",
   "metadata": {
    "execution": {
     "iopub.execute_input": "2024-04-09T11:14:45.052291Z",
     "iopub.status.busy": "2024-04-09T11:14:45.051668Z",
     "iopub.status.idle": "2024-04-09T11:14:45.075108Z",
     "shell.execute_reply": "2024-04-09T11:14:45.074320Z"
    },
    "papermill": {
     "duration": 0.03673,
     "end_time": "2024-04-09T11:14:45.077075",
     "exception": false,
     "start_time": "2024-04-09T11:14:45.040345",
     "status": "completed"
    },
    "tags": []
   },
   "outputs": [
    {
     "data": {
      "application/javascript": [
       "parent.postMessage({\"jupyterEvent\": \"custom.exercise_interaction\", \"data\": {\"outcomeType\": 1, \"valueTowardsCompletion\": 1.0, \"interactionType\": 1, \"questionType\": 2, \"questionId\": \"4.1_PredsCodeA\", \"learnToolsVersion\": \"0.3.4\", \"failureMessage\": \"\", \"exceptionClass\": \"\", \"trace\": \"\"}}, \"*\")"
      ],
      "text/plain": [
       "<IPython.core.display.Javascript object>"
      ]
     },
     "metadata": {},
     "output_type": "display_data"
    },
    {
     "data": {
      "text/markdown": [
       "<span style=\"color:#33cc33\">Correct</span>"
      ],
      "text/plain": [
       "Correct"
      ]
     },
     "metadata": {},
     "output_type": "display_data"
    }
   ],
   "source": [
    "# Preprocessed training and validation features\n",
    "my_imputer = SimpleImputer()\n",
    "final_X_train = pd.DataFrame(my_imputer.fit_transform(X_train))\n",
    "final_X_valid = pd.DataFrame(my_imputer.transform(X_valid))\n",
    "\n",
    "imputed_X_train.columns = X_train.columns\n",
    "imputed_X_valid.columns = X_valid.columns\n",
    "\n",
    "# Check your answers\n",
    "step_4.a.check()"
   ]
  },
  {
   "cell_type": "code",
   "execution_count": 19,
   "id": "92f60c61",
   "metadata": {
    "execution": {
     "iopub.execute_input": "2024-04-09T11:14:45.100214Z",
     "iopub.status.busy": "2024-04-09T11:14:45.099288Z",
     "iopub.status.idle": "2024-04-09T11:14:45.103088Z",
     "shell.execute_reply": "2024-04-09T11:14:45.102354Z"
    },
    "papermill": {
     "duration": 0.017661,
     "end_time": "2024-04-09T11:14:45.105232",
     "exception": false,
     "start_time": "2024-04-09T11:14:45.087571",
     "status": "completed"
    },
    "tags": []
   },
   "outputs": [],
   "source": [
    "# Lines below will give you a hint or solution code\n",
    "#step_4.a.hint()\n",
    "#step_4.a.solution()"
   ]
  },
  {
   "cell_type": "markdown",
   "id": "ba957054",
   "metadata": {
    "papermill": {
     "duration": 0.010464,
     "end_time": "2024-04-09T11:14:45.126741",
     "exception": false,
     "start_time": "2024-04-09T11:14:45.116277",
     "status": "completed"
    },
    "tags": []
   },
   "source": [
    "Run the next code cell to train and evaluate a random forest model.  (*Note that we don't use the `score_dataset()` function above, because we will soon use the trained model to generate test predictions!*)"
   ]
  },
  {
   "cell_type": "code",
   "execution_count": 20,
   "id": "95f3b699",
   "metadata": {
    "execution": {
     "iopub.execute_input": "2024-04-09T11:14:45.151975Z",
     "iopub.status.busy": "2024-04-09T11:14:45.151349Z",
     "iopub.status.idle": "2024-04-09T11:14:46.562399Z",
     "shell.execute_reply": "2024-04-09T11:14:46.561224Z"
    },
    "papermill": {
     "duration": 1.42675,
     "end_time": "2024-04-09T11:14:46.564677",
     "exception": false,
     "start_time": "2024-04-09T11:14:45.137927",
     "status": "completed"
    },
    "tags": []
   },
   "outputs": [
    {
     "name": "stdout",
     "output_type": "stream",
     "text": [
      "MAE (Your approach):\n",
      "18062.894611872147\n"
     ]
    }
   ],
   "source": [
    "# Define and fit model\n",
    "model = RandomForestRegressor(n_estimators=100, random_state=0)\n",
    "model.fit(final_X_train, y_train)\n",
    "\n",
    "# Get validation predictions and MAE\n",
    "preds_valid = model.predict(final_X_valid)\n",
    "print(\"MAE (Your approach):\")\n",
    "print(mean_absolute_error(y_valid, preds_valid))"
   ]
  },
  {
   "cell_type": "markdown",
   "id": "1e55cd9f",
   "metadata": {
    "papermill": {
     "duration": 0.010628,
     "end_time": "2024-04-09T11:14:46.590184",
     "exception": false,
     "start_time": "2024-04-09T11:14:46.579556",
     "status": "completed"
    },
    "tags": []
   },
   "source": [
    "### Part B\n",
    "\n",
    "Use the next code cell to preprocess your test data.  Make sure that you use a method that agrees with how you preprocessed the training and validation data, and set the preprocessed test features to `final_X_test`.\n",
    "\n",
    "Then, use the preprocessed test features and the trained model to generate test predictions in `preds_test`.\n",
    "\n",
    "In order for this step to be marked correct, you need only ensure:\n",
    "- the preprocessed test DataFrame has no missing values, and\n",
    "- `final_X_test` has the same number of rows as `X_test`."
   ]
  },
  {
   "cell_type": "code",
   "execution_count": 21,
   "id": "7b7cc15b",
   "metadata": {
    "execution": {
     "iopub.execute_input": "2024-04-09T11:14:46.615967Z",
     "iopub.status.busy": "2024-04-09T11:14:46.615281Z",
     "iopub.status.idle": "2024-04-09T11:14:46.656519Z",
     "shell.execute_reply": "2024-04-09T11:14:46.655337Z"
    },
    "papermill": {
     "duration": 0.057923,
     "end_time": "2024-04-09T11:14:46.658753",
     "exception": false,
     "start_time": "2024-04-09T11:14:46.600830",
     "status": "completed"
    },
    "tags": []
   },
   "outputs": [
    {
     "data": {
      "application/javascript": [
       "parent.postMessage({\"jupyterEvent\": \"custom.exercise_interaction\", \"data\": {\"outcomeType\": 1, \"valueTowardsCompletion\": 1.0, \"interactionType\": 1, \"questionType\": 2, \"questionId\": \"4.2_PredsCodeB\", \"learnToolsVersion\": \"0.3.4\", \"failureMessage\": \"\", \"exceptionClass\": \"\", \"trace\": \"\"}}, \"*\")"
      ],
      "text/plain": [
       "<IPython.core.display.Javascript object>"
      ]
     },
     "metadata": {},
     "output_type": "display_data"
    },
    {
     "data": {
      "text/markdown": [
       "<span style=\"color:#33cc33\">Correct</span>"
      ],
      "text/plain": [
       "Correct"
      ]
     },
     "metadata": {},
     "output_type": "display_data"
    }
   ],
   "source": [
    "# Fill in the line below: preprocess test data\n",
    "final_X_test = pd.DataFrame(my_imputer.transform(X_test))\n",
    "\n",
    "# Fill in the line below: get test predictions\n",
    "preds_test = model.predict(final_X_test)\n",
    "\n",
    "# Check your answers\n",
    "step_4.b.check()"
   ]
  },
  {
   "cell_type": "code",
   "execution_count": 22,
   "id": "f510112d",
   "metadata": {
    "execution": {
     "iopub.execute_input": "2024-04-09T11:14:46.682603Z",
     "iopub.status.busy": "2024-04-09T11:14:46.681957Z",
     "iopub.status.idle": "2024-04-09T11:14:46.685712Z",
     "shell.execute_reply": "2024-04-09T11:14:46.684991Z"
    },
    "papermill": {
     "duration": 0.017889,
     "end_time": "2024-04-09T11:14:46.687548",
     "exception": false,
     "start_time": "2024-04-09T11:14:46.669659",
     "status": "completed"
    },
    "tags": []
   },
   "outputs": [],
   "source": [
    "# Lines below will give you a hint or solution code\n",
    "#step_4.b.hint()\n",
    "#step_4.b.solution()"
   ]
  },
  {
   "cell_type": "markdown",
   "id": "6ceaeba9",
   "metadata": {
    "papermill": {
     "duration": 0.010647,
     "end_time": "2024-04-09T11:14:46.764326",
     "exception": false,
     "start_time": "2024-04-09T11:14:46.753679",
     "status": "completed"
    },
    "tags": []
   },
   "source": [
    "Run the next code cell without changes to save your results to a CSV file that can be submitted directly to the competition."
   ]
  },
  {
   "cell_type": "code",
   "execution_count": 23,
   "id": "f6e23cbe",
   "metadata": {
    "execution": {
     "iopub.execute_input": "2024-04-09T11:14:46.788258Z",
     "iopub.status.busy": "2024-04-09T11:14:46.787498Z",
     "iopub.status.idle": "2024-04-09T11:14:46.798934Z",
     "shell.execute_reply": "2024-04-09T11:14:46.798209Z"
    },
    "papermill": {
     "duration": 0.025435,
     "end_time": "2024-04-09T11:14:46.800951",
     "exception": false,
     "start_time": "2024-04-09T11:14:46.775516",
     "status": "completed"
    },
    "tags": []
   },
   "outputs": [],
   "source": [
    "# Save test predictions to file\n",
    "output = pd.DataFrame({'Id': X_test.index,\n",
    "                       'SalePrice': preds_test})\n",
    "output.to_csv('submission.csv', index=False)"
   ]
  },
  {
   "cell_type": "markdown",
   "id": "98b1fa76",
   "metadata": {
    "papermill": {
     "duration": 0.010784,
     "end_time": "2024-04-09T11:14:46.822893",
     "exception": false,
     "start_time": "2024-04-09T11:14:46.812109",
     "status": "completed"
    },
    "tags": []
   },
   "source": [
    "# Submit your results\n",
    "\n",
    "Once you have successfully completed Step 4, you're ready to submit your results to the leaderboard!  (_You also learned how to do this in the previous exercise.  If you need a reminder of how to do this, please use the instructions below._)  \n",
    "\n",
    "First, you'll need to join the competition if you haven't already.  So open a new window by clicking on [this link](https://www.kaggle.com/c/home-data-for-ml-course).  Then click on the **Join Competition** button.\n",
    "\n",
    "![join competition image](https://storage.googleapis.com/kaggle-media/learn/images/wLmFtH3.png)\n",
    "\n",
    "Next, follow the instructions below:\n",
    "1. Begin by clicking on the **Save Version** button in the top right corner of the window.  This will generate a pop-up window.  \n",
    "2. Ensure that the **Save and Run All** option is selected, and then click on the **Save** button.\n",
    "3. This generates a window in the bottom left corner of the notebook.  After it has finished running, click on the number to the right of the **Save Version** button.  This pulls up a list of versions on the right of the screen.  Click on the ellipsis **(...)** to the right of the most recent version, and select **Open in Viewer**.  This brings you into view mode of the same page. You will need to scroll down to get back to these instructions.\n",
    "4. Click on the **Data** tab near the top of the screen.  Then, click on the file you would like to submit, and click on the **Submit** button to submit your results to the leaderboard.\n",
    "\n",
    "You have now successfully submitted to the competition!\n",
    "\n",
    "If you want to keep working to improve your performance, select the **Edit** button in the top right of the screen. Then you can change your code and repeat the process. There's a lot of room to improve, and you will climb up the leaderboard as you work.\n",
    "\n",
    "\n",
    "# Keep going\n",
    "\n",
    "Move on to learn what **[categorical variables](https://www.kaggle.com/alexisbcook/categorical-variables)** are, along with how to incorporate them into your machine learning models.  Categorical variables are very common in real-world data, but you'll get an error if you try to plug them into your models without processing them first!"
   ]
  },
  {
   "cell_type": "markdown",
   "id": "e8bae588",
   "metadata": {
    "papermill": {
     "duration": 0.010595,
     "end_time": "2024-04-09T11:14:46.844414",
     "exception": false,
     "start_time": "2024-04-09T11:14:46.833819",
     "status": "completed"
    },
    "tags": []
   },
   "source": [
    "---\n",
    "\n",
    "\n",
    "\n",
    "\n",
    "*Have questions or comments? Visit the [course discussion forum](https://www.kaggle.com/learn/intermediate-machine-learning/discussion) to chat with other learners.*"
   ]
  }
 ],
 "metadata": {
  "kaggle": {
   "accelerator": "none",
   "dataSources": [
    {
     "databundleVersionId": 111096,
     "sourceId": 10211,
     "sourceType": "competition"
    }
   ],
   "isGpuEnabled": false,
   "isInternetEnabled": false,
   "language": "python",
   "sourceType": "notebook"
  },
  "kernelspec": {
   "display_name": "Python 3",
   "language": "python",
   "name": "python3"
  },
  "language_info": {
   "codemirror_mode": {
    "name": "ipython",
    "version": 3
   },
   "file_extension": ".py",
   "mimetype": "text/x-python",
   "name": "python",
   "nbconvert_exporter": "python",
   "pygments_lexer": "ipython3",
   "version": "3.10.13"
  },
  "papermill": {
   "default_parameters": {},
   "duration": 11.056402,
   "end_time": "2024-04-09T11:14:47.475491",
   "environment_variables": {},
   "exception": null,
   "input_path": "__notebook__.ipynb",
   "output_path": "__notebook__.ipynb",
   "parameters": {},
   "start_time": "2024-04-09T11:14:36.419089",
   "version": "2.5.0"
  }
 },
 "nbformat": 4,
 "nbformat_minor": 5
}
