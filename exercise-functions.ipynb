{
 "cells": [
  {
   "cell_type": "markdown",
   "id": "2d6be667",
   "metadata": {
    "papermill": {
     "duration": 0.008835,
     "end_time": "2024-04-06T16:41:49.614781",
     "exception": false,
     "start_time": "2024-04-06T16:41:49.605946",
     "status": "completed"
    },
    "tags": []
   },
   "source": [
    "**This notebook is an exercise in the [Intro to Programming](https://www.kaggle.com/learn/intro-to-programming) course.  You can reference the tutorial at [this link](https://www.kaggle.com/alexisbcook/functions).**\n",
    "\n",
    "---\n"
   ]
  },
  {
   "cell_type": "markdown",
   "id": "eae9079c",
   "metadata": {
    "papermill": {
     "duration": 0.007598,
     "end_time": "2024-04-06T16:41:49.630595",
     "exception": false,
     "start_time": "2024-04-06T16:41:49.622997",
     "status": "completed"
    },
    "tags": []
   },
   "source": [
    "In the tutorial, you learned about functions. In this exercise, you'll write some of your own!\n",
    "\n",
    "# Set up the notebook\n",
    "\n",
    "Run the next code cell without changes to set up the notebook."
   ]
  },
  {
   "cell_type": "code",
   "execution_count": 1,
   "id": "f4f85f9c",
   "metadata": {
    "execution": {
     "iopub.execute_input": "2024-04-06T16:41:49.648984Z",
     "iopub.status.busy": "2024-04-06T16:41:49.648243Z",
     "iopub.status.idle": "2024-04-06T16:41:50.772615Z",
     "shell.execute_reply": "2024-04-06T16:41:50.771076Z"
    },
    "papermill": {
     "duration": 1.13679,
     "end_time": "2024-04-06T16:41:50.775421",
     "exception": false,
     "start_time": "2024-04-06T16:41:49.638631",
     "status": "completed"
    },
    "tags": []
   },
   "outputs": [
    {
     "name": "stdout",
     "output_type": "stream",
     "text": [
      "Setup complete.\n"
     ]
    }
   ],
   "source": [
    "# Set up the exercise\n",
    "import math\n",
    "from learntools.core import binder\n",
    "binder.bind(globals())\n",
    "from learntools.intro_to_programming.ex2 import *\n",
    "print('Setup complete.')"
   ]
  },
  {
   "cell_type": "markdown",
   "id": "f87813c9",
   "metadata": {
    "papermill": {
     "duration": 0.007861,
     "end_time": "2024-04-06T16:41:50.791658",
     "exception": false,
     "start_time": "2024-04-06T16:41:50.783797",
     "status": "completed"
    },
    "tags": []
   },
   "source": [
    "# Question 1\n",
    "\n",
    "In the [House Prices - Advanced Regression Techniques competition](https://www.kaggle.com/c/house-prices-advanced-regression-techniques/overview), you need to use information like the number of bedrooms and bathrooms to predict the price of a house.  Inspired by this competition, you'll write your own function to do this.\n",
    "\n",
    "In the next code cell, create a function `get_expected_cost()` that has two arguments:\n",
    "- `beds` - number of bedrooms \n",
    "- `baths` - number of bathrooms\n",
    "\n",
    "It should return the expected cost of a house with that number of bedrooms and bathrooms.  Assume that:\n",
    "- the expected cost for a house with 0 bedrooms and 0 bathrooms is `80000`.  \n",
    "- each bedroom adds `30000` to the expected cost\n",
    "- each bathroom adds `10000` to the expected cost.\n",
    "\n",
    "For instance, \n",
    "- a house with 1 bedroom and 1 bathroom has an expected cost of `120000`, and \n",
    "- a house with 2 bedrooms and 1 bathroom has an expected cost of `150000`."
   ]
  },
  {
   "cell_type": "code",
   "execution_count": 2,
   "id": "a2286ce7",
   "metadata": {
    "execution": {
     "iopub.execute_input": "2024-04-06T16:41:50.811534Z",
     "iopub.status.busy": "2024-04-06T16:41:50.810668Z",
     "iopub.status.idle": "2024-04-06T16:41:50.822848Z",
     "shell.execute_reply": "2024-04-06T16:41:50.821711Z"
    },
    "papermill": {
     "duration": 0.02564,
     "end_time": "2024-04-06T16:41:50.825466",
     "exception": false,
     "start_time": "2024-04-06T16:41:50.799826",
     "status": "completed"
    },
    "tags": []
   },
   "outputs": [
    {
     "data": {
      "application/javascript": [
       "parent.postMessage({\"jupyterEvent\": \"custom.exercise_interaction\", \"data\": {\"outcomeType\": 1, \"valueTowardsCompletion\": 0.2, \"interactionType\": 1, \"questionType\": 2, \"questionId\": \"1_GetExpectedCost\", \"learnToolsVersion\": \"0.3.4\", \"failureMessage\": \"\", \"exceptionClass\": \"\", \"trace\": \"\"}}, \"*\")"
      ],
      "text/plain": [
       "<IPython.core.display.Javascript object>"
      ]
     },
     "metadata": {},
     "output_type": "display_data"
    },
    {
     "data": {
      "text/markdown": [
       "<span style=\"color:#33cc33\">Correct</span>"
      ],
      "text/plain": [
       "Correct"
      ]
     },
     "metadata": {},
     "output_type": "display_data"
    }
   ],
   "source": [
    "# TODO: Complete the function\n",
    "def get_expected_cost(beds, baths):\n",
    "    value = 80000\n",
    "    bedroom_price = 30000\n",
    "    bathroom_price = 10000\n",
    "    \n",
    "    value = value + int(beds) * bedroom_price + int(baths) * bathroom_price\n",
    "    \n",
    "    return value\n",
    "\n",
    "# Check your answer \n",
    "q1.check()"
   ]
  },
  {
   "cell_type": "code",
   "execution_count": 3,
   "id": "cf1ff064",
   "metadata": {
    "execution": {
     "iopub.execute_input": "2024-04-06T16:41:50.846320Z",
     "iopub.status.busy": "2024-04-06T16:41:50.845280Z",
     "iopub.status.idle": "2024-04-06T16:41:50.850132Z",
     "shell.execute_reply": "2024-04-06T16:41:50.849191Z"
    },
    "papermill": {
     "duration": 0.017662,
     "end_time": "2024-04-06T16:41:50.852557",
     "exception": false,
     "start_time": "2024-04-06T16:41:50.834895",
     "status": "completed"
    },
    "tags": []
   },
   "outputs": [],
   "source": [
    "# Uncomment to see a hint\n",
    "#q1.hint()\n",
    "\n",
    "# Uncomment to view the solution\n",
    "#q1.solution()"
   ]
  },
  {
   "cell_type": "markdown",
   "id": "c778d612",
   "metadata": {
    "papermill": {
     "duration": 0.008593,
     "end_time": "2024-04-06T16:41:50.870186",
     "exception": false,
     "start_time": "2024-04-06T16:41:50.861593",
     "status": "completed"
    },
    "tags": []
   },
   "source": [
    "# Question 2\n",
    "\n",
    "You are thinking about buying a home and want to get an idea of how much you will spend, based on the number of bedrooms and bathrooms.  You are trying to decide between four different options:\n",
    "- Option 1: house with two bedrooms and three bathrooms\n",
    "- Option 2: house with three bedrooms and two bathrooms\n",
    "- Option 3: house with three bedrooms and three bathrooms\n",
    "- Option 4: house with three bedrooms and four bathrooms\n",
    "\n",
    "Use the `get_expected_cost()` function you defined in question 1 to set `option_1`, `option_2`, `option_3`, and `option_4` to the expected cost of each option."
   ]
  },
  {
   "cell_type": "code",
   "execution_count": 4,
   "id": "756f9407",
   "metadata": {
    "execution": {
     "iopub.execute_input": "2024-04-06T16:41:50.890598Z",
     "iopub.status.busy": "2024-04-06T16:41:50.889338Z",
     "iopub.status.idle": "2024-04-06T16:41:50.902019Z",
     "shell.execute_reply": "2024-04-06T16:41:50.900807Z"
    },
    "papermill": {
     "duration": 0.026063,
     "end_time": "2024-04-06T16:41:50.904718",
     "exception": false,
     "start_time": "2024-04-06T16:41:50.878655",
     "status": "completed"
    },
    "tags": []
   },
   "outputs": [
    {
     "name": "stdout",
     "output_type": "stream",
     "text": [
      "170000\n",
      "190000\n",
      "200000\n",
      "210000\n"
     ]
    },
    {
     "data": {
      "application/javascript": [
       "parent.postMessage({\"jupyterEvent\": \"custom.exercise_interaction\", \"data\": {\"outcomeType\": 1, \"valueTowardsCompletion\": 0.2, \"interactionType\": 1, \"questionType\": 1, \"questionId\": \"2_RunGetExpectedCost\", \"learnToolsVersion\": \"0.3.4\", \"failureMessage\": \"\", \"exceptionClass\": \"\", \"trace\": \"\"}}, \"*\")"
      ],
      "text/plain": [
       "<IPython.core.display.Javascript object>"
      ]
     },
     "metadata": {},
     "output_type": "display_data"
    },
    {
     "data": {
      "text/markdown": [
       "<span style=\"color:#33cc33\">Correct</span>"
      ],
      "text/plain": [
       "Correct"
      ]
     },
     "metadata": {},
     "output_type": "display_data"
    }
   ],
   "source": [
    "# TODO: Use the get_expected_cost function to fill in each value\n",
    "option_one = get_expected_cost(2, 3)\n",
    "option_two = get_expected_cost(3, 2)\n",
    "option_three = get_expected_cost(3, 3)\n",
    "option_four = get_expected_cost(3, 4)\n",
    "\n",
    "print(option_one)\n",
    "print(option_two)\n",
    "print(option_three)\n",
    "print(option_four)\n",
    "\n",
    "# Check your answer\n",
    "q2.check()"
   ]
  },
  {
   "cell_type": "code",
   "execution_count": 5,
   "id": "b8ddafb0",
   "metadata": {
    "execution": {
     "iopub.execute_input": "2024-04-06T16:41:50.925662Z",
     "iopub.status.busy": "2024-04-06T16:41:50.924932Z",
     "iopub.status.idle": "2024-04-06T16:41:50.929535Z",
     "shell.execute_reply": "2024-04-06T16:41:50.928664Z"
    },
    "papermill": {
     "duration": 0.017844,
     "end_time": "2024-04-06T16:41:50.932019",
     "exception": false,
     "start_time": "2024-04-06T16:41:50.914175",
     "status": "completed"
    },
    "tags": []
   },
   "outputs": [],
   "source": [
    "# Uncomment to see a hint\n",
    "#q2.hint()\n",
    "\n",
    "# Uncomment to view the solution\n",
    "#q2.solution()"
   ]
  },
  {
   "cell_type": "markdown",
   "id": "2be1b80f",
   "metadata": {
    "papermill": {
     "duration": 0.008631,
     "end_time": "2024-04-06T16:41:50.949782",
     "exception": false,
     "start_time": "2024-04-06T16:41:50.941151",
     "status": "completed"
    },
    "tags": []
   },
   "source": [
    "# Question 3\n",
    "\n",
    "You're a home decorator, and you'd like to use Python to streamline some of your work.  Specifically, you're creating a tool that you intend to use to calculate the cost of painting a room.\n",
    "\n",
    "As a first step, define a function `get_cost()` that takes as input:\n",
    "- `sqft_walls` = total square feet of walls to be painted\n",
    "- `sqft_ceiling` = square feet of ceiling to be painted\n",
    "- `sqft_per_gallon` = number of square feet that you can cover with one gallon of paint\n",
    "- `cost_per_gallon` = cost (in dollars) of one gallon of paint\n",
    "\n",
    "It should return the cost (in dollars) of putting one coat of paint on all walls and the ceiling.  Assume you can buy the exact amount of paint that you need, so you can buy partial gallons (e.g., if you need 7.523 gallons, you can buy that exact amount, instead of needing to buy 8 gallons and waste some paint).  Do not round your answer."
   ]
  },
  {
   "cell_type": "code",
   "execution_count": 6,
   "id": "b659439f",
   "metadata": {
    "execution": {
     "iopub.execute_input": "2024-04-06T16:41:50.969794Z",
     "iopub.status.busy": "2024-04-06T16:41:50.969066Z",
     "iopub.status.idle": "2024-04-06T16:41:50.979073Z",
     "shell.execute_reply": "2024-04-06T16:41:50.977916Z"
    },
    "papermill": {
     "duration": 0.022665,
     "end_time": "2024-04-06T16:41:50.981286",
     "exception": false,
     "start_time": "2024-04-06T16:41:50.958621",
     "status": "completed"
    },
    "tags": []
   },
   "outputs": [
    {
     "data": {
      "application/javascript": [
       "parent.postMessage({\"jupyterEvent\": \"custom.exercise_interaction\", \"data\": {\"outcomeType\": 1, \"valueTowardsCompletion\": 0.2, \"interactionType\": 1, \"questionType\": 2, \"questionId\": \"3_GetCostPaint\", \"learnToolsVersion\": \"0.3.4\", \"failureMessage\": \"\", \"exceptionClass\": \"\", \"trace\": \"\"}}, \"*\")"
      ],
      "text/plain": [
       "<IPython.core.display.Javascript object>"
      ]
     },
     "metadata": {},
     "output_type": "display_data"
    },
    {
     "data": {
      "text/markdown": [
       "<span style=\"color:#33cc33\">Correct</span>"
      ],
      "text/plain": [
       "Correct"
      ]
     },
     "metadata": {},
     "output_type": "display_data"
    }
   ],
   "source": [
    "# TODO: Finish defining the function\n",
    "def get_cost(sqft_walls, sqft_ceiling, sqft_per_gallon, cost_per_gallon):\n",
    "    cost = ((sqft_walls + sqft_ceiling) / sqft_per_gallon) * cost_per_gallon\n",
    "    return cost\n",
    "\n",
    "# Check your answer\n",
    "q3.check()"
   ]
  },
  {
   "cell_type": "code",
   "execution_count": 7,
   "id": "dcc2a876",
   "metadata": {
    "execution": {
     "iopub.execute_input": "2024-04-06T16:41:51.003632Z",
     "iopub.status.busy": "2024-04-06T16:41:51.002865Z",
     "iopub.status.idle": "2024-04-06T16:41:51.007642Z",
     "shell.execute_reply": "2024-04-06T16:41:51.006760Z"
    },
    "papermill": {
     "duration": 0.018378,
     "end_time": "2024-04-06T16:41:51.009976",
     "exception": false,
     "start_time": "2024-04-06T16:41:50.991598",
     "status": "completed"
    },
    "tags": []
   },
   "outputs": [],
   "source": [
    "# Uncomment to see a hint\n",
    "#q3.hint()\n",
    "\n",
    "# Uncomment to view the solution\n",
    "#q3.solution()"
   ]
  },
  {
   "cell_type": "markdown",
   "id": "62d00a12",
   "metadata": {
    "papermill": {
     "duration": 0.008997,
     "end_time": "2024-04-06T16:41:51.028349",
     "exception": false,
     "start_time": "2024-04-06T16:41:51.019352",
     "status": "completed"
    },
    "tags": []
   },
   "source": [
    "# Question 4\n",
    "\n",
    "Use the `get_cost()` function you defined in Question 3 to calculate the cost of applying one coat of paint to a room with:\n",
    "- 432 square feet of walls, and\n",
    "- 144 square feet of ceiling.\n",
    "\n",
    "Assume that one gallon of paint covers 400 square feet and costs $15.  As in Question 3, assume you can buy partial gallons of paint.  Do not round your answer."
   ]
  },
  {
   "cell_type": "code",
   "execution_count": 8,
   "id": "4d9a5c84",
   "metadata": {
    "execution": {
     "iopub.execute_input": "2024-04-06T16:41:51.050466Z",
     "iopub.status.busy": "2024-04-06T16:41:51.049209Z",
     "iopub.status.idle": "2024-04-06T16:41:51.059893Z",
     "shell.execute_reply": "2024-04-06T16:41:51.058392Z"
    },
    "papermill": {
     "duration": 0.02472,
     "end_time": "2024-04-06T16:41:51.062478",
     "exception": false,
     "start_time": "2024-04-06T16:41:51.037758",
     "status": "completed"
    },
    "tags": []
   },
   "outputs": [
    {
     "data": {
      "application/javascript": [
       "parent.postMessage({\"jupyterEvent\": \"custom.exercise_interaction\", \"data\": {\"outcomeType\": 1, \"valueTowardsCompletion\": 0.2, \"interactionType\": 1, \"questionType\": 1, \"questionId\": \"4_GetCostPaintExample\", \"learnToolsVersion\": \"0.3.4\", \"failureMessage\": \"\", \"exceptionClass\": \"\", \"trace\": \"\"}}, \"*\")"
      ],
      "text/plain": [
       "<IPython.core.display.Javascript object>"
      ]
     },
     "metadata": {},
     "output_type": "display_data"
    },
    {
     "data": {
      "text/markdown": [
       "<span style=\"color:#33cc33\">Correct</span>"
      ],
      "text/plain": [
       "Correct"
      ]
     },
     "metadata": {},
     "output_type": "display_data"
    }
   ],
   "source": [
    "# TODO: Set the project_cost variable to the cost of the project\n",
    "project_cost = get_cost(432, 144, 400, 15)\n",
    "\n",
    "# Check your answer\n",
    "q4.check()"
   ]
  },
  {
   "cell_type": "code",
   "execution_count": 9,
   "id": "ba88ea58",
   "metadata": {
    "execution": {
     "iopub.execute_input": "2024-04-06T16:41:51.085330Z",
     "iopub.status.busy": "2024-04-06T16:41:51.084477Z",
     "iopub.status.idle": "2024-04-06T16:41:51.090059Z",
     "shell.execute_reply": "2024-04-06T16:41:51.089025Z"
    },
    "papermill": {
     "duration": 0.019578,
     "end_time": "2024-04-06T16:41:51.092653",
     "exception": false,
     "start_time": "2024-04-06T16:41:51.073075",
     "status": "completed"
    },
    "tags": []
   },
   "outputs": [],
   "source": [
    "# Uncomment to see a hint\n",
    "#q4.hint()\n",
    "\n",
    "# Uncomment to view the solution\n",
    "#q4.solution()"
   ]
  },
  {
   "cell_type": "markdown",
   "id": "3b6b7647",
   "metadata": {
    "papermill": {
     "duration": 0.010384,
     "end_time": "2024-04-06T16:41:51.113200",
     "exception": false,
     "start_time": "2024-04-06T16:41:51.102816",
     "status": "completed"
    },
    "tags": []
   },
   "source": [
    "# 🌶️ Question 5\n",
    "\n",
    "Now say you can no longer buy fractions of a gallon.  (For instance, if you need 4.3 gallons to do a project, then you have to buy 5 gallons of paint.)\n",
    "\n",
    "With this new scenario, you will create a new function `get_actual_cost` that uses the same inputs and calculates the cost of your project.\n",
    "\n",
    "One function that you'll need to use to do this is `math.ceil()`.  We demonstrate usage of this function in the code cell below.  It takes as a number as input and rounds the number up to the nearest integer.  \n",
    "\n",
    "Run the next code cell to test this function for yourself.  Feel free to change the value of `test_value` and make sure `math.ceil()` returns the number you expect."
   ]
  },
  {
   "cell_type": "code",
   "execution_count": 10,
   "id": "0525df1c",
   "metadata": {
    "execution": {
     "iopub.execute_input": "2024-04-06T16:41:51.135830Z",
     "iopub.status.busy": "2024-04-06T16:41:51.135093Z",
     "iopub.status.idle": "2024-04-06T16:41:51.140995Z",
     "shell.execute_reply": "2024-04-06T16:41:51.139885Z"
    },
    "papermill": {
     "duration": 0.019701,
     "end_time": "2024-04-06T16:41:51.143437",
     "exception": false,
     "start_time": "2024-04-06T16:41:51.123736",
     "status": "completed"
    },
    "tags": []
   },
   "outputs": [
    {
     "name": "stdout",
     "output_type": "stream",
     "text": [
      "3\n"
     ]
    }
   ],
   "source": [
    "test_value = 2.17\n",
    "\n",
    "rounded_value = math.ceil(test_value)\n",
    "print(rounded_value)"
   ]
  },
  {
   "cell_type": "markdown",
   "id": "2f1da78e",
   "metadata": {
    "papermill": {
     "duration": 0.010069,
     "end_time": "2024-04-06T16:41:51.163620",
     "exception": false,
     "start_time": "2024-04-06T16:41:51.153551",
     "status": "completed"
    },
    "tags": []
   },
   "source": [
    "Use the next code cell to define the function `get_actual_cost()`.  You'll need to use the `math.ceil()` function to do this.\n",
    "\n",
    "When answering this question, note that it's completely valid to define a function that makes use of another function.  For instance, we can define a function `round_up_and_divide_by_three` that makes use of the `math.ceil` function:\n",
    "```\n",
    "def round_up_and_divide_by_three(num):\n",
    "    new_value = math.ceil(num)\n",
    "    final_value = new_value / 3\n",
    "    return final_value\n",
    "```"
   ]
  },
  {
   "cell_type": "code",
   "execution_count": 11,
   "id": "fb2cc966",
   "metadata": {
    "execution": {
     "iopub.execute_input": "2024-04-06T16:41:51.186471Z",
     "iopub.status.busy": "2024-04-06T16:41:51.185247Z",
     "iopub.status.idle": "2024-04-06T16:41:51.196950Z",
     "shell.execute_reply": "2024-04-06T16:41:51.195436Z"
    },
    "papermill": {
     "duration": 0.025973,
     "end_time": "2024-04-06T16:41:51.199863",
     "exception": false,
     "start_time": "2024-04-06T16:41:51.173890",
     "status": "completed"
    },
    "tags": []
   },
   "outputs": [
    {
     "data": {
      "application/javascript": [
       "parent.postMessage({\"jupyterEvent\": \"custom.exercise_interaction\", \"data\": {\"outcomeType\": 1, \"valueTowardsCompletion\": 0.2, \"interactionType\": 1, \"questionType\": 2, \"questionId\": \"5_NoMoreFractions\", \"learnToolsVersion\": \"0.3.4\", \"failureMessage\": \"\", \"exceptionClass\": \"\", \"trace\": \"\"}}, \"*\")"
      ],
      "text/plain": [
       "<IPython.core.display.Javascript object>"
      ]
     },
     "metadata": {},
     "output_type": "display_data"
    },
    {
     "data": {
      "text/markdown": [
       "<span style=\"color:#33cc33\">Correct</span>"
      ],
      "text/plain": [
       "Correct"
      ]
     },
     "metadata": {},
     "output_type": "display_data"
    }
   ],
   "source": [
    "def get_actual_cost(sqft_walls, sqft_ceiling, sqft_per_gallon, cost_per_gallon):            #432, 144, 400, 15\n",
    "    \n",
    "    total_sqft = sqft_walls + sqft_ceiling           # 432 + 144 = 576\n",
    "    gallons_needed = total_sqft / sqft_per_gallon    # 576 / 400 = 1.44\n",
    "    gallons_to_buy = math.ceil(gallons_needed)       # 1.44 = 2\n",
    "    total_cost = gallons_to_buy * cost_per_gallon    # 2 * 15 = 30\n",
    "    return total_cost\n",
    "\n",
    "# Check your answer\n",
    "q5.check()"
   ]
  },
  {
   "cell_type": "code",
   "execution_count": null,
   "id": "81d2a19c",
   "metadata": {
    "execution": {
     "iopub.execute_input": "2024-04-06T16:27:42.528994Z",
     "iopub.status.busy": "2024-04-06T16:27:42.528559Z",
     "iopub.status.idle": "2024-04-06T16:27:42.535474Z",
     "shell.execute_reply": "2024-04-06T16:27:42.534290Z",
     "shell.execute_reply.started": "2024-04-06T16:27:42.528964Z"
    },
    "papermill": {
     "duration": 0.011295,
     "end_time": "2024-04-06T16:41:51.223099",
     "exception": false,
     "start_time": "2024-04-06T16:41:51.211804",
     "status": "completed"
    },
    "tags": []
   },
   "outputs": [],
   "source": []
  },
  {
   "cell_type": "code",
   "execution_count": 12,
   "id": "db4720b4",
   "metadata": {
    "execution": {
     "iopub.execute_input": "2024-04-06T16:41:51.246126Z",
     "iopub.status.busy": "2024-04-06T16:41:51.245713Z",
     "iopub.status.idle": "2024-04-06T16:41:51.250425Z",
     "shell.execute_reply": "2024-04-06T16:41:51.249100Z"
    },
    "papermill": {
     "duration": 0.019519,
     "end_time": "2024-04-06T16:41:51.252911",
     "exception": false,
     "start_time": "2024-04-06T16:41:51.233392",
     "status": "completed"
    },
    "tags": []
   },
   "outputs": [],
   "source": [
    "# Uncomment to see a hint\n",
    "#q5.hint()\n",
    "\n",
    "# Uncomment to view the solution\n",
    "#q5.solution()"
   ]
  },
  {
   "cell_type": "markdown",
   "id": "d56518eb",
   "metadata": {
    "papermill": {
     "duration": 0.010115,
     "end_time": "2024-04-06T16:41:51.273462",
     "exception": false,
     "start_time": "2024-04-06T16:41:51.263347",
     "status": "completed"
    },
    "tags": []
   },
   "source": [
    "Once your function is verified as correct, run the next code cell to calculate the updated cost of your project."
   ]
  },
  {
   "cell_type": "code",
   "execution_count": 13,
   "id": "952d5a67",
   "metadata": {
    "execution": {
     "iopub.execute_input": "2024-04-06T16:41:51.296945Z",
     "iopub.status.busy": "2024-04-06T16:41:51.295655Z",
     "iopub.status.idle": "2024-04-06T16:41:51.302931Z",
     "shell.execute_reply": "2024-04-06T16:41:51.301855Z"
    },
    "papermill": {
     "duration": 0.021582,
     "end_time": "2024-04-06T16:41:51.305413",
     "exception": false,
     "start_time": "2024-04-06T16:41:51.283831",
     "status": "completed"
    },
    "tags": []
   },
   "outputs": [
    {
     "data": {
      "text/plain": [
       "30"
      ]
     },
     "execution_count": 13,
     "metadata": {},
     "output_type": "execute_result"
    }
   ],
   "source": [
    "get_actual_cost(432, 144, 400, 15) "
   ]
  },
  {
   "cell_type": "markdown",
   "id": "190f596e",
   "metadata": {
    "papermill": {
     "duration": 0.010349,
     "end_time": "2024-04-06T16:41:51.326472",
     "exception": false,
     "start_time": "2024-04-06T16:41:51.316123",
     "status": "completed"
    },
    "tags": []
   },
   "source": [
    "Say you're working with a slightly larger room.  Run the next code cell to calculate the cost of the project."
   ]
  },
  {
   "cell_type": "code",
   "execution_count": 14,
   "id": "cbc607f6",
   "metadata": {
    "execution": {
     "iopub.execute_input": "2024-04-06T16:41:51.349450Z",
     "iopub.status.busy": "2024-04-06T16:41:51.348682Z",
     "iopub.status.idle": "2024-04-06T16:41:51.355428Z",
     "shell.execute_reply": "2024-04-06T16:41:51.354627Z"
    },
    "papermill": {
     "duration": 0.020662,
     "end_time": "2024-04-06T16:41:51.357606",
     "exception": false,
     "start_time": "2024-04-06T16:41:51.336944",
     "status": "completed"
    },
    "tags": []
   },
   "outputs": [
    {
     "data": {
      "text/plain": [
       "45"
      ]
     },
     "execution_count": 14,
     "metadata": {},
     "output_type": "execute_result"
    }
   ],
   "source": [
    "get_actual_cost(594, 288, 400, 15) "
   ]
  },
  {
   "cell_type": "markdown",
   "id": "a077ed53",
   "metadata": {
    "papermill": {
     "duration": 0.010118,
     "end_time": "2024-04-06T16:41:51.378376",
     "exception": false,
     "start_time": "2024-04-06T16:41:51.368258",
     "status": "completed"
    },
    "tags": []
   },
   "source": [
    "# Keep going\n",
    "\n",
    "Continue to learn about **[data types](https://www.kaggle.com/alexisbcook/data-types)**."
   ]
  },
  {
   "cell_type": "markdown",
   "id": "a586ee7b",
   "metadata": {
    "papermill": {
     "duration": 0.010221,
     "end_time": "2024-04-06T16:41:51.399104",
     "exception": false,
     "start_time": "2024-04-06T16:41:51.388883",
     "status": "completed"
    },
    "tags": []
   },
   "source": [
    "---\n",
    "\n",
    "\n",
    "\n",
    "\n",
    "*Have questions or comments? Visit the [course discussion forum](https://www.kaggle.com/learn/intro-to-programming/discussion) to chat with other learners.*"
   ]
  }
 ],
 "metadata": {
  "kaggle": {
   "accelerator": "none",
   "dataSources": [],
   "isGpuEnabled": false,
   "isInternetEnabled": false,
   "language": "python",
   "sourceType": "notebook"
  },
  "kernelspec": {
   "display_name": "Python 3",
   "language": "python",
   "name": "python3"
  },
  "language_info": {
   "codemirror_mode": {
    "name": "ipython",
    "version": 3
   },
   "file_extension": ".py",
   "mimetype": "text/x-python",
   "name": "python",
   "nbconvert_exporter": "python",
   "pygments_lexer": "ipython3",
   "version": "3.10.13"
  },
  "papermill": {
   "default_parameters": {},
   "duration": 6.118473,
   "end_time": "2024-04-06T16:41:51.931772",
   "environment_variables": {},
   "exception": null,
   "input_path": "__notebook__.ipynb",
   "output_path": "__notebook__.ipynb",
   "parameters": {},
   "start_time": "2024-04-06T16:41:45.813299",
   "version": "2.5.0"
  }
 },
 "nbformat": 4,
 "nbformat_minor": 5
}
