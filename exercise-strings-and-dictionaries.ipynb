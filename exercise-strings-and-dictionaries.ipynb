{
 "cells": [
  {
   "cell_type": "markdown",
   "id": "753ba978",
   "metadata": {
    "papermill": {
     "duration": 0.007437,
     "end_time": "2024-04-05T12:37:30.455826",
     "exception": false,
     "start_time": "2024-04-05T12:37:30.448389",
     "status": "completed"
    },
    "tags": []
   },
   "source": [
    "**This notebook is an exercise in the [Python](https://www.kaggle.com/learn/python) course.  You can reference the tutorial at [this link](https://www.kaggle.com/colinmorris/strings-and-dictionaries).**\n",
    "\n",
    "---\n"
   ]
  },
  {
   "cell_type": "markdown",
   "id": "fb844e5f",
   "metadata": {
    "papermill": {
     "duration": 0.006022,
     "end_time": "2024-04-05T12:37:30.468581",
     "exception": false,
     "start_time": "2024-04-05T12:37:30.462559",
     "status": "completed"
    },
    "tags": []
   },
   "source": [
    "You are almost done with the course. Nice job!\n",
    "\n",
    "We have a couple more interesting problems for you before you go. \n",
    "\n",
    "As always, run the setup code below before working on the questions."
   ]
  },
  {
   "cell_type": "code",
   "execution_count": 1,
   "id": "0d254717",
   "metadata": {
    "execution": {
     "iopub.execute_input": "2024-04-05T12:37:30.484162Z",
     "iopub.status.busy": "2024-04-05T12:37:30.483568Z",
     "iopub.status.idle": "2024-04-05T12:37:31.477647Z",
     "shell.execute_reply": "2024-04-05T12:37:31.476240Z"
    },
    "papermill": {
     "duration": 1.005767,
     "end_time": "2024-04-05T12:37:31.480764",
     "exception": false,
     "start_time": "2024-04-05T12:37:30.474997",
     "status": "completed"
    },
    "tags": []
   },
   "outputs": [
    {
     "name": "stdout",
     "output_type": "stream",
     "text": [
      "Setup complete.\n"
     ]
    }
   ],
   "source": [
    "from learntools.core import binder; binder.bind(globals())\n",
    "from learntools.python.ex6 import *\n",
    "print('Setup complete.')"
   ]
  },
  {
   "cell_type": "markdown",
   "id": "abcbc7c9",
   "metadata": {
    "papermill": {
     "duration": 0.006773,
     "end_time": "2024-04-05T12:37:31.494444",
     "exception": false,
     "start_time": "2024-04-05T12:37:31.487671",
     "status": "completed"
    },
    "tags": []
   },
   "source": [
    "Let's start with a string lightning round to warm up. What are the lengths of the strings below?\n",
    "\n",
    "For each of the five strings below, predict what `len()` would return when passed that string. Use the variable `length` to record your answer, then run the cell to check whether you were right.  \n",
    "\n",
    "# 0a."
   ]
  },
  {
   "cell_type": "code",
   "execution_count": 2,
   "id": "fdfa8267",
   "metadata": {
    "execution": {
     "iopub.execute_input": "2024-04-05T12:37:31.511521Z",
     "iopub.status.busy": "2024-04-05T12:37:31.510584Z",
     "iopub.status.idle": "2024-04-05T12:37:31.520153Z",
     "shell.execute_reply": "2024-04-05T12:37:31.518940Z"
    },
    "papermill": {
     "duration": 0.021547,
     "end_time": "2024-04-05T12:37:31.522954",
     "exception": false,
     "start_time": "2024-04-05T12:37:31.501407",
     "status": "completed"
    },
    "tags": []
   },
   "outputs": [
    {
     "data": {
      "application/javascript": [
       "parent.postMessage({\"jupyterEvent\": \"custom.exercise_interaction\", \"data\": {\"outcomeType\": 4, \"interactionType\": 1, \"questionType\": 1, \"questionId\": \"0.1_ZA\", \"learnToolsVersion\": \"0.3.4\", \"valueTowardsCompletion\": 0.0, \"failureMessage\": \"\", \"exceptionClass\": \"\", \"trace\": \"\"}}, \"*\")"
      ],
      "text/plain": [
       "<IPython.core.display.Javascript object>"
      ]
     },
     "metadata": {},
     "output_type": "display_data"
    },
    {
     "data": {
      "text/markdown": [
       "<span style=\"color:#ccaa33\">Check:</span> When you've updated the starter code, `check()` will tell you whether your code is correct. You need to update the code that creates variable `length`"
      ],
      "text/plain": [
       "Check: When you've updated the starter code, `check()` will tell you whether your code is correct. You need to update the code that creates variable `length`"
      ]
     },
     "metadata": {},
     "output_type": "display_data"
    }
   ],
   "source": [
    "a = \"\"\n",
    "length = ____\n",
    "q0.a.check()"
   ]
  },
  {
   "cell_type": "markdown",
   "id": "4e71825b",
   "metadata": {
    "papermill": {
     "duration": 0.006847,
     "end_time": "2024-04-05T12:37:31.537208",
     "exception": false,
     "start_time": "2024-04-05T12:37:31.530361",
     "status": "completed"
    },
    "tags": []
   },
   "source": [
    "# 0b."
   ]
  },
  {
   "cell_type": "code",
   "execution_count": 3,
   "id": "246f052c",
   "metadata": {
    "execution": {
     "iopub.execute_input": "2024-04-05T12:37:31.553829Z",
     "iopub.status.busy": "2024-04-05T12:37:31.552910Z",
     "iopub.status.idle": "2024-04-05T12:37:31.562923Z",
     "shell.execute_reply": "2024-04-05T12:37:31.561851Z"
    },
    "papermill": {
     "duration": 0.021708,
     "end_time": "2024-04-05T12:37:31.565920",
     "exception": false,
     "start_time": "2024-04-05T12:37:31.544212",
     "status": "completed"
    },
    "tags": []
   },
   "outputs": [
    {
     "data": {
      "application/javascript": [
       "parent.postMessage({\"jupyterEvent\": \"custom.exercise_interaction\", \"data\": {\"outcomeType\": 4, \"interactionType\": 1, \"questionType\": 1, \"questionId\": \"0.2_ZB\", \"learnToolsVersion\": \"0.3.4\", \"valueTowardsCompletion\": 0.0, \"failureMessage\": \"\", \"exceptionClass\": \"\", \"trace\": \"\"}}, \"*\")"
      ],
      "text/plain": [
       "<IPython.core.display.Javascript object>"
      ]
     },
     "metadata": {},
     "output_type": "display_data"
    },
    {
     "data": {
      "text/markdown": [
       "<span style=\"color:#ccaa33\">Check:</span> When you've updated the starter code, `check()` will tell you whether your code is correct. You need to update the code that creates variable `length`"
      ],
      "text/plain": [
       "Check: When you've updated the starter code, `check()` will tell you whether your code is correct. You need to update the code that creates variable `length`"
      ]
     },
     "metadata": {},
     "output_type": "display_data"
    }
   ],
   "source": [
    "b = \"it's ok\"\n",
    "length = ____\n",
    "q0.b.check()"
   ]
  },
  {
   "cell_type": "markdown",
   "id": "973b9092",
   "metadata": {
    "papermill": {
     "duration": 0.007126,
     "end_time": "2024-04-05T12:37:31.580992",
     "exception": false,
     "start_time": "2024-04-05T12:37:31.573866",
     "status": "completed"
    },
    "tags": []
   },
   "source": [
    "# 0c."
   ]
  },
  {
   "cell_type": "code",
   "execution_count": 4,
   "id": "c4de8920",
   "metadata": {
    "execution": {
     "iopub.execute_input": "2024-04-05T12:37:31.597980Z",
     "iopub.status.busy": "2024-04-05T12:37:31.597404Z",
     "iopub.status.idle": "2024-04-05T12:37:31.608099Z",
     "shell.execute_reply": "2024-04-05T12:37:31.606732Z"
    },
    "papermill": {
     "duration": 0.022526,
     "end_time": "2024-04-05T12:37:31.611044",
     "exception": false,
     "start_time": "2024-04-05T12:37:31.588518",
     "status": "completed"
    },
    "tags": []
   },
   "outputs": [
    {
     "data": {
      "application/javascript": [
       "parent.postMessage({\"jupyterEvent\": \"custom.exercise_interaction\", \"data\": {\"outcomeType\": 4, \"interactionType\": 1, \"questionType\": 1, \"questionId\": \"0.3_ZC\", \"learnToolsVersion\": \"0.3.4\", \"valueTowardsCompletion\": 0.0, \"failureMessage\": \"\", \"exceptionClass\": \"\", \"trace\": \"\"}}, \"*\")"
      ],
      "text/plain": [
       "<IPython.core.display.Javascript object>"
      ]
     },
     "metadata": {},
     "output_type": "display_data"
    },
    {
     "data": {
      "text/markdown": [
       "<span style=\"color:#ccaa33\">Check:</span> When you've updated the starter code, `check()` will tell you whether your code is correct. You need to update the code that creates variable `length`"
      ],
      "text/plain": [
       "Check: When you've updated the starter code, `check()` will tell you whether your code is correct. You need to update the code that creates variable `length`"
      ]
     },
     "metadata": {},
     "output_type": "display_data"
    }
   ],
   "source": [
    "c = 'it\\'s ok'\n",
    "length = ____\n",
    "q0.c.check()"
   ]
  },
  {
   "cell_type": "markdown",
   "id": "cab846b0",
   "metadata": {
    "papermill": {
     "duration": 0.007816,
     "end_time": "2024-04-05T12:37:31.627219",
     "exception": false,
     "start_time": "2024-04-05T12:37:31.619403",
     "status": "completed"
    },
    "tags": []
   },
   "source": [
    "# 0d."
   ]
  },
  {
   "cell_type": "code",
   "execution_count": 5,
   "id": "b53a10d3",
   "metadata": {
    "execution": {
     "iopub.execute_input": "2024-04-05T12:37:31.646054Z",
     "iopub.status.busy": "2024-04-05T12:37:31.645148Z",
     "iopub.status.idle": "2024-04-05T12:37:31.657125Z",
     "shell.execute_reply": "2024-04-05T12:37:31.655862Z"
    },
    "papermill": {
     "duration": 0.024243,
     "end_time": "2024-04-05T12:37:31.659623",
     "exception": false,
     "start_time": "2024-04-05T12:37:31.635380",
     "status": "completed"
    },
    "tags": []
   },
   "outputs": [
    {
     "data": {
      "application/javascript": [
       "parent.postMessage({\"jupyterEvent\": \"custom.exercise_interaction\", \"data\": {\"outcomeType\": 4, \"interactionType\": 1, \"questionType\": 1, \"questionId\": \"0.4_ZD\", \"learnToolsVersion\": \"0.3.4\", \"valueTowardsCompletion\": 0.0, \"failureMessage\": \"\", \"exceptionClass\": \"\", \"trace\": \"\"}}, \"*\")"
      ],
      "text/plain": [
       "<IPython.core.display.Javascript object>"
      ]
     },
     "metadata": {},
     "output_type": "display_data"
    },
    {
     "data": {
      "text/markdown": [
       "<span style=\"color:#ccaa33\">Check:</span> When you've updated the starter code, `check()` will tell you whether your code is correct. You need to update the code that creates variable `length`"
      ],
      "text/plain": [
       "Check: When you've updated the starter code, `check()` will tell you whether your code is correct. You need to update the code that creates variable `length`"
      ]
     },
     "metadata": {},
     "output_type": "display_data"
    }
   ],
   "source": [
    "d = \"\"\"hey\"\"\"\n",
    "length = ____\n",
    "q0.d.check()"
   ]
  },
  {
   "cell_type": "markdown",
   "id": "1a150503",
   "metadata": {
    "papermill": {
     "duration": 0.008103,
     "end_time": "2024-04-05T12:37:31.677090",
     "exception": false,
     "start_time": "2024-04-05T12:37:31.668987",
     "status": "completed"
    },
    "tags": []
   },
   "source": [
    "# 0e."
   ]
  },
  {
   "cell_type": "code",
   "execution_count": 6,
   "id": "b5a7b074",
   "metadata": {
    "execution": {
     "iopub.execute_input": "2024-04-05T12:37:31.696136Z",
     "iopub.status.busy": "2024-04-05T12:37:31.695742Z",
     "iopub.status.idle": "2024-04-05T12:37:31.706379Z",
     "shell.execute_reply": "2024-04-05T12:37:31.704881Z"
    },
    "papermill": {
     "duration": 0.02354,
     "end_time": "2024-04-05T12:37:31.709002",
     "exception": false,
     "start_time": "2024-04-05T12:37:31.685462",
     "status": "completed"
    },
    "tags": []
   },
   "outputs": [
    {
     "data": {
      "application/javascript": [
       "parent.postMessage({\"jupyterEvent\": \"custom.exercise_interaction\", \"data\": {\"outcomeType\": 4, \"interactionType\": 1, \"questionType\": 1, \"questionId\": \"0.5_ZE\", \"learnToolsVersion\": \"0.3.4\", \"valueTowardsCompletion\": 0.0, \"failureMessage\": \"\", \"exceptionClass\": \"\", \"trace\": \"\"}}, \"*\")"
      ],
      "text/plain": [
       "<IPython.core.display.Javascript object>"
      ]
     },
     "metadata": {},
     "output_type": "display_data"
    },
    {
     "data": {
      "text/markdown": [
       "<span style=\"color:#ccaa33\">Check:</span> When you've updated the starter code, `check()` will tell you whether your code is correct. You need to update the code that creates variable `length`"
      ],
      "text/plain": [
       "Check: When you've updated the starter code, `check()` will tell you whether your code is correct. You need to update the code that creates variable `length`"
      ]
     },
     "metadata": {},
     "output_type": "display_data"
    }
   ],
   "source": [
    "e = '\\n'\n",
    "length = ____\n",
    "q0.e.check()"
   ]
  },
  {
   "cell_type": "markdown",
   "id": "0d68a127",
   "metadata": {
    "papermill": {
     "duration": 0.008777,
     "end_time": "2024-04-05T12:37:31.726689",
     "exception": false,
     "start_time": "2024-04-05T12:37:31.717912",
     "status": "completed"
    },
    "tags": []
   },
   "source": [
    "# 1.\n",
    "\n",
    "There is a saying that \"Data scientists spend 80% of their time cleaning data, and 20% of their time complaining about cleaning data.\" Let's see if you can write a function to help clean US zip code data. Given a string, it should return whether or not that string represents a valid zip code. For our purposes, a valid zip code is any string consisting of exactly 5 digits.\n",
    "\n",
    "HINT: `str` has a method that will be useful here. Use `help(str)` to review a list of string methods."
   ]
  },
  {
   "cell_type": "code",
   "execution_count": 7,
   "id": "eaf7ba41",
   "metadata": {
    "execution": {
     "iopub.execute_input": "2024-04-05T12:37:31.746541Z",
     "iopub.status.busy": "2024-04-05T12:37:31.746030Z",
     "iopub.status.idle": "2024-04-05T12:37:31.756829Z",
     "shell.execute_reply": "2024-04-05T12:37:31.755456Z"
    },
    "papermill": {
     "duration": 0.023637,
     "end_time": "2024-04-05T12:37:31.759107",
     "exception": false,
     "start_time": "2024-04-05T12:37:31.735470",
     "status": "completed"
    },
    "tags": []
   },
   "outputs": [
    {
     "data": {
      "application/javascript": [
       "parent.postMessage({\"jupyterEvent\": \"custom.exercise_interaction\", \"data\": {\"outcomeType\": 4, \"interactionType\": 1, \"questionType\": 2, \"questionId\": \"1_ZipValidator\", \"learnToolsVersion\": \"0.3.4\", \"valueTowardsCompletion\": 0.0, \"failureMessage\": \"\", \"exceptionClass\": \"\", \"trace\": \"\"}}, \"*\")"
      ],
      "text/plain": [
       "<IPython.core.display.Javascript object>"
      ]
     },
     "metadata": {},
     "output_type": "display_data"
    },
    {
     "data": {
      "text/markdown": [
       "<span style=\"color:#ccaa33\">Check:</span> When you've updated the starter code, `check()` will tell you whether your code is correct. "
      ],
      "text/plain": [
       "Check: When you've updated the starter code, `check()` will tell you whether your code is correct. "
      ]
     },
     "metadata": {},
     "output_type": "display_data"
    }
   ],
   "source": [
    "def is_valid_zip(zip_code):\n",
    "    \"\"\"Returns whether the input string is a valid (5 digit) zip code\n",
    "    \"\"\"\n",
    "    pass\n",
    "\n",
    "# Check your answer\n",
    "q1.check()"
   ]
  },
  {
   "cell_type": "code",
   "execution_count": 8,
   "id": "575073b8",
   "metadata": {
    "execution": {
     "iopub.execute_input": "2024-04-05T12:37:31.779538Z",
     "iopub.status.busy": "2024-04-05T12:37:31.779052Z",
     "iopub.status.idle": "2024-04-05T12:37:31.784432Z",
     "shell.execute_reply": "2024-04-05T12:37:31.783249Z"
    },
    "papermill": {
     "duration": 0.018542,
     "end_time": "2024-04-05T12:37:31.786851",
     "exception": false,
     "start_time": "2024-04-05T12:37:31.768309",
     "status": "completed"
    },
    "tags": []
   },
   "outputs": [],
   "source": [
    "#q1.hint()\n",
    "#q1.solution()"
   ]
  },
  {
   "cell_type": "markdown",
   "id": "65d5680a",
   "metadata": {
    "papermill": {
     "duration": 0.008954,
     "end_time": "2024-04-05T12:37:31.805151",
     "exception": false,
     "start_time": "2024-04-05T12:37:31.796197",
     "status": "completed"
    },
    "tags": []
   },
   "source": [
    "# 2.\n",
    "\n",
    "A researcher has gathered thousands of news articles. But she wants to focus her attention on articles including a specific word. Complete the function below to help her filter her list of articles.\n",
    "\n",
    "Your function should meet the following criteria:\n",
    "\n",
    "- Do not include documents where the keyword string shows up only as a part of a larger word. For example, if she were looking for the keyword “closed”, you would not include the string “enclosed.” \n",
    "- She does not want you to distinguish upper case from lower case letters. So the phrase “Closed the case.” would be included when the keyword is “closed”\n",
    "- Do not let periods or commas affect what is matched. “It is closed.” would be included when the keyword is “closed”. But you can assume there are no other types of punctuation."
   ]
  },
  {
   "cell_type": "code",
   "execution_count": 9,
   "id": "8d4a4eb7",
   "metadata": {
    "execution": {
     "iopub.execute_input": "2024-04-05T12:37:31.825655Z",
     "iopub.status.busy": "2024-04-05T12:37:31.825156Z",
     "iopub.status.idle": "2024-04-05T12:37:31.835570Z",
     "shell.execute_reply": "2024-04-05T12:37:31.834694Z"
    },
    "papermill": {
     "duration": 0.023693,
     "end_time": "2024-04-05T12:37:31.838044",
     "exception": false,
     "start_time": "2024-04-05T12:37:31.814351",
     "status": "completed"
    },
    "tags": []
   },
   "outputs": [
    {
     "data": {
      "application/javascript": [
       "parent.postMessage({\"jupyterEvent\": \"custom.exercise_interaction\", \"data\": {\"outcomeType\": 4, \"interactionType\": 1, \"questionType\": 2, \"questionId\": \"2_WordSearch\", \"learnToolsVersion\": \"0.3.4\", \"valueTowardsCompletion\": 0.0, \"failureMessage\": \"\", \"exceptionClass\": \"\", \"trace\": \"\"}}, \"*\")"
      ],
      "text/plain": [
       "<IPython.core.display.Javascript object>"
      ]
     },
     "metadata": {},
     "output_type": "display_data"
    },
    {
     "data": {
      "text/markdown": [
       "<span style=\"color:#ccaa33\">Check:</span> When you've updated the starter code, `check()` will tell you whether your code is correct. "
      ],
      "text/plain": [
       "Check: When you've updated the starter code, `check()` will tell you whether your code is correct. "
      ]
     },
     "metadata": {},
     "output_type": "display_data"
    }
   ],
   "source": [
    "def word_search(doc_list, keyword):\n",
    "    \"\"\"\n",
    "    Takes a list of documents (each document is a string) and a keyword. \n",
    "    Returns list of the index values into the original list for all documents \n",
    "    containing the keyword.\n",
    "\n",
    "    Example:\n",
    "    doc_list = [\"The Learn Python Challenge Casino.\", \"They bought a car\", \"Casinoville\"]\n",
    "    >>> word_search(doc_list, 'casino')\n",
    "    >>> [0]\n",
    "    \"\"\"\n",
    "    pass\n",
    "\n",
    "# Check your answer\n",
    "q2.check()"
   ]
  },
  {
   "cell_type": "code",
   "execution_count": 10,
   "id": "1c1e4931",
   "metadata": {
    "execution": {
     "iopub.execute_input": "2024-04-05T12:37:31.859744Z",
     "iopub.status.busy": "2024-04-05T12:37:31.859242Z",
     "iopub.status.idle": "2024-04-05T12:37:31.863433Z",
     "shell.execute_reply": "2024-04-05T12:37:31.862558Z"
    },
    "papermill": {
     "duration": 0.018428,
     "end_time": "2024-04-05T12:37:31.866137",
     "exception": false,
     "start_time": "2024-04-05T12:37:31.847709",
     "status": "completed"
    },
    "tags": []
   },
   "outputs": [],
   "source": [
    "#q2.hint()\n",
    "#q2.solution()"
   ]
  },
  {
   "cell_type": "markdown",
   "id": "54510973",
   "metadata": {
    "papermill": {
     "duration": 0.009377,
     "end_time": "2024-04-05T12:37:31.885376",
     "exception": false,
     "start_time": "2024-04-05T12:37:31.875999",
     "status": "completed"
    },
    "tags": []
   },
   "source": [
    "# 3.\n",
    "\n",
    "Now the researcher wants to supply multiple keywords to search for. Complete the function below to help her.\n",
    "\n",
    "(You're encouraged to use the `word_search` function you just wrote when implementing this function. Reusing code in this way makes your programs more robust and readable - and it saves typing!)"
   ]
  },
  {
   "cell_type": "code",
   "execution_count": 11,
   "id": "451bb8e0",
   "metadata": {
    "execution": {
     "iopub.execute_input": "2024-04-05T12:37:31.906947Z",
     "iopub.status.busy": "2024-04-05T12:37:31.906449Z",
     "iopub.status.idle": "2024-04-05T12:37:31.918035Z",
     "shell.execute_reply": "2024-04-05T12:37:31.916587Z"
    },
    "papermill": {
     "duration": 0.025639,
     "end_time": "2024-04-05T12:37:31.920652",
     "exception": false,
     "start_time": "2024-04-05T12:37:31.895013",
     "status": "completed"
    },
    "tags": []
   },
   "outputs": [
    {
     "data": {
      "application/javascript": [
       "parent.postMessage({\"jupyterEvent\": \"custom.exercise_interaction\", \"data\": {\"outcomeType\": 4, \"interactionType\": 1, \"questionType\": 2, \"questionId\": \"3_MultiWordSearch\", \"learnToolsVersion\": \"0.3.4\", \"valueTowardsCompletion\": 0.0, \"failureMessage\": \"\", \"exceptionClass\": \"\", \"trace\": \"\"}}, \"*\")"
      ],
      "text/plain": [
       "<IPython.core.display.Javascript object>"
      ]
     },
     "metadata": {},
     "output_type": "display_data"
    },
    {
     "data": {
      "text/markdown": [
       "<span style=\"color:#ccaa33\">Check:</span> When you've updated the starter code, `check()` will tell you whether your code is correct. "
      ],
      "text/plain": [
       "Check: When you've updated the starter code, `check()` will tell you whether your code is correct. "
      ]
     },
     "metadata": {},
     "output_type": "display_data"
    }
   ],
   "source": [
    "def multi_word_search(doc_list, keywords):\n",
    "    \"\"\"\n",
    "    Takes list of documents (each document is a string) and a list of keywords.  \n",
    "    Returns a dictionary where each key is a keyword, and the value is a list of indices\n",
    "    (from doc_list) of the documents containing that keyword\n",
    "\n",
    "    >>> doc_list = [\"The Learn Python Challenge Casino.\", \"They bought a car and a casino\", \"Casinoville\"]\n",
    "    >>> keywords = ['casino', 'they']\n",
    "    >>> multi_word_search(doc_list, keywords)\n",
    "    {'casino': [0, 1], 'they': [1]}\n",
    "    \"\"\"\n",
    "    pass\n",
    "\n",
    "# Check your answer\n",
    "q3.check()"
   ]
  },
  {
   "cell_type": "code",
   "execution_count": 12,
   "id": "c39321a5",
   "metadata": {
    "execution": {
     "iopub.execute_input": "2024-04-05T12:37:31.943586Z",
     "iopub.status.busy": "2024-04-05T12:37:31.943176Z",
     "iopub.status.idle": "2024-04-05T12:37:31.948589Z",
     "shell.execute_reply": "2024-04-05T12:37:31.947243Z"
    },
    "papermill": {
     "duration": 0.019839,
     "end_time": "2024-04-05T12:37:31.951078",
     "exception": false,
     "start_time": "2024-04-05T12:37:31.931239",
     "status": "completed"
    },
    "tags": []
   },
   "outputs": [],
   "source": [
    "#q3.solution()"
   ]
  },
  {
   "cell_type": "markdown",
   "id": "030eeab0",
   "metadata": {
    "papermill": {
     "duration": 0.009925,
     "end_time": "2024-04-05T12:37:31.971679",
     "exception": false,
     "start_time": "2024-04-05T12:37:31.961754",
     "status": "completed"
    },
    "tags": []
   },
   "source": [
    "# Keep Going\n",
    "\n",
    "You've learned a lot. But even the best programmers rely heavily on \"libraries\" of code from other programmers. You'll learn about that in **[the last lesson](https://www.kaggle.com/colinmorris/working-with-external-libraries)**.\n"
   ]
  },
  {
   "cell_type": "markdown",
   "id": "db99d6e1",
   "metadata": {
    "papermill": {
     "duration": 0.010125,
     "end_time": "2024-04-05T12:37:31.992202",
     "exception": false,
     "start_time": "2024-04-05T12:37:31.982077",
     "status": "completed"
    },
    "tags": []
   },
   "source": [
    "---\n",
    "\n",
    "\n",
    "\n",
    "\n",
    "*Have questions or comments? Visit the [course discussion forum](https://www.kaggle.com/learn/python/discussion) to chat with other learners.*"
   ]
  }
 ],
 "metadata": {
  "kaggle": {
   "accelerator": "none",
   "dataSources": [],
   "isGpuEnabled": false,
   "isInternetEnabled": false,
   "language": "python",
   "sourceType": "notebook"
  },
  "kernelspec": {
   "display_name": "Python 3",
   "language": "python",
   "name": "python3"
  },
  "language_info": {
   "codemirror_mode": {
    "name": "ipython",
    "version": 3
   },
   "file_extension": ".py",
   "mimetype": "text/x-python",
   "name": "python",
   "nbconvert_exporter": "python",
   "pygments_lexer": "ipython3",
   "version": "3.10.13"
  },
  "learntools_metadata": {
   "lesson_index": 5,
   "type": "exercise"
  },
  "papermill": {
   "default_parameters": {},
   "duration": 8.199671,
   "end_time": "2024-04-05T12:37:35.289815",
   "environment_variables": {},
   "exception": null,
   "input_path": "__notebook__.ipynb",
   "output_path": "__notebook__.ipynb",
   "parameters": {},
   "start_time": "2024-04-05T12:37:27.090144",
   "version": "2.5.0"
  }
 },
 "nbformat": 4,
 "nbformat_minor": 5
}
