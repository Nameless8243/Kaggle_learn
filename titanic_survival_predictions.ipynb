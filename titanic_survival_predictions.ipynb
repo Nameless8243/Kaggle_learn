{
 "cells": [
  {
   "cell_type": "markdown",
   "id": "6a9e9fdb",
   "metadata": {
    "papermill": {
     "duration": 0.023463,
     "end_time": "2024-04-10T21:42:33.277991",
     "exception": false,
     "start_time": "2024-04-10T21:42:33.254528",
     "status": "completed"
    },
    "tags": []
   },
   "source": [
    "# 1) Import Necessary Libraries\n",
    "First off, we need to import several Python libraries such as numpy, pandas, matplotlib and seaborn."
   ]
  },
  {
   "cell_type": "code",
   "execution_count": 1,
   "id": "197595ba",
   "metadata": {
    "_cell_guid": "b1076dfc-b9ad-4769-8c92-a6c4dae69d19",
    "_uuid": "8f2839f25d086af736a60e9eeb907d3b93b6e0e5",
    "execution": {
     "iopub.execute_input": "2024-04-10T21:42:33.328256Z",
     "iopub.status.busy": "2024-04-10T21:42:33.327714Z",
     "iopub.status.idle": "2024-04-10T21:42:36.560196Z",
     "shell.execute_reply": "2024-04-10T21:42:36.558817Z"
    },
    "papermill": {
     "duration": 3.262552,
     "end_time": "2024-04-10T21:42:36.563698",
     "exception": false,
     "start_time": "2024-04-10T21:42:33.301146",
     "status": "completed"
    },
    "tags": []
   },
   "outputs": [],
   "source": [
    "#data analysis libraries \n",
    "import numpy as np\n",
    "import pandas as pd\n",
    "\n",
    "#visualization libraries\n",
    "import matplotlib.pyplot as plt\n",
    "import seaborn as sns\n",
    "%matplotlib inline\n",
    "\n",
    "#ignore warnings\n",
    "import warnings\n",
    "warnings.filterwarnings(\"ignore\")"
   ]
  },
  {
   "cell_type": "markdown",
   "id": "bb1abca4",
   "metadata": {
    "papermill": {
     "duration": 0.023714,
     "end_time": "2024-04-10T21:42:36.612115",
     "exception": false,
     "start_time": "2024-04-10T21:42:36.588401",
     "status": "completed"
    },
    "tags": []
   },
   "source": [
    "# 2) Read in and Explore the Data\n",
    "It's time to read in our training and testing data using pd.read_csv, and take a first look at the training data using the describe() function."
   ]
  },
  {
   "cell_type": "code",
   "execution_count": 2,
   "id": "733cb596",
   "metadata": {
    "execution": {
     "iopub.execute_input": "2024-04-10T21:42:36.662333Z",
     "iopub.status.busy": "2024-04-10T21:42:36.661691Z",
     "iopub.status.idle": "2024-04-10T21:42:36.781149Z",
     "shell.execute_reply": "2024-04-10T21:42:36.779718Z"
    },
    "papermill": {
     "duration": 0.148141,
     "end_time": "2024-04-10T21:42:36.784530",
     "exception": false,
     "start_time": "2024-04-10T21:42:36.636389",
     "status": "completed"
    },
    "tags": []
   },
   "outputs": [
    {
     "data": {
      "text/html": [
       "<div>\n",
       "<style scoped>\n",
       "    .dataframe tbody tr th:only-of-type {\n",
       "        vertical-align: middle;\n",
       "    }\n",
       "\n",
       "    .dataframe tbody tr th {\n",
       "        vertical-align: top;\n",
       "    }\n",
       "\n",
       "    .dataframe thead th {\n",
       "        text-align: right;\n",
       "    }\n",
       "</style>\n",
       "<table border=\"1\" class=\"dataframe\">\n",
       "  <thead>\n",
       "    <tr style=\"text-align: right;\">\n",
       "      <th></th>\n",
       "      <th>PassengerId</th>\n",
       "      <th>Survived</th>\n",
       "      <th>Pclass</th>\n",
       "      <th>Name</th>\n",
       "      <th>Sex</th>\n",
       "      <th>Age</th>\n",
       "      <th>SibSp</th>\n",
       "      <th>Parch</th>\n",
       "      <th>Ticket</th>\n",
       "      <th>Fare</th>\n",
       "      <th>Cabin</th>\n",
       "      <th>Embarked</th>\n",
       "    </tr>\n",
       "  </thead>\n",
       "  <tbody>\n",
       "    <tr>\n",
       "      <th>count</th>\n",
       "      <td>891.000000</td>\n",
       "      <td>891.000000</td>\n",
       "      <td>891.000000</td>\n",
       "      <td>891</td>\n",
       "      <td>891</td>\n",
       "      <td>714.000000</td>\n",
       "      <td>891.000000</td>\n",
       "      <td>891.000000</td>\n",
       "      <td>891</td>\n",
       "      <td>891.000000</td>\n",
       "      <td>204</td>\n",
       "      <td>889</td>\n",
       "    </tr>\n",
       "    <tr>\n",
       "      <th>unique</th>\n",
       "      <td>NaN</td>\n",
       "      <td>NaN</td>\n",
       "      <td>NaN</td>\n",
       "      <td>891</td>\n",
       "      <td>2</td>\n",
       "      <td>NaN</td>\n",
       "      <td>NaN</td>\n",
       "      <td>NaN</td>\n",
       "      <td>681</td>\n",
       "      <td>NaN</td>\n",
       "      <td>147</td>\n",
       "      <td>3</td>\n",
       "    </tr>\n",
       "    <tr>\n",
       "      <th>top</th>\n",
       "      <td>NaN</td>\n",
       "      <td>NaN</td>\n",
       "      <td>NaN</td>\n",
       "      <td>Braund, Mr. Owen Harris</td>\n",
       "      <td>male</td>\n",
       "      <td>NaN</td>\n",
       "      <td>NaN</td>\n",
       "      <td>NaN</td>\n",
       "      <td>347082</td>\n",
       "      <td>NaN</td>\n",
       "      <td>B96 B98</td>\n",
       "      <td>S</td>\n",
       "    </tr>\n",
       "    <tr>\n",
       "      <th>freq</th>\n",
       "      <td>NaN</td>\n",
       "      <td>NaN</td>\n",
       "      <td>NaN</td>\n",
       "      <td>1</td>\n",
       "      <td>577</td>\n",
       "      <td>NaN</td>\n",
       "      <td>NaN</td>\n",
       "      <td>NaN</td>\n",
       "      <td>7</td>\n",
       "      <td>NaN</td>\n",
       "      <td>4</td>\n",
       "      <td>644</td>\n",
       "    </tr>\n",
       "    <tr>\n",
       "      <th>mean</th>\n",
       "      <td>446.000000</td>\n",
       "      <td>0.383838</td>\n",
       "      <td>2.308642</td>\n",
       "      <td>NaN</td>\n",
       "      <td>NaN</td>\n",
       "      <td>29.699118</td>\n",
       "      <td>0.523008</td>\n",
       "      <td>0.381594</td>\n",
       "      <td>NaN</td>\n",
       "      <td>32.204208</td>\n",
       "      <td>NaN</td>\n",
       "      <td>NaN</td>\n",
       "    </tr>\n",
       "    <tr>\n",
       "      <th>std</th>\n",
       "      <td>257.353842</td>\n",
       "      <td>0.486592</td>\n",
       "      <td>0.836071</td>\n",
       "      <td>NaN</td>\n",
       "      <td>NaN</td>\n",
       "      <td>14.526497</td>\n",
       "      <td>1.102743</td>\n",
       "      <td>0.806057</td>\n",
       "      <td>NaN</td>\n",
       "      <td>49.693429</td>\n",
       "      <td>NaN</td>\n",
       "      <td>NaN</td>\n",
       "    </tr>\n",
       "    <tr>\n",
       "      <th>min</th>\n",
       "      <td>1.000000</td>\n",
       "      <td>0.000000</td>\n",
       "      <td>1.000000</td>\n",
       "      <td>NaN</td>\n",
       "      <td>NaN</td>\n",
       "      <td>0.420000</td>\n",
       "      <td>0.000000</td>\n",
       "      <td>0.000000</td>\n",
       "      <td>NaN</td>\n",
       "      <td>0.000000</td>\n",
       "      <td>NaN</td>\n",
       "      <td>NaN</td>\n",
       "    </tr>\n",
       "    <tr>\n",
       "      <th>25%</th>\n",
       "      <td>223.500000</td>\n",
       "      <td>0.000000</td>\n",
       "      <td>2.000000</td>\n",
       "      <td>NaN</td>\n",
       "      <td>NaN</td>\n",
       "      <td>20.125000</td>\n",
       "      <td>0.000000</td>\n",
       "      <td>0.000000</td>\n",
       "      <td>NaN</td>\n",
       "      <td>7.910400</td>\n",
       "      <td>NaN</td>\n",
       "      <td>NaN</td>\n",
       "    </tr>\n",
       "    <tr>\n",
       "      <th>50%</th>\n",
       "      <td>446.000000</td>\n",
       "      <td>0.000000</td>\n",
       "      <td>3.000000</td>\n",
       "      <td>NaN</td>\n",
       "      <td>NaN</td>\n",
       "      <td>28.000000</td>\n",
       "      <td>0.000000</td>\n",
       "      <td>0.000000</td>\n",
       "      <td>NaN</td>\n",
       "      <td>14.454200</td>\n",
       "      <td>NaN</td>\n",
       "      <td>NaN</td>\n",
       "    </tr>\n",
       "    <tr>\n",
       "      <th>75%</th>\n",
       "      <td>668.500000</td>\n",
       "      <td>1.000000</td>\n",
       "      <td>3.000000</td>\n",
       "      <td>NaN</td>\n",
       "      <td>NaN</td>\n",
       "      <td>38.000000</td>\n",
       "      <td>1.000000</td>\n",
       "      <td>0.000000</td>\n",
       "      <td>NaN</td>\n",
       "      <td>31.000000</td>\n",
       "      <td>NaN</td>\n",
       "      <td>NaN</td>\n",
       "    </tr>\n",
       "    <tr>\n",
       "      <th>max</th>\n",
       "      <td>891.000000</td>\n",
       "      <td>1.000000</td>\n",
       "      <td>3.000000</td>\n",
       "      <td>NaN</td>\n",
       "      <td>NaN</td>\n",
       "      <td>80.000000</td>\n",
       "      <td>8.000000</td>\n",
       "      <td>6.000000</td>\n",
       "      <td>NaN</td>\n",
       "      <td>512.329200</td>\n",
       "      <td>NaN</td>\n",
       "      <td>NaN</td>\n",
       "    </tr>\n",
       "  </tbody>\n",
       "</table>\n",
       "</div>"
      ],
      "text/plain": [
       "        PassengerId    Survived      Pclass                     Name   Sex  \\\n",
       "count    891.000000  891.000000  891.000000                      891   891   \n",
       "unique          NaN         NaN         NaN                      891     2   \n",
       "top             NaN         NaN         NaN  Braund, Mr. Owen Harris  male   \n",
       "freq            NaN         NaN         NaN                        1   577   \n",
       "mean     446.000000    0.383838    2.308642                      NaN   NaN   \n",
       "std      257.353842    0.486592    0.836071                      NaN   NaN   \n",
       "min        1.000000    0.000000    1.000000                      NaN   NaN   \n",
       "25%      223.500000    0.000000    2.000000                      NaN   NaN   \n",
       "50%      446.000000    0.000000    3.000000                      NaN   NaN   \n",
       "75%      668.500000    1.000000    3.000000                      NaN   NaN   \n",
       "max      891.000000    1.000000    3.000000                      NaN   NaN   \n",
       "\n",
       "               Age       SibSp       Parch  Ticket        Fare    Cabin  \\\n",
       "count   714.000000  891.000000  891.000000     891  891.000000      204   \n",
       "unique         NaN         NaN         NaN     681         NaN      147   \n",
       "top            NaN         NaN         NaN  347082         NaN  B96 B98   \n",
       "freq           NaN         NaN         NaN       7         NaN        4   \n",
       "mean     29.699118    0.523008    0.381594     NaN   32.204208      NaN   \n",
       "std      14.526497    1.102743    0.806057     NaN   49.693429      NaN   \n",
       "min       0.420000    0.000000    0.000000     NaN    0.000000      NaN   \n",
       "25%      20.125000    0.000000    0.000000     NaN    7.910400      NaN   \n",
       "50%      28.000000    0.000000    0.000000     NaN   14.454200      NaN   \n",
       "75%      38.000000    1.000000    0.000000     NaN   31.000000      NaN   \n",
       "max      80.000000    8.000000    6.000000     NaN  512.329200      NaN   \n",
       "\n",
       "       Embarked  \n",
       "count       889  \n",
       "unique        3  \n",
       "top           S  \n",
       "freq        644  \n",
       "mean        NaN  \n",
       "std         NaN  \n",
       "min         NaN  \n",
       "25%         NaN  \n",
       "50%         NaN  \n",
       "75%         NaN  \n",
       "max         NaN  "
      ]
     },
     "execution_count": 2,
     "metadata": {},
     "output_type": "execute_result"
    }
   ],
   "source": [
    "train = pd.read_csv(\"/kaggle/input/titanic/train.csv\")\n",
    "test = pd.read_csv(\"/kaggle/input/titanic/test.csv\")\n",
    "\n",
    "train.describe(include=\"all\")"
   ]
  },
  {
   "cell_type": "markdown",
   "id": "541aeccc",
   "metadata": {
    "papermill": {
     "duration": 0.023857,
     "end_time": "2024-04-10T21:42:36.832426",
     "exception": false,
     "start_time": "2024-04-10T21:42:36.808569",
     "status": "completed"
    },
    "tags": []
   },
   "source": [
    "# 3) Data Analysis\n",
    "We're going to consider the features in the dataset and how complete they are."
   ]
  },
  {
   "cell_type": "code",
   "execution_count": 3,
   "id": "c3f11dfb",
   "metadata": {
    "execution": {
     "iopub.execute_input": "2024-04-10T21:42:36.889846Z",
     "iopub.status.busy": "2024-04-10T21:42:36.888726Z",
     "iopub.status.idle": "2024-04-10T21:42:36.896960Z",
     "shell.execute_reply": "2024-04-10T21:42:36.895315Z"
    },
    "papermill": {
     "duration": 0.039068,
     "end_time": "2024-04-10T21:42:36.899751",
     "exception": false,
     "start_time": "2024-04-10T21:42:36.860683",
     "status": "completed"
    },
    "tags": []
   },
   "outputs": [
    {
     "name": "stdout",
     "output_type": "stream",
     "text": [
      "Index(['PassengerId', 'Survived', 'Pclass', 'Name', 'Sex', 'Age', 'SibSp',\n",
      "       'Parch', 'Ticket', 'Fare', 'Cabin', 'Embarked'],\n",
      "      dtype='object')\n"
     ]
    }
   ],
   "source": [
    "# Get a list of the features within the dataset (print all the cols)\n",
    "print(train.columns)"
   ]
  },
  {
   "cell_type": "code",
   "execution_count": 4,
   "id": "6c846fea",
   "metadata": {
    "execution": {
     "iopub.execute_input": "2024-04-10T21:42:36.952392Z",
     "iopub.status.busy": "2024-04-10T21:42:36.950936Z",
     "iopub.status.idle": "2024-04-10T21:42:36.973728Z",
     "shell.execute_reply": "2024-04-10T21:42:36.972565Z"
    },
    "papermill": {
     "duration": 0.05144,
     "end_time": "2024-04-10T21:42:36.976638",
     "exception": false,
     "start_time": "2024-04-10T21:42:36.925198",
     "status": "completed"
    },
    "tags": []
   },
   "outputs": [
    {
     "data": {
      "text/html": [
       "<div>\n",
       "<style scoped>\n",
       "    .dataframe tbody tr th:only-of-type {\n",
       "        vertical-align: middle;\n",
       "    }\n",
       "\n",
       "    .dataframe tbody tr th {\n",
       "        vertical-align: top;\n",
       "    }\n",
       "\n",
       "    .dataframe thead th {\n",
       "        text-align: right;\n",
       "    }\n",
       "</style>\n",
       "<table border=\"1\" class=\"dataframe\">\n",
       "  <thead>\n",
       "    <tr style=\"text-align: right;\">\n",
       "      <th></th>\n",
       "      <th>PassengerId</th>\n",
       "      <th>Survived</th>\n",
       "      <th>Pclass</th>\n",
       "      <th>Name</th>\n",
       "      <th>Sex</th>\n",
       "      <th>Age</th>\n",
       "      <th>SibSp</th>\n",
       "      <th>Parch</th>\n",
       "      <th>Ticket</th>\n",
       "      <th>Fare</th>\n",
       "      <th>Cabin</th>\n",
       "      <th>Embarked</th>\n",
       "    </tr>\n",
       "  </thead>\n",
       "  <tbody>\n",
       "    <tr>\n",
       "      <th>288</th>\n",
       "      <td>289</td>\n",
       "      <td>1</td>\n",
       "      <td>2</td>\n",
       "      <td>Hosono, Mr. Masabumi</td>\n",
       "      <td>male</td>\n",
       "      <td>42.0</td>\n",
       "      <td>0</td>\n",
       "      <td>0</td>\n",
       "      <td>237798</td>\n",
       "      <td>13.0000</td>\n",
       "      <td>NaN</td>\n",
       "      <td>S</td>\n",
       "    </tr>\n",
       "    <tr>\n",
       "      <th>300</th>\n",
       "      <td>301</td>\n",
       "      <td>1</td>\n",
       "      <td>3</td>\n",
       "      <td>Kelly, Miss. Anna Katherine \"Annie Kate\"</td>\n",
       "      <td>female</td>\n",
       "      <td>NaN</td>\n",
       "      <td>0</td>\n",
       "      <td>0</td>\n",
       "      <td>9234</td>\n",
       "      <td>7.7500</td>\n",
       "      <td>NaN</td>\n",
       "      <td>Q</td>\n",
       "    </tr>\n",
       "    <tr>\n",
       "      <th>383</th>\n",
       "      <td>384</td>\n",
       "      <td>1</td>\n",
       "      <td>1</td>\n",
       "      <td>Holverson, Mrs. Alexander Oskar (Mary Aline To...</td>\n",
       "      <td>female</td>\n",
       "      <td>35.0</td>\n",
       "      <td>1</td>\n",
       "      <td>0</td>\n",
       "      <td>113789</td>\n",
       "      <td>52.0000</td>\n",
       "      <td>NaN</td>\n",
       "      <td>S</td>\n",
       "    </tr>\n",
       "    <tr>\n",
       "      <th>223</th>\n",
       "      <td>224</td>\n",
       "      <td>0</td>\n",
       "      <td>3</td>\n",
       "      <td>Nenkoff, Mr. Christo</td>\n",
       "      <td>male</td>\n",
       "      <td>NaN</td>\n",
       "      <td>0</td>\n",
       "      <td>0</td>\n",
       "      <td>349234</td>\n",
       "      <td>7.8958</td>\n",
       "      <td>NaN</td>\n",
       "      <td>S</td>\n",
       "    </tr>\n",
       "    <tr>\n",
       "      <th>859</th>\n",
       "      <td>860</td>\n",
       "      <td>0</td>\n",
       "      <td>3</td>\n",
       "      <td>Razi, Mr. Raihed</td>\n",
       "      <td>male</td>\n",
       "      <td>NaN</td>\n",
       "      <td>0</td>\n",
       "      <td>0</td>\n",
       "      <td>2629</td>\n",
       "      <td>7.2292</td>\n",
       "      <td>NaN</td>\n",
       "      <td>C</td>\n",
       "    </tr>\n",
       "  </tbody>\n",
       "</table>\n",
       "</div>"
      ],
      "text/plain": [
       "     PassengerId  Survived  Pclass  \\\n",
       "288          289         1       2   \n",
       "300          301         1       3   \n",
       "383          384         1       1   \n",
       "223          224         0       3   \n",
       "859          860         0       3   \n",
       "\n",
       "                                                  Name     Sex   Age  SibSp  \\\n",
       "288                               Hosono, Mr. Masabumi    male  42.0      0   \n",
       "300           Kelly, Miss. Anna Katherine \"Annie Kate\"  female   NaN      0   \n",
       "383  Holverson, Mrs. Alexander Oskar (Mary Aline To...  female  35.0      1   \n",
       "223                               Nenkoff, Mr. Christo    male   NaN      0   \n",
       "859                                   Razi, Mr. Raihed    male   NaN      0   \n",
       "\n",
       "     Parch  Ticket     Fare Cabin Embarked  \n",
       "288      0  237798  13.0000   NaN        S  \n",
       "300      0    9234   7.7500   NaN        Q  \n",
       "383      0  113789  52.0000   NaN        S  \n",
       "223      0  349234   7.8958   NaN        S  \n",
       "859      0    2629   7.2292   NaN        C  "
      ]
     },
     "execution_count": 4,
     "metadata": {},
     "output_type": "execute_result"
    }
   ],
   "source": [
    "# Check a sample of the dataset to get an idea of the variables\n",
    "train.sample(5)"
   ]
  },
  {
   "cell_type": "markdown",
   "id": "1f18bd34",
   "metadata": {
    "papermill": {
     "duration": 0.024769,
     "end_time": "2024-04-10T21:42:37.025748",
     "exception": false,
     "start_time": "2024-04-10T21:42:37.000979",
     "status": "completed"
    },
    "tags": []
   },
   "source": [
    "- Numerical Features: Age (Continuous), Fare (Continuous), SibSp (Discrete), Parch (Discrete)\n",
    "- Categorical Features: Survived, Sex, Embarked, Pclass\n",
    "- Alphanumeric Features: Ticket, Cabin"
   ]
  },
  {
   "cell_type": "markdown",
   "id": "50a468e1",
   "metadata": {
    "papermill": {
     "duration": 0.024882,
     "end_time": "2024-04-10T21:42:37.076375",
     "exception": false,
     "start_time": "2024-04-10T21:42:37.051493",
     "status": "completed"
    },
    "tags": []
   },
   "source": [
    "**What are the data types for each feature?**\n",
    "- Survived: int\n",
    "- Pclass: int\n",
    "- Name: string\n",
    "- Sex: string\n",
    "- Age: float\n",
    "- SibSp: int\n",
    "- Parch: int\n",
    "- Ticket: string\n",
    "- Fare: float\n",
    "- Cabin: string\n",
    "- Embarked: string\n",
    "\n",
    "Now that we have an idea of what kinds of features we're working with, we can see how much information we have about each of them."
   ]
  },
  {
   "cell_type": "code",
   "execution_count": 5,
   "id": "9df3a91f",
   "metadata": {
    "execution": {
     "iopub.execute_input": "2024-04-10T21:42:37.130161Z",
     "iopub.status.busy": "2024-04-10T21:42:37.128848Z",
     "iopub.status.idle": "2024-04-10T21:42:37.186047Z",
     "shell.execute_reply": "2024-04-10T21:42:37.185023Z"
    },
    "papermill": {
     "duration": 0.088422,
     "end_time": "2024-04-10T21:42:37.189846",
     "exception": false,
     "start_time": "2024-04-10T21:42:37.101424",
     "status": "completed"
    },
    "tags": []
   },
   "outputs": [
    {
     "data": {
      "text/html": [
       "<div>\n",
       "<style scoped>\n",
       "    .dataframe tbody tr th:only-of-type {\n",
       "        vertical-align: middle;\n",
       "    }\n",
       "\n",
       "    .dataframe tbody tr th {\n",
       "        vertical-align: top;\n",
       "    }\n",
       "\n",
       "    .dataframe thead th {\n",
       "        text-align: right;\n",
       "    }\n",
       "</style>\n",
       "<table border=\"1\" class=\"dataframe\">\n",
       "  <thead>\n",
       "    <tr style=\"text-align: right;\">\n",
       "      <th></th>\n",
       "      <th>PassengerId</th>\n",
       "      <th>Survived</th>\n",
       "      <th>Pclass</th>\n",
       "      <th>Name</th>\n",
       "      <th>Sex</th>\n",
       "      <th>Age</th>\n",
       "      <th>SibSp</th>\n",
       "      <th>Parch</th>\n",
       "      <th>Ticket</th>\n",
       "      <th>Fare</th>\n",
       "      <th>Cabin</th>\n",
       "      <th>Embarked</th>\n",
       "    </tr>\n",
       "  </thead>\n",
       "  <tbody>\n",
       "    <tr>\n",
       "      <th>count</th>\n",
       "      <td>891.000000</td>\n",
       "      <td>891.000000</td>\n",
       "      <td>891.000000</td>\n",
       "      <td>891</td>\n",
       "      <td>891</td>\n",
       "      <td>714.000000</td>\n",
       "      <td>891.000000</td>\n",
       "      <td>891.000000</td>\n",
       "      <td>891</td>\n",
       "      <td>891.000000</td>\n",
       "      <td>204</td>\n",
       "      <td>889</td>\n",
       "    </tr>\n",
       "    <tr>\n",
       "      <th>unique</th>\n",
       "      <td>NaN</td>\n",
       "      <td>NaN</td>\n",
       "      <td>NaN</td>\n",
       "      <td>891</td>\n",
       "      <td>2</td>\n",
       "      <td>NaN</td>\n",
       "      <td>NaN</td>\n",
       "      <td>NaN</td>\n",
       "      <td>681</td>\n",
       "      <td>NaN</td>\n",
       "      <td>147</td>\n",
       "      <td>3</td>\n",
       "    </tr>\n",
       "    <tr>\n",
       "      <th>top</th>\n",
       "      <td>NaN</td>\n",
       "      <td>NaN</td>\n",
       "      <td>NaN</td>\n",
       "      <td>Braund, Mr. Owen Harris</td>\n",
       "      <td>male</td>\n",
       "      <td>NaN</td>\n",
       "      <td>NaN</td>\n",
       "      <td>NaN</td>\n",
       "      <td>347082</td>\n",
       "      <td>NaN</td>\n",
       "      <td>B96 B98</td>\n",
       "      <td>S</td>\n",
       "    </tr>\n",
       "    <tr>\n",
       "      <th>freq</th>\n",
       "      <td>NaN</td>\n",
       "      <td>NaN</td>\n",
       "      <td>NaN</td>\n",
       "      <td>1</td>\n",
       "      <td>577</td>\n",
       "      <td>NaN</td>\n",
       "      <td>NaN</td>\n",
       "      <td>NaN</td>\n",
       "      <td>7</td>\n",
       "      <td>NaN</td>\n",
       "      <td>4</td>\n",
       "      <td>644</td>\n",
       "    </tr>\n",
       "    <tr>\n",
       "      <th>mean</th>\n",
       "      <td>446.000000</td>\n",
       "      <td>0.383838</td>\n",
       "      <td>2.308642</td>\n",
       "      <td>NaN</td>\n",
       "      <td>NaN</td>\n",
       "      <td>29.699118</td>\n",
       "      <td>0.523008</td>\n",
       "      <td>0.381594</td>\n",
       "      <td>NaN</td>\n",
       "      <td>32.204208</td>\n",
       "      <td>NaN</td>\n",
       "      <td>NaN</td>\n",
       "    </tr>\n",
       "    <tr>\n",
       "      <th>std</th>\n",
       "      <td>257.353842</td>\n",
       "      <td>0.486592</td>\n",
       "      <td>0.836071</td>\n",
       "      <td>NaN</td>\n",
       "      <td>NaN</td>\n",
       "      <td>14.526497</td>\n",
       "      <td>1.102743</td>\n",
       "      <td>0.806057</td>\n",
       "      <td>NaN</td>\n",
       "      <td>49.693429</td>\n",
       "      <td>NaN</td>\n",
       "      <td>NaN</td>\n",
       "    </tr>\n",
       "    <tr>\n",
       "      <th>min</th>\n",
       "      <td>1.000000</td>\n",
       "      <td>0.000000</td>\n",
       "      <td>1.000000</td>\n",
       "      <td>NaN</td>\n",
       "      <td>NaN</td>\n",
       "      <td>0.420000</td>\n",
       "      <td>0.000000</td>\n",
       "      <td>0.000000</td>\n",
       "      <td>NaN</td>\n",
       "      <td>0.000000</td>\n",
       "      <td>NaN</td>\n",
       "      <td>NaN</td>\n",
       "    </tr>\n",
       "    <tr>\n",
       "      <th>25%</th>\n",
       "      <td>223.500000</td>\n",
       "      <td>0.000000</td>\n",
       "      <td>2.000000</td>\n",
       "      <td>NaN</td>\n",
       "      <td>NaN</td>\n",
       "      <td>20.125000</td>\n",
       "      <td>0.000000</td>\n",
       "      <td>0.000000</td>\n",
       "      <td>NaN</td>\n",
       "      <td>7.910400</td>\n",
       "      <td>NaN</td>\n",
       "      <td>NaN</td>\n",
       "    </tr>\n",
       "    <tr>\n",
       "      <th>50%</th>\n",
       "      <td>446.000000</td>\n",
       "      <td>0.000000</td>\n",
       "      <td>3.000000</td>\n",
       "      <td>NaN</td>\n",
       "      <td>NaN</td>\n",
       "      <td>28.000000</td>\n",
       "      <td>0.000000</td>\n",
       "      <td>0.000000</td>\n",
       "      <td>NaN</td>\n",
       "      <td>14.454200</td>\n",
       "      <td>NaN</td>\n",
       "      <td>NaN</td>\n",
       "    </tr>\n",
       "    <tr>\n",
       "      <th>75%</th>\n",
       "      <td>668.500000</td>\n",
       "      <td>1.000000</td>\n",
       "      <td>3.000000</td>\n",
       "      <td>NaN</td>\n",
       "      <td>NaN</td>\n",
       "      <td>38.000000</td>\n",
       "      <td>1.000000</td>\n",
       "      <td>0.000000</td>\n",
       "      <td>NaN</td>\n",
       "      <td>31.000000</td>\n",
       "      <td>NaN</td>\n",
       "      <td>NaN</td>\n",
       "    </tr>\n",
       "    <tr>\n",
       "      <th>max</th>\n",
       "      <td>891.000000</td>\n",
       "      <td>1.000000</td>\n",
       "      <td>3.000000</td>\n",
       "      <td>NaN</td>\n",
       "      <td>NaN</td>\n",
       "      <td>80.000000</td>\n",
       "      <td>8.000000</td>\n",
       "      <td>6.000000</td>\n",
       "      <td>NaN</td>\n",
       "      <td>512.329200</td>\n",
       "      <td>NaN</td>\n",
       "      <td>NaN</td>\n",
       "    </tr>\n",
       "  </tbody>\n",
       "</table>\n",
       "</div>"
      ],
      "text/plain": [
       "        PassengerId    Survived      Pclass                     Name   Sex  \\\n",
       "count    891.000000  891.000000  891.000000                      891   891   \n",
       "unique          NaN         NaN         NaN                      891     2   \n",
       "top             NaN         NaN         NaN  Braund, Mr. Owen Harris  male   \n",
       "freq            NaN         NaN         NaN                        1   577   \n",
       "mean     446.000000    0.383838    2.308642                      NaN   NaN   \n",
       "std      257.353842    0.486592    0.836071                      NaN   NaN   \n",
       "min        1.000000    0.000000    1.000000                      NaN   NaN   \n",
       "25%      223.500000    0.000000    2.000000                      NaN   NaN   \n",
       "50%      446.000000    0.000000    3.000000                      NaN   NaN   \n",
       "75%      668.500000    1.000000    3.000000                      NaN   NaN   \n",
       "max      891.000000    1.000000    3.000000                      NaN   NaN   \n",
       "\n",
       "               Age       SibSp       Parch  Ticket        Fare    Cabin  \\\n",
       "count   714.000000  891.000000  891.000000     891  891.000000      204   \n",
       "unique         NaN         NaN         NaN     681         NaN      147   \n",
       "top            NaN         NaN         NaN  347082         NaN  B96 B98   \n",
       "freq           NaN         NaN         NaN       7         NaN        4   \n",
       "mean     29.699118    0.523008    0.381594     NaN   32.204208      NaN   \n",
       "std      14.526497    1.102743    0.806057     NaN   49.693429      NaN   \n",
       "min       0.420000    0.000000    0.000000     NaN    0.000000      NaN   \n",
       "25%      20.125000    0.000000    0.000000     NaN    7.910400      NaN   \n",
       "50%      28.000000    0.000000    0.000000     NaN   14.454200      NaN   \n",
       "75%      38.000000    1.000000    0.000000     NaN   31.000000      NaN   \n",
       "max      80.000000    8.000000    6.000000     NaN  512.329200      NaN   \n",
       "\n",
       "       Embarked  \n",
       "count       889  \n",
       "unique        3  \n",
       "top           S  \n",
       "freq        644  \n",
       "mean        NaN  \n",
       "std         NaN  \n",
       "min         NaN  \n",
       "25%         NaN  \n",
       "50%         NaN  \n",
       "75%         NaN  \n",
       "max         NaN  "
      ]
     },
     "execution_count": 5,
     "metadata": {},
     "output_type": "execute_result"
    }
   ],
   "source": [
    "# See a summary of the training dataset\n",
    "train.describe(include = \"all\")"
   ]
  },
  {
   "cell_type": "markdown",
   "id": "d0c68a8a",
   "metadata": {
    "papermill": {
     "duration": 0.026483,
     "end_time": "2024-04-10T21:42:37.244813",
     "exception": false,
     "start_time": "2024-04-10T21:42:37.218330",
     "status": "completed"
    },
    "tags": []
   },
   "source": [
    "### Some Observations:\n",
    "- There are a total of 891 passengers in our training set.\n",
    "- The Age feature is missing approximately 19.8% of its values. I'm guessing that the Age feature is pretty important to survival, so we should probably attempt to fill these gaps.\n",
    "- The Cabin feature is missing approximately 77.1% of its values. Since so much of the feature is missing, it would be hard to fill in the missing values. We'll probably drop these values from our dataset.\n",
    "- The Embarked feature is missing 0.22% of its values, which should be relatively harmless."
   ]
  },
  {
   "cell_type": "code",
   "execution_count": 6,
   "id": "fe68d7c5",
   "metadata": {
    "execution": {
     "iopub.execute_input": "2024-04-10T21:42:37.297016Z",
     "iopub.status.busy": "2024-04-10T21:42:37.295988Z",
     "iopub.status.idle": "2024-04-10T21:42:37.306184Z",
     "shell.execute_reply": "2024-04-10T21:42:37.304846Z"
    },
    "papermill": {
     "duration": 0.039596,
     "end_time": "2024-04-10T21:42:37.309082",
     "exception": false,
     "start_time": "2024-04-10T21:42:37.269486",
     "status": "completed"
    },
    "tags": []
   },
   "outputs": [
    {
     "name": "stdout",
     "output_type": "stream",
     "text": [
      "PassengerId      0\n",
      "Survived         0\n",
      "Pclass           0\n",
      "Name             0\n",
      "Sex              0\n",
      "Age            177\n",
      "SibSp            0\n",
      "Parch            0\n",
      "Ticket           0\n",
      "Fare             0\n",
      "Cabin          687\n",
      "Embarked         2\n",
      "dtype: int64\n"
     ]
    }
   ],
   "source": [
    "# Check for any other unusable values\n",
    "print(pd.isnull(train).sum())"
   ]
  },
  {
   "cell_type": "markdown",
   "id": "1a851432",
   "metadata": {
    "papermill": {
     "duration": 0.025114,
     "end_time": "2024-04-10T21:42:37.358832",
     "exception": false,
     "start_time": "2024-04-10T21:42:37.333718",
     "status": "completed"
    },
    "tags": []
   },
   "source": [
    "We can see that except for the abovementioned missing values, no NaN values exist."
   ]
  },
  {
   "cell_type": "markdown",
   "id": "4de612a6",
   "metadata": {
    "papermill": {
     "duration": 0.029205,
     "end_time": "2024-04-10T21:42:37.416003",
     "exception": false,
     "start_time": "2024-04-10T21:42:37.386798",
     "status": "completed"
    },
    "tags": []
   },
   "source": [
    "### Some Predictions:\n",
    "- Sex: Females are more likely to survive.\n",
    "- SibSp/Parch: People traveling alone are more likely to survive.\n",
    "- Age: Young children are more likely to survive.\n",
    "- Pclass: People of higher socioeconomic class are more likely to survive."
   ]
  },
  {
   "cell_type": "markdown",
   "id": "82bc2c46",
   "metadata": {
    "papermill": {
     "duration": 0.025098,
     "end_time": "2024-04-10T21:42:37.466321",
     "exception": false,
     "start_time": "2024-04-10T21:42:37.441223",
     "status": "completed"
    },
    "tags": []
   },
   "source": [
    "# 4) Data Visualization\n",
    "It's time to visualize our data so we can see whether our predictions were accurate!"
   ]
  },
  {
   "cell_type": "markdown",
   "id": "d7fc6e90",
   "metadata": {
    "papermill": {
     "duration": 0.025835,
     "end_time": "2024-04-10T21:42:37.520010",
     "exception": false,
     "start_time": "2024-04-10T21:42:37.494175",
     "status": "completed"
    },
    "tags": []
   },
   "source": [
    "**Sex Feature**"
   ]
  },
  {
   "cell_type": "code",
   "execution_count": 7,
   "id": "52712ff5",
   "metadata": {
    "execution": {
     "iopub.execute_input": "2024-04-10T21:42:37.577776Z",
     "iopub.status.busy": "2024-04-10T21:42:37.575642Z",
     "iopub.status.idle": "2024-04-10T21:42:38.095457Z",
     "shell.execute_reply": "2024-04-10T21:42:38.094146Z"
    },
    "papermill": {
     "duration": 0.55213,
     "end_time": "2024-04-10T21:42:38.098580",
     "exception": false,
     "start_time": "2024-04-10T21:42:37.546450",
     "status": "completed"
    },
    "tags": []
   },
   "outputs": [
    {
     "name": "stdout",
     "output_type": "stream",
     "text": [
      "Percentage of females who survived 74.20382165605095\n",
      "Percentage of males who survived 18.890814558058924\n"
     ]
    },
    {
     "data": {
      "image/png": "[encoded data removed]",
      "text/plain": [
       "<Figure size 640x480 with 1 Axes>"
      ]
     },
     "metadata": {},
     "output_type": "display_data"
    }
   ],
   "source": [
    "# draw a bar plot of survival by sex\n",
    "sns.barplot(x=\"Sex\", y=\"Survived\",data=train)\n",
    "\n",
    "#print percentages of females vs.males that survive\n",
    "print(\"Percentage of females who survived\",\n",
    "      train[\"Survived\"][train[\"Sex\"] == \"female\"].value_counts(normalize = True)[1]*100)\n",
    "\n",
    "print(\"Percentage of males who survived\",\n",
    "      train[\"Survived\"][train[\"Sex\"] == \"male\"].value_counts(normalize = True)[1]*100)"
   ]
  },
  {
   "cell_type": "markdown",
   "id": "d014753f",
   "metadata": {
    "papermill": {
     "duration": 0.025982,
     "end_time": "2024-04-10T21:42:38.149823",
     "exception": false,
     "start_time": "2024-04-10T21:42:38.123841",
     "status": "completed"
    },
    "tags": []
   },
   "source": [
    "As predicted, females have a much higher chance of survival than males.\n",
    "The Sex feature is essential in our predictions."
   ]
  },
  {
   "cell_type": "markdown",
   "id": "2253c710",
   "metadata": {
    "papermill": {
     "duration": 0.025249,
     "end_time": "2024-04-10T21:42:38.293472",
     "exception": false,
     "start_time": "2024-04-10T21:42:38.268223",
     "status": "completed"
    },
    "tags": []
   },
   "source": [
    "**Pclass Feature**"
   ]
  },
  {
   "cell_type": "code",
   "execution_count": 8,
   "id": "a1485a53",
   "metadata": {
    "execution": {
     "iopub.execute_input": "2024-04-10T21:42:38.349533Z",
     "iopub.status.busy": "2024-04-10T21:42:38.348748Z",
     "iopub.status.idle": "2024-04-10T21:42:38.768285Z",
     "shell.execute_reply": "2024-04-10T21:42:38.765450Z"
    },
    "papermill": {
     "duration": 0.45107,
     "end_time": "2024-04-10T21:42:38.772132",
     "exception": false,
     "start_time": "2024-04-10T21:42:38.321062",
     "status": "completed"
    },
    "tags": []
   },
   "outputs": [
    {
     "name": "stdout",
     "output_type": "stream",
     "text": [
      "Percentage of Pclass = 1 who survived: 62.96296296296296\n",
      "Percentage of Pclass = 2 who survived: 47.28260869565217\n",
      "Percentage of Pclass = 3 who survived: 24.236252545824847\n"
     ]
    },
    {
     "data": {
      "image/png": "[encoded data removed]",
      "text/plain": [
       "<Figure size 640x480 with 1 Axes>"
      ]
     },
     "metadata": {},
     "output_type": "display_data"
    }
   ],
   "source": [
    "# Draw a bar plot of survival by Pclass\n",
    "sns.barplot(x=\"Pclass\",y=\"Survived\",data=train)\n",
    "\n",
    "# Print percentage of people by Pclass that survived\n",
    "print(\"Percentage of Pclass = 1 who survived:\", train.Survived [train.Pclass == 1].value_counts(normalize = True)[1]*100)\n",
    "print(\"Percentage of Pclass = 2 who survived:\", train.Survived [train.Pclass == 2].value_counts(normalize = True)[1]*100)\n",
    "print(\"Percentage of Pclass = 3 who survived:\", train.Survived [train.Pclass == 3].value_counts(normalize = True)[1]*100)"
   ]
  },
  {
   "cell_type": "markdown",
   "id": "823c5e0c",
   "metadata": {
    "papermill": {
     "duration": 0.026816,
     "end_time": "2024-04-10T21:42:38.827344",
     "exception": false,
     "start_time": "2024-04-10T21:42:38.800528",
     "status": "completed"
    },
    "tags": []
   },
   "source": [
    "As predicted, people with higher socioeconomic class had a higher rate of survival. (62.9% vs. 47.3% vs. 24.2%)"
   ]
  },
  {
   "cell_type": "markdown",
   "id": "77cbbb6e",
   "metadata": {
    "papermill": {
     "duration": 0.026803,
     "end_time": "2024-04-10T21:42:38.879841",
     "exception": false,
     "start_time": "2024-04-10T21:42:38.853038",
     "status": "completed"
    },
    "tags": []
   },
   "source": [
    "### SibSp Feature"
   ]
  },
  {
   "cell_type": "code",
   "execution_count": 9,
   "id": "00eda670",
   "metadata": {
    "execution": {
     "iopub.execute_input": "2024-04-10T21:42:38.934510Z",
     "iopub.status.busy": "2024-04-10T21:42:38.933257Z",
     "iopub.status.idle": "2024-04-10T21:42:39.489848Z",
     "shell.execute_reply": "2024-04-10T21:42:39.488509Z"
    },
    "papermill": {
     "duration": 0.586922,
     "end_time": "2024-04-10T21:42:39.492937",
     "exception": false,
     "start_time": "2024-04-10T21:42:38.906015",
     "status": "completed"
    },
    "tags": []
   },
   "outputs": [
    {
     "name": "stdout",
     "output_type": "stream",
     "text": [
      "Percentage of SibSp = 0 who survived: 34.53947368421053\n",
      "Percentage of SibSp = 1 who survived: 53.588516746411486\n",
      "Percentage of SibSp = 2 who survived: 46.42857142857143\n"
     ]
    },
    {
     "data": {
      "image/png": "[encoded data removed]",
      "text/plain": [
       "<Figure size 640x480 with 1 Axes>"
      ]
     },
     "metadata": {},
     "output_type": "display_data"
    }
   ],
   "source": [
    "# Draw a bar plot for SibSp vs. survival\n",
    "sns.barplot(x=\"SibSp\", y=\"Survived\",data=train)\n",
    "\n",
    "# I won't be printig individual percent values for all of these.\n",
    "print(\"Percentage of SibSp = 0 who survived:\",\n",
    "      train.Survived [train.SibSp == 0].value_counts(normalize = True)[1]*100)\n",
    "\n",
    "print(\"Percentage of SibSp = 1 who survived:\",\n",
    "     train.Survived [train.SibSp == 1].value_counts(normalize = True)[1]*100)\n",
    "\n",
    "print(\"Percentage of SibSp = 2 who survived:\",\n",
    "     train.Survived [train.SibSp == 2].value_counts(normalize = True)[1]*100)"
   ]
  },
  {
   "cell_type": "markdown",
   "id": "e671390e",
   "metadata": {
    "papermill": {
     "duration": 0.027695,
     "end_time": "2024-04-10T21:42:39.547477",
     "exception": false,
     "start_time": "2024-04-10T21:42:39.519782",
     "status": "completed"
    },
    "tags": []
   },
   "source": [
    "In general, it's clear that people with more siblings or spouses aboard were less likely to survive. However, contrary to expectations, people with no siblings or spouses were less to likely to survive than those with one or two. (34.5% vs 53.4% vs. 46.4%)\n"
   ]
  },
  {
   "cell_type": "markdown",
   "id": "758a1d78",
   "metadata": {
    "papermill": {
     "duration": 0.026724,
     "end_time": "2024-04-10T21:42:39.600882",
     "exception": false,
     "start_time": "2024-04-10T21:42:39.574158",
     "status": "completed"
    },
    "tags": []
   },
   "source": [
    "### Parch Feature"
   ]
  },
  {
   "cell_type": "code",
   "execution_count": 10,
   "id": "f85ac9c0",
   "metadata": {
    "execution": {
     "iopub.execute_input": "2024-04-10T21:42:39.657136Z",
     "iopub.status.busy": "2024-04-10T21:42:39.656598Z",
     "iopub.status.idle": "2024-04-10T21:42:40.153300Z",
     "shell.execute_reply": "2024-04-10T21:42:40.151987Z"
    },
    "papermill": {
     "duration": 0.528073,
     "end_time": "2024-04-10T21:42:40.156610",
     "exception": false,
     "start_time": "2024-04-10T21:42:39.628537",
     "status": "completed"
    },
    "tags": []
   },
   "outputs": [
    {
     "data": {
      "text/plain": [
       "<function matplotlib.pyplot.show(close=None, block=None)>"
      ]
     },
     "execution_count": 10,
     "metadata": {},
     "output_type": "execute_result"
    },
    {
     "data": {
      "image/png": "[encoded data removed]",
      "text/plain": [
       "<Figure size 640x480 with 1 Axes>"
      ]
     },
     "metadata": {},
     "output_type": "display_data"
    }
   ],
   "source": [
    "# Draw a bar plet for Parch vs. survival\n",
    "sns.barplot(x=\"Parch\", y=\"Survived\", data=train)\n",
    "plt.show"
   ]
  },
  {
   "cell_type": "markdown",
   "id": "721dc670",
   "metadata": {
    "papermill": {
     "duration": 0.026529,
     "end_time": "2024-04-10T21:42:40.210973",
     "exception": false,
     "start_time": "2024-04-10T21:42:40.184444",
     "status": "completed"
    },
    "tags": []
   },
   "source": [
    "People with less than four parents or children aboard are more likely to survive than those with four or more. Again, people traveling alone are less likely to survive than those with 1-3 parents or children.\n"
   ]
  },
  {
   "cell_type": "markdown",
   "id": "236efca0",
   "metadata": {
    "papermill": {
     "duration": 0.026349,
     "end_time": "2024-04-10T21:42:40.264282",
     "exception": false,
     "start_time": "2024-04-10T21:42:40.237933",
     "status": "completed"
    },
    "tags": []
   },
   "source": [
    "### Age feature"
   ]
  },
  {
   "cell_type": "code",
   "execution_count": 11,
   "id": "eb8a0fde",
   "metadata": {
    "execution": {
     "iopub.execute_input": "2024-04-10T21:42:40.321097Z",
     "iopub.status.busy": "2024-04-10T21:42:40.319856Z",
     "iopub.status.idle": "2024-04-10T21:42:40.898757Z",
     "shell.execute_reply": "2024-04-10T21:42:40.897117Z"
    },
    "papermill": {
     "duration": 0.610727,
     "end_time": "2024-04-10T21:42:40.901935",
     "exception": false,
     "start_time": "2024-04-10T21:42:40.291208",
     "status": "completed"
    },
    "tags": []
   },
   "outputs": [
    {
     "data": {
      "image/png": "[encoded data removed]",
      "text/plain": [
       "<Figure size 640x480 with 1 Axes>"
      ]
     },
     "metadata": {},
     "output_type": "display_data"
    }
   ],
   "source": [
    "# Sort lines into logical categories\n",
    "train[\"age\"] = train[\"Age\"].fillna(-0.5)\n",
    "test[\"age\"] = test[\"Age\"].fillna(-0.5)\n",
    "bins = [-1, 0, 5, 12, 18, 24, 35, 60, np.inf]\n",
    "labels = [\"Unknown\", \"Baby\", \"Child\", \"Teenager\", \"Student\", \"Young Adult\", \"Adult\", \"Senior\"]\n",
    "train[\"AgeGroup\"] = pd.cut(train[\"age\"], bins, labels = labels)\n",
    "test[\"AgeGroup\"] = pd.cut(train[\"age\"], bins, labels = labels)\n",
    "\n",
    "# Draw a bar plot of Age vs. survival\n",
    "sns.barplot(x=\"AgeGroup\", y=\"Survived\", data=train)\n",
    "plt.show()"
   ]
  },
  {
   "cell_type": "markdown",
   "id": "b05a5501",
   "metadata": {
    "papermill": {
     "duration": 0.027722,
     "end_time": "2024-04-10T21:42:40.957238",
     "exception": false,
     "start_time": "2024-04-10T21:42:40.929516",
     "status": "completed"
    },
    "tags": []
   },
   "source": [
    "Babies are more likely to survive than any other age group."
   ]
  },
  {
   "cell_type": "markdown",
   "id": "daedc275",
   "metadata": {
    "papermill": {
     "duration": 0.026967,
     "end_time": "2024-04-10T21:42:41.014665",
     "exception": false,
     "start_time": "2024-04-10T21:42:40.987698",
     "status": "completed"
    },
    "tags": []
   },
   "source": [
    "### Cabin Feature\n",
    "I think the idea here is that people with recorded cabin numbers are of higher socioeconomic class, and thus more likely to survive. "
   ]
  },
  {
   "cell_type": "code",
   "execution_count": 12,
   "id": "646abff0",
   "metadata": {
    "execution": {
     "iopub.execute_input": "2024-04-10T21:42:41.073668Z",
     "iopub.status.busy": "2024-04-10T21:42:41.073184Z",
     "iopub.status.idle": "2024-04-10T21:42:41.385311Z",
     "shell.execute_reply": "2024-04-10T21:42:41.383903Z"
    },
    "papermill": {
     "duration": 0.3456,
     "end_time": "2024-04-10T21:42:41.388174",
     "exception": false,
     "start_time": "2024-04-10T21:42:41.042574",
     "status": "completed"
    },
    "tags": []
   },
   "outputs": [
    {
     "name": "stdout",
     "output_type": "stream",
     "text": [
      "Percentage of CabinBool = 0 who survived: 29.985443959243085\n",
      "Percentage of CabinBool = 1 who survived: 66.66666666666666\n"
     ]
    },
    {
     "data": {
      "image/png": "[encoded data removed]",
      "text/plain": [
       "<Figure size 640x480 with 1 Axes>"
      ]
     },
     "metadata": {},
     "output_type": "display_data"
    }
   ],
   "source": [
    "train[\"CabinBool\"] = (train[\"Cabin\"].notnull().astype(\"int\"))\n",
    "test[\"CabinBool\"] = (train[\"Cabin\"].notnull().astype(\"int\"))\n",
    "\n",
    "# Calculate percentage of CabinBool vs. survived\n",
    "print(\"Percentage of CabinBool = 0 who survived:\",\n",
    "      train[\"Survived\"][train[\"CabinBool\"] == 0].value_counts(normalize = True)[1]*100)\n",
    "\n",
    "print(\"Percentage of CabinBool = 1 who survived:\",\n",
    "     train[\"Survived\"][train[\"CabinBool\"] == 1].value_counts(normalize = True)[1]*100)\n",
    "\n",
    "# draw a bar plot of CabinBool vs. survival\n",
    "sns.barplot(x=\"CabinBool\", y=\"Survived\", data=train)\n",
    "plt.show()"
   ]
  },
  {
   "cell_type": "markdown",
   "id": "e885effa",
   "metadata": {
    "papermill": {
     "duration": 0.029531,
     "end_time": "2024-04-10T21:42:41.445330",
     "exception": false,
     "start_time": "2024-04-10T21:42:41.415799",
     "status": "completed"
    },
    "tags": []
   },
   "source": [
    "People with a recorded Cabin number are, in fact, more likely to survive. (66.6% vs 29.9%)"
   ]
  },
  {
   "cell_type": "markdown",
   "id": "035e03ba",
   "metadata": {
    "papermill": {
     "duration": 0.027113,
     "end_time": "2024-04-10T21:42:41.499833",
     "exception": false,
     "start_time": "2024-04-10T21:42:41.472720",
     "status": "completed"
    },
    "tags": []
   },
   "source": [
    "# 5) Cleaning Data\n",
    "Time to clean our data to account for missing values and unnecessary information."
   ]
  },
  {
   "cell_type": "markdown",
   "id": "3a133779",
   "metadata": {
    "papermill": {
     "duration": 0.027234,
     "end_time": "2024-04-10T21:42:41.554473",
     "exception": false,
     "start_time": "2024-04-10T21:42:41.527239",
     "status": "completed"
    },
    "tags": []
   },
   "source": [
    "### Looking at the Test Data\n",
    "Let's see how our test data looks!"
   ]
  },
  {
   "cell_type": "code",
   "execution_count": 13,
   "id": "c27de9e7",
   "metadata": {
    "execution": {
     "iopub.execute_input": "2024-04-10T21:42:41.613202Z",
     "iopub.status.busy": "2024-04-10T21:42:41.612332Z",
     "iopub.status.idle": "2024-04-10T21:42:41.669220Z",
     "shell.execute_reply": "2024-04-10T21:42:41.667961Z"
    },
    "papermill": {
     "duration": 0.08973,
     "end_time": "2024-04-10T21:42:41.672311",
     "exception": false,
     "start_time": "2024-04-10T21:42:41.582581",
     "status": "completed"
    },
    "tags": []
   },
   "outputs": [
    {
     "data": {
      "text/html": [
       "<div>\n",
       "<style scoped>\n",
       "    .dataframe tbody tr th:only-of-type {\n",
       "        vertical-align: middle;\n",
       "    }\n",
       "\n",
       "    .dataframe tbody tr th {\n",
       "        vertical-align: top;\n",
       "    }\n",
       "\n",
       "    .dataframe thead th {\n",
       "        text-align: right;\n",
       "    }\n",
       "</style>\n",
       "<table border=\"1\" class=\"dataframe\">\n",
       "  <thead>\n",
       "    <tr style=\"text-align: right;\">\n",
       "      <th></th>\n",
       "      <th>PassengerId</th>\n",
       "      <th>Pclass</th>\n",
       "      <th>Name</th>\n",
       "      <th>Sex</th>\n",
       "      <th>Age</th>\n",
       "      <th>SibSp</th>\n",
       "      <th>Parch</th>\n",
       "      <th>Ticket</th>\n",
       "      <th>Fare</th>\n",
       "      <th>Cabin</th>\n",
       "      <th>Embarked</th>\n",
       "      <th>age</th>\n",
       "      <th>AgeGroup</th>\n",
       "      <th>CabinBool</th>\n",
       "    </tr>\n",
       "  </thead>\n",
       "  <tbody>\n",
       "    <tr>\n",
       "      <th>count</th>\n",
       "      <td>418.000000</td>\n",
       "      <td>418.000000</td>\n",
       "      <td>418</td>\n",
       "      <td>418</td>\n",
       "      <td>332.000000</td>\n",
       "      <td>418.000000</td>\n",
       "      <td>418.000000</td>\n",
       "      <td>418</td>\n",
       "      <td>417.000000</td>\n",
       "      <td>91</td>\n",
       "      <td>418</td>\n",
       "      <td>418.000000</td>\n",
       "      <td>418</td>\n",
       "      <td>418.000000</td>\n",
       "    </tr>\n",
       "    <tr>\n",
       "      <th>unique</th>\n",
       "      <td>NaN</td>\n",
       "      <td>NaN</td>\n",
       "      <td>418</td>\n",
       "      <td>2</td>\n",
       "      <td>NaN</td>\n",
       "      <td>NaN</td>\n",
       "      <td>NaN</td>\n",
       "      <td>363</td>\n",
       "      <td>NaN</td>\n",
       "      <td>76</td>\n",
       "      <td>3</td>\n",
       "      <td>NaN</td>\n",
       "      <td>8</td>\n",
       "      <td>NaN</td>\n",
       "    </tr>\n",
       "    <tr>\n",
       "      <th>top</th>\n",
       "      <td>NaN</td>\n",
       "      <td>NaN</td>\n",
       "      <td>Kelly, Mr. James</td>\n",
       "      <td>male</td>\n",
       "      <td>NaN</td>\n",
       "      <td>NaN</td>\n",
       "      <td>NaN</td>\n",
       "      <td>PC 17608</td>\n",
       "      <td>NaN</td>\n",
       "      <td>B57 B59 B63 B66</td>\n",
       "      <td>S</td>\n",
       "      <td>NaN</td>\n",
       "      <td>Young Adult</td>\n",
       "      <td>NaN</td>\n",
       "    </tr>\n",
       "    <tr>\n",
       "      <th>freq</th>\n",
       "      <td>NaN</td>\n",
       "      <td>NaN</td>\n",
       "      <td>1</td>\n",
       "      <td>266</td>\n",
       "      <td>NaN</td>\n",
       "      <td>NaN</td>\n",
       "      <td>NaN</td>\n",
       "      <td>5</td>\n",
       "      <td>NaN</td>\n",
       "      <td>3</td>\n",
       "      <td>270</td>\n",
       "      <td>NaN</td>\n",
       "      <td>100</td>\n",
       "      <td>NaN</td>\n",
       "    </tr>\n",
       "    <tr>\n",
       "      <th>mean</th>\n",
       "      <td>1100.500000</td>\n",
       "      <td>2.265550</td>\n",
       "      <td>NaN</td>\n",
       "      <td>NaN</td>\n",
       "      <td>30.272590</td>\n",
       "      <td>0.447368</td>\n",
       "      <td>0.392344</td>\n",
       "      <td>NaN</td>\n",
       "      <td>35.627188</td>\n",
       "      <td>NaN</td>\n",
       "      <td>NaN</td>\n",
       "      <td>23.941388</td>\n",
       "      <td>NaN</td>\n",
       "      <td>0.220096</td>\n",
       "    </tr>\n",
       "    <tr>\n",
       "      <th>std</th>\n",
       "      <td>120.810458</td>\n",
       "      <td>0.841838</td>\n",
       "      <td>NaN</td>\n",
       "      <td>NaN</td>\n",
       "      <td>14.181209</td>\n",
       "      <td>0.896760</td>\n",
       "      <td>0.981429</td>\n",
       "      <td>NaN</td>\n",
       "      <td>55.907576</td>\n",
       "      <td>NaN</td>\n",
       "      <td>NaN</td>\n",
       "      <td>17.741080</td>\n",
       "      <td>NaN</td>\n",
       "      <td>0.414807</td>\n",
       "    </tr>\n",
       "    <tr>\n",
       "      <th>min</th>\n",
       "      <td>892.000000</td>\n",
       "      <td>1.000000</td>\n",
       "      <td>NaN</td>\n",
       "      <td>NaN</td>\n",
       "      <td>0.170000</td>\n",
       "      <td>0.000000</td>\n",
       "      <td>0.000000</td>\n",
       "      <td>NaN</td>\n",
       "      <td>0.000000</td>\n",
       "      <td>NaN</td>\n",
       "      <td>NaN</td>\n",
       "      <td>-0.500000</td>\n",
       "      <td>NaN</td>\n",
       "      <td>0.000000</td>\n",
       "    </tr>\n",
       "    <tr>\n",
       "      <th>25%</th>\n",
       "      <td>996.250000</td>\n",
       "      <td>1.000000</td>\n",
       "      <td>NaN</td>\n",
       "      <td>NaN</td>\n",
       "      <td>21.000000</td>\n",
       "      <td>0.000000</td>\n",
       "      <td>0.000000</td>\n",
       "      <td>NaN</td>\n",
       "      <td>7.895800</td>\n",
       "      <td>NaN</td>\n",
       "      <td>NaN</td>\n",
       "      <td>9.000000</td>\n",
       "      <td>NaN</td>\n",
       "      <td>0.000000</td>\n",
       "    </tr>\n",
       "    <tr>\n",
       "      <th>50%</th>\n",
       "      <td>1100.500000</td>\n",
       "      <td>3.000000</td>\n",
       "      <td>NaN</td>\n",
       "      <td>NaN</td>\n",
       "      <td>27.000000</td>\n",
       "      <td>0.000000</td>\n",
       "      <td>0.000000</td>\n",
       "      <td>NaN</td>\n",
       "      <td>14.454200</td>\n",
       "      <td>NaN</td>\n",
       "      <td>NaN</td>\n",
       "      <td>24.000000</td>\n",
       "      <td>NaN</td>\n",
       "      <td>0.000000</td>\n",
       "    </tr>\n",
       "    <tr>\n",
       "      <th>75%</th>\n",
       "      <td>1204.750000</td>\n",
       "      <td>3.000000</td>\n",
       "      <td>NaN</td>\n",
       "      <td>NaN</td>\n",
       "      <td>39.000000</td>\n",
       "      <td>1.000000</td>\n",
       "      <td>0.000000</td>\n",
       "      <td>NaN</td>\n",
       "      <td>31.500000</td>\n",
       "      <td>NaN</td>\n",
       "      <td>NaN</td>\n",
       "      <td>35.750000</td>\n",
       "      <td>NaN</td>\n",
       "      <td>0.000000</td>\n",
       "    </tr>\n",
       "    <tr>\n",
       "      <th>max</th>\n",
       "      <td>1309.000000</td>\n",
       "      <td>3.000000</td>\n",
       "      <td>NaN</td>\n",
       "      <td>NaN</td>\n",
       "      <td>76.000000</td>\n",
       "      <td>8.000000</td>\n",
       "      <td>9.000000</td>\n",
       "      <td>NaN</td>\n",
       "      <td>512.329200</td>\n",
       "      <td>NaN</td>\n",
       "      <td>NaN</td>\n",
       "      <td>76.000000</td>\n",
       "      <td>NaN</td>\n",
       "      <td>1.000000</td>\n",
       "    </tr>\n",
       "  </tbody>\n",
       "</table>\n",
       "</div>"
      ],
      "text/plain": [
       "        PassengerId      Pclass              Name   Sex         Age  \\\n",
       "count    418.000000  418.000000               418   418  332.000000   \n",
       "unique          NaN         NaN               418     2         NaN   \n",
       "top             NaN         NaN  Kelly, Mr. James  male         NaN   \n",
       "freq            NaN         NaN                 1   266         NaN   \n",
       "mean    1100.500000    2.265550               NaN   NaN   30.272590   \n",
       "std      120.810458    0.841838               NaN   NaN   14.181209   \n",
       "min      892.000000    1.000000               NaN   NaN    0.170000   \n",
       "25%      996.250000    1.000000               NaN   NaN   21.000000   \n",
       "50%     1100.500000    3.000000               NaN   NaN   27.000000   \n",
       "75%     1204.750000    3.000000               NaN   NaN   39.000000   \n",
       "max     1309.000000    3.000000               NaN   NaN   76.000000   \n",
       "\n",
       "             SibSp       Parch    Ticket        Fare            Cabin  \\\n",
       "count   418.000000  418.000000       418  417.000000               91   \n",
       "unique         NaN         NaN       363         NaN               76   \n",
       "top            NaN         NaN  PC 17608         NaN  B57 B59 B63 B66   \n",
       "freq           NaN         NaN         5         NaN                3   \n",
       "mean      0.447368    0.392344       NaN   35.627188              NaN   \n",
       "std       0.896760    0.981429       NaN   55.907576              NaN   \n",
       "min       0.000000    0.000000       NaN    0.000000              NaN   \n",
       "25%       0.000000    0.000000       NaN    7.895800              NaN   \n",
       "50%       0.000000    0.000000       NaN   14.454200              NaN   \n",
       "75%       1.000000    0.000000       NaN   31.500000              NaN   \n",
       "max       8.000000    9.000000       NaN  512.329200              NaN   \n",
       "\n",
       "       Embarked         age     AgeGroup   CabinBool  \n",
       "count       418  418.000000          418  418.000000  \n",
       "unique        3         NaN            8         NaN  \n",
       "top           S         NaN  Young Adult         NaN  \n",
       "freq        270         NaN          100         NaN  \n",
       "mean        NaN   23.941388          NaN    0.220096  \n",
       "std         NaN   17.741080          NaN    0.414807  \n",
       "min         NaN   -0.500000          NaN    0.000000  \n",
       "25%         NaN    9.000000          NaN    0.000000  \n",
       "50%         NaN   24.000000          NaN    0.000000  \n",
       "75%         NaN   35.750000          NaN    0.000000  \n",
       "max         NaN   76.000000          NaN    1.000000  "
      ]
     },
     "execution_count": 13,
     "metadata": {},
     "output_type": "execute_result"
    }
   ],
   "source": [
    "test.describe(include=\"all\")"
   ]
  },
  {
   "cell_type": "markdown",
   "id": "7f9dd8a5",
   "metadata": {
    "papermill": {
     "duration": 0.029128,
     "end_time": "2024-04-10T21:42:41.729531",
     "exception": false,
     "start_time": "2024-04-10T21:42:41.700403",
     "status": "completed"
    },
    "tags": []
   },
   "source": [
    "- We have a total of 418 passengers.\n",
    "- 1 value from the Fare feature is missing.\n",
    "- Around 20.5% of the Age feature is missing, we will need to fill that in."
   ]
  },
  {
   "cell_type": "markdown",
   "id": "ef546d7c",
   "metadata": {
    "papermill": {
     "duration": 0.028154,
     "end_time": "2024-04-10T21:42:41.785795",
     "exception": false,
     "start_time": "2024-04-10T21:42:41.757641",
     "status": "completed"
    },
    "tags": []
   },
   "source": [
    "#### Cabin Feature"
   ]
  },
  {
   "cell_type": "code",
   "execution_count": 14,
   "id": "7ea79934",
   "metadata": {
    "execution": {
     "iopub.execute_input": "2024-04-10T21:42:41.846189Z",
     "iopub.status.busy": "2024-04-10T21:42:41.845357Z",
     "iopub.status.idle": "2024-04-10T21:42:41.855632Z",
     "shell.execute_reply": "2024-04-10T21:42:41.854408Z"
    },
    "papermill": {
     "duration": 0.044951,
     "end_time": "2024-04-10T21:42:41.859218",
     "exception": false,
     "start_time": "2024-04-10T21:42:41.814267",
     "status": "completed"
    },
    "tags": []
   },
   "outputs": [],
   "source": [
    "# We'll start off by dropping the Cabin feature since not a lot more useful information can be extracted from it.\n",
    "train = train.drop([\"Cabin\"], axis = 1)\n",
    "test = test.drop([\"Cabin\"], axis = 1)"
   ]
  },
  {
   "cell_type": "markdown",
   "id": "08e03780",
   "metadata": {
    "papermill": {
     "duration": 0.028275,
     "end_time": "2024-04-10T21:42:41.915914",
     "exception": false,
     "start_time": "2024-04-10T21:42:41.887639",
     "status": "completed"
    },
    "tags": []
   },
   "source": [
    "#### Ticket Feature"
   ]
  },
  {
   "cell_type": "code",
   "execution_count": 15,
   "id": "5cabb2e4",
   "metadata": {
    "execution": {
     "iopub.execute_input": "2024-04-10T21:42:41.974961Z",
     "iopub.status.busy": "2024-04-10T21:42:41.974412Z",
     "iopub.status.idle": "2024-04-10T21:42:41.984759Z",
     "shell.execute_reply": "2024-04-10T21:42:41.983302Z"
    },
    "papermill": {
     "duration": 0.043252,
     "end_time": "2024-04-10T21:42:41.987807",
     "exception": false,
     "start_time": "2024-04-10T21:42:41.944555",
     "status": "completed"
    },
    "tags": []
   },
   "outputs": [],
   "source": [
    "# We can also drop the Ticket feature since it's unlikely to yield any useful information\n",
    "train = train.drop([\"Ticket\"], axis = 1)\n",
    "test = test.drop([\"Ticket\"], axis = 1)"
   ]
  },
  {
   "cell_type": "markdown",
   "id": "3bba56f6",
   "metadata": {
    "papermill": {
     "duration": 0.029951,
     "end_time": "2024-04-10T21:42:42.046606",
     "exception": false,
     "start_time": "2024-04-10T21:42:42.016655",
     "status": "completed"
    },
    "tags": []
   },
   "source": [
    "#### Embarked Feature"
   ]
  },
  {
   "cell_type": "code",
   "execution_count": 16,
   "id": "eb7315d5",
   "metadata": {
    "execution": {
     "iopub.execute_input": "2024-04-10T21:42:42.113624Z",
     "iopub.status.busy": "2024-04-10T21:42:42.113121Z",
     "iopub.status.idle": "2024-04-10T21:42:42.127568Z",
     "shell.execute_reply": "2024-04-10T21:42:42.125677Z"
    },
    "papermill": {
     "duration": 0.051188,
     "end_time": "2024-04-10T21:42:42.130692",
     "exception": false,
     "start_time": "2024-04-10T21:42:42.079504",
     "status": "completed"
    },
    "tags": []
   },
   "outputs": [
    {
     "name": "stdout",
     "output_type": "stream",
     "text": [
      "Number of people embarking in Southampton (S):\n",
      "644\n",
      "Number of people embarking in Cherbourg (C):\n",
      "168\n",
      "Number of people embarking in Queenstown (Q):\n",
      "77\n"
     ]
    }
   ],
   "source": [
    "# Now we need to fill in the missing values in the Embarked feature\n",
    "print(\"Number of people embarking in Southampton (S):\")\n",
    "southampton = train[train[\"Embarked\"] == \"S\"].shape[0]\n",
    "print(southampton)\n",
    "\n",
    "print(\"Number of people embarking in Cherbourg (C):\")\n",
    "cherbourg = train[train[\"Embarked\"] == \"C\"].shape[0]\n",
    "print(cherbourg)\n",
    "\n",
    "print(\"Number of people embarking in Queenstown (Q):\")\n",
    "queenstown = train[train[\"Embarked\"] == \"Q\"].shape[0]\n",
    "print(queenstown)"
   ]
  },
  {
   "cell_type": "markdown",
   "id": "81324f72",
   "metadata": {
    "papermill": {
     "duration": 0.028439,
     "end_time": "2024-04-10T21:42:42.189475",
     "exception": false,
     "start_time": "2024-04-10T21:42:42.161036",
     "status": "completed"
    },
    "tags": []
   },
   "source": [
    "It's clear that the majority of people embarked in Southampton (S). Let's go ahead and fill in the missing values with S."
   ]
  },
  {
   "cell_type": "code",
   "execution_count": 17,
   "id": "b24d67e5",
   "metadata": {
    "execution": {
     "iopub.execute_input": "2024-04-10T21:42:42.249717Z",
     "iopub.status.busy": "2024-04-10T21:42:42.249143Z",
     "iopub.status.idle": "2024-04-10T21:42:42.258483Z",
     "shell.execute_reply": "2024-04-10T21:42:42.257022Z"
    },
    "papermill": {
     "duration": 0.042632,
     "end_time": "2024-04-10T21:42:42.262085",
     "exception": false,
     "start_time": "2024-04-10T21:42:42.219453",
     "status": "completed"
    },
    "tags": []
   },
   "outputs": [],
   "source": [
    "# Replacing the missing values in the Embarked feature with S\n",
    "train = train.fillna({\"Embarked\": \"S\"})"
   ]
  },
  {
   "cell_type": "markdown",
   "id": "90bf3dec",
   "metadata": {
    "papermill": {
     "duration": 0.033263,
     "end_time": "2024-04-10T21:42:42.323878",
     "exception": false,
     "start_time": "2024-04-10T21:42:42.290615",
     "status": "completed"
    },
    "tags": []
   },
   "source": [
    "#### Age Feature"
   ]
  },
  {
   "cell_type": "markdown",
   "id": "8a1bbc98",
   "metadata": {
    "papermill": {
     "duration": 0.027926,
     "end_time": "2024-04-10T21:42:42.380189",
     "exception": false,
     "start_time": "2024-04-10T21:42:42.352263",
     "status": "completed"
    },
    "tags": []
   },
   "source": [
    "Next we'll fill in the missing values in the Age feature. Since a higher percentage of values are missing, it would be illogical to fill all of them with the same value (as we did with Embarked). Instead, let's try to find a way to predict the missing ages."
   ]
  },
  {
   "cell_type": "code",
   "execution_count": 18,
   "id": "9a79b643",
   "metadata": {
    "execution": {
     "iopub.execute_input": "2024-04-10T21:42:42.439882Z",
     "iopub.status.busy": "2024-04-10T21:42:42.438921Z",
     "iopub.status.idle": "2024-04-10T21:42:42.473048Z",
     "shell.execute_reply": "2024-04-10T21:42:42.471496Z"
    },
    "papermill": {
     "duration": 0.068046,
     "end_time": "2024-04-10T21:42:42.476359",
     "exception": false,
     "start_time": "2024-04-10T21:42:42.408313",
     "status": "completed"
    },
    "tags": []
   },
   "outputs": [
    {
     "data": {
      "text/html": [
       "<div>\n",
       "<style scoped>\n",
       "    .dataframe tbody tr th:only-of-type {\n",
       "        vertical-align: middle;\n",
       "    }\n",
       "\n",
       "    .dataframe tbody tr th {\n",
       "        vertical-align: top;\n",
       "    }\n",
       "\n",
       "    .dataframe thead th {\n",
       "        text-align: right;\n",
       "    }\n",
       "</style>\n",
       "<table border=\"1\" class=\"dataframe\">\n",
       "  <thead>\n",
       "    <tr style=\"text-align: right;\">\n",
       "      <th>Sex</th>\n",
       "      <th>female</th>\n",
       "      <th>male</th>\n",
       "    </tr>\n",
       "    <tr>\n",
       "      <th>Title</th>\n",
       "      <th></th>\n",
       "      <th></th>\n",
       "    </tr>\n",
       "  </thead>\n",
       "  <tbody>\n",
       "    <tr>\n",
       "      <th>Capt</th>\n",
       "      <td>0</td>\n",
       "      <td>1</td>\n",
       "    </tr>\n",
       "    <tr>\n",
       "      <th>Col</th>\n",
       "      <td>0</td>\n",
       "      <td>2</td>\n",
       "    </tr>\n",
       "    <tr>\n",
       "      <th>Countess</th>\n",
       "      <td>1</td>\n",
       "      <td>0</td>\n",
       "    </tr>\n",
       "    <tr>\n",
       "      <th>Don</th>\n",
       "      <td>0</td>\n",
       "      <td>1</td>\n",
       "    </tr>\n",
       "    <tr>\n",
       "      <th>Dr</th>\n",
       "      <td>1</td>\n",
       "      <td>6</td>\n",
       "    </tr>\n",
       "    <tr>\n",
       "      <th>Jonkheer</th>\n",
       "      <td>0</td>\n",
       "      <td>1</td>\n",
       "    </tr>\n",
       "    <tr>\n",
       "      <th>Lady</th>\n",
       "      <td>1</td>\n",
       "      <td>0</td>\n",
       "    </tr>\n",
       "    <tr>\n",
       "      <th>Major</th>\n",
       "      <td>0</td>\n",
       "      <td>2</td>\n",
       "    </tr>\n",
       "    <tr>\n",
       "      <th>Master</th>\n",
       "      <td>0</td>\n",
       "      <td>40</td>\n",
       "    </tr>\n",
       "    <tr>\n",
       "      <th>Miss</th>\n",
       "      <td>182</td>\n",
       "      <td>0</td>\n",
       "    </tr>\n",
       "    <tr>\n",
       "      <th>Mlle</th>\n",
       "      <td>2</td>\n",
       "      <td>0</td>\n",
       "    </tr>\n",
       "    <tr>\n",
       "      <th>Mme</th>\n",
       "      <td>1</td>\n",
       "      <td>0</td>\n",
       "    </tr>\n",
       "    <tr>\n",
       "      <th>Mr</th>\n",
       "      <td>0</td>\n",
       "      <td>517</td>\n",
       "    </tr>\n",
       "    <tr>\n",
       "      <th>Mrs</th>\n",
       "      <td>125</td>\n",
       "      <td>0</td>\n",
       "    </tr>\n",
       "    <tr>\n",
       "      <th>Ms</th>\n",
       "      <td>1</td>\n",
       "      <td>0</td>\n",
       "    </tr>\n",
       "    <tr>\n",
       "      <th>Rev</th>\n",
       "      <td>0</td>\n",
       "      <td>6</td>\n",
       "    </tr>\n",
       "    <tr>\n",
       "      <th>Sir</th>\n",
       "      <td>0</td>\n",
       "      <td>1</td>\n",
       "    </tr>\n",
       "  </tbody>\n",
       "</table>\n",
       "</div>"
      ],
      "text/plain": [
       "Sex       female  male\n",
       "Title                 \n",
       "Capt           0     1\n",
       "Col            0     2\n",
       "Countess       1     0\n",
       "Don            0     1\n",
       "Dr             1     6\n",
       "Jonkheer       0     1\n",
       "Lady           1     0\n",
       "Major          0     2\n",
       "Master         0    40\n",
       "Miss         182     0\n",
       "Mlle           2     0\n",
       "Mme            1     0\n",
       "Mr             0   517\n",
       "Mrs          125     0\n",
       "Ms             1     0\n",
       "Rev            0     6\n",
       "Sir            0     1"
      ]
     },
     "execution_count": 18,
     "metadata": {},
     "output_type": "execute_result"
    }
   ],
   "source": [
    "# Create a combined group of both datasets\n",
    "combine = [train, test]\n",
    "\n",
    "#extract a title for each Name in the train and test datasets\n",
    "for dataset in combine:\n",
    "    dataset[\"Title\"] = dataset.Name.str.extract(\" ([A-za-z]+)\\.\", expand=False)\n",
    "    \n",
    "pd.crosstab(train[\"Title\"], train[\"Sex\"])"
   ]
  },
  {
   "cell_type": "code",
   "execution_count": 19,
   "id": "b08b227c",
   "metadata": {
    "execution": {
     "iopub.execute_input": "2024-04-10T21:42:42.540313Z",
     "iopub.status.busy": "2024-04-10T21:42:42.539543Z",
     "iopub.status.idle": "2024-04-10T21:42:42.571817Z",
     "shell.execute_reply": "2024-04-10T21:42:42.570281Z"
    },
    "papermill": {
     "duration": 0.069641,
     "end_time": "2024-04-10T21:42:42.574977",
     "exception": false,
     "start_time": "2024-04-10T21:42:42.505336",
     "status": "completed"
    },
    "tags": []
   },
   "outputs": [
    {
     "data": {
      "text/html": [
       "<div>\n",
       "<style scoped>\n",
       "    .dataframe tbody tr th:only-of-type {\n",
       "        vertical-align: middle;\n",
       "    }\n",
       "\n",
       "    .dataframe tbody tr th {\n",
       "        vertical-align: top;\n",
       "    }\n",
       "\n",
       "    .dataframe thead th {\n",
       "        text-align: right;\n",
       "    }\n",
       "</style>\n",
       "<table border=\"1\" class=\"dataframe\">\n",
       "  <thead>\n",
       "    <tr style=\"text-align: right;\">\n",
       "      <th></th>\n",
       "      <th>Title</th>\n",
       "      <th>Survived</th>\n",
       "    </tr>\n",
       "  </thead>\n",
       "  <tbody>\n",
       "    <tr>\n",
       "      <th>0</th>\n",
       "      <td>Master</td>\n",
       "      <td>0.575000</td>\n",
       "    </tr>\n",
       "    <tr>\n",
       "      <th>1</th>\n",
       "      <td>Miss</td>\n",
       "      <td>0.702703</td>\n",
       "    </tr>\n",
       "    <tr>\n",
       "      <th>2</th>\n",
       "      <td>Mr</td>\n",
       "      <td>0.156673</td>\n",
       "    </tr>\n",
       "    <tr>\n",
       "      <th>3</th>\n",
       "      <td>Mrs</td>\n",
       "      <td>0.793651</td>\n",
       "    </tr>\n",
       "    <tr>\n",
       "      <th>4</th>\n",
       "      <td>Rare</td>\n",
       "      <td>0.285714</td>\n",
       "    </tr>\n",
       "    <tr>\n",
       "      <th>5</th>\n",
       "      <td>Royal</td>\n",
       "      <td>1.000000</td>\n",
       "    </tr>\n",
       "  </tbody>\n",
       "</table>\n",
       "</div>"
      ],
      "text/plain": [
       "    Title  Survived\n",
       "0  Master  0.575000\n",
       "1    Miss  0.702703\n",
       "2      Mr  0.156673\n",
       "3     Mrs  0.793651\n",
       "4    Rare  0.285714\n",
       "5   Royal  1.000000"
      ]
     },
     "execution_count": 19,
     "metadata": {},
     "output_type": "execute_result"
    }
   ],
   "source": [
    "# Replace various titles with more common names\n",
    "for dataset in combine:\n",
    "    dataset[\"Title\"] = dataset[\"Title\"].replace([\"Lady\", \"Capt\", \"Col\",\"Don\",\n",
    "                                                 \"Dr\", \"Major\", \"Rev\", \"Jonkheer\",\n",
    "                                                 \"Dona\"], \"Rare\")\n",
    "    dataset[\"Title\"] = dataset[\"Title\"].replace([\"Countess\", \"Lady\", \"Sir\"], \"Royal\")\n",
    "    dataset[\"Title\"] = dataset[\"Title\"].replace([\"Mlle\", \"Ms\"], \"Miss\")\n",
    "    dataset[\"Title\"] = dataset[\"Title\"].replace(\"Mme\", \"Mrs\")\n",
    "    \n",
    "train[[\"Title\", \"Survived\"]].groupby([\"Title\"], as_index=False).mean()"
   ]
  },
  {
   "cell_type": "code",
   "execution_count": 20,
   "id": "bc562f62",
   "metadata": {
    "execution": {
     "iopub.execute_input": "2024-04-10T21:42:42.637051Z",
     "iopub.status.busy": "2024-04-10T21:42:42.636520Z",
     "iopub.status.idle": "2024-04-10T21:42:42.664831Z",
     "shell.execute_reply": "2024-04-10T21:42:42.663470Z"
    },
    "papermill": {
     "duration": 0.062323,
     "end_time": "2024-04-10T21:42:42.667625",
     "exception": false,
     "start_time": "2024-04-10T21:42:42.605302",
     "status": "completed"
    },
    "tags": []
   },
   "outputs": [
    {
     "data": {
      "text/html": [
       "<div>\n",
       "<style scoped>\n",
       "    .dataframe tbody tr th:only-of-type {\n",
       "        vertical-align: middle;\n",
       "    }\n",
       "\n",
       "    .dataframe tbody tr th {\n",
       "        vertical-align: top;\n",
       "    }\n",
       "\n",
       "    .dataframe thead th {\n",
       "        text-align: right;\n",
       "    }\n",
       "</style>\n",
       "<table border=\"1\" class=\"dataframe\">\n",
       "  <thead>\n",
       "    <tr style=\"text-align: right;\">\n",
       "      <th></th>\n",
       "      <th>PassengerId</th>\n",
       "      <th>Survived</th>\n",
       "      <th>Pclass</th>\n",
       "      <th>Name</th>\n",
       "      <th>Sex</th>\n",
       "      <th>Age</th>\n",
       "      <th>SibSp</th>\n",
       "      <th>Parch</th>\n",
       "      <th>Fare</th>\n",
       "      <th>Embarked</th>\n",
       "      <th>age</th>\n",
       "      <th>AgeGroup</th>\n",
       "      <th>CabinBool</th>\n",
       "      <th>Title</th>\n",
       "    </tr>\n",
       "  </thead>\n",
       "  <tbody>\n",
       "    <tr>\n",
       "      <th>0</th>\n",
       "      <td>1</td>\n",
       "      <td>0</td>\n",
       "      <td>3</td>\n",
       "      <td>Braund, Mr. Owen Harris</td>\n",
       "      <td>male</td>\n",
       "      <td>22.0</td>\n",
       "      <td>1</td>\n",
       "      <td>0</td>\n",
       "      <td>7.2500</td>\n",
       "      <td>S</td>\n",
       "      <td>22.0</td>\n",
       "      <td>Student</td>\n",
       "      <td>0</td>\n",
       "      <td>1</td>\n",
       "    </tr>\n",
       "    <tr>\n",
       "      <th>1</th>\n",
       "      <td>2</td>\n",
       "      <td>1</td>\n",
       "      <td>1</td>\n",
       "      <td>Cumings, Mrs. John Bradley (Florence Briggs Th...</td>\n",
       "      <td>female</td>\n",
       "      <td>38.0</td>\n",
       "      <td>1</td>\n",
       "      <td>0</td>\n",
       "      <td>71.2833</td>\n",
       "      <td>C</td>\n",
       "      <td>38.0</td>\n",
       "      <td>Adult</td>\n",
       "      <td>1</td>\n",
       "      <td>3</td>\n",
       "    </tr>\n",
       "    <tr>\n",
       "      <th>2</th>\n",
       "      <td>3</td>\n",
       "      <td>1</td>\n",
       "      <td>3</td>\n",
       "      <td>Heikkinen, Miss. Laina</td>\n",
       "      <td>female</td>\n",
       "      <td>26.0</td>\n",
       "      <td>0</td>\n",
       "      <td>0</td>\n",
       "      <td>7.9250</td>\n",
       "      <td>S</td>\n",
       "      <td>26.0</td>\n",
       "      <td>Young Adult</td>\n",
       "      <td>0</td>\n",
       "      <td>2</td>\n",
       "    </tr>\n",
       "    <tr>\n",
       "      <th>3</th>\n",
       "      <td>4</td>\n",
       "      <td>1</td>\n",
       "      <td>1</td>\n",
       "      <td>Futrelle, Mrs. Jacques Heath (Lily May Peel)</td>\n",
       "      <td>female</td>\n",
       "      <td>35.0</td>\n",
       "      <td>1</td>\n",
       "      <td>0</td>\n",
       "      <td>53.1000</td>\n",
       "      <td>S</td>\n",
       "      <td>35.0</td>\n",
       "      <td>Young Adult</td>\n",
       "      <td>1</td>\n",
       "      <td>3</td>\n",
       "    </tr>\n",
       "    <tr>\n",
       "      <th>4</th>\n",
       "      <td>5</td>\n",
       "      <td>0</td>\n",
       "      <td>3</td>\n",
       "      <td>Allen, Mr. William Henry</td>\n",
       "      <td>male</td>\n",
       "      <td>35.0</td>\n",
       "      <td>0</td>\n",
       "      <td>0</td>\n",
       "      <td>8.0500</td>\n",
       "      <td>S</td>\n",
       "      <td>35.0</td>\n",
       "      <td>Young Adult</td>\n",
       "      <td>0</td>\n",
       "      <td>1</td>\n",
       "    </tr>\n",
       "  </tbody>\n",
       "</table>\n",
       "</div>"
      ],
      "text/plain": [
       "   PassengerId  Survived  Pclass  \\\n",
       "0            1         0       3   \n",
       "1            2         1       1   \n",
       "2            3         1       3   \n",
       "3            4         1       1   \n",
       "4            5         0       3   \n",
       "\n",
       "                                                Name     Sex   Age  SibSp  \\\n",
       "0                            Braund, Mr. Owen Harris    male  22.0      1   \n",
       "1  Cumings, Mrs. John Bradley (Florence Briggs Th...  female  38.0      1   \n",
       "2                             Heikkinen, Miss. Laina  female  26.0      0   \n",
       "3       Futrelle, Mrs. Jacques Heath (Lily May Peel)  female  35.0      1   \n",
       "4                           Allen, Mr. William Henry    male  35.0      0   \n",
       "\n",
       "   Parch     Fare Embarked   age     AgeGroup  CabinBool  Title  \n",
       "0      0   7.2500        S  22.0      Student          0      1  \n",
       "1      0  71.2833        C  38.0        Adult          1      3  \n",
       "2      0   7.9250        S  26.0  Young Adult          0      2  \n",
       "3      0  53.1000        S  35.0  Young Adult          1      3  \n",
       "4      0   8.0500        S  35.0  Young Adult          0      1  "
      ]
     },
     "execution_count": 20,
     "metadata": {},
     "output_type": "execute_result"
    }
   ],
   "source": [
    "# Map each of the title groups to a numerical value\n",
    "title_mapping = {\"Mr\": 1, \"Miss\": 2, \"Mrs\": 3, \"Master\": 4, \"Royal\": 5, \"Rare\": 6}\n",
    "for dataset in combine:\n",
    "    dataset[\"Title\"] = dataset[\"Title\"].map(title_mapping)\n",
    "    dataset[\"Title\"] = dataset[\"Title\"].fillna(0)\n",
    "    \n",
    "train.head()"
   ]
  },
  {
   "cell_type": "markdown",
   "id": "f2f0287e",
   "metadata": {
    "papermill": {
     "duration": 0.031702,
     "end_time": "2024-04-10T21:42:42.728981",
     "exception": false,
     "start_time": "2024-04-10T21:42:42.697279",
     "status": "completed"
    },
    "tags": []
   },
   "source": [
    "Next, we'll try to predict the missing Age values from the most common age for their Title."
   ]
  },
  {
   "cell_type": "code",
   "execution_count": 21,
   "id": "95faa908",
   "metadata": {
    "execution": {
     "iopub.execute_input": "2024-04-10T21:42:42.792468Z",
     "iopub.status.busy": "2024-04-10T21:42:42.792035Z",
     "iopub.status.idle": "2024-04-10T21:42:42.856092Z",
     "shell.execute_reply": "2024-04-10T21:42:42.854650Z"
    },
    "papermill": {
     "duration": 0.099383,
     "end_time": "2024-04-10T21:42:42.859362",
     "exception": false,
     "start_time": "2024-04-10T21:42:42.759979",
     "status": "completed"
    },
    "tags": []
   },
   "outputs": [],
   "source": [
    "mr_age = train[train[\"Title\"] == 1][\"AgeGroup\"].mode()     # Young Adult\n",
    "miss_age = train[train[\"Title\"] == 2][\"AgeGroup\"].mode()   # Student\n",
    "mrs_age = train[train[\"Title\"] == 3][\"AgeGroup\"].mode()    # Adult\n",
    "master_age = train[train[\"Title\"] == 4][\"AgeGroup\"].mode() # Baby\n",
    "royal_age = train[train[\"Title\"] == 5][\"AgeGroup\"].mode()  # Adult\n",
    "rare_age = train[train[\"Title\"] == 6][\"AgeGroup\"].mode()   # Adult\n",
    "\n",
    "age_title_mapping = {1: \"Young Adult\", 2: \"Student\", 3: \"Adult\", 4: \"Baby\", 5: \"Adult\", 6: \"Adult\"}\n",
    "\n",
    "\n",
    "for x in range(len(train[\"AgeGroup\"])):\n",
    "    if train[\"AgeGroup\"][x] == \"Unknown\":\n",
    "        train[\"AgeGroup\"][x] = age_title_mapping[train[\"Title\"][x]]\n",
    "        \n",
    "for x in range(len(test[\"AgeGroup\"])):\n",
    "    if test[\"AgeGroup\"][x] == \"Unknown\":\n",
    "        test[\"AgeGroup\"][x] = age_title_mapping[test[\"Title\"][x]]"
   ]
  },
  {
   "cell_type": "markdown",
   "id": "5b66e223",
   "metadata": {
    "papermill": {
     "duration": 0.032209,
     "end_time": "2024-04-10T21:42:42.922870",
     "exception": false,
     "start_time": "2024-04-10T21:42:42.890661",
     "status": "completed"
    },
    "tags": []
   },
   "source": [
    "it's time to map each age group to a numerical value."
   ]
  },
  {
   "cell_type": "code",
   "execution_count": 22,
   "id": "adfed796",
   "metadata": {
    "execution": {
     "iopub.execute_input": "2024-04-10T21:42:42.985675Z",
     "iopub.status.busy": "2024-04-10T21:42:42.985214Z",
     "iopub.status.idle": "2024-04-10T21:42:42.999852Z",
     "shell.execute_reply": "2024-04-10T21:42:42.998022Z"
    },
    "papermill": {
     "duration": 0.049904,
     "end_time": "2024-04-10T21:42:43.002513",
     "exception": false,
     "start_time": "2024-04-10T21:42:42.952609",
     "status": "completed"
    },
    "tags": []
   },
   "outputs": [],
   "source": [
    "# Map each Age value to a numerical value\n",
    "age_mapping = {'Baby': 1, 'Child': 2, 'Teenager': 3, 'Student': 4, 'Young Adult': 5, 'Adult': 6, 'Senior': 7}\n",
    "train['AgeGroup'] = train['AgeGroup'].map(age_mapping)\n",
    "test['AgeGroup'] = test['AgeGroup'].map(age_mapping)\n",
    "\n",
    "train.head()\n",
    "\n",
    "# Dropping the Age feature for now, might change\n",
    "train = train.drop(['Age'], axis = 1)\n",
    "test = test.drop(['Age'], axis = 1)"
   ]
  },
  {
   "cell_type": "markdown",
   "id": "6784ca27",
   "metadata": {
    "papermill": {
     "duration": 0.028671,
     "end_time": "2024-04-10T21:42:43.060477",
     "exception": false,
     "start_time": "2024-04-10T21:42:43.031806",
     "status": "completed"
    },
    "tags": []
   },
   "source": [
    "#### Name Feature\n",
    "We can drop the name feature now that we've extracted the titles."
   ]
  },
  {
   "cell_type": "code",
   "execution_count": 23,
   "id": "d0469ae9",
   "metadata": {
    "execution": {
     "iopub.execute_input": "2024-04-10T21:42:43.122695Z",
     "iopub.status.busy": "2024-04-10T21:42:43.122212Z",
     "iopub.status.idle": "2024-04-10T21:42:43.132370Z",
     "shell.execute_reply": "2024-04-10T21:42:43.131027Z"
    },
    "papermill": {
     "duration": 0.043981,
     "end_time": "2024-04-10T21:42:43.134800",
     "exception": false,
     "start_time": "2024-04-10T21:42:43.090819",
     "status": "completed"
    },
    "tags": []
   },
   "outputs": [],
   "source": [
    "# Drop the name feature since it contains no more useful information.\n",
    "train = train.drop([\"Name\"], axis = 1)\n",
    "test = test.drop([\"Name\"], axis = 1)"
   ]
  },
  {
   "cell_type": "markdown",
   "id": "2ac24b70",
   "metadata": {
    "papermill": {
     "duration": 0.028657,
     "end_time": "2024-04-10T21:42:43.194172",
     "exception": false,
     "start_time": "2024-04-10T21:42:43.165515",
     "status": "completed"
    },
    "tags": []
   },
   "source": [
    "#### Sex Feature"
   ]
  },
  {
   "cell_type": "code",
   "execution_count": 24,
   "id": "7047470a",
   "metadata": {
    "execution": {
     "iopub.execute_input": "2024-04-10T21:42:43.255098Z",
     "iopub.status.busy": "2024-04-10T21:42:43.254596Z",
     "iopub.status.idle": "2024-04-10T21:42:43.280409Z",
     "shell.execute_reply": "2024-04-10T21:42:43.279004Z"
    },
    "papermill": {
     "duration": 0.05977,
     "end_time": "2024-04-10T21:42:43.283516",
     "exception": false,
     "start_time": "2024-04-10T21:42:43.223746",
     "status": "completed"
    },
    "tags": []
   },
   "outputs": [
    {
     "data": {
      "text/html": [
       "<div>\n",
       "<style scoped>\n",
       "    .dataframe tbody tr th:only-of-type {\n",
       "        vertical-align: middle;\n",
       "    }\n",
       "\n",
       "    .dataframe tbody tr th {\n",
       "        vertical-align: top;\n",
       "    }\n",
       "\n",
       "    .dataframe thead th {\n",
       "        text-align: right;\n",
       "    }\n",
       "</style>\n",
       "<table border=\"1\" class=\"dataframe\">\n",
       "  <thead>\n",
       "    <tr style=\"text-align: right;\">\n",
       "      <th></th>\n",
       "      <th>PassengerId</th>\n",
       "      <th>Survived</th>\n",
       "      <th>Pclass</th>\n",
       "      <th>Sex</th>\n",
       "      <th>SibSp</th>\n",
       "      <th>Parch</th>\n",
       "      <th>Fare</th>\n",
       "      <th>Embarked</th>\n",
       "      <th>age</th>\n",
       "      <th>AgeGroup</th>\n",
       "      <th>CabinBool</th>\n",
       "      <th>Title</th>\n",
       "    </tr>\n",
       "  </thead>\n",
       "  <tbody>\n",
       "    <tr>\n",
       "      <th>0</th>\n",
       "      <td>1</td>\n",
       "      <td>0</td>\n",
       "      <td>3</td>\n",
       "      <td>1</td>\n",
       "      <td>1</td>\n",
       "      <td>0</td>\n",
       "      <td>7.2500</td>\n",
       "      <td>S</td>\n",
       "      <td>22.0</td>\n",
       "      <td>4.0</td>\n",
       "      <td>0</td>\n",
       "      <td>1</td>\n",
       "    </tr>\n",
       "    <tr>\n",
       "      <th>1</th>\n",
       "      <td>2</td>\n",
       "      <td>1</td>\n",
       "      <td>1</td>\n",
       "      <td>0</td>\n",
       "      <td>1</td>\n",
       "      <td>0</td>\n",
       "      <td>71.2833</td>\n",
       "      <td>C</td>\n",
       "      <td>38.0</td>\n",
       "      <td>6.0</td>\n",
       "      <td>1</td>\n",
       "      <td>3</td>\n",
       "    </tr>\n",
       "    <tr>\n",
       "      <th>2</th>\n",
       "      <td>3</td>\n",
       "      <td>1</td>\n",
       "      <td>3</td>\n",
       "      <td>0</td>\n",
       "      <td>0</td>\n",
       "      <td>0</td>\n",
       "      <td>7.9250</td>\n",
       "      <td>S</td>\n",
       "      <td>26.0</td>\n",
       "      <td>5.0</td>\n",
       "      <td>0</td>\n",
       "      <td>2</td>\n",
       "    </tr>\n",
       "    <tr>\n",
       "      <th>3</th>\n",
       "      <td>4</td>\n",
       "      <td>1</td>\n",
       "      <td>1</td>\n",
       "      <td>0</td>\n",
       "      <td>1</td>\n",
       "      <td>0</td>\n",
       "      <td>53.1000</td>\n",
       "      <td>S</td>\n",
       "      <td>35.0</td>\n",
       "      <td>5.0</td>\n",
       "      <td>1</td>\n",
       "      <td>3</td>\n",
       "    </tr>\n",
       "    <tr>\n",
       "      <th>4</th>\n",
       "      <td>5</td>\n",
       "      <td>0</td>\n",
       "      <td>3</td>\n",
       "      <td>1</td>\n",
       "      <td>0</td>\n",
       "      <td>0</td>\n",
       "      <td>8.0500</td>\n",
       "      <td>S</td>\n",
       "      <td>35.0</td>\n",
       "      <td>5.0</td>\n",
       "      <td>0</td>\n",
       "      <td>1</td>\n",
       "    </tr>\n",
       "  </tbody>\n",
       "</table>\n",
       "</div>"
      ],
      "text/plain": [
       "   PassengerId  Survived  Pclass  Sex  SibSp  Parch     Fare Embarked   age  \\\n",
       "0            1         0       3    1      1      0   7.2500        S  22.0   \n",
       "1            2         1       1    0      1      0  71.2833        C  38.0   \n",
       "2            3         1       3    0      0      0   7.9250        S  26.0   \n",
       "3            4         1       1    0      1      0  53.1000        S  35.0   \n",
       "4            5         0       3    1      0      0   8.0500        S  35.0   \n",
       "\n",
       "   AgeGroup  CabinBool  Title  \n",
       "0       4.0          0      1  \n",
       "1       6.0          1      3  \n",
       "2       5.0          0      2  \n",
       "3       5.0          1      3  \n",
       "4       5.0          0      1  "
      ]
     },
     "execution_count": 24,
     "metadata": {},
     "output_type": "execute_result"
    }
   ],
   "source": [
    "# Map each Sex value to a numerical value\n",
    "sex_mapping = {\"female\": 0, \"male\": 1}\n",
    "train[\"Sex\"] = train[\"Sex\"].map(sex_mapping)\n",
    "test[\"Sex\"] = test[\"Sex\"].map(sex_mapping)\n",
    "\n",
    "train.head()"
   ]
  },
  {
   "cell_type": "markdown",
   "id": "6d90ddb5",
   "metadata": {
    "papermill": {
     "duration": 0.032601,
     "end_time": "2024-04-10T21:42:43.346853",
     "exception": false,
     "start_time": "2024-04-10T21:42:43.314252",
     "status": "completed"
    },
    "tags": []
   },
   "source": [
    "#### Embarked Feature"
   ]
  },
  {
   "cell_type": "code",
   "execution_count": 25,
   "id": "24b0a065",
   "metadata": {
    "execution": {
     "iopub.execute_input": "2024-04-10T21:42:43.409467Z",
     "iopub.status.busy": "2024-04-10T21:42:43.408939Z",
     "iopub.status.idle": "2024-04-10T21:42:43.432538Z",
     "shell.execute_reply": "2024-04-10T21:42:43.431249Z"
    },
    "papermill": {
     "duration": 0.058005,
     "end_time": "2024-04-10T21:42:43.435462",
     "exception": false,
     "start_time": "2024-04-10T21:42:43.377457",
     "status": "completed"
    },
    "tags": []
   },
   "outputs": [
    {
     "data": {
      "text/html": [
       "<div>\n",
       "<style scoped>\n",
       "    .dataframe tbody tr th:only-of-type {\n",
       "        vertical-align: middle;\n",
       "    }\n",
       "\n",
       "    .dataframe tbody tr th {\n",
       "        vertical-align: top;\n",
       "    }\n",
       "\n",
       "    .dataframe thead th {\n",
       "        text-align: right;\n",
       "    }\n",
       "</style>\n",
       "<table border=\"1\" class=\"dataframe\">\n",
       "  <thead>\n",
       "    <tr style=\"text-align: right;\">\n",
       "      <th></th>\n",
       "      <th>PassengerId</th>\n",
       "      <th>Survived</th>\n",
       "      <th>Pclass</th>\n",
       "      <th>Sex</th>\n",
       "      <th>SibSp</th>\n",
       "      <th>Parch</th>\n",
       "      <th>Fare</th>\n",
       "      <th>Embarked</th>\n",
       "      <th>age</th>\n",
       "      <th>AgeGroup</th>\n",
       "      <th>CabinBool</th>\n",
       "      <th>Title</th>\n",
       "    </tr>\n",
       "  </thead>\n",
       "  <tbody>\n",
       "    <tr>\n",
       "      <th>0</th>\n",
       "      <td>1</td>\n",
       "      <td>0</td>\n",
       "      <td>3</td>\n",
       "      <td>1</td>\n",
       "      <td>1</td>\n",
       "      <td>0</td>\n",
       "      <td>7.2500</td>\n",
       "      <td>1</td>\n",
       "      <td>22.0</td>\n",
       "      <td>4.0</td>\n",
       "      <td>0</td>\n",
       "      <td>1</td>\n",
       "    </tr>\n",
       "    <tr>\n",
       "      <th>1</th>\n",
       "      <td>2</td>\n",
       "      <td>1</td>\n",
       "      <td>1</td>\n",
       "      <td>0</td>\n",
       "      <td>1</td>\n",
       "      <td>0</td>\n",
       "      <td>71.2833</td>\n",
       "      <td>2</td>\n",
       "      <td>38.0</td>\n",
       "      <td>6.0</td>\n",
       "      <td>1</td>\n",
       "      <td>3</td>\n",
       "    </tr>\n",
       "    <tr>\n",
       "      <th>2</th>\n",
       "      <td>3</td>\n",
       "      <td>1</td>\n",
       "      <td>3</td>\n",
       "      <td>0</td>\n",
       "      <td>0</td>\n",
       "      <td>0</td>\n",
       "      <td>7.9250</td>\n",
       "      <td>1</td>\n",
       "      <td>26.0</td>\n",
       "      <td>5.0</td>\n",
       "      <td>0</td>\n",
       "      <td>2</td>\n",
       "    </tr>\n",
       "    <tr>\n",
       "      <th>3</th>\n",
       "      <td>4</td>\n",
       "      <td>1</td>\n",
       "      <td>1</td>\n",
       "      <td>0</td>\n",
       "      <td>1</td>\n",
       "      <td>0</td>\n",
       "      <td>53.1000</td>\n",
       "      <td>1</td>\n",
       "      <td>35.0</td>\n",
       "      <td>5.0</td>\n",
       "      <td>1</td>\n",
       "      <td>3</td>\n",
       "    </tr>\n",
       "    <tr>\n",
       "      <th>4</th>\n",
       "      <td>5</td>\n",
       "      <td>0</td>\n",
       "      <td>3</td>\n",
       "      <td>1</td>\n",
       "      <td>0</td>\n",
       "      <td>0</td>\n",
       "      <td>8.0500</td>\n",
       "      <td>1</td>\n",
       "      <td>35.0</td>\n",
       "      <td>5.0</td>\n",
       "      <td>0</td>\n",
       "      <td>1</td>\n",
       "    </tr>\n",
       "  </tbody>\n",
       "</table>\n",
       "</div>"
      ],
      "text/plain": [
       "   PassengerId  Survived  Pclass  Sex  SibSp  Parch     Fare  Embarked   age  \\\n",
       "0            1         0       3    1      1      0   7.2500         1  22.0   \n",
       "1            2         1       1    0      1      0  71.2833         2  38.0   \n",
       "2            3         1       3    0      0      0   7.9250         1  26.0   \n",
       "3            4         1       1    0      1      0  53.1000         1  35.0   \n",
       "4            5         0       3    1      0      0   8.0500         1  35.0   \n",
       "\n",
       "   AgeGroup  CabinBool  Title  \n",
       "0       4.0          0      1  \n",
       "1       6.0          1      3  \n",
       "2       5.0          0      2  \n",
       "3       5.0          1      3  \n",
       "4       5.0          0      1  "
      ]
     },
     "execution_count": 25,
     "metadata": {},
     "output_type": "execute_result"
    }
   ],
   "source": [
    "# Map each Embarked value to a numerical value\n",
    "embarked_mapping = {\"S\": 1, \"C\": 2, \"Q\": 3}\n",
    "train[\"Embarked\"] = train[\"Embarked\"].map(embarked_mapping)\n",
    "test[\"Embarked\"] = test[\"Embarked\"].map(embarked_mapping)\n",
    "\n",
    "train.head()"
   ]
  },
  {
   "cell_type": "markdown",
   "id": "133d193e",
   "metadata": {
    "papermill": {
     "duration": 0.029533,
     "end_time": "2024-04-10T21:42:43.496420",
     "exception": false,
     "start_time": "2024-04-10T21:42:43.466887",
     "status": "completed"
    },
    "tags": []
   },
   "source": [
    "#### Fare Feature\n",
    "It's time to separate the fare values into some logical groups as well as filling in the single missing value in the test dataset."
   ]
  },
  {
   "cell_type": "code",
   "execution_count": 26,
   "id": "733cae90",
   "metadata": {
    "execution": {
     "iopub.execute_input": "2024-04-10T21:42:43.561084Z",
     "iopub.status.busy": "2024-04-10T21:42:43.560604Z",
     "iopub.status.idle": "2024-04-10T21:42:43.586497Z",
     "shell.execute_reply": "2024-04-10T21:42:43.585421Z"
    },
    "papermill": {
     "duration": 0.06279,
     "end_time": "2024-04-10T21:42:43.589352",
     "exception": false,
     "start_time": "2024-04-10T21:42:43.526562",
     "status": "completed"
    },
    "tags": []
   },
   "outputs": [],
   "source": [
    "# Fill in missing Fare value in test set based on mean fare for that Pclass\n",
    "for x in range (len(test[\"Fare\"])):\n",
    "    if pd.isnull(test[\"Fare\"][x]):\n",
    "        pclass = test[\"Pclass\"][x] #Pclass = 3\n",
    "        test[\"Fare\"][x] = round(train[train[\"Pclass\"] == pclass][\"Fare\"].mean(), 4)\n",
    "        \n",
    "# Map Fare values into groups of numerical values\n",
    "train[\"FareBand\"] = pd.qcut(train[\"Fare\"], 4, labels = [1, 2, 3, 4])\n",
    "test[\"FareBand\"] = pd.qcut(test[\"Fare\"], 4, labels = [1, 2, 3, 4])\n",
    "\n",
    "# Drop Fare values\n",
    "train = train.drop([\"Fare\"], axis = 1)\n",
    "test = test.drop([\"Fare\"], axis = 1)\n"
   ]
  },
  {
   "cell_type": "code",
   "execution_count": 27,
   "id": "e2965cfc",
   "metadata": {
    "execution": {
     "iopub.execute_input": "2024-04-10T21:42:43.654354Z",
     "iopub.status.busy": "2024-04-10T21:42:43.653855Z",
     "iopub.status.idle": "2024-04-10T21:42:43.675243Z",
     "shell.execute_reply": "2024-04-10T21:42:43.673730Z"
    },
    "papermill": {
     "duration": 0.056448,
     "end_time": "2024-04-10T21:42:43.677955",
     "exception": false,
     "start_time": "2024-04-10T21:42:43.621507",
     "status": "completed"
    },
    "tags": []
   },
   "outputs": [
    {
     "data": {
      "text/html": [
       "<div>\n",
       "<style scoped>\n",
       "    .dataframe tbody tr th:only-of-type {\n",
       "        vertical-align: middle;\n",
       "    }\n",
       "\n",
       "    .dataframe tbody tr th {\n",
       "        vertical-align: top;\n",
       "    }\n",
       "\n",
       "    .dataframe thead th {\n",
       "        text-align: right;\n",
       "    }\n",
       "</style>\n",
       "<table border=\"1\" class=\"dataframe\">\n",
       "  <thead>\n",
       "    <tr style=\"text-align: right;\">\n",
       "      <th></th>\n",
       "      <th>PassengerId</th>\n",
       "      <th>Survived</th>\n",
       "      <th>Pclass</th>\n",
       "      <th>Sex</th>\n",
       "      <th>SibSp</th>\n",
       "      <th>Parch</th>\n",
       "      <th>Embarked</th>\n",
       "      <th>age</th>\n",
       "      <th>AgeGroup</th>\n",
       "      <th>CabinBool</th>\n",
       "      <th>Title</th>\n",
       "      <th>FareBand</th>\n",
       "    </tr>\n",
       "  </thead>\n",
       "  <tbody>\n",
       "    <tr>\n",
       "      <th>0</th>\n",
       "      <td>1</td>\n",
       "      <td>0</td>\n",
       "      <td>3</td>\n",
       "      <td>1</td>\n",
       "      <td>1</td>\n",
       "      <td>0</td>\n",
       "      <td>1</td>\n",
       "      <td>22.0</td>\n",
       "      <td>4.0</td>\n",
       "      <td>0</td>\n",
       "      <td>1</td>\n",
       "      <td>1</td>\n",
       "    </tr>\n",
       "    <tr>\n",
       "      <th>1</th>\n",
       "      <td>2</td>\n",
       "      <td>1</td>\n",
       "      <td>1</td>\n",
       "      <td>0</td>\n",
       "      <td>1</td>\n",
       "      <td>0</td>\n",
       "      <td>2</td>\n",
       "      <td>38.0</td>\n",
       "      <td>6.0</td>\n",
       "      <td>1</td>\n",
       "      <td>3</td>\n",
       "      <td>4</td>\n",
       "    </tr>\n",
       "    <tr>\n",
       "      <th>2</th>\n",
       "      <td>3</td>\n",
       "      <td>1</td>\n",
       "      <td>3</td>\n",
       "      <td>0</td>\n",
       "      <td>0</td>\n",
       "      <td>0</td>\n",
       "      <td>1</td>\n",
       "      <td>26.0</td>\n",
       "      <td>5.0</td>\n",
       "      <td>0</td>\n",
       "      <td>2</td>\n",
       "      <td>2</td>\n",
       "    </tr>\n",
       "    <tr>\n",
       "      <th>3</th>\n",
       "      <td>4</td>\n",
       "      <td>1</td>\n",
       "      <td>1</td>\n",
       "      <td>0</td>\n",
       "      <td>1</td>\n",
       "      <td>0</td>\n",
       "      <td>1</td>\n",
       "      <td>35.0</td>\n",
       "      <td>5.0</td>\n",
       "      <td>1</td>\n",
       "      <td>3</td>\n",
       "      <td>4</td>\n",
       "    </tr>\n",
       "    <tr>\n",
       "      <th>4</th>\n",
       "      <td>5</td>\n",
       "      <td>0</td>\n",
       "      <td>3</td>\n",
       "      <td>1</td>\n",
       "      <td>0</td>\n",
       "      <td>0</td>\n",
       "      <td>1</td>\n",
       "      <td>35.0</td>\n",
       "      <td>5.0</td>\n",
       "      <td>0</td>\n",
       "      <td>1</td>\n",
       "      <td>2</td>\n",
       "    </tr>\n",
       "  </tbody>\n",
       "</table>\n",
       "</div>"
      ],
      "text/plain": [
       "   PassengerId  Survived  Pclass  Sex  SibSp  Parch  Embarked   age  AgeGroup  \\\n",
       "0            1         0       3    1      1      0         1  22.0       4.0   \n",
       "1            2         1       1    0      1      0         2  38.0       6.0   \n",
       "2            3         1       3    0      0      0         1  26.0       5.0   \n",
       "3            4         1       1    0      1      0         1  35.0       5.0   \n",
       "4            5         0       3    1      0      0         1  35.0       5.0   \n",
       "\n",
       "   CabinBool  Title FareBand  \n",
       "0          0      1        1  \n",
       "1          1      3        4  \n",
       "2          0      2        2  \n",
       "3          1      3        4  \n",
       "4          0      1        2  "
      ]
     },
     "execution_count": 27,
     "metadata": {},
     "output_type": "execute_result"
    }
   ],
   "source": [
    "train.head()"
   ]
  },
  {
   "cell_type": "code",
   "execution_count": 28,
   "id": "7e6ebcc5",
   "metadata": {
    "execution": {
     "iopub.execute_input": "2024-04-10T21:42:43.743038Z",
     "iopub.status.busy": "2024-04-10T21:42:43.741949Z",
     "iopub.status.idle": "2024-04-10T21:42:43.759402Z",
     "shell.execute_reply": "2024-04-10T21:42:43.758213Z"
    },
    "papermill": {
     "duration": 0.052754,
     "end_time": "2024-04-10T21:42:43.762311",
     "exception": false,
     "start_time": "2024-04-10T21:42:43.709557",
     "status": "completed"
    },
    "tags": []
   },
   "outputs": [
    {
     "data": {
      "text/html": [
       "<div>\n",
       "<style scoped>\n",
       "    .dataframe tbody tr th:only-of-type {\n",
       "        vertical-align: middle;\n",
       "    }\n",
       "\n",
       "    .dataframe tbody tr th {\n",
       "        vertical-align: top;\n",
       "    }\n",
       "\n",
       "    .dataframe thead th {\n",
       "        text-align: right;\n",
       "    }\n",
       "</style>\n",
       "<table border=\"1\" class=\"dataframe\">\n",
       "  <thead>\n",
       "    <tr style=\"text-align: right;\">\n",
       "      <th></th>\n",
       "      <th>PassengerId</th>\n",
       "      <th>Pclass</th>\n",
       "      <th>Sex</th>\n",
       "      <th>SibSp</th>\n",
       "      <th>Parch</th>\n",
       "      <th>Embarked</th>\n",
       "      <th>age</th>\n",
       "      <th>AgeGroup</th>\n",
       "      <th>CabinBool</th>\n",
       "      <th>Title</th>\n",
       "      <th>FareBand</th>\n",
       "    </tr>\n",
       "  </thead>\n",
       "  <tbody>\n",
       "    <tr>\n",
       "      <th>0</th>\n",
       "      <td>892</td>\n",
       "      <td>3</td>\n",
       "      <td>1</td>\n",
       "      <td>0</td>\n",
       "      <td>0</td>\n",
       "      <td>3</td>\n",
       "      <td>34.5</td>\n",
       "      <td>4.0</td>\n",
       "      <td>0</td>\n",
       "      <td>1</td>\n",
       "      <td>1</td>\n",
       "    </tr>\n",
       "    <tr>\n",
       "      <th>1</th>\n",
       "      <td>893</td>\n",
       "      <td>3</td>\n",
       "      <td>0</td>\n",
       "      <td>1</td>\n",
       "      <td>0</td>\n",
       "      <td>1</td>\n",
       "      <td>47.0</td>\n",
       "      <td>6.0</td>\n",
       "      <td>1</td>\n",
       "      <td>3</td>\n",
       "      <td>1</td>\n",
       "    </tr>\n",
       "    <tr>\n",
       "      <th>2</th>\n",
       "      <td>894</td>\n",
       "      <td>2</td>\n",
       "      <td>1</td>\n",
       "      <td>0</td>\n",
       "      <td>0</td>\n",
       "      <td>3</td>\n",
       "      <td>62.0</td>\n",
       "      <td>5.0</td>\n",
       "      <td>0</td>\n",
       "      <td>1</td>\n",
       "      <td>2</td>\n",
       "    </tr>\n",
       "    <tr>\n",
       "      <th>3</th>\n",
       "      <td>895</td>\n",
       "      <td>3</td>\n",
       "      <td>1</td>\n",
       "      <td>0</td>\n",
       "      <td>0</td>\n",
       "      <td>1</td>\n",
       "      <td>27.0</td>\n",
       "      <td>5.0</td>\n",
       "      <td>1</td>\n",
       "      <td>1</td>\n",
       "      <td>2</td>\n",
       "    </tr>\n",
       "    <tr>\n",
       "      <th>4</th>\n",
       "      <td>896</td>\n",
       "      <td>3</td>\n",
       "      <td>0</td>\n",
       "      <td>1</td>\n",
       "      <td>1</td>\n",
       "      <td>1</td>\n",
       "      <td>22.0</td>\n",
       "      <td>5.0</td>\n",
       "      <td>0</td>\n",
       "      <td>3</td>\n",
       "      <td>2</td>\n",
       "    </tr>\n",
       "  </tbody>\n",
       "</table>\n",
       "</div>"
      ],
      "text/plain": [
       "   PassengerId  Pclass  Sex  SibSp  Parch  Embarked   age  AgeGroup  \\\n",
       "0          892       3    1      0      0         3  34.5       4.0   \n",
       "1          893       3    0      1      0         1  47.0       6.0   \n",
       "2          894       2    1      0      0         3  62.0       5.0   \n",
       "3          895       3    1      0      0         1  27.0       5.0   \n",
       "4          896       3    0      1      1         1  22.0       5.0   \n",
       "\n",
       "   CabinBool  Title FareBand  \n",
       "0          0      1        1  \n",
       "1          1      3        1  \n",
       "2          0      1        2  \n",
       "3          1      1        2  \n",
       "4          0      3        2  "
      ]
     },
     "execution_count": 28,
     "metadata": {},
     "output_type": "execute_result"
    }
   ],
   "source": [
    "test.head()"
   ]
  },
  {
   "cell_type": "markdown",
   "id": "b8e8372f",
   "metadata": {
    "papermill": {
     "duration": 0.032417,
     "end_time": "2024-04-10T21:42:43.825646",
     "exception": false,
     "start_time": "2024-04-10T21:42:43.793229",
     "status": "completed"
    },
    "tags": []
   },
   "source": [
    "# 6) Choosing the Best Model"
   ]
  },
  {
   "cell_type": "markdown",
   "id": "77d796b5",
   "metadata": {
    "papermill": {
     "duration": 0.030728,
     "end_time": "2024-04-10T21:42:43.887539",
     "exception": false,
     "start_time": "2024-04-10T21:42:43.856811",
     "status": "completed"
    },
    "tags": []
   },
   "source": [
    "#### Splitting the Training Data\n",
    "We will use part of our training data(22% in this case) to test the accuracy of our different models."
   ]
  },
  {
   "cell_type": "code",
   "execution_count": 29,
   "id": "7099e749",
   "metadata": {
    "execution": {
     "iopub.execute_input": "2024-04-10T21:42:43.954910Z",
     "iopub.status.busy": "2024-04-10T21:42:43.954165Z",
     "iopub.status.idle": "2024-04-10T21:42:44.336958Z",
     "shell.execute_reply": "2024-04-10T21:42:44.335356Z"
    },
    "papermill": {
     "duration": 0.419787,
     "end_time": "2024-04-10T21:42:44.340342",
     "exception": false,
     "start_time": "2024-04-10T21:42:43.920555",
     "status": "completed"
    },
    "tags": []
   },
   "outputs": [],
   "source": [
    "from sklearn.model_selection import train_test_split\n",
    "\n",
    "predictors = train.drop([\"Survived\", \"PassengerId\"], axis=1)\n",
    "target = train[\"Survived\"]\n",
    "X_train, X_val, y_train, y_val = train_test_split(predictors,\n",
    "                                                  target,\n",
    "                                                  test_size=0.22, random_state=0)\n",
    "        \n",
    "        "
   ]
  },
  {
   "cell_type": "code",
   "execution_count": 30,
   "id": "73df010f",
   "metadata": {
    "execution": {
     "iopub.execute_input": "2024-04-10T21:42:44.405675Z",
     "iopub.status.busy": "2024-04-10T21:42:44.405205Z",
     "iopub.status.idle": "2024-04-10T21:42:44.423981Z",
     "shell.execute_reply": "2024-04-10T21:42:44.422406Z"
    },
    "papermill": {
     "duration": 0.055469,
     "end_time": "2024-04-10T21:42:44.426710",
     "exception": false,
     "start_time": "2024-04-10T21:42:44.371241",
     "status": "completed"
    },
    "tags": []
   },
   "outputs": [
    {
     "data": {
      "text/html": [
       "<div>\n",
       "<style scoped>\n",
       "    .dataframe tbody tr th:only-of-type {\n",
       "        vertical-align: middle;\n",
       "    }\n",
       "\n",
       "    .dataframe tbody tr th {\n",
       "        vertical-align: top;\n",
       "    }\n",
       "\n",
       "    .dataframe thead th {\n",
       "        text-align: right;\n",
       "    }\n",
       "</style>\n",
       "<table border=\"1\" class=\"dataframe\">\n",
       "  <thead>\n",
       "    <tr style=\"text-align: right;\">\n",
       "      <th></th>\n",
       "      <th>Pclass</th>\n",
       "      <th>Sex</th>\n",
       "      <th>SibSp</th>\n",
       "      <th>Parch</th>\n",
       "      <th>Embarked</th>\n",
       "      <th>age</th>\n",
       "      <th>AgeGroup</th>\n",
       "      <th>CabinBool</th>\n",
       "      <th>Title</th>\n",
       "      <th>FareBand</th>\n",
       "    </tr>\n",
       "  </thead>\n",
       "  <tbody>\n",
       "    <tr>\n",
       "      <th>172</th>\n",
       "      <td>3</td>\n",
       "      <td>0</td>\n",
       "      <td>1</td>\n",
       "      <td>1</td>\n",
       "      <td>1</td>\n",
       "      <td>1.0</td>\n",
       "      <td>1.0</td>\n",
       "      <td>0</td>\n",
       "      <td>2</td>\n",
       "      <td>2</td>\n",
       "    </tr>\n",
       "    <tr>\n",
       "      <th>447</th>\n",
       "      <td>1</td>\n",
       "      <td>1</td>\n",
       "      <td>0</td>\n",
       "      <td>0</td>\n",
       "      <td>1</td>\n",
       "      <td>34.0</td>\n",
       "      <td>5.0</td>\n",
       "      <td>0</td>\n",
       "      <td>1</td>\n",
       "      <td>3</td>\n",
       "    </tr>\n",
       "    <tr>\n",
       "      <th>597</th>\n",
       "      <td>3</td>\n",
       "      <td>1</td>\n",
       "      <td>0</td>\n",
       "      <td>0</td>\n",
       "      <td>1</td>\n",
       "      <td>49.0</td>\n",
       "      <td>6.0</td>\n",
       "      <td>0</td>\n",
       "      <td>1</td>\n",
       "      <td>1</td>\n",
       "    </tr>\n",
       "    <tr>\n",
       "      <th>204</th>\n",
       "      <td>3</td>\n",
       "      <td>1</td>\n",
       "      <td>0</td>\n",
       "      <td>0</td>\n",
       "      <td>1</td>\n",
       "      <td>18.0</td>\n",
       "      <td>3.0</td>\n",
       "      <td>0</td>\n",
       "      <td>1</td>\n",
       "      <td>2</td>\n",
       "    </tr>\n",
       "    <tr>\n",
       "      <th>240</th>\n",
       "      <td>3</td>\n",
       "      <td>0</td>\n",
       "      <td>1</td>\n",
       "      <td>0</td>\n",
       "      <td>2</td>\n",
       "      <td>-0.5</td>\n",
       "      <td>4.0</td>\n",
       "      <td>0</td>\n",
       "      <td>2</td>\n",
       "      <td>2</td>\n",
       "    </tr>\n",
       "  </tbody>\n",
       "</table>\n",
       "</div>"
      ],
      "text/plain": [
       "     Pclass  Sex  SibSp  Parch  Embarked   age  AgeGroup  CabinBool  Title  \\\n",
       "172       3    0      1      1         1   1.0       1.0          0      2   \n",
       "447       1    1      0      0         1  34.0       5.0          0      1   \n",
       "597       3    1      0      0         1  49.0       6.0          0      1   \n",
       "204       3    1      0      0         1  18.0       3.0          0      1   \n",
       "240       3    0      1      0         2  -0.5       4.0          0      2   \n",
       "\n",
       "    FareBand  \n",
       "172        2  \n",
       "447        3  \n",
       "597        1  \n",
       "204        2  \n",
       "240        2  "
      ]
     },
     "execution_count": 30,
     "metadata": {},
     "output_type": "execute_result"
    }
   ],
   "source": [
    "X_train.head()"
   ]
  },
  {
   "cell_type": "code",
   "execution_count": 31,
   "id": "c7ad5802",
   "metadata": {
    "execution": {
     "iopub.execute_input": "2024-04-10T21:42:44.493945Z",
     "iopub.status.busy": "2024-04-10T21:42:44.493124Z",
     "iopub.status.idle": "2024-04-10T21:42:44.512400Z",
     "shell.execute_reply": "2024-04-10T21:42:44.511086Z"
    },
    "papermill": {
     "duration": 0.054773,
     "end_time": "2024-04-10T21:42:44.515121",
     "exception": false,
     "start_time": "2024-04-10T21:42:44.460348",
     "status": "completed"
    },
    "tags": []
   },
   "outputs": [
    {
     "data": {
      "text/html": [
       "<div>\n",
       "<style scoped>\n",
       "    .dataframe tbody tr th:only-of-type {\n",
       "        vertical-align: middle;\n",
       "    }\n",
       "\n",
       "    .dataframe tbody tr th {\n",
       "        vertical-align: top;\n",
       "    }\n",
       "\n",
       "    .dataframe thead th {\n",
       "        text-align: right;\n",
       "    }\n",
       "</style>\n",
       "<table border=\"1\" class=\"dataframe\">\n",
       "  <thead>\n",
       "    <tr style=\"text-align: right;\">\n",
       "      <th></th>\n",
       "      <th>Pclass</th>\n",
       "      <th>Sex</th>\n",
       "      <th>SibSp</th>\n",
       "      <th>Parch</th>\n",
       "      <th>Embarked</th>\n",
       "      <th>age</th>\n",
       "      <th>AgeGroup</th>\n",
       "      <th>CabinBool</th>\n",
       "      <th>Title</th>\n",
       "      <th>FareBand</th>\n",
       "    </tr>\n",
       "  </thead>\n",
       "  <tbody>\n",
       "    <tr>\n",
       "      <th>495</th>\n",
       "      <td>3</td>\n",
       "      <td>1</td>\n",
       "      <td>0</td>\n",
       "      <td>0</td>\n",
       "      <td>2</td>\n",
       "      <td>-0.5</td>\n",
       "      <td>5.0</td>\n",
       "      <td>0</td>\n",
       "      <td>1</td>\n",
       "      <td>3</td>\n",
       "    </tr>\n",
       "    <tr>\n",
       "      <th>648</th>\n",
       "      <td>3</td>\n",
       "      <td>1</td>\n",
       "      <td>0</td>\n",
       "      <td>0</td>\n",
       "      <td>1</td>\n",
       "      <td>-0.5</td>\n",
       "      <td>5.0</td>\n",
       "      <td>0</td>\n",
       "      <td>1</td>\n",
       "      <td>1</td>\n",
       "    </tr>\n",
       "    <tr>\n",
       "      <th>278</th>\n",
       "      <td>3</td>\n",
       "      <td>1</td>\n",
       "      <td>4</td>\n",
       "      <td>1</td>\n",
       "      <td>3</td>\n",
       "      <td>7.0</td>\n",
       "      <td>2.0</td>\n",
       "      <td>0</td>\n",
       "      <td>4</td>\n",
       "      <td>3</td>\n",
       "    </tr>\n",
       "    <tr>\n",
       "      <th>31</th>\n",
       "      <td>1</td>\n",
       "      <td>0</td>\n",
       "      <td>1</td>\n",
       "      <td>0</td>\n",
       "      <td>2</td>\n",
       "      <td>-0.5</td>\n",
       "      <td>6.0</td>\n",
       "      <td>1</td>\n",
       "      <td>3</td>\n",
       "      <td>4</td>\n",
       "    </tr>\n",
       "    <tr>\n",
       "      <th>255</th>\n",
       "      <td>3</td>\n",
       "      <td>0</td>\n",
       "      <td>0</td>\n",
       "      <td>2</td>\n",
       "      <td>2</td>\n",
       "      <td>29.0</td>\n",
       "      <td>5.0</td>\n",
       "      <td>0</td>\n",
       "      <td>3</td>\n",
       "      <td>3</td>\n",
       "    </tr>\n",
       "  </tbody>\n",
       "</table>\n",
       "</div>"
      ],
      "text/plain": [
       "     Pclass  Sex  SibSp  Parch  Embarked   age  AgeGroup  CabinBool  Title  \\\n",
       "495       3    1      0      0         2  -0.5       5.0          0      1   \n",
       "648       3    1      0      0         1  -0.5       5.0          0      1   \n",
       "278       3    1      4      1         3   7.0       2.0          0      4   \n",
       "31        1    0      1      0         2  -0.5       6.0          1      3   \n",
       "255       3    0      0      2         2  29.0       5.0          0      3   \n",
       "\n",
       "    FareBand  \n",
       "495        3  \n",
       "648        1  \n",
       "278        3  \n",
       "31         4  \n",
       "255        3  "
      ]
     },
     "execution_count": 31,
     "metadata": {},
     "output_type": "execute_result"
    }
   ],
   "source": [
    "X_val.head()"
   ]
  },
  {
   "cell_type": "markdown",
   "id": "5c3d93b4",
   "metadata": {
    "papermill": {
     "duration": 0.031135,
     "end_time": "2024-04-10T21:42:44.577827",
     "exception": false,
     "start_time": "2024-04-10T21:42:44.546692",
     "status": "completed"
    },
    "tags": []
   },
   "source": [
    "#### Testing Different Models\n",
    "I will be testing the following models with my training data:\n",
    "- Gaussian Naive Bayes\n",
    "- Logistic Regression\n",
    "- Support Vector Machines\n",
    "- Perceptron\n",
    "- Decision Tree Classifier\n",
    "- Random Forest Classifier\n",
    "- KNN or k-Nearest Neighbors\n",
    "- Stochastic Gradient Descent\n",
    "- Gradient Boosting Classifier\n",
    "\n",
    "For each model, we set the model, fit it with 80% of our training data, predict for 20% of the training data and check the accuracy."
   ]
  },
  {
   "cell_type": "code",
   "execution_count": 32,
   "id": "3f583a30",
   "metadata": {
    "execution": {
     "iopub.execute_input": "2024-04-10T21:42:44.642758Z",
     "iopub.status.busy": "2024-04-10T21:42:44.642292Z",
     "iopub.status.idle": "2024-04-10T21:42:44.664831Z",
     "shell.execute_reply": "2024-04-10T21:42:44.662957Z"
    },
    "papermill": {
     "duration": 0.058888,
     "end_time": "2024-04-10T21:42:44.668019",
     "exception": false,
     "start_time": "2024-04-10T21:42:44.609131",
     "status": "completed"
    },
    "tags": []
   },
   "outputs": [
    {
     "name": "stdout",
     "output_type": "stream",
     "text": [
      "78.68\n"
     ]
    }
   ],
   "source": [
    "\n",
    "\n",
    "# Gaussian Naive Bayes\n",
    "from sklearn.naive_bayes import GaussianNB\n",
    "from sklearn.metrics import accuracy_score\n",
    "\n",
    "gaussian = GaussianNB()\n",
    "gaussian.fit(X_train, y_train)\n",
    "y_pred = gaussian.predict(X_val)\n",
    "acc_gaussian = round(accuracy_score(y_pred, y_val) * 100, 2)\n",
    "print(acc_gaussian)"
   ]
  },
  {
   "cell_type": "code",
   "execution_count": 33,
   "id": "fcac855b",
   "metadata": {
    "execution": {
     "iopub.execute_input": "2024-04-10T21:42:44.732787Z",
     "iopub.status.busy": "2024-04-10T21:42:44.732290Z",
     "iopub.status.idle": "2024-04-10T21:42:44.916268Z",
     "shell.execute_reply": "2024-04-10T21:42:44.914460Z"
    },
    "papermill": {
     "duration": 0.219866,
     "end_time": "2024-04-10T21:42:44.919427",
     "exception": false,
     "start_time": "2024-04-10T21:42:44.699561",
     "status": "completed"
    },
    "tags": []
   },
   "outputs": [
    {
     "name": "stdout",
     "output_type": "stream",
     "text": [
      "79.7\n"
     ]
    }
   ],
   "source": [
    "# Logistic Regression\n",
    "from sklearn.linear_model import LogisticRegression\n",
    "\n",
    "logreg = LogisticRegression()\n",
    "logreg.fit(X_train, y_train)\n",
    "y_pred = logreg.predict(X_val)\n",
    "acc_logreg = round(accuracy_score(y_pred, y_val)* 100, 2)\n",
    "print(acc_logreg)"
   ]
  },
  {
   "cell_type": "code",
   "execution_count": 34,
   "id": "b8ba5d00",
   "metadata": {
    "execution": {
     "iopub.execute_input": "2024-04-10T21:42:44.985973Z",
     "iopub.status.busy": "2024-04-10T21:42:44.985449Z",
     "iopub.status.idle": "2024-04-10T21:42:45.029687Z",
     "shell.execute_reply": "2024-04-10T21:42:45.028368Z"
    },
    "papermill": {
     "duration": 0.08122,
     "end_time": "2024-04-10T21:42:45.032883",
     "exception": false,
     "start_time": "2024-04-10T21:42:44.951663",
     "status": "completed"
    },
    "tags": []
   },
   "outputs": [
    {
     "name": "stdout",
     "output_type": "stream",
     "text": [
      "72.59\n"
     ]
    }
   ],
   "source": [
    "# Support Vector Machines\n",
    "from sklearn.svm import SVC\n",
    "\n",
    "svc = SVC()\n",
    "svc.fit(X_train, y_train)\n",
    "y_pred = svc.predict(X_val)\n",
    "acc_svc = round(accuracy_score(y_pred, y_val)* 100, 2)\n",
    "print(acc_svc)"
   ]
  },
  {
   "cell_type": "code",
   "execution_count": 35,
   "id": "8e327b3f",
   "metadata": {
    "execution": {
     "iopub.execute_input": "2024-04-10T21:42:45.099973Z",
     "iopub.status.busy": "2024-04-10T21:42:45.099450Z",
     "iopub.status.idle": "2024-04-10T21:42:45.157027Z",
     "shell.execute_reply": "2024-04-10T21:42:45.155611Z"
    },
    "papermill": {
     "duration": 0.09556,
     "end_time": "2024-04-10T21:42:45.160433",
     "exception": false,
     "start_time": "2024-04-10T21:42:45.064873",
     "status": "completed"
    },
    "tags": []
   },
   "outputs": [
    {
     "name": "stdout",
     "output_type": "stream",
     "text": [
      "79.7\n"
     ]
    }
   ],
   "source": [
    "# Linear SVC\n",
    "from sklearn.svm import LinearSVC\n",
    "\n",
    "linear_svc = LinearSVC()\n",
    "linear_svc.fit(X_train, y_train)\n",
    "y_pred = linear_svc.predict(X_val)\n",
    "acc_linear_svc = round(accuracy_score(y_pred, y_val)* 100, 2)\n",
    "print(acc_linear_svc)"
   ]
  },
  {
   "cell_type": "code",
   "execution_count": 36,
   "id": "bff532b0",
   "metadata": {
    "execution": {
     "iopub.execute_input": "2024-04-10T21:42:45.229037Z",
     "iopub.status.busy": "2024-04-10T21:42:45.228541Z",
     "iopub.status.idle": "2024-04-10T21:42:45.248314Z",
     "shell.execute_reply": "2024-04-10T21:42:45.246618Z"
    },
    "papermill": {
     "duration": 0.057931,
     "end_time": "2024-04-10T21:42:45.251509",
     "exception": false,
     "start_time": "2024-04-10T21:42:45.193578",
     "status": "completed"
    },
    "tags": []
   },
   "outputs": [
    {
     "name": "stdout",
     "output_type": "stream",
     "text": [
      "51.27\n"
     ]
    }
   ],
   "source": [
    "# Perceptron\n",
    "from sklearn.linear_model import Perceptron\n",
    "\n",
    "perceptron = Perceptron()\n",
    "perceptron.fit(X_train, y_train)\n",
    "y_pred = perceptron.predict(X_val)\n",
    "acc_perceptron = round(accuracy_score(y_pred, y_val)* 100, 2)\n",
    "print(acc_perceptron)"
   ]
  },
  {
   "cell_type": "code",
   "execution_count": 37,
   "id": "b2b6c696",
   "metadata": {
    "execution": {
     "iopub.execute_input": "2024-04-10T21:42:45.318665Z",
     "iopub.status.busy": "2024-04-10T21:42:45.318210Z",
     "iopub.status.idle": "2024-04-10T21:42:45.479410Z",
     "shell.execute_reply": "2024-04-10T21:42:45.477852Z"
    },
    "papermill": {
     "duration": 0.198664,
     "end_time": "2024-04-10T21:42:45.483017",
     "exception": false,
     "start_time": "2024-04-10T21:42:45.284353",
     "status": "completed"
    },
    "tags": []
   },
   "outputs": [
    {
     "name": "stdout",
     "output_type": "stream",
     "text": [
      "78.68\n"
     ]
    }
   ],
   "source": [
    "# Decision Tree\n",
    "from sklearn.tree import DecisionTreeClassifier\n",
    "\n",
    "decisiontree = DecisionTreeClassifier()\n",
    "decisiontree.fit(X_train, y_train)\n",
    "y_pred = decisiontree.predict(X_val)\n",
    "acc_decisiontree = round(accuracy_score(y_pred, y_val)* 100, 2)\n",
    "print(acc_decisiontree)"
   ]
  },
  {
   "cell_type": "code",
   "execution_count": 38,
   "id": "cff0948f",
   "metadata": {
    "execution": {
     "iopub.execute_input": "2024-04-10T21:42:45.556543Z",
     "iopub.status.busy": "2024-04-10T21:42:45.556031Z",
     "iopub.status.idle": "2024-04-10T21:42:45.986000Z",
     "shell.execute_reply": "2024-04-10T21:42:45.984388Z"
    },
    "papermill": {
     "duration": 0.473715,
     "end_time": "2024-04-10T21:42:45.989418",
     "exception": false,
     "start_time": "2024-04-10T21:42:45.515703",
     "status": "completed"
    },
    "tags": []
   },
   "outputs": [
    {
     "name": "stdout",
     "output_type": "stream",
     "text": [
      "83.76\n"
     ]
    }
   ],
   "source": [
    "# Random Forest\n",
    "from sklearn.ensemble import RandomForestClassifier\n",
    "\n",
    "randomforest = RandomForestClassifier()\n",
    "randomforest.fit(X_train, y_train)\n",
    "y_pred = randomforest.predict(X_val)\n",
    "acc_randomforest = round(accuracy_score(y_pred, y_val)* 100, 2)\n",
    "print(acc_randomforest)"
   ]
  },
  {
   "cell_type": "code",
   "execution_count": 39,
   "id": "9cb4ffa4",
   "metadata": {
    "execution": {
     "iopub.execute_input": "2024-04-10T21:42:46.056054Z",
     "iopub.status.busy": "2024-04-10T21:42:46.055539Z",
     "iopub.status.idle": "2024-04-10T21:42:46.089387Z",
     "shell.execute_reply": "2024-04-10T21:42:46.087961Z"
    },
    "papermill": {
     "duration": 0.071095,
     "end_time": "2024-04-10T21:42:46.092324",
     "exception": false,
     "start_time": "2024-04-10T21:42:46.021229",
     "status": "completed"
    },
    "tags": []
   },
   "outputs": [
    {
     "name": "stdout",
     "output_type": "stream",
     "text": [
      "77.16\n"
     ]
    }
   ],
   "source": [
    "#KNN or k-Nearest Neighbors\n",
    "from sklearn.neighbors import KNeighborsClassifier\n",
    "\n",
    "knn = KNeighborsClassifier()\n",
    "knn.fit(X_train, y_train)\n",
    "y_pred = knn.predict(X_val)\n",
    "acc_knn = round(accuracy_score(y_pred, y_val)*100, 2)\n",
    "print(acc_knn)"
   ]
  },
  {
   "cell_type": "code",
   "execution_count": 40,
   "id": "ca7cdf9d",
   "metadata": {
    "execution": {
     "iopub.execute_input": "2024-04-10T21:42:46.160255Z",
     "iopub.status.busy": "2024-04-10T21:42:46.159756Z",
     "iopub.status.idle": "2024-04-10T21:42:46.180322Z",
     "shell.execute_reply": "2024-04-10T21:42:46.178962Z"
    },
    "papermill": {
     "duration": 0.057205,
     "end_time": "2024-04-10T21:42:46.183380",
     "exception": false,
     "start_time": "2024-04-10T21:42:46.126175",
     "status": "completed"
    },
    "tags": []
   },
   "outputs": [
    {
     "name": "stdout",
     "output_type": "stream",
     "text": [
      "77.16\n"
     ]
    }
   ],
   "source": [
    "# Stochastic Gradient Descent\n",
    "from sklearn.linear_model import SGDClassifier\n",
    "\n",
    "sgd = SGDClassifier()\n",
    "sgd.fit(X_train, y_train)\n",
    "y_pred = sgd.predict(X_val)\n",
    "acc_sgd = round(accuracy_score(y_pred, y_val)*100, 2)\n",
    "print(acc_sgd)"
   ]
  },
  {
   "cell_type": "code",
   "execution_count": 41,
   "id": "261e7e59",
   "metadata": {
    "execution": {
     "iopub.execute_input": "2024-04-10T21:42:46.250785Z",
     "iopub.status.busy": "2024-04-10T21:42:46.250316Z",
     "iopub.status.idle": "2024-04-10T21:42:46.427565Z",
     "shell.execute_reply": "2024-04-10T21:42:46.426010Z"
    },
    "papermill": {
     "duration": 0.214694,
     "end_time": "2024-04-10T21:42:46.430579",
     "exception": false,
     "start_time": "2024-04-10T21:42:46.215885",
     "status": "completed"
    },
    "tags": []
   },
   "outputs": [
    {
     "name": "stdout",
     "output_type": "stream",
     "text": [
      "85.79\n"
     ]
    }
   ],
   "source": [
    "#Gradient Boosting Classifier\n",
    "from sklearn.ensemble import GradientBoostingClassifier\n",
    "\n",
    "gbk = GradientBoostingClassifier()\n",
    "gbk.fit(X_train, y_train)\n",
    "y_pred = gbk.predict(X_val)\n",
    "acc_gbk = round(accuracy_score(y_pred, y_val)*100, 2)\n",
    "print(acc_gbk)"
   ]
  },
  {
   "cell_type": "markdown",
   "id": "dda5cd05",
   "metadata": {
    "papermill": {
     "duration": 0.033424,
     "end_time": "2024-04-10T21:42:46.499253",
     "exception": false,
     "start_time": "2024-04-10T21:42:46.465829",
     "status": "completed"
    },
    "tags": []
   },
   "source": [
    "Let's compare the accuracies of each model!"
   ]
  },
  {
   "cell_type": "code",
   "execution_count": 42,
   "id": "36fee9a8",
   "metadata": {
    "execution": {
     "iopub.execute_input": "2024-04-10T21:42:46.570598Z",
     "iopub.status.busy": "2024-04-10T21:42:46.570091Z",
     "iopub.status.idle": "2024-04-10T21:42:46.588946Z",
     "shell.execute_reply": "2024-04-10T21:42:46.587507Z"
    },
    "papermill": {
     "duration": 0.057279,
     "end_time": "2024-04-10T21:42:46.591880",
     "exception": false,
     "start_time": "2024-04-10T21:42:46.534601",
     "status": "completed"
    },
    "tags": []
   },
   "outputs": [
    {
     "data": {
      "text/html": [
       "<div>\n",
       "<style scoped>\n",
       "    .dataframe tbody tr th:only-of-type {\n",
       "        vertical-align: middle;\n",
       "    }\n",
       "\n",
       "    .dataframe tbody tr th {\n",
       "        vertical-align: top;\n",
       "    }\n",
       "\n",
       "    .dataframe thead th {\n",
       "        text-align: right;\n",
       "    }\n",
       "</style>\n",
       "<table border=\"1\" class=\"dataframe\">\n",
       "  <thead>\n",
       "    <tr style=\"text-align: right;\">\n",
       "      <th></th>\n",
       "      <th>Model</th>\n",
       "      <th>Score</th>\n",
       "    </tr>\n",
       "  </thead>\n",
       "  <tbody>\n",
       "    <tr>\n",
       "      <th>9</th>\n",
       "      <td>Gradient Boosting Classifier</td>\n",
       "      <td>85.79</td>\n",
       "    </tr>\n",
       "    <tr>\n",
       "      <th>3</th>\n",
       "      <td>Random Forest</td>\n",
       "      <td>83.76</td>\n",
       "    </tr>\n",
       "    <tr>\n",
       "      <th>2</th>\n",
       "      <td>Logistic Regression</td>\n",
       "      <td>79.70</td>\n",
       "    </tr>\n",
       "    <tr>\n",
       "      <th>6</th>\n",
       "      <td>Linear SVC</td>\n",
       "      <td>79.70</td>\n",
       "    </tr>\n",
       "    <tr>\n",
       "      <th>4</th>\n",
       "      <td>Naive Bayes</td>\n",
       "      <td>78.68</td>\n",
       "    </tr>\n",
       "    <tr>\n",
       "      <th>7</th>\n",
       "      <td>Decision Tree</td>\n",
       "      <td>78.68</td>\n",
       "    </tr>\n",
       "    <tr>\n",
       "      <th>1</th>\n",
       "      <td>KNN</td>\n",
       "      <td>77.16</td>\n",
       "    </tr>\n",
       "    <tr>\n",
       "      <th>8</th>\n",
       "      <td>Stochastic Gradient Descent</td>\n",
       "      <td>77.16</td>\n",
       "    </tr>\n",
       "    <tr>\n",
       "      <th>0</th>\n",
       "      <td>Support Vector Machines</td>\n",
       "      <td>72.59</td>\n",
       "    </tr>\n",
       "    <tr>\n",
       "      <th>5</th>\n",
       "      <td>Perceptron</td>\n",
       "      <td>51.27</td>\n",
       "    </tr>\n",
       "  </tbody>\n",
       "</table>\n",
       "</div>"
      ],
      "text/plain": [
       "                          Model  Score\n",
       "9  Gradient Boosting Classifier  85.79\n",
       "3                 Random Forest  83.76\n",
       "2           Logistic Regression  79.70\n",
       "6                    Linear SVC  79.70\n",
       "4                   Naive Bayes  78.68\n",
       "7                 Decision Tree  78.68\n",
       "1                           KNN  77.16\n",
       "8   Stochastic Gradient Descent  77.16\n",
       "0       Support Vector Machines  72.59\n",
       "5                    Perceptron  51.27"
      ]
     },
     "execution_count": 42,
     "metadata": {},
     "output_type": "execute_result"
    }
   ],
   "source": [
    "models = pd.DataFrame({\n",
    "    \"Model\":['Support Vector Machines',\n",
    "             'KNN', 'Logistic Regression', \n",
    "             'Random Forest', 'Naive Bayes',\n",
    "             'Perceptron', 'Linear SVC', \n",
    "             'Decision Tree', 'Stochastic Gradient Descent',\n",
    "             'Gradient Boosting Classifier'],\n",
    "    \"Score\":[acc_svc, acc_knn, acc_logreg, \n",
    "             acc_randomforest, acc_gaussian,\n",
    "             acc_perceptron,acc_linear_svc,\n",
    "             acc_decisiontree, acc_sgd,acc_gbk]})\n",
    "models.sort_values(by=\"Score\", ascending=False)"
   ]
  },
  {
   "cell_type": "markdown",
   "id": "457e8ef0",
   "metadata": {
    "papermill": {
     "duration": 0.032742,
     "end_time": "2024-04-10T21:42:46.658957",
     "exception": false,
     "start_time": "2024-04-10T21:42:46.626215",
     "status": "completed"
    },
    "tags": []
   },
   "source": [
    "I decided to use the Gradient Boosting Classifier model for the testing data."
   ]
  },
  {
   "cell_type": "markdown",
   "id": "403b4396",
   "metadata": {
    "papermill": {
     "duration": 0.033964,
     "end_time": "2024-04-10T21:42:46.727473",
     "exception": false,
     "start_time": "2024-04-10T21:42:46.693509",
     "status": "completed"
    },
    "tags": []
   },
   "source": [
    "# 7) Creating Submission File"
   ]
  },
  {
   "cell_type": "code",
   "execution_count": 43,
   "id": "ae097e0c",
   "metadata": {
    "execution": {
     "iopub.execute_input": "2024-04-10T21:42:46.796154Z",
     "iopub.status.busy": "2024-04-10T21:42:46.794456Z",
     "iopub.status.idle": "2024-04-10T21:42:46.813175Z",
     "shell.execute_reply": "2024-04-10T21:42:46.811862Z"
    },
    "papermill": {
     "duration": 0.056399,
     "end_time": "2024-04-10T21:42:46.816402",
     "exception": false,
     "start_time": "2024-04-10T21:42:46.760003",
     "status": "completed"
    },
    "tags": []
   },
   "outputs": [],
   "source": [
    "# Set ids as PassengerId and predict survival\n",
    "ids = test[\"PassengerId\"]\n",
    "predictions = gbk.predict(test.drop(\"PassengerId\", axis=1))\n",
    "\n",
    "# Set the output as a dataframe and convert to csv file named submission.csv\n",
    "output = pd.DataFrame({\"PassengerId\": ids, \"Survived\": predictions })\n",
    "output.to_csv(\"submission.csv\", index=False)"
   ]
  },
  {
   "cell_type": "code",
   "execution_count": null,
   "id": "5a22790c",
   "metadata": {
    "papermill": {
     "duration": 0.032163,
     "end_time": "2024-04-10T21:42:46.881701",
     "exception": false,
     "start_time": "2024-04-10T21:42:46.849538",
     "status": "completed"
    },
    "tags": []
   },
   "outputs": [],
   "source": []
  }
 ],
 "metadata": {
  "kaggle": {
   "accelerator": "none",
   "dataSources": [
    {
     "databundleVersionId": 26502,
     "sourceId": 3136,
     "sourceType": "competition"
    }
   ],
   "dockerImageVersionId": 30684,
   "isGpuEnabled": false,
   "isInternetEnabled": true,
   "language": "python",
   "sourceType": "notebook"
  },
  "kernelspec": {
   "display_name": "Python 3",
   "language": "python",
   "name": "python3"
  },
  "language_info": {
   "codemirror_mode": {
    "name": "ipython",
    "version": 3
   },
   "file_extension": ".py",
   "mimetype": "text/x-python",
   "name": "python",
   "nbconvert_exporter": "python",
   "pygments_lexer": "ipython3",
   "version": "3.10.13"
  },
  "papermill": {
   "default_parameters": {},
   "duration": 18.185596,
   "end_time": "2024-04-10T21:42:47.840679",
   "environment_variables": {},
   "exception": null,
   "input_path": "__notebook__.ipynb",
   "output_path": "__notebook__.ipynb",
   "parameters": {},
   "start_time": "2024-04-10T21:42:29.655083",
   "version": "2.5.0"
  }
 },
 "nbformat": 4,
 "nbformat_minor": 5
}
