{
 "cells": [
  {
   "cell_type": "markdown",
   "id": "4077a3fb",
   "metadata": {
    "papermill": {
     "duration": 0.023259,
     "end_time": "2024-04-10T21:47:06.465391",
     "exception": false,
     "start_time": "2024-04-10T21:47:06.442132",
     "status": "completed"
    },
    "tags": []
   },
   "source": [
    "# 1) Import Necessary Libraries\n",
    "First off, we need to import several Python libraries such as numpy, pandas, matplotlib and seaborn."
   ]
  },
  {
   "cell_type": "code",
   "execution_count": 1,
   "id": "c3b76a29",
   "metadata": {
    "_cell_guid": "b1076dfc-b9ad-4769-8c92-a6c4dae69d19",
    "_uuid": "8f2839f25d086af736a60e9eeb907d3b93b6e0e5",
    "execution": {
     "iopub.execute_input": "2024-04-10T21:47:06.514246Z",
     "iopub.status.busy": "2024-04-10T21:47:06.513860Z",
     "iopub.status.idle": "2024-04-10T21:47:09.132466Z",
     "shell.execute_reply": "2024-04-10T21:47:09.130624Z"
    },
    "papermill": {
     "duration": 2.647928,
     "end_time": "2024-04-10T21:47:09.135947",
     "exception": false,
     "start_time": "2024-04-10T21:47:06.488019",
     "status": "completed"
    },
    "tags": []
   },
   "outputs": [],
   "source": [
    "#data analysis libraries \n",
    "import numpy as np\n",
    "import pandas as pd\n",
    "\n",
    "#visualization libraries\n",
    "import matplotlib.pyplot as plt\n",
    "import seaborn as sns\n",
    "%matplotlib inline\n",
    "\n",
    "#ignore warnings\n",
    "import warnings\n",
    "warnings.filterwarnings(\"ignore\")"
   ]
  },
  {
   "cell_type": "markdown",
   "id": "765bb466",
   "metadata": {
    "papermill": {
     "duration": 0.022701,
     "end_time": "2024-04-10T21:47:09.181819",
     "exception": false,
     "start_time": "2024-04-10T21:47:09.159118",
     "status": "completed"
    },
    "tags": []
   },
   "source": [
    "# 2) Read in and Explore the Data\n",
    "It's time to read in our training and testing data using pd.read_csv, and take a first look at the training data using the describe() function."
   ]
  },
  {
   "cell_type": "code",
   "execution_count": 2,
   "id": "94747ba8",
   "metadata": {
    "execution": {
     "iopub.execute_input": "2024-04-10T21:47:09.231345Z",
     "iopub.status.busy": "2024-04-10T21:47:09.230019Z",
     "iopub.status.idle": "2024-04-10T21:47:09.335806Z",
     "shell.execute_reply": "2024-04-10T21:47:09.334318Z"
    },
    "papermill": {
     "duration": 0.134095,
     "end_time": "2024-04-10T21:47:09.338868",
     "exception": false,
     "start_time": "2024-04-10T21:47:09.204773",
     "status": "completed"
    },
    "tags": []
   },
   "outputs": [
    {
     "data": {
      "text/html": [
       "<div>\n",
       "<style scoped>\n",
       "    .dataframe tbody tr th:only-of-type {\n",
       "        vertical-align: middle;\n",
       "    }\n",
       "\n",
       "    .dataframe tbody tr th {\n",
       "        vertical-align: top;\n",
       "    }\n",
       "\n",
       "    .dataframe thead th {\n",
       "        text-align: right;\n",
       "    }\n",
       "</style>\n",
       "<table border=\"1\" class=\"dataframe\">\n",
       "  <thead>\n",
       "    <tr style=\"text-align: right;\">\n",
       "      <th></th>\n",
       "      <th>PassengerId</th>\n",
       "      <th>Survived</th>\n",
       "      <th>Pclass</th>\n",
       "      <th>Name</th>\n",
       "      <th>Sex</th>\n",
       "      <th>Age</th>\n",
       "      <th>SibSp</th>\n",
       "      <th>Parch</th>\n",
       "      <th>Ticket</th>\n",
       "      <th>Fare</th>\n",
       "      <th>Cabin</th>\n",
       "      <th>Embarked</th>\n",
       "    </tr>\n",
       "  </thead>\n",
       "  <tbody>\n",
       "    <tr>\n",
       "      <th>count</th>\n",
       "      <td>891.000000</td>\n",
       "      <td>891.000000</td>\n",
       "      <td>891.000000</td>\n",
       "      <td>891</td>\n",
       "      <td>891</td>\n",
       "      <td>714.000000</td>\n",
       "      <td>891.000000</td>\n",
       "      <td>891.000000</td>\n",
       "      <td>891</td>\n",
       "      <td>891.000000</td>\n",
       "      <td>204</td>\n",
       "      <td>889</td>\n",
       "    </tr>\n",
       "    <tr>\n",
       "      <th>unique</th>\n",
       "      <td>NaN</td>\n",
       "      <td>NaN</td>\n",
       "      <td>NaN</td>\n",
       "      <td>891</td>\n",
       "      <td>2</td>\n",
       "      <td>NaN</td>\n",
       "      <td>NaN</td>\n",
       "      <td>NaN</td>\n",
       "      <td>681</td>\n",
       "      <td>NaN</td>\n",
       "      <td>147</td>\n",
       "      <td>3</td>\n",
       "    </tr>\n",
       "    <tr>\n",
       "      <th>top</th>\n",
       "      <td>NaN</td>\n",
       "      <td>NaN</td>\n",
       "      <td>NaN</td>\n",
       "      <td>Braund, Mr. Owen Harris</td>\n",
       "      <td>male</td>\n",
       "      <td>NaN</td>\n",
       "      <td>NaN</td>\n",
       "      <td>NaN</td>\n",
       "      <td>347082</td>\n",
       "      <td>NaN</td>\n",
       "      <td>B96 B98</td>\n",
       "      <td>S</td>\n",
       "    </tr>\n",
       "    <tr>\n",
       "      <th>freq</th>\n",
       "      <td>NaN</td>\n",
       "      <td>NaN</td>\n",
       "      <td>NaN</td>\n",
       "      <td>1</td>\n",
       "      <td>577</td>\n",
       "      <td>NaN</td>\n",
       "      <td>NaN</td>\n",
       "      <td>NaN</td>\n",
       "      <td>7</td>\n",
       "      <td>NaN</td>\n",
       "      <td>4</td>\n",
       "      <td>644</td>\n",
       "    </tr>\n",
       "    <tr>\n",
       "      <th>mean</th>\n",
       "      <td>446.000000</td>\n",
       "      <td>0.383838</td>\n",
       "      <td>2.308642</td>\n",
       "      <td>NaN</td>\n",
       "      <td>NaN</td>\n",
       "      <td>29.699118</td>\n",
       "      <td>0.523008</td>\n",
       "      <td>0.381594</td>\n",
       "      <td>NaN</td>\n",
       "      <td>32.204208</td>\n",
       "      <td>NaN</td>\n",
       "      <td>NaN</td>\n",
       "    </tr>\n",
       "    <tr>\n",
       "      <th>std</th>\n",
       "      <td>257.353842</td>\n",
       "      <td>0.486592</td>\n",
       "      <td>0.836071</td>\n",
       "      <td>NaN</td>\n",
       "      <td>NaN</td>\n",
       "      <td>14.526497</td>\n",
       "      <td>1.102743</td>\n",
       "      <td>0.806057</td>\n",
       "      <td>NaN</td>\n",
       "      <td>49.693429</td>\n",
       "      <td>NaN</td>\n",
       "      <td>NaN</td>\n",
       "    </tr>\n",
       "    <tr>\n",
       "      <th>min</th>\n",
       "      <td>1.000000</td>\n",
       "      <td>0.000000</td>\n",
       "      <td>1.000000</td>\n",
       "      <td>NaN</td>\n",
       "      <td>NaN</td>\n",
       "      <td>0.420000</td>\n",
       "      <td>0.000000</td>\n",
       "      <td>0.000000</td>\n",
       "      <td>NaN</td>\n",
       "      <td>0.000000</td>\n",
       "      <td>NaN</td>\n",
       "      <td>NaN</td>\n",
       "    </tr>\n",
       "    <tr>\n",
       "      <th>25%</th>\n",
       "      <td>223.500000</td>\n",
       "      <td>0.000000</td>\n",
       "      <td>2.000000</td>\n",
       "      <td>NaN</td>\n",
       "      <td>NaN</td>\n",
       "      <td>20.125000</td>\n",
       "      <td>0.000000</td>\n",
       "      <td>0.000000</td>\n",
       "      <td>NaN</td>\n",
       "      <td>7.910400</td>\n",
       "      <td>NaN</td>\n",
       "      <td>NaN</td>\n",
       "    </tr>\n",
       "    <tr>\n",
       "      <th>50%</th>\n",
       "      <td>446.000000</td>\n",
       "      <td>0.000000</td>\n",
       "      <td>3.000000</td>\n",
       "      <td>NaN</td>\n",
       "      <td>NaN</td>\n",
       "      <td>28.000000</td>\n",
       "      <td>0.000000</td>\n",
       "      <td>0.000000</td>\n",
       "      <td>NaN</td>\n",
       "      <td>14.454200</td>\n",
       "      <td>NaN</td>\n",
       "      <td>NaN</td>\n",
       "    </tr>\n",
       "    <tr>\n",
       "      <th>75%</th>\n",
       "      <td>668.500000</td>\n",
       "      <td>1.000000</td>\n",
       "      <td>3.000000</td>\n",
       "      <td>NaN</td>\n",
       "      <td>NaN</td>\n",
       "      <td>38.000000</td>\n",
       "      <td>1.000000</td>\n",
       "      <td>0.000000</td>\n",
       "      <td>NaN</td>\n",
       "      <td>31.000000</td>\n",
       "      <td>NaN</td>\n",
       "      <td>NaN</td>\n",
       "    </tr>\n",
       "    <tr>\n",
       "      <th>max</th>\n",
       "      <td>891.000000</td>\n",
       "      <td>1.000000</td>\n",
       "      <td>3.000000</td>\n",
       "      <td>NaN</td>\n",
       "      <td>NaN</td>\n",
       "      <td>80.000000</td>\n",
       "      <td>8.000000</td>\n",
       "      <td>6.000000</td>\n",
       "      <td>NaN</td>\n",
       "      <td>512.329200</td>\n",
       "      <td>NaN</td>\n",
       "      <td>NaN</td>\n",
       "    </tr>\n",
       "  </tbody>\n",
       "</table>\n",
       "</div>"
      ],
      "text/plain": [
       "        PassengerId    Survived      Pclass                     Name   Sex  \\\n",
       "count    891.000000  891.000000  891.000000                      891   891   \n",
       "unique          NaN         NaN         NaN                      891     2   \n",
       "top             NaN         NaN         NaN  Braund, Mr. Owen Harris  male   \n",
       "freq            NaN         NaN         NaN                        1   577   \n",
       "mean     446.000000    0.383838    2.308642                      NaN   NaN   \n",
       "std      257.353842    0.486592    0.836071                      NaN   NaN   \n",
       "min        1.000000    0.000000    1.000000                      NaN   NaN   \n",
       "25%      223.500000    0.000000    2.000000                      NaN   NaN   \n",
       "50%      446.000000    0.000000    3.000000                      NaN   NaN   \n",
       "75%      668.500000    1.000000    3.000000                      NaN   NaN   \n",
       "max      891.000000    1.000000    3.000000                      NaN   NaN   \n",
       "\n",
       "               Age       SibSp       Parch  Ticket        Fare    Cabin  \\\n",
       "count   714.000000  891.000000  891.000000     891  891.000000      204   \n",
       "unique         NaN         NaN         NaN     681         NaN      147   \n",
       "top            NaN         NaN         NaN  347082         NaN  B96 B98   \n",
       "freq           NaN         NaN         NaN       7         NaN        4   \n",
       "mean     29.699118    0.523008    0.381594     NaN   32.204208      NaN   \n",
       "std      14.526497    1.102743    0.806057     NaN   49.693429      NaN   \n",
       "min       0.420000    0.000000    0.000000     NaN    0.000000      NaN   \n",
       "25%      20.125000    0.000000    0.000000     NaN    7.910400      NaN   \n",
       "50%      28.000000    0.000000    0.000000     NaN   14.454200      NaN   \n",
       "75%      38.000000    1.000000    0.000000     NaN   31.000000      NaN   \n",
       "max      80.000000    8.000000    6.000000     NaN  512.329200      NaN   \n",
       "\n",
       "       Embarked  \n",
       "count       889  \n",
       "unique        3  \n",
       "top           S  \n",
       "freq        644  \n",
       "mean        NaN  \n",
       "std         NaN  \n",
       "min         NaN  \n",
       "25%         NaN  \n",
       "50%         NaN  \n",
       "75%         NaN  \n",
       "max         NaN  "
      ]
     },
     "execution_count": 2,
     "metadata": {},
     "output_type": "execute_result"
    }
   ],
   "source": [
    "train = pd.read_csv(\"/kaggle/input/titanic/train.csv\")\n",
    "test = pd.read_csv(\"/kaggle/input/titanic/test.csv\")\n",
    "\n",
    "train.describe(include=\"all\")"
   ]
  },
  {
   "cell_type": "markdown",
   "id": "1da423ea",
   "metadata": {
    "papermill": {
     "duration": 0.024247,
     "end_time": "2024-04-10T21:47:09.386879",
     "exception": false,
     "start_time": "2024-04-10T21:47:09.362632",
     "status": "completed"
    },
    "tags": []
   },
   "source": [
    "# 3) Data Analysis\n",
    "We're going to consider the features in the dataset and how complete they are."
   ]
  },
  {
   "cell_type": "code",
   "execution_count": 3,
   "id": "4dd8d32e",
   "metadata": {
    "execution": {
     "iopub.execute_input": "2024-04-10T21:47:09.436586Z",
     "iopub.status.busy": "2024-04-10T21:47:09.436158Z",
     "iopub.status.idle": "2024-04-10T21:47:09.442161Z",
     "shell.execute_reply": "2024-04-10T21:47:09.441094Z"
    },
    "papermill": {
     "duration": 0.03429,
     "end_time": "2024-04-10T21:47:09.445414",
     "exception": false,
     "start_time": "2024-04-10T21:47:09.411124",
     "status": "completed"
    },
    "tags": []
   },
   "outputs": [
    {
     "name": "stdout",
     "output_type": "stream",
     "text": [
      "Index(['PassengerId', 'Survived', 'Pclass', 'Name', 'Sex', 'Age', 'SibSp',\n",
      "       'Parch', 'Ticket', 'Fare', 'Cabin', 'Embarked'],\n",
      "      dtype='object')\n"
     ]
    }
   ],
   "source": [
    "# Get a list of the features within the dataset (print all the cols)\n",
    "print(train.columns)"
   ]
  },
  {
   "cell_type": "code",
   "execution_count": 4,
   "id": "ec583dcc",
   "metadata": {
    "execution": {
     "iopub.execute_input": "2024-04-10T21:47:09.494318Z",
     "iopub.status.busy": "2024-04-10T21:47:09.493840Z",
     "iopub.status.idle": "2024-04-10T21:47:09.516845Z",
     "shell.execute_reply": "2024-04-10T21:47:09.515408Z"
    },
    "papermill": {
     "duration": 0.050586,
     "end_time": "2024-04-10T21:47:09.519566",
     "exception": false,
     "start_time": "2024-04-10T21:47:09.468980",
     "status": "completed"
    },
    "tags": []
   },
   "outputs": [
    {
     "data": {
      "text/html": [
       "<div>\n",
       "<style scoped>\n",
       "    .dataframe tbody tr th:only-of-type {\n",
       "        vertical-align: middle;\n",
       "    }\n",
       "\n",
       "    .dataframe tbody tr th {\n",
       "        vertical-align: top;\n",
       "    }\n",
       "\n",
       "    .dataframe thead th {\n",
       "        text-align: right;\n",
       "    }\n",
       "</style>\n",
       "<table border=\"1\" class=\"dataframe\">\n",
       "  <thead>\n",
       "    <tr style=\"text-align: right;\">\n",
       "      <th></th>\n",
       "      <th>PassengerId</th>\n",
       "      <th>Survived</th>\n",
       "      <th>Pclass</th>\n",
       "      <th>Name</th>\n",
       "      <th>Sex</th>\n",
       "      <th>Age</th>\n",
       "      <th>SibSp</th>\n",
       "      <th>Parch</th>\n",
       "      <th>Ticket</th>\n",
       "      <th>Fare</th>\n",
       "      <th>Cabin</th>\n",
       "      <th>Embarked</th>\n",
       "    </tr>\n",
       "  </thead>\n",
       "  <tbody>\n",
       "    <tr>\n",
       "      <th>19</th>\n",
       "      <td>20</td>\n",
       "      <td>1</td>\n",
       "      <td>3</td>\n",
       "      <td>Masselmani, Mrs. Fatima</td>\n",
       "      <td>female</td>\n",
       "      <td>NaN</td>\n",
       "      <td>0</td>\n",
       "      <td>0</td>\n",
       "      <td>2649</td>\n",
       "      <td>7.2250</td>\n",
       "      <td>NaN</td>\n",
       "      <td>C</td>\n",
       "    </tr>\n",
       "    <tr>\n",
       "      <th>556</th>\n",
       "      <td>557</td>\n",
       "      <td>1</td>\n",
       "      <td>1</td>\n",
       "      <td>Duff Gordon, Lady. (Lucille Christiana Sutherl...</td>\n",
       "      <td>female</td>\n",
       "      <td>48.0</td>\n",
       "      <td>1</td>\n",
       "      <td>0</td>\n",
       "      <td>11755</td>\n",
       "      <td>39.6000</td>\n",
       "      <td>A16</td>\n",
       "      <td>C</td>\n",
       "    </tr>\n",
       "    <tr>\n",
       "      <th>414</th>\n",
       "      <td>415</td>\n",
       "      <td>1</td>\n",
       "      <td>3</td>\n",
       "      <td>Sundman, Mr. Johan Julian</td>\n",
       "      <td>male</td>\n",
       "      <td>44.0</td>\n",
       "      <td>0</td>\n",
       "      <td>0</td>\n",
       "      <td>STON/O 2. 3101269</td>\n",
       "      <td>7.9250</td>\n",
       "      <td>NaN</td>\n",
       "      <td>S</td>\n",
       "    </tr>\n",
       "    <tr>\n",
       "      <th>218</th>\n",
       "      <td>219</td>\n",
       "      <td>1</td>\n",
       "      <td>1</td>\n",
       "      <td>Bazzani, Miss. Albina</td>\n",
       "      <td>female</td>\n",
       "      <td>32.0</td>\n",
       "      <td>0</td>\n",
       "      <td>0</td>\n",
       "      <td>11813</td>\n",
       "      <td>76.2917</td>\n",
       "      <td>D15</td>\n",
       "      <td>C</td>\n",
       "    </tr>\n",
       "    <tr>\n",
       "      <th>151</th>\n",
       "      <td>152</td>\n",
       "      <td>1</td>\n",
       "      <td>1</td>\n",
       "      <td>Pears, Mrs. Thomas (Edith Wearne)</td>\n",
       "      <td>female</td>\n",
       "      <td>22.0</td>\n",
       "      <td>1</td>\n",
       "      <td>0</td>\n",
       "      <td>113776</td>\n",
       "      <td>66.6000</td>\n",
       "      <td>C2</td>\n",
       "      <td>S</td>\n",
       "    </tr>\n",
       "  </tbody>\n",
       "</table>\n",
       "</div>"
      ],
      "text/plain": [
       "     PassengerId  Survived  Pclass  \\\n",
       "19            20         1       3   \n",
       "556          557         1       1   \n",
       "414          415         1       3   \n",
       "218          219         1       1   \n",
       "151          152         1       1   \n",
       "\n",
       "                                                  Name     Sex   Age  SibSp  \\\n",
       "19                             Masselmani, Mrs. Fatima  female   NaN      0   \n",
       "556  Duff Gordon, Lady. (Lucille Christiana Sutherl...  female  48.0      1   \n",
       "414                          Sundman, Mr. Johan Julian    male  44.0      0   \n",
       "218                              Bazzani, Miss. Albina  female  32.0      0   \n",
       "151                  Pears, Mrs. Thomas (Edith Wearne)  female  22.0      1   \n",
       "\n",
       "     Parch             Ticket     Fare Cabin Embarked  \n",
       "19       0               2649   7.2250   NaN        C  \n",
       "556      0              11755  39.6000   A16        C  \n",
       "414      0  STON/O 2. 3101269   7.9250   NaN        S  \n",
       "218      0              11813  76.2917   D15        C  \n",
       "151      0             113776  66.6000    C2        S  "
      ]
     },
     "execution_count": 4,
     "metadata": {},
     "output_type": "execute_result"
    }
   ],
   "source": [
    "# Check a sample of the dataset to get an idea of the variables\n",
    "train.sample(5)"
   ]
  },
  {
   "cell_type": "markdown",
   "id": "8fa0d817",
   "metadata": {
    "papermill": {
     "duration": 0.022894,
     "end_time": "2024-04-10T21:47:09.566761",
     "exception": false,
     "start_time": "2024-04-10T21:47:09.543867",
     "status": "completed"
    },
    "tags": []
   },
   "source": [
    "- Numerical Features: Age (Continuous), Fare (Continuous), SibSp (Discrete), Parch (Discrete)\n",
    "- Categorical Features: Survived, Sex, Embarked, Pclass\n",
    "- Alphanumeric Features: Ticket, Cabin"
   ]
  },
  {
   "cell_type": "markdown",
   "id": "b64d37ca",
   "metadata": {
    "papermill": {
     "duration": 0.023396,
     "end_time": "2024-04-10T21:47:09.613121",
     "exception": false,
     "start_time": "2024-04-10T21:47:09.589725",
     "status": "completed"
    },
    "tags": []
   },
   "source": [
    "**What are the data types for each feature?**\n",
    "- Survived: int\n",
    "- Pclass: int\n",
    "- Name: string\n",
    "- Sex: string\n",
    "- Age: float\n",
    "- SibSp: int\n",
    "- Parch: int\n",
    "- Ticket: string\n",
    "- Fare: float\n",
    "- Cabin: string\n",
    "- Embarked: string\n",
    "\n",
    "Now that we have an idea of what kinds of features we're working with, we can see how much information we have about each of them."
   ]
  },
  {
   "cell_type": "code",
   "execution_count": 5,
   "id": "16818a33",
   "metadata": {
    "execution": {
     "iopub.execute_input": "2024-04-10T21:47:09.662706Z",
     "iopub.status.busy": "2024-04-10T21:47:09.662279Z",
     "iopub.status.idle": "2024-04-10T21:47:09.708906Z",
     "shell.execute_reply": "2024-04-10T21:47:09.707435Z"
    },
    "papermill": {
     "duration": 0.075182,
     "end_time": "2024-04-10T21:47:09.711966",
     "exception": false,
     "start_time": "2024-04-10T21:47:09.636784",
     "status": "completed"
    },
    "tags": []
   },
   "outputs": [
    {
     "data": {
      "text/html": [
       "<div>\n",
       "<style scoped>\n",
       "    .dataframe tbody tr th:only-of-type {\n",
       "        vertical-align: middle;\n",
       "    }\n",
       "\n",
       "    .dataframe tbody tr th {\n",
       "        vertical-align: top;\n",
       "    }\n",
       "\n",
       "    .dataframe thead th {\n",
       "        text-align: right;\n",
       "    }\n",
       "</style>\n",
       "<table border=\"1\" class=\"dataframe\">\n",
       "  <thead>\n",
       "    <tr style=\"text-align: right;\">\n",
       "      <th></th>\n",
       "      <th>PassengerId</th>\n",
       "      <th>Survived</th>\n",
       "      <th>Pclass</th>\n",
       "      <th>Name</th>\n",
       "      <th>Sex</th>\n",
       "      <th>Age</th>\n",
       "      <th>SibSp</th>\n",
       "      <th>Parch</th>\n",
       "      <th>Ticket</th>\n",
       "      <th>Fare</th>\n",
       "      <th>Cabin</th>\n",
       "      <th>Embarked</th>\n",
       "    </tr>\n",
       "  </thead>\n",
       "  <tbody>\n",
       "    <tr>\n",
       "      <th>count</th>\n",
       "      <td>891.000000</td>\n",
       "      <td>891.000000</td>\n",
       "      <td>891.000000</td>\n",
       "      <td>891</td>\n",
       "      <td>891</td>\n",
       "      <td>714.000000</td>\n",
       "      <td>891.000000</td>\n",
       "      <td>891.000000</td>\n",
       "      <td>891</td>\n",
       "      <td>891.000000</td>\n",
       "      <td>204</td>\n",
       "      <td>889</td>\n",
       "    </tr>\n",
       "    <tr>\n",
       "      <th>unique</th>\n",
       "      <td>NaN</td>\n",
       "      <td>NaN</td>\n",
       "      <td>NaN</td>\n",
       "      <td>891</td>\n",
       "      <td>2</td>\n",
       "      <td>NaN</td>\n",
       "      <td>NaN</td>\n",
       "      <td>NaN</td>\n",
       "      <td>681</td>\n",
       "      <td>NaN</td>\n",
       "      <td>147</td>\n",
       "      <td>3</td>\n",
       "    </tr>\n",
       "    <tr>\n",
       "      <th>top</th>\n",
       "      <td>NaN</td>\n",
       "      <td>NaN</td>\n",
       "      <td>NaN</td>\n",
       "      <td>Braund, Mr. Owen Harris</td>\n",
       "      <td>male</td>\n",
       "      <td>NaN</td>\n",
       "      <td>NaN</td>\n",
       "      <td>NaN</td>\n",
       "      <td>347082</td>\n",
       "      <td>NaN</td>\n",
       "      <td>B96 B98</td>\n",
       "      <td>S</td>\n",
       "    </tr>\n",
       "    <tr>\n",
       "      <th>freq</th>\n",
       "      <td>NaN</td>\n",
       "      <td>NaN</td>\n",
       "      <td>NaN</td>\n",
       "      <td>1</td>\n",
       "      <td>577</td>\n",
       "      <td>NaN</td>\n",
       "      <td>NaN</td>\n",
       "      <td>NaN</td>\n",
       "      <td>7</td>\n",
       "      <td>NaN</td>\n",
       "      <td>4</td>\n",
       "      <td>644</td>\n",
       "    </tr>\n",
       "    <tr>\n",
       "      <th>mean</th>\n",
       "      <td>446.000000</td>\n",
       "      <td>0.383838</td>\n",
       "      <td>2.308642</td>\n",
       "      <td>NaN</td>\n",
       "      <td>NaN</td>\n",
       "      <td>29.699118</td>\n",
       "      <td>0.523008</td>\n",
       "      <td>0.381594</td>\n",
       "      <td>NaN</td>\n",
       "      <td>32.204208</td>\n",
       "      <td>NaN</td>\n",
       "      <td>NaN</td>\n",
       "    </tr>\n",
       "    <tr>\n",
       "      <th>std</th>\n",
       "      <td>257.353842</td>\n",
       "      <td>0.486592</td>\n",
       "      <td>0.836071</td>\n",
       "      <td>NaN</td>\n",
       "      <td>NaN</td>\n",
       "      <td>14.526497</td>\n",
       "      <td>1.102743</td>\n",
       "      <td>0.806057</td>\n",
       "      <td>NaN</td>\n",
       "      <td>49.693429</td>\n",
       "      <td>NaN</td>\n",
       "      <td>NaN</td>\n",
       "    </tr>\n",
       "    <tr>\n",
       "      <th>min</th>\n",
       "      <td>1.000000</td>\n",
       "      <td>0.000000</td>\n",
       "      <td>1.000000</td>\n",
       "      <td>NaN</td>\n",
       "      <td>NaN</td>\n",
       "      <td>0.420000</td>\n",
       "      <td>0.000000</td>\n",
       "      <td>0.000000</td>\n",
       "      <td>NaN</td>\n",
       "      <td>0.000000</td>\n",
       "      <td>NaN</td>\n",
       "      <td>NaN</td>\n",
       "    </tr>\n",
       "    <tr>\n",
       "      <th>25%</th>\n",
       "      <td>223.500000</td>\n",
       "      <td>0.000000</td>\n",
       "      <td>2.000000</td>\n",
       "      <td>NaN</td>\n",
       "      <td>NaN</td>\n",
       "      <td>20.125000</td>\n",
       "      <td>0.000000</td>\n",
       "      <td>0.000000</td>\n",
       "      <td>NaN</td>\n",
       "      <td>7.910400</td>\n",
       "      <td>NaN</td>\n",
       "      <td>NaN</td>\n",
       "    </tr>\n",
       "    <tr>\n",
       "      <th>50%</th>\n",
       "      <td>446.000000</td>\n",
       "      <td>0.000000</td>\n",
       "      <td>3.000000</td>\n",
       "      <td>NaN</td>\n",
       "      <td>NaN</td>\n",
       "      <td>28.000000</td>\n",
       "      <td>0.000000</td>\n",
       "      <td>0.000000</td>\n",
       "      <td>NaN</td>\n",
       "      <td>14.454200</td>\n",
       "      <td>NaN</td>\n",
       "      <td>NaN</td>\n",
       "    </tr>\n",
       "    <tr>\n",
       "      <th>75%</th>\n",
       "      <td>668.500000</td>\n",
       "      <td>1.000000</td>\n",
       "      <td>3.000000</td>\n",
       "      <td>NaN</td>\n",
       "      <td>NaN</td>\n",
       "      <td>38.000000</td>\n",
       "      <td>1.000000</td>\n",
       "      <td>0.000000</td>\n",
       "      <td>NaN</td>\n",
       "      <td>31.000000</td>\n",
       "      <td>NaN</td>\n",
       "      <td>NaN</td>\n",
       "    </tr>\n",
       "    <tr>\n",
       "      <th>max</th>\n",
       "      <td>891.000000</td>\n",
       "      <td>1.000000</td>\n",
       "      <td>3.000000</td>\n",
       "      <td>NaN</td>\n",
       "      <td>NaN</td>\n",
       "      <td>80.000000</td>\n",
       "      <td>8.000000</td>\n",
       "      <td>6.000000</td>\n",
       "      <td>NaN</td>\n",
       "      <td>512.329200</td>\n",
       "      <td>NaN</td>\n",
       "      <td>NaN</td>\n",
       "    </tr>\n",
       "  </tbody>\n",
       "</table>\n",
       "</div>"
      ],
      "text/plain": [
       "        PassengerId    Survived      Pclass                     Name   Sex  \\\n",
       "count    891.000000  891.000000  891.000000                      891   891   \n",
       "unique          NaN         NaN         NaN                      891     2   \n",
       "top             NaN         NaN         NaN  Braund, Mr. Owen Harris  male   \n",
       "freq            NaN         NaN         NaN                        1   577   \n",
       "mean     446.000000    0.383838    2.308642                      NaN   NaN   \n",
       "std      257.353842    0.486592    0.836071                      NaN   NaN   \n",
       "min        1.000000    0.000000    1.000000                      NaN   NaN   \n",
       "25%      223.500000    0.000000    2.000000                      NaN   NaN   \n",
       "50%      446.000000    0.000000    3.000000                      NaN   NaN   \n",
       "75%      668.500000    1.000000    3.000000                      NaN   NaN   \n",
       "max      891.000000    1.000000    3.000000                      NaN   NaN   \n",
       "\n",
       "               Age       SibSp       Parch  Ticket        Fare    Cabin  \\\n",
       "count   714.000000  891.000000  891.000000     891  891.000000      204   \n",
       "unique         NaN         NaN         NaN     681         NaN      147   \n",
       "top            NaN         NaN         NaN  347082         NaN  B96 B98   \n",
       "freq           NaN         NaN         NaN       7         NaN        4   \n",
       "mean     29.699118    0.523008    0.381594     NaN   32.204208      NaN   \n",
       "std      14.526497    1.102743    0.806057     NaN   49.693429      NaN   \n",
       "min       0.420000    0.000000    0.000000     NaN    0.000000      NaN   \n",
       "25%      20.125000    0.000000    0.000000     NaN    7.910400      NaN   \n",
       "50%      28.000000    0.000000    0.000000     NaN   14.454200      NaN   \n",
       "75%      38.000000    1.000000    0.000000     NaN   31.000000      NaN   \n",
       "max      80.000000    8.000000    6.000000     NaN  512.329200      NaN   \n",
       "\n",
       "       Embarked  \n",
       "count       889  \n",
       "unique        3  \n",
       "top           S  \n",
       "freq        644  \n",
       "mean        NaN  \n",
       "std         NaN  \n",
       "min         NaN  \n",
       "25%         NaN  \n",
       "50%         NaN  \n",
       "75%         NaN  \n",
       "max         NaN  "
      ]
     },
     "execution_count": 5,
     "metadata": {},
     "output_type": "execute_result"
    }
   ],
   "source": [
    "# See a summary of the training dataset\n",
    "train.describe(include = \"all\")"
   ]
  },
  {
   "cell_type": "markdown",
   "id": "489b883d",
   "metadata": {
    "papermill": {
     "duration": 0.023544,
     "end_time": "2024-04-10T21:47:09.759700",
     "exception": false,
     "start_time": "2024-04-10T21:47:09.736156",
     "status": "completed"
    },
    "tags": []
   },
   "source": [
    "### Some Observations:\n",
    "- There are a total of 891 passengers in our training set.\n",
    "- The Age feature is missing approximately 19.8% of its values. I'm guessing that the Age feature is pretty important to survival, so we should probably attempt to fill these gaps.\n",
    "- The Cabin feature is missing approximately 77.1% of its values. Since so much of the feature is missing, it would be hard to fill in the missing values. We'll probably drop these values from our dataset.\n",
    "- The Embarked feature is missing 0.22% of its values, which should be relatively harmless."
   ]
  },
  {
   "cell_type": "code",
   "execution_count": 6,
   "id": "13365e89",
   "metadata": {
    "execution": {
     "iopub.execute_input": "2024-04-10T21:47:09.809661Z",
     "iopub.status.busy": "2024-04-10T21:47:09.809235Z",
     "iopub.status.idle": "2024-04-10T21:47:09.817476Z",
     "shell.execute_reply": "2024-04-10T21:47:09.816177Z"
    },
    "papermill": {
     "duration": 0.037178,
     "end_time": "2024-04-10T21:47:09.820674",
     "exception": false,
     "start_time": "2024-04-10T21:47:09.783496",
     "status": "completed"
    },
    "tags": []
   },
   "outputs": [
    {
     "name": "stdout",
     "output_type": "stream",
     "text": [
      "PassengerId      0\n",
      "Survived         0\n",
      "Pclass           0\n",
      "Name             0\n",
      "Sex              0\n",
      "Age            177\n",
      "SibSp            0\n",
      "Parch            0\n",
      "Ticket           0\n",
      "Fare             0\n",
      "Cabin          687\n",
      "Embarked         2\n",
      "dtype: int64\n"
     ]
    }
   ],
   "source": [
    "# Check for any other unusable values\n",
    "print(pd.isnull(train).sum())"
   ]
  },
  {
   "cell_type": "markdown",
   "id": "cec805ab",
   "metadata": {
    "papermill": {
     "duration": 0.023842,
     "end_time": "2024-04-10T21:47:09.869376",
     "exception": false,
     "start_time": "2024-04-10T21:47:09.845534",
     "status": "completed"
    },
    "tags": []
   },
   "source": [
    "We can see that except for the abovementioned missing values, no NaN values exist."
   ]
  },
  {
   "cell_type": "markdown",
   "id": "58535d24",
   "metadata": {
    "papermill": {
     "duration": 0.024994,
     "end_time": "2024-04-10T21:47:09.920050",
     "exception": false,
     "start_time": "2024-04-10T21:47:09.895056",
     "status": "completed"
    },
    "tags": []
   },
   "source": [
    "### Some Predictions:\n",
    "- Sex: Females are more likely to survive.\n",
    "- SibSp/Parch: People traveling alone are more likely to survive.\n",
    "- Age: Young children are more likely to survive.\n",
    "- Pclass: People of higher socioeconomic class are more likely to survive."
   ]
  },
  {
   "cell_type": "markdown",
   "id": "fea26c9a",
   "metadata": {
    "papermill": {
     "duration": 0.023632,
     "end_time": "2024-04-10T21:47:09.967836",
     "exception": false,
     "start_time": "2024-04-10T21:47:09.944204",
     "status": "completed"
    },
    "tags": []
   },
   "source": [
    "# 4) Data Visualization\n",
    "It's time to visualize our data so we can see whether our predictions were accurate!"
   ]
  },
  {
   "cell_type": "markdown",
   "id": "7187dbf4",
   "metadata": {
    "papermill": {
     "duration": 0.026278,
     "end_time": "2024-04-10T21:47:10.018271",
     "exception": false,
     "start_time": "2024-04-10T21:47:09.991993",
     "status": "completed"
    },
    "tags": []
   },
   "source": [
    "**Sex Feature**"
   ]
  },
  {
   "cell_type": "code",
   "execution_count": 7,
   "id": "79567e6c",
   "metadata": {
    "execution": {
     "iopub.execute_input": "2024-04-10T21:47:10.068993Z",
     "iopub.status.busy": "2024-04-10T21:47:10.068576Z",
     "iopub.status.idle": "2024-04-10T21:47:10.541784Z",
     "shell.execute_reply": "2024-04-10T21:47:10.540179Z"
    },
    "papermill": {
     "duration": 0.501773,
     "end_time": "2024-04-10T21:47:10.544462",
     "exception": false,
     "start_time": "2024-04-10T21:47:10.042689",
     "status": "completed"
    },
    "tags": []
   },
   "outputs": [
    {
     "name": "stdout",
     "output_type": "stream",
     "text": [
      "Percentage of females who survived 74.20382165605095\n",
      "Percentage of males who survived 18.890814558058924\n"
     ]
    },
    {
     "data": {
      "image/png": "[encoded data removed]",
      "text/plain": [
       "<Figure size 640x480 with 1 Axes>"
      ]
     },
     "metadata": {},
     "output_type": "display_data"
    }
   ],
   "source": [
    "# draw a bar plot of survival by sex\n",
    "sns.barplot(x=\"Sex\", y=\"Survived\",data=train)\n",
    "\n",
    "#print percentages of females vs.males that survive\n",
    "print(\"Percentage of females who survived\",\n",
    "      train[\"Survived\"][train[\"Sex\"] == \"female\"].value_counts(normalize = True)[1]*100)\n",
    "\n",
    "print(\"Percentage of males who survived\",\n",
    "      train[\"Survived\"][train[\"Sex\"] == \"male\"].value_counts(normalize = True)[1]*100)"
   ]
  },
  {
   "cell_type": "markdown",
   "id": "df7301da",
   "metadata": {
    "papermill": {
     "duration": 0.024608,
     "end_time": "2024-04-10T21:47:10.593977",
     "exception": false,
     "start_time": "2024-04-10T21:47:10.569369",
     "status": "completed"
    },
    "tags": []
   },
   "source": [
    "As predicted, females have a much higher chance of survival than males.\n",
    "The Sex feature is essential in our predictions."
   ]
  },
  {
   "cell_type": "markdown",
   "id": "388bf284",
   "metadata": {
    "papermill": {
     "duration": 0.024332,
     "end_time": "2024-04-10T21:47:10.735160",
     "exception": false,
     "start_time": "2024-04-10T21:47:10.710828",
     "status": "completed"
    },
    "tags": []
   },
   "source": [
    "**Pclass Feature**"
   ]
  },
  {
   "cell_type": "code",
   "execution_count": 8,
   "id": "0be6d218",
   "metadata": {
    "execution": {
     "iopub.execute_input": "2024-04-10T21:47:10.788467Z",
     "iopub.status.busy": "2024-04-10T21:47:10.788017Z",
     "iopub.status.idle": "2024-04-10T21:47:11.176982Z",
     "shell.execute_reply": "2024-04-10T21:47:11.175522Z"
    },
    "papermill": {
     "duration": 0.419654,
     "end_time": "2024-04-10T21:47:11.179876",
     "exception": false,
     "start_time": "2024-04-10T21:47:10.760222",
     "status": "completed"
    },
    "tags": []
   },
   "outputs": [
    {
     "name": "stdout",
     "output_type": "stream",
     "text": [
      "Percentage of Pclass = 1 who survived: 62.96296296296296\n",
      "Percentage of Pclass = 2 who survived: 47.28260869565217\n",
      "Percentage of Pclass = 3 who survived: 24.236252545824847\n"
     ]
    },
    {
     "data": {
      "image/png": "[encoded data removed]",
      "text/plain": [
       "<Figure size 640x480 with 1 Axes>"
      ]
     },
     "metadata": {},
     "output_type": "display_data"
    }
   ],
   "source": [
    "# Draw a bar plot of survival by Pclass\n",
    "sns.barplot(x=\"Pclass\",y=\"Survived\",data=train)\n",
    "\n",
    "# Print percentage of people by Pclass that survived\n",
    "print(\"Percentage of Pclass = 1 who survived:\", train.Survived [train.Pclass == 1].value_counts(normalize = True)[1]*100)\n",
    "print(\"Percentage of Pclass = 2 who survived:\", train.Survived [train.Pclass == 2].value_counts(normalize = True)[1]*100)\n",
    "print(\"Percentage of Pclass = 3 who survived:\", train.Survived [train.Pclass == 3].value_counts(normalize = True)[1]*100)"
   ]
  },
  {
   "cell_type": "markdown",
   "id": "1c98a541",
   "metadata": {
    "papermill": {
     "duration": 0.024457,
     "end_time": "2024-04-10T21:47:11.229351",
     "exception": false,
     "start_time": "2024-04-10T21:47:11.204894",
     "status": "completed"
    },
    "tags": []
   },
   "source": [
    "As predicted, people with higher socioeconomic class had a higher rate of survival. (62.9% vs. 47.3% vs. 24.2%)"
   ]
  },
  {
   "cell_type": "markdown",
   "id": "e1328ddb",
   "metadata": {
    "papermill": {
     "duration": 0.027784,
     "end_time": "2024-04-10T21:47:11.281703",
     "exception": false,
     "start_time": "2024-04-10T21:47:11.253919",
     "status": "completed"
    },
    "tags": []
   },
   "source": [
    "### SibSp Feature"
   ]
  },
  {
   "cell_type": "code",
   "execution_count": 9,
   "id": "1c085099",
   "metadata": {
    "execution": {
     "iopub.execute_input": "2024-04-10T21:47:11.345397Z",
     "iopub.status.busy": "2024-04-10T21:47:11.344879Z",
     "iopub.status.idle": "2024-04-10T21:47:11.957808Z",
     "shell.execute_reply": "2024-04-10T21:47:11.956825Z"
    },
    "papermill": {
     "duration": 0.645087,
     "end_time": "2024-04-10T21:47:11.961466",
     "exception": false,
     "start_time": "2024-04-10T21:47:11.316379",
     "status": "completed"
    },
    "tags": []
   },
   "outputs": [
    {
     "name": "stdout",
     "output_type": "stream",
     "text": [
      "Percentage of SibSp = 0 who survived: 34.53947368421053\n",
      "Percentage of SibSp = 1 who survived: 53.588516746411486\n",
      "Percentage of SibSp = 2 who survived: 46.42857142857143\n"
     ]
    },
    {
     "data": {
      "image/png": "[encoded data removed]",
      "text/plain": [
       "<Figure size 640x480 with 1 Axes>"
      ]
     },
     "metadata": {},
     "output_type": "display_data"
    }
   ],
   "source": [
    "# Draw a bar plot for SibSp vs. survival\n",
    "sns.barplot(x=\"SibSp\", y=\"Survived\",data=train)\n",
    "\n",
    "# I won't be printig individual percent values for all of these.\n",
    "print(\"Percentage of SibSp = 0 who survived:\",\n",
    "      train.Survived [train.SibSp == 0].value_counts(normalize = True)[1]*100)\n",
    "\n",
    "print(\"Percentage of SibSp = 1 who survived:\",\n",
    "     train.Survived [train.SibSp == 1].value_counts(normalize = True)[1]*100)\n",
    "\n",
    "print(\"Percentage of SibSp = 2 who survived:\",\n",
    "     train.Survived [train.SibSp == 2].value_counts(normalize = True)[1]*100)"
   ]
  },
  {
   "cell_type": "markdown",
   "id": "44077e0a",
   "metadata": {
    "papermill": {
     "duration": 0.04373,
     "end_time": "2024-04-10T21:47:12.035231",
     "exception": false,
     "start_time": "2024-04-10T21:47:11.991501",
     "status": "completed"
    },
    "tags": []
   },
   "source": [
    "In general, it's clear that people with more siblings or spouses aboard were less likely to survive. However, contrary to expectations, people with no siblings or spouses were less to likely to survive than those with one or two. (34.5% vs 53.4% vs. 46.4%)\n"
   ]
  },
  {
   "cell_type": "markdown",
   "id": "58a4c4ee",
   "metadata": {
    "papermill": {
     "duration": 0.0296,
     "end_time": "2024-04-10T21:47:12.096205",
     "exception": false,
     "start_time": "2024-04-10T21:47:12.066605",
     "status": "completed"
    },
    "tags": []
   },
   "source": [
    "### Parch Feature"
   ]
  },
  {
   "cell_type": "code",
   "execution_count": 10,
   "id": "94df7032",
   "metadata": {
    "execution": {
     "iopub.execute_input": "2024-04-10T21:47:12.151292Z",
     "iopub.status.busy": "2024-04-10T21:47:12.150544Z",
     "iopub.status.idle": "2024-04-10T21:47:12.626564Z",
     "shell.execute_reply": "2024-04-10T21:47:12.625181Z"
    },
    "papermill": {
     "duration": 0.506663,
     "end_time": "2024-04-10T21:47:12.629497",
     "exception": false,
     "start_time": "2024-04-10T21:47:12.122834",
     "status": "completed"
    },
    "tags": []
   },
   "outputs": [
    {
     "data": {
      "text/plain": [
       "<function matplotlib.pyplot.show(close=None, block=None)>"
      ]
     },
     "execution_count": 10,
     "metadata": {},
     "output_type": "execute_result"
    },
    {
     "data": {
      "image/png": "[encoded data removed]",
      "text/plain": [
       "<Figure size 640x480 with 1 Axes>"
      ]
     },
     "metadata": {},
     "output_type": "display_data"
    }
   ],
   "source": [
    "# Draw a bar plet for Parch vs. survival\n",
    "sns.barplot(x=\"Parch\", y=\"Survived\", data=train)\n",
    "plt.show"
   ]
  },
  {
   "cell_type": "markdown",
   "id": "2380216f",
   "metadata": {
    "papermill": {
     "duration": 0.026421,
     "end_time": "2024-04-10T21:47:12.682487",
     "exception": false,
     "start_time": "2024-04-10T21:47:12.656066",
     "status": "completed"
    },
    "tags": []
   },
   "source": [
    "People with less than four parents or children aboard are more likely to survive than those with four or more. Again, people traveling alone are less likely to survive than those with 1-3 parents or children.\n"
   ]
  },
  {
   "cell_type": "markdown",
   "id": "bfe0af23",
   "metadata": {
    "papermill": {
     "duration": 0.026355,
     "end_time": "2024-04-10T21:47:12.735502",
     "exception": false,
     "start_time": "2024-04-10T21:47:12.709147",
     "status": "completed"
    },
    "tags": []
   },
   "source": [
    "### Age feature"
   ]
  },
  {
   "cell_type": "code",
   "execution_count": 11,
   "id": "a122e197",
   "metadata": {
    "execution": {
     "iopub.execute_input": "2024-04-10T21:47:12.791789Z",
     "iopub.status.busy": "2024-04-10T21:47:12.791374Z",
     "iopub.status.idle": "2024-04-10T21:47:13.350680Z",
     "shell.execute_reply": "2024-04-10T21:47:13.349321Z"
    },
    "papermill": {
     "duration": 0.590723,
     "end_time": "2024-04-10T21:47:13.353404",
     "exception": false,
     "start_time": "2024-04-10T21:47:12.762681",
     "status": "completed"
    },
    "tags": []
   },
   "outputs": [
    {
     "data": {
      "image/png": "[encoded data removed]",
      "text/plain": [
       "<Figure size 640x480 with 1 Axes>"
      ]
     },
     "metadata": {},
     "output_type": "display_data"
    }
   ],
   "source": [
    "# Sort lines into logical categories\n",
    "train[\"age\"] = train[\"Age\"].fillna(-0.5)\n",
    "test[\"age\"] = test[\"Age\"].fillna(-0.5)\n",
    "bins = [-1, 0, 5, 12, 18, 24, 35, 60, np.inf]\n",
    "labels = [\"Unknown\", \"Baby\", \"Child\", \"Teenager\", \"Student\", \"Young Adult\", \"Adult\", \"Senior\"]\n",
    "train[\"AgeGroup\"] = pd.cut(train[\"age\"], bins, labels = labels)\n",
    "test[\"AgeGroup\"] = pd.cut(train[\"age\"], bins, labels = labels)\n",
    "\n",
    "# Draw a bar plot of Age vs. survival\n",
    "sns.barplot(x=\"AgeGroup\", y=\"Survived\", data=train)\n",
    "plt.show()"
   ]
  },
  {
   "cell_type": "markdown",
   "id": "9e81ca3a",
   "metadata": {
    "papermill": {
     "duration": 0.029901,
     "end_time": "2024-04-10T21:47:13.411700",
     "exception": false,
     "start_time": "2024-04-10T21:47:13.381799",
     "status": "completed"
    },
    "tags": []
   },
   "source": [
    "Babies are more likely to survive than any other age group."
   ]
  },
  {
   "cell_type": "markdown",
   "id": "d6788064",
   "metadata": {
    "papermill": {
     "duration": 0.026109,
     "end_time": "2024-04-10T21:47:13.464460",
     "exception": false,
     "start_time": "2024-04-10T21:47:13.438351",
     "status": "completed"
    },
    "tags": []
   },
   "source": [
    "### Cabin Feature\n",
    "I think the idea here is that people with recorded cabin numbers are of higher socioeconomic class, and thus more likely to survive. "
   ]
  },
  {
   "cell_type": "code",
   "execution_count": 12,
   "id": "5183610b",
   "metadata": {
    "execution": {
     "iopub.execute_input": "2024-04-10T21:47:13.519915Z",
     "iopub.status.busy": "2024-04-10T21:47:13.519476Z",
     "iopub.status.idle": "2024-04-10T21:47:13.825468Z",
     "shell.execute_reply": "2024-04-10T21:47:13.824331Z"
    },
    "papermill": {
     "duration": 0.337078,
     "end_time": "2024-04-10T21:47:13.828146",
     "exception": false,
     "start_time": "2024-04-10T21:47:13.491068",
     "status": "completed"
    },
    "tags": []
   },
   "outputs": [
    {
     "name": "stdout",
     "output_type": "stream",
     "text": [
      "Percentage of CabinBool = 0 who survived: 29.985443959243085\n",
      "Percentage of CabinBool = 1 who survived: 66.66666666666666\n"
     ]
    },
    {
     "data": {
      "image/png": "[encoded data removed]",
      "text/plain": [
       "<Figure size 640x480 with 1 Axes>"
      ]
     },
     "metadata": {},
     "output_type": "display_data"
    }
   ],
   "source": [
    "train[\"CabinBool\"] = (train[\"Cabin\"].notnull().astype(\"int\"))\n",
    "test[\"CabinBool\"] = (train[\"Cabin\"].notnull().astype(\"int\"))\n",
    "\n",
    "# Calculate percentage of CabinBool vs. survived\n",
    "print(\"Percentage of CabinBool = 0 who survived:\",\n",
    "      train[\"Survived\"][train[\"CabinBool\"] == 0].value_counts(normalize = True)[1]*100)\n",
    "\n",
    "print(\"Percentage of CabinBool = 1 who survived:\",\n",
    "     train[\"Survived\"][train[\"CabinBool\"] == 1].value_counts(normalize = True)[1]*100)\n",
    "\n",
    "# draw a bar plot of CabinBool vs. survival\n",
    "sns.barplot(x=\"CabinBool\", y=\"Survived\", data=train)\n",
    "plt.show()"
   ]
  },
  {
   "cell_type": "markdown",
   "id": "8e523d17",
   "metadata": {
    "papermill": {
     "duration": 0.026778,
     "end_time": "2024-04-10T21:47:13.881488",
     "exception": false,
     "start_time": "2024-04-10T21:47:13.854710",
     "status": "completed"
    },
    "tags": []
   },
   "source": [
    "People with a recorded Cabin number are, in fact, more likely to survive. (66.6% vs 29.9%)"
   ]
  },
  {
   "cell_type": "markdown",
   "id": "a2dc6bba",
   "metadata": {
    "papermill": {
     "duration": 0.025998,
     "end_time": "2024-04-10T21:47:13.933755",
     "exception": false,
     "start_time": "2024-04-10T21:47:13.907757",
     "status": "completed"
    },
    "tags": []
   },
   "source": [
    "# 5) Cleaning Data\n",
    "Time to clean our data to account for missing values and unnecessary information."
   ]
  },
  {
   "cell_type": "markdown",
   "id": "9f5cfcec",
   "metadata": {
    "papermill": {
     "duration": 0.025762,
     "end_time": "2024-04-10T21:47:13.986255",
     "exception": false,
     "start_time": "2024-04-10T21:47:13.960493",
     "status": "completed"
    },
    "tags": []
   },
   "source": [
    "### Looking at the Test Data\n",
    "Let's see how our test data looks!"
   ]
  },
  {
   "cell_type": "code",
   "execution_count": 13,
   "id": "60e5e3f5",
   "metadata": {
    "execution": {
     "iopub.execute_input": "2024-04-10T21:47:14.041730Z",
     "iopub.status.busy": "2024-04-10T21:47:14.041332Z",
     "iopub.status.idle": "2024-04-10T21:47:14.095150Z",
     "shell.execute_reply": "2024-04-10T21:47:14.094170Z"
    },
    "papermill": {
     "duration": 0.083962,
     "end_time": "2024-04-10T21:47:14.097564",
     "exception": false,
     "start_time": "2024-04-10T21:47:14.013602",
     "status": "completed"
    },
    "tags": []
   },
   "outputs": [
    {
     "data": {
      "text/html": [
       "<div>\n",
       "<style scoped>\n",
       "    .dataframe tbody tr th:only-of-type {\n",
       "        vertical-align: middle;\n",
       "    }\n",
       "\n",
       "    .dataframe tbody tr th {\n",
       "        vertical-align: top;\n",
       "    }\n",
       "\n",
       "    .dataframe thead th {\n",
       "        text-align: right;\n",
       "    }\n",
       "</style>\n",
       "<table border=\"1\" class=\"dataframe\">\n",
       "  <thead>\n",
       "    <tr style=\"text-align: right;\">\n",
       "      <th></th>\n",
       "      <th>PassengerId</th>\n",
       "      <th>Pclass</th>\n",
       "      <th>Name</th>\n",
       "      <th>Sex</th>\n",
       "      <th>Age</th>\n",
       "      <th>SibSp</th>\n",
       "      <th>Parch</th>\n",
       "      <th>Ticket</th>\n",
       "      <th>Fare</th>\n",
       "      <th>Cabin</th>\n",
       "      <th>Embarked</th>\n",
       "      <th>age</th>\n",
       "      <th>AgeGroup</th>\n",
       "      <th>CabinBool</th>\n",
       "    </tr>\n",
       "  </thead>\n",
       "  <tbody>\n",
       "    <tr>\n",
       "      <th>count</th>\n",
       "      <td>418.000000</td>\n",
       "      <td>418.000000</td>\n",
       "      <td>418</td>\n",
       "      <td>418</td>\n",
       "      <td>332.000000</td>\n",
       "      <td>418.000000</td>\n",
       "      <td>418.000000</td>\n",
       "      <td>418</td>\n",
       "      <td>417.000000</td>\n",
       "      <td>91</td>\n",
       "      <td>418</td>\n",
       "      <td>418.000000</td>\n",
       "      <td>418</td>\n",
       "      <td>418.000000</td>\n",
       "    </tr>\n",
       "    <tr>\n",
       "      <th>unique</th>\n",
       "      <td>NaN</td>\n",
       "      <td>NaN</td>\n",
       "      <td>418</td>\n",
       "      <td>2</td>\n",
       "      <td>NaN</td>\n",
       "      <td>NaN</td>\n",
       "      <td>NaN</td>\n",
       "      <td>363</td>\n",
       "      <td>NaN</td>\n",
       "      <td>76</td>\n",
       "      <td>3</td>\n",
       "      <td>NaN</td>\n",
       "      <td>8</td>\n",
       "      <td>NaN</td>\n",
       "    </tr>\n",
       "    <tr>\n",
       "      <th>top</th>\n",
       "      <td>NaN</td>\n",
       "      <td>NaN</td>\n",
       "      <td>Kelly, Mr. James</td>\n",
       "      <td>male</td>\n",
       "      <td>NaN</td>\n",
       "      <td>NaN</td>\n",
       "      <td>NaN</td>\n",
       "      <td>PC 17608</td>\n",
       "      <td>NaN</td>\n",
       "      <td>B57 B59 B63 B66</td>\n",
       "      <td>S</td>\n",
       "      <td>NaN</td>\n",
       "      <td>Young Adult</td>\n",
       "      <td>NaN</td>\n",
       "    </tr>\n",
       "    <tr>\n",
       "      <th>freq</th>\n",
       "      <td>NaN</td>\n",
       "      <td>NaN</td>\n",
       "      <td>1</td>\n",
       "      <td>266</td>\n",
       "      <td>NaN</td>\n",
       "      <td>NaN</td>\n",
       "      <td>NaN</td>\n",
       "      <td>5</td>\n",
       "      <td>NaN</td>\n",
       "      <td>3</td>\n",
       "      <td>270</td>\n",
       "      <td>NaN</td>\n",
       "      <td>100</td>\n",
       "      <td>NaN</td>\n",
       "    </tr>\n",
       "    <tr>\n",
       "      <th>mean</th>\n",
       "      <td>1100.500000</td>\n",
       "      <td>2.265550</td>\n",
       "      <td>NaN</td>\n",
       "      <td>NaN</td>\n",
       "      <td>30.272590</td>\n",
       "      <td>0.447368</td>\n",
       "      <td>0.392344</td>\n",
       "      <td>NaN</td>\n",
       "      <td>35.627188</td>\n",
       "      <td>NaN</td>\n",
       "      <td>NaN</td>\n",
       "      <td>23.941388</td>\n",
       "      <td>NaN</td>\n",
       "      <td>0.220096</td>\n",
       "    </tr>\n",
       "    <tr>\n",
       "      <th>std</th>\n",
       "      <td>120.810458</td>\n",
       "      <td>0.841838</td>\n",
       "      <td>NaN</td>\n",
       "      <td>NaN</td>\n",
       "      <td>14.181209</td>\n",
       "      <td>0.896760</td>\n",
       "      <td>0.981429</td>\n",
       "      <td>NaN</td>\n",
       "      <td>55.907576</td>\n",
       "      <td>NaN</td>\n",
       "      <td>NaN</td>\n",
       "      <td>17.741080</td>\n",
       "      <td>NaN</td>\n",
       "      <td>0.414807</td>\n",
       "    </tr>\n",
       "    <tr>\n",
       "      <th>min</th>\n",
       "      <td>892.000000</td>\n",
       "      <td>1.000000</td>\n",
       "      <td>NaN</td>\n",
       "      <td>NaN</td>\n",
       "      <td>0.170000</td>\n",
       "      <td>0.000000</td>\n",
       "      <td>0.000000</td>\n",
       "      <td>NaN</td>\n",
       "      <td>0.000000</td>\n",
       "      <td>NaN</td>\n",
       "      <td>NaN</td>\n",
       "      <td>-0.500000</td>\n",
       "      <td>NaN</td>\n",
       "      <td>0.000000</td>\n",
       "    </tr>\n",
       "    <tr>\n",
       "      <th>25%</th>\n",
       "      <td>996.250000</td>\n",
       "      <td>1.000000</td>\n",
       "      <td>NaN</td>\n",
       "      <td>NaN</td>\n",
       "      <td>21.000000</td>\n",
       "      <td>0.000000</td>\n",
       "      <td>0.000000</td>\n",
       "      <td>NaN</td>\n",
       "      <td>7.895800</td>\n",
       "      <td>NaN</td>\n",
       "      <td>NaN</td>\n",
       "      <td>9.000000</td>\n",
       "      <td>NaN</td>\n",
       "      <td>0.000000</td>\n",
       "    </tr>\n",
       "    <tr>\n",
       "      <th>50%</th>\n",
       "      <td>1100.500000</td>\n",
       "      <td>3.000000</td>\n",
       "      <td>NaN</td>\n",
       "      <td>NaN</td>\n",
       "      <td>27.000000</td>\n",
       "      <td>0.000000</td>\n",
       "      <td>0.000000</td>\n",
       "      <td>NaN</td>\n",
       "      <td>14.454200</td>\n",
       "      <td>NaN</td>\n",
       "      <td>NaN</td>\n",
       "      <td>24.000000</td>\n",
       "      <td>NaN</td>\n",
       "      <td>0.000000</td>\n",
       "    </tr>\n",
       "    <tr>\n",
       "      <th>75%</th>\n",
       "      <td>1204.750000</td>\n",
       "      <td>3.000000</td>\n",
       "      <td>NaN</td>\n",
       "      <td>NaN</td>\n",
       "      <td>39.000000</td>\n",
       "      <td>1.000000</td>\n",
       "      <td>0.000000</td>\n",
       "      <td>NaN</td>\n",
       "      <td>31.500000</td>\n",
       "      <td>NaN</td>\n",
       "      <td>NaN</td>\n",
       "      <td>35.750000</td>\n",
       "      <td>NaN</td>\n",
       "      <td>0.000000</td>\n",
       "    </tr>\n",
       "    <tr>\n",
       "      <th>max</th>\n",
       "      <td>1309.000000</td>\n",
       "      <td>3.000000</td>\n",
       "      <td>NaN</td>\n",
       "      <td>NaN</td>\n",
       "      <td>76.000000</td>\n",
       "      <td>8.000000</td>\n",
       "      <td>9.000000</td>\n",
       "      <td>NaN</td>\n",
       "      <td>512.329200</td>\n",
       "      <td>NaN</td>\n",
       "      <td>NaN</td>\n",
       "      <td>76.000000</td>\n",
       "      <td>NaN</td>\n",
       "      <td>1.000000</td>\n",
       "    </tr>\n",
       "  </tbody>\n",
       "</table>\n",
       "</div>"
      ],
      "text/plain": [
       "        PassengerId      Pclass              Name   Sex         Age  \\\n",
       "count    418.000000  418.000000               418   418  332.000000   \n",
       "unique          NaN         NaN               418     2         NaN   \n",
       "top             NaN         NaN  Kelly, Mr. James  male         NaN   \n",
       "freq            NaN         NaN                 1   266         NaN   \n",
       "mean    1100.500000    2.265550               NaN   NaN   30.272590   \n",
       "std      120.810458    0.841838               NaN   NaN   14.181209   \n",
       "min      892.000000    1.000000               NaN   NaN    0.170000   \n",
       "25%      996.250000    1.000000               NaN   NaN   21.000000   \n",
       "50%     1100.500000    3.000000               NaN   NaN   27.000000   \n",
       "75%     1204.750000    3.000000               NaN   NaN   39.000000   \n",
       "max     1309.000000    3.000000               NaN   NaN   76.000000   \n",
       "\n",
       "             SibSp       Parch    Ticket        Fare            Cabin  \\\n",
       "count   418.000000  418.000000       418  417.000000               91   \n",
       "unique         NaN         NaN       363         NaN               76   \n",
       "top            NaN         NaN  PC 17608         NaN  B57 B59 B63 B66   \n",
       "freq           NaN         NaN         5         NaN                3   \n",
       "mean      0.447368    0.392344       NaN   35.627188              NaN   \n",
       "std       0.896760    0.981429       NaN   55.907576              NaN   \n",
       "min       0.000000    0.000000       NaN    0.000000              NaN   \n",
       "25%       0.000000    0.000000       NaN    7.895800              NaN   \n",
       "50%       0.000000    0.000000       NaN   14.454200              NaN   \n",
       "75%       1.000000    0.000000       NaN   31.500000              NaN   \n",
       "max       8.000000    9.000000       NaN  512.329200              NaN   \n",
       "\n",
       "       Embarked         age     AgeGroup   CabinBool  \n",
       "count       418  418.000000          418  418.000000  \n",
       "unique        3         NaN            8         NaN  \n",
       "top           S         NaN  Young Adult         NaN  \n",
       "freq        270         NaN          100         NaN  \n",
       "mean        NaN   23.941388          NaN    0.220096  \n",
       "std         NaN   17.741080          NaN    0.414807  \n",
       "min         NaN   -0.500000          NaN    0.000000  \n",
       "25%         NaN    9.000000          NaN    0.000000  \n",
       "50%         NaN   24.000000          NaN    0.000000  \n",
       "75%         NaN   35.750000          NaN    0.000000  \n",
       "max         NaN   76.000000          NaN    1.000000  "
      ]
     },
     "execution_count": 13,
     "metadata": {},
     "output_type": "execute_result"
    }
   ],
   "source": [
    "test.describe(include=\"all\")"
   ]
  },
  {
   "cell_type": "markdown",
   "id": "412b5f9f",
   "metadata": {
    "papermill": {
     "duration": 0.0265,
     "end_time": "2024-04-10T21:47:14.150926",
     "exception": false,
     "start_time": "2024-04-10T21:47:14.124426",
     "status": "completed"
    },
    "tags": []
   },
   "source": [
    "- We have a total of 418 passengers.\n",
    "- 1 value from the Fare feature is missing.\n",
    "- Around 20.5% of the Age feature is missing, we will need to fill that in."
   ]
  },
  {
   "cell_type": "markdown",
   "id": "78d9821a",
   "metadata": {
    "papermill": {
     "duration": 0.026723,
     "end_time": "2024-04-10T21:47:14.205325",
     "exception": false,
     "start_time": "2024-04-10T21:47:14.178602",
     "status": "completed"
    },
    "tags": []
   },
   "source": [
    "#### Cabin Feature"
   ]
  },
  {
   "cell_type": "code",
   "execution_count": 14,
   "id": "605b0de5",
   "metadata": {
    "execution": {
     "iopub.execute_input": "2024-04-10T21:47:14.261989Z",
     "iopub.status.busy": "2024-04-10T21:47:14.261606Z",
     "iopub.status.idle": "2024-04-10T21:47:14.272617Z",
     "shell.execute_reply": "2024-04-10T21:47:14.271326Z"
    },
    "papermill": {
     "duration": 0.042078,
     "end_time": "2024-04-10T21:47:14.275146",
     "exception": false,
     "start_time": "2024-04-10T21:47:14.233068",
     "status": "completed"
    },
    "tags": []
   },
   "outputs": [],
   "source": [
    "# We'll start off by dropping the Cabin feature since not a lot more useful information can be extracted from it.\n",
    "train = train.drop([\"Cabin\"], axis = 1)\n",
    "test = test.drop([\"Cabin\"], axis = 1)"
   ]
  },
  {
   "cell_type": "markdown",
   "id": "b796cff4",
   "metadata": {
    "papermill": {
     "duration": 0.027745,
     "end_time": "2024-04-10T21:47:14.329852",
     "exception": false,
     "start_time": "2024-04-10T21:47:14.302107",
     "status": "completed"
    },
    "tags": []
   },
   "source": [
    "#### Ticket Feature"
   ]
  },
  {
   "cell_type": "code",
   "execution_count": 15,
   "id": "b7743439",
   "metadata": {
    "execution": {
     "iopub.execute_input": "2024-04-10T21:47:14.389194Z",
     "iopub.status.busy": "2024-04-10T21:47:14.388689Z",
     "iopub.status.idle": "2024-04-10T21:47:14.396962Z",
     "shell.execute_reply": "2024-04-10T21:47:14.395963Z"
    },
    "papermill": {
     "duration": 0.041125,
     "end_time": "2024-04-10T21:47:14.399160",
     "exception": false,
     "start_time": "2024-04-10T21:47:14.358035",
     "status": "completed"
    },
    "tags": []
   },
   "outputs": [],
   "source": [
    "# We can also drop the Ticket feature since it's unlikely to yield any useful information\n",
    "train = train.drop([\"Ticket\"], axis = 1)\n",
    "test = test.drop([\"Ticket\"], axis = 1)"
   ]
  },
  {
   "cell_type": "markdown",
   "id": "5f972fc1",
   "metadata": {
    "papermill": {
     "duration": 0.027302,
     "end_time": "2024-04-10T21:47:14.455313",
     "exception": false,
     "start_time": "2024-04-10T21:47:14.428011",
     "status": "completed"
    },
    "tags": []
   },
   "source": [
    "#### Embarked Feature"
   ]
  },
  {
   "cell_type": "code",
   "execution_count": 16,
   "id": "67bc6c44",
   "metadata": {
    "execution": {
     "iopub.execute_input": "2024-04-10T21:47:14.512120Z",
     "iopub.status.busy": "2024-04-10T21:47:14.511332Z",
     "iopub.status.idle": "2024-04-10T21:47:14.522573Z",
     "shell.execute_reply": "2024-04-10T21:47:14.521072Z"
    },
    "papermill": {
     "duration": 0.042397,
     "end_time": "2024-04-10T21:47:14.524913",
     "exception": false,
     "start_time": "2024-04-10T21:47:14.482516",
     "status": "completed"
    },
    "tags": []
   },
   "outputs": [
    {
     "name": "stdout",
     "output_type": "stream",
     "text": [
      "Number of people embarking in Southampton (S):\n",
      "644\n",
      "Number of people embarking in Cherbourg (C):\n",
      "168\n",
      "Number of people embarking in Queenstown (Q):\n",
      "77\n"
     ]
    }
   ],
   "source": [
    "# Now we need to fill in the missing values in the Embarked feature\n",
    "print(\"Number of people embarking in Southampton (S):\")\n",
    "southampton = train[train[\"Embarked\"] == \"S\"].shape[0]\n",
    "print(southampton)\n",
    "\n",
    "print(\"Number of people embarking in Cherbourg (C):\")\n",
    "cherbourg = train[train[\"Embarked\"] == \"C\"].shape[0]\n",
    "print(cherbourg)\n",
    "\n",
    "print(\"Number of people embarking in Queenstown (Q):\")\n",
    "queenstown = train[train[\"Embarked\"] == \"Q\"].shape[0]\n",
    "print(queenstown)"
   ]
  },
  {
   "cell_type": "markdown",
   "id": "7665cfe6",
   "metadata": {
    "papermill": {
     "duration": 0.026995,
     "end_time": "2024-04-10T21:47:14.579227",
     "exception": false,
     "start_time": "2024-04-10T21:47:14.552232",
     "status": "completed"
    },
    "tags": []
   },
   "source": [
    "It's clear that the majority of people embarked in Southampton (S). Let's go ahead and fill in the missing values with S."
   ]
  },
  {
   "cell_type": "code",
   "execution_count": 17,
   "id": "5ad3ed3b",
   "metadata": {
    "execution": {
     "iopub.execute_input": "2024-04-10T21:47:14.635455Z",
     "iopub.status.busy": "2024-04-10T21:47:14.634971Z",
     "iopub.status.idle": "2024-04-10T21:47:14.642877Z",
     "shell.execute_reply": "2024-04-10T21:47:14.641872Z"
    },
    "papermill": {
     "duration": 0.039057,
     "end_time": "2024-04-10T21:47:14.645115",
     "exception": false,
     "start_time": "2024-04-10T21:47:14.606058",
     "status": "completed"
    },
    "tags": []
   },
   "outputs": [],
   "source": [
    "# Replacing the missing values in the Embarked feature with S\n",
    "train = train.fillna({\"Embarked\": \"S\"})"
   ]
  },
  {
   "cell_type": "markdown",
   "id": "d9d2b9be",
   "metadata": {
    "papermill": {
     "duration": 0.02652,
     "end_time": "2024-04-10T21:47:14.698413",
     "exception": false,
     "start_time": "2024-04-10T21:47:14.671893",
     "status": "completed"
    },
    "tags": []
   },
   "source": [
    "#### Age Feature"
   ]
  },
  {
   "cell_type": "markdown",
   "id": "00da1cc8",
   "metadata": {
    "papermill": {
     "duration": 0.026628,
     "end_time": "2024-04-10T21:47:14.751974",
     "exception": false,
     "start_time": "2024-04-10T21:47:14.725346",
     "status": "completed"
    },
    "tags": []
   },
   "source": [
    "Next we'll fill in the missing values in the Age feature. Since a higher percentage of values are missing, it would be illogical to fill all of them with the same value (as we did with Embarked). Instead, let's try to find a way to predict the missing ages."
   ]
  },
  {
   "cell_type": "code",
   "execution_count": 18,
   "id": "0d3fed19",
   "metadata": {
    "execution": {
     "iopub.execute_input": "2024-04-10T21:47:14.808404Z",
     "iopub.status.busy": "2024-04-10T21:47:14.807936Z",
     "iopub.status.idle": "2024-04-10T21:47:14.837866Z",
     "shell.execute_reply": "2024-04-10T21:47:14.835947Z"
    },
    "papermill": {
     "duration": 0.061493,
     "end_time": "2024-04-10T21:47:14.840497",
     "exception": false,
     "start_time": "2024-04-10T21:47:14.779004",
     "status": "completed"
    },
    "tags": []
   },
   "outputs": [
    {
     "data": {
      "text/html": [
       "<div>\n",
       "<style scoped>\n",
       "    .dataframe tbody tr th:only-of-type {\n",
       "        vertical-align: middle;\n",
       "    }\n",
       "\n",
       "    .dataframe tbody tr th {\n",
       "        vertical-align: top;\n",
       "    }\n",
       "\n",
       "    .dataframe thead th {\n",
       "        text-align: right;\n",
       "    }\n",
       "</style>\n",
       "<table border=\"1\" class=\"dataframe\">\n",
       "  <thead>\n",
       "    <tr style=\"text-align: right;\">\n",
       "      <th>Sex</th>\n",
       "      <th>female</th>\n",
       "      <th>male</th>\n",
       "    </tr>\n",
       "    <tr>\n",
       "      <th>Title</th>\n",
       "      <th></th>\n",
       "      <th></th>\n",
       "    </tr>\n",
       "  </thead>\n",
       "  <tbody>\n",
       "    <tr>\n",
       "      <th>Capt</th>\n",
       "      <td>0</td>\n",
       "      <td>1</td>\n",
       "    </tr>\n",
       "    <tr>\n",
       "      <th>Col</th>\n",
       "      <td>0</td>\n",
       "      <td>2</td>\n",
       "    </tr>\n",
       "    <tr>\n",
       "      <th>Countess</th>\n",
       "      <td>1</td>\n",
       "      <td>0</td>\n",
       "    </tr>\n",
       "    <tr>\n",
       "      <th>Don</th>\n",
       "      <td>0</td>\n",
       "      <td>1</td>\n",
       "    </tr>\n",
       "    <tr>\n",
       "      <th>Dr</th>\n",
       "      <td>1</td>\n",
       "      <td>6</td>\n",
       "    </tr>\n",
       "    <tr>\n",
       "      <th>Jonkheer</th>\n",
       "      <td>0</td>\n",
       "      <td>1</td>\n",
       "    </tr>\n",
       "    <tr>\n",
       "      <th>Lady</th>\n",
       "      <td>1</td>\n",
       "      <td>0</td>\n",
       "    </tr>\n",
       "    <tr>\n",
       "      <th>Major</th>\n",
       "      <td>0</td>\n",
       "      <td>2</td>\n",
       "    </tr>\n",
       "    <tr>\n",
       "      <th>Master</th>\n",
       "      <td>0</td>\n",
       "      <td>40</td>\n",
       "    </tr>\n",
       "    <tr>\n",
       "      <th>Miss</th>\n",
       "      <td>182</td>\n",
       "      <td>0</td>\n",
       "    </tr>\n",
       "    <tr>\n",
       "      <th>Mlle</th>\n",
       "      <td>2</td>\n",
       "      <td>0</td>\n",
       "    </tr>\n",
       "    <tr>\n",
       "      <th>Mme</th>\n",
       "      <td>1</td>\n",
       "      <td>0</td>\n",
       "    </tr>\n",
       "    <tr>\n",
       "      <th>Mr</th>\n",
       "      <td>0</td>\n",
       "      <td>517</td>\n",
       "    </tr>\n",
       "    <tr>\n",
       "      <th>Mrs</th>\n",
       "      <td>125</td>\n",
       "      <td>0</td>\n",
       "    </tr>\n",
       "    <tr>\n",
       "      <th>Ms</th>\n",
       "      <td>1</td>\n",
       "      <td>0</td>\n",
       "    </tr>\n",
       "    <tr>\n",
       "      <th>Rev</th>\n",
       "      <td>0</td>\n",
       "      <td>6</td>\n",
       "    </tr>\n",
       "    <tr>\n",
       "      <th>Sir</th>\n",
       "      <td>0</td>\n",
       "      <td>1</td>\n",
       "    </tr>\n",
       "  </tbody>\n",
       "</table>\n",
       "</div>"
      ],
      "text/plain": [
       "Sex       female  male\n",
       "Title                 \n",
       "Capt           0     1\n",
       "Col            0     2\n",
       "Countess       1     0\n",
       "Don            0     1\n",
       "Dr             1     6\n",
       "Jonkheer       0     1\n",
       "Lady           1     0\n",
       "Major          0     2\n",
       "Master         0    40\n",
       "Miss         182     0\n",
       "Mlle           2     0\n",
       "Mme            1     0\n",
       "Mr             0   517\n",
       "Mrs          125     0\n",
       "Ms             1     0\n",
       "Rev            0     6\n",
       "Sir            0     1"
      ]
     },
     "execution_count": 18,
     "metadata": {},
     "output_type": "execute_result"
    }
   ],
   "source": [
    "# Create a combined group of both datasets\n",
    "combine = [train, test]\n",
    "\n",
    "#extract a title for each Name in the train and test datasets\n",
    "for dataset in combine:\n",
    "    dataset[\"Title\"] = dataset.Name.str.extract(\" ([A-za-z]+)\\.\", expand=False)\n",
    "    \n",
    "pd.crosstab(train[\"Title\"], train[\"Sex\"])"
   ]
  },
  {
   "cell_type": "code",
   "execution_count": 19,
   "id": "4557f588",
   "metadata": {
    "execution": {
     "iopub.execute_input": "2024-04-10T21:47:14.897781Z",
     "iopub.status.busy": "2024-04-10T21:47:14.896459Z",
     "iopub.status.idle": "2024-04-10T21:47:14.924318Z",
     "shell.execute_reply": "2024-04-10T21:47:14.923181Z"
    },
    "papermill": {
     "duration": 0.059274,
     "end_time": "2024-04-10T21:47:14.926814",
     "exception": false,
     "start_time": "2024-04-10T21:47:14.867540",
     "status": "completed"
    },
    "tags": []
   },
   "outputs": [
    {
     "data": {
      "text/html": [
       "<div>\n",
       "<style scoped>\n",
       "    .dataframe tbody tr th:only-of-type {\n",
       "        vertical-align: middle;\n",
       "    }\n",
       "\n",
       "    .dataframe tbody tr th {\n",
       "        vertical-align: top;\n",
       "    }\n",
       "\n",
       "    .dataframe thead th {\n",
       "        text-align: right;\n",
       "    }\n",
       "</style>\n",
       "<table border=\"1\" class=\"dataframe\">\n",
       "  <thead>\n",
       "    <tr style=\"text-align: right;\">\n",
       "      <th></th>\n",
       "      <th>Title</th>\n",
       "      <th>Survived</th>\n",
       "    </tr>\n",
       "  </thead>\n",
       "  <tbody>\n",
       "    <tr>\n",
       "      <th>0</th>\n",
       "      <td>Master</td>\n",
       "      <td>0.575000</td>\n",
       "    </tr>\n",
       "    <tr>\n",
       "      <th>1</th>\n",
       "      <td>Miss</td>\n",
       "      <td>0.702703</td>\n",
       "    </tr>\n",
       "    <tr>\n",
       "      <th>2</th>\n",
       "      <td>Mr</td>\n",
       "      <td>0.156673</td>\n",
       "    </tr>\n",
       "    <tr>\n",
       "      <th>3</th>\n",
       "      <td>Mrs</td>\n",
       "      <td>0.793651</td>\n",
       "    </tr>\n",
       "    <tr>\n",
       "      <th>4</th>\n",
       "      <td>Rare</td>\n",
       "      <td>0.285714</td>\n",
       "    </tr>\n",
       "    <tr>\n",
       "      <th>5</th>\n",
       "      <td>Royal</td>\n",
       "      <td>1.000000</td>\n",
       "    </tr>\n",
       "  </tbody>\n",
       "</table>\n",
       "</div>"
      ],
      "text/plain": [
       "    Title  Survived\n",
       "0  Master  0.575000\n",
       "1    Miss  0.702703\n",
       "2      Mr  0.156673\n",
       "3     Mrs  0.793651\n",
       "4    Rare  0.285714\n",
       "5   Royal  1.000000"
      ]
     },
     "execution_count": 19,
     "metadata": {},
     "output_type": "execute_result"
    }
   ],
   "source": [
    "# Replace various titles with more common names\n",
    "for dataset in combine:\n",
    "    dataset[\"Title\"] = dataset[\"Title\"].replace([\"Lady\", \"Capt\", \"Col\",\"Don\",\n",
    "                                                 \"Dr\", \"Major\", \"Rev\", \"Jonkheer\",\n",
    "                                                 \"Dona\"], \"Rare\")\n",
    "    dataset[\"Title\"] = dataset[\"Title\"].replace([\"Countess\", \"Lady\", \"Sir\"], \"Royal\")\n",
    "    dataset[\"Title\"] = dataset[\"Title\"].replace([\"Mlle\", \"Ms\"], \"Miss\")\n",
    "    dataset[\"Title\"] = dataset[\"Title\"].replace(\"Mme\", \"Mrs\")\n",
    "    \n",
    "train[[\"Title\", \"Survived\"]].groupby([\"Title\"], as_index=False).mean()"
   ]
  },
  {
   "cell_type": "code",
   "execution_count": 20,
   "id": "124eeff3",
   "metadata": {
    "execution": {
     "iopub.execute_input": "2024-04-10T21:47:14.985241Z",
     "iopub.status.busy": "2024-04-10T21:47:14.983826Z",
     "iopub.status.idle": "2024-04-10T21:47:15.008586Z",
     "shell.execute_reply": "2024-04-10T21:47:15.007448Z"
    },
    "papermill": {
     "duration": 0.057153,
     "end_time": "2024-04-10T21:47:15.011807",
     "exception": false,
     "start_time": "2024-04-10T21:47:14.954654",
     "status": "completed"
    },
    "tags": []
   },
   "outputs": [
    {
     "data": {
      "text/html": [
       "<div>\n",
       "<style scoped>\n",
       "    .dataframe tbody tr th:only-of-type {\n",
       "        vertical-align: middle;\n",
       "    }\n",
       "\n",
       "    .dataframe tbody tr th {\n",
       "        vertical-align: top;\n",
       "    }\n",
       "\n",
       "    .dataframe thead th {\n",
       "        text-align: right;\n",
       "    }\n",
       "</style>\n",
       "<table border=\"1\" class=\"dataframe\">\n",
       "  <thead>\n",
       "    <tr style=\"text-align: right;\">\n",
       "      <th></th>\n",
       "      <th>PassengerId</th>\n",
       "      <th>Survived</th>\n",
       "      <th>Pclass</th>\n",
       "      <th>Name</th>\n",
       "      <th>Sex</th>\n",
       "      <th>Age</th>\n",
       "      <th>SibSp</th>\n",
       "      <th>Parch</th>\n",
       "      <th>Fare</th>\n",
       "      <th>Embarked</th>\n",
       "      <th>age</th>\n",
       "      <th>AgeGroup</th>\n",
       "      <th>CabinBool</th>\n",
       "      <th>Title</th>\n",
       "    </tr>\n",
       "  </thead>\n",
       "  <tbody>\n",
       "    <tr>\n",
       "      <th>0</th>\n",
       "      <td>1</td>\n",
       "      <td>0</td>\n",
       "      <td>3</td>\n",
       "      <td>Braund, Mr. Owen Harris</td>\n",
       "      <td>male</td>\n",
       "      <td>22.0</td>\n",
       "      <td>1</td>\n",
       "      <td>0</td>\n",
       "      <td>7.2500</td>\n",
       "      <td>S</td>\n",
       "      <td>22.0</td>\n",
       "      <td>Student</td>\n",
       "      <td>0</td>\n",
       "      <td>1</td>\n",
       "    </tr>\n",
       "    <tr>\n",
       "      <th>1</th>\n",
       "      <td>2</td>\n",
       "      <td>1</td>\n",
       "      <td>1</td>\n",
       "      <td>Cumings, Mrs. John Bradley (Florence Briggs Th...</td>\n",
       "      <td>female</td>\n",
       "      <td>38.0</td>\n",
       "      <td>1</td>\n",
       "      <td>0</td>\n",
       "      <td>71.2833</td>\n",
       "      <td>C</td>\n",
       "      <td>38.0</td>\n",
       "      <td>Adult</td>\n",
       "      <td>1</td>\n",
       "      <td>3</td>\n",
       "    </tr>\n",
       "    <tr>\n",
       "      <th>2</th>\n",
       "      <td>3</td>\n",
       "      <td>1</td>\n",
       "      <td>3</td>\n",
       "      <td>Heikkinen, Miss. Laina</td>\n",
       "      <td>female</td>\n",
       "      <td>26.0</td>\n",
       "      <td>0</td>\n",
       "      <td>0</td>\n",
       "      <td>7.9250</td>\n",
       "      <td>S</td>\n",
       "      <td>26.0</td>\n",
       "      <td>Young Adult</td>\n",
       "      <td>0</td>\n",
       "      <td>2</td>\n",
       "    </tr>\n",
       "    <tr>\n",
       "      <th>3</th>\n",
       "      <td>4</td>\n",
       "      <td>1</td>\n",
       "      <td>1</td>\n",
       "      <td>Futrelle, Mrs. Jacques Heath (Lily May Peel)</td>\n",
       "      <td>female</td>\n",
       "      <td>35.0</td>\n",
       "      <td>1</td>\n",
       "      <td>0</td>\n",
       "      <td>53.1000</td>\n",
       "      <td>S</td>\n",
       "      <td>35.0</td>\n",
       "      <td>Young Adult</td>\n",
       "      <td>1</td>\n",
       "      <td>3</td>\n",
       "    </tr>\n",
       "    <tr>\n",
       "      <th>4</th>\n",
       "      <td>5</td>\n",
       "      <td>0</td>\n",
       "      <td>3</td>\n",
       "      <td>Allen, Mr. William Henry</td>\n",
       "      <td>male</td>\n",
       "      <td>35.0</td>\n",
       "      <td>0</td>\n",
       "      <td>0</td>\n",
       "      <td>8.0500</td>\n",
       "      <td>S</td>\n",
       "      <td>35.0</td>\n",
       "      <td>Young Adult</td>\n",
       "      <td>0</td>\n",
       "      <td>1</td>\n",
       "    </tr>\n",
       "  </tbody>\n",
       "</table>\n",
       "</div>"
      ],
      "text/plain": [
       "   PassengerId  Survived  Pclass  \\\n",
       "0            1         0       3   \n",
       "1            2         1       1   \n",
       "2            3         1       3   \n",
       "3            4         1       1   \n",
       "4            5         0       3   \n",
       "\n",
       "                                                Name     Sex   Age  SibSp  \\\n",
       "0                            Braund, Mr. Owen Harris    male  22.0      1   \n",
       "1  Cumings, Mrs. John Bradley (Florence Briggs Th...  female  38.0      1   \n",
       "2                             Heikkinen, Miss. Laina  female  26.0      0   \n",
       "3       Futrelle, Mrs. Jacques Heath (Lily May Peel)  female  35.0      1   \n",
       "4                           Allen, Mr. William Henry    male  35.0      0   \n",
       "\n",
       "   Parch     Fare Embarked   age     AgeGroup  CabinBool  Title  \n",
       "0      0   7.2500        S  22.0      Student          0      1  \n",
       "1      0  71.2833        C  38.0        Adult          1      3  \n",
       "2      0   7.9250        S  26.0  Young Adult          0      2  \n",
       "3      0  53.1000        S  35.0  Young Adult          1      3  \n",
       "4      0   8.0500        S  35.0  Young Adult          0      1  "
      ]
     },
     "execution_count": 20,
     "metadata": {},
     "output_type": "execute_result"
    }
   ],
   "source": [
    "# Map each of the title groups to a numerical value\n",
    "title_mapping = {\"Mr\": 1, \"Miss\": 2, \"Mrs\": 3, \"Master\": 4, \"Royal\": 5, \"Rare\": 6}\n",
    "for dataset in combine:\n",
    "    dataset[\"Title\"] = dataset[\"Title\"].map(title_mapping)\n",
    "    dataset[\"Title\"] = dataset[\"Title\"].fillna(0)\n",
    "    \n",
    "train.head()"
   ]
  },
  {
   "cell_type": "markdown",
   "id": "b287ac92",
   "metadata": {
    "papermill": {
     "duration": 0.027281,
     "end_time": "2024-04-10T21:47:15.067786",
     "exception": false,
     "start_time": "2024-04-10T21:47:15.040505",
     "status": "completed"
    },
    "tags": []
   },
   "source": [
    "Next, we'll try to predict the missing Age values from the most common age for their Title."
   ]
  },
  {
   "cell_type": "code",
   "execution_count": 21,
   "id": "e3f29f2d",
   "metadata": {
    "execution": {
     "iopub.execute_input": "2024-04-10T21:47:15.125670Z",
     "iopub.status.busy": "2024-04-10T21:47:15.125295Z",
     "iopub.status.idle": "2024-04-10T21:47:15.182999Z",
     "shell.execute_reply": "2024-04-10T21:47:15.181764Z"
    },
    "papermill": {
     "duration": 0.090573,
     "end_time": "2024-04-10T21:47:15.185999",
     "exception": false,
     "start_time": "2024-04-10T21:47:15.095426",
     "status": "completed"
    },
    "tags": []
   },
   "outputs": [],
   "source": [
    "mr_age = train[train[\"Title\"] == 1][\"AgeGroup\"].mode()     # Young Adult\n",
    "miss_age = train[train[\"Title\"] == 2][\"AgeGroup\"].mode()   # Student\n",
    "mrs_age = train[train[\"Title\"] == 3][\"AgeGroup\"].mode()    # Adult\n",
    "master_age = train[train[\"Title\"] == 4][\"AgeGroup\"].mode() # Baby\n",
    "royal_age = train[train[\"Title\"] == 5][\"AgeGroup\"].mode()  # Adult\n",
    "rare_age = train[train[\"Title\"] == 6][\"AgeGroup\"].mode()   # Adult\n",
    "\n",
    "age_title_mapping = {1: \"Young Adult\", 2: \"Student\", 3: \"Adult\", 4: \"Baby\", 5: \"Adult\", 6: \"Adult\"}\n",
    "\n",
    "\n",
    "for x in range(len(train[\"AgeGroup\"])):\n",
    "    if train[\"AgeGroup\"][x] == \"Unknown\":\n",
    "        train[\"AgeGroup\"][x] = age_title_mapping[train[\"Title\"][x]]\n",
    "        \n",
    "for x in range(len(test[\"AgeGroup\"])):\n",
    "    if test[\"AgeGroup\"][x] == \"Unknown\":\n",
    "        test[\"AgeGroup\"][x] = age_title_mapping[test[\"Title\"][x]]"
   ]
  },
  {
   "cell_type": "markdown",
   "id": "ce294a5f",
   "metadata": {
    "papermill": {
     "duration": 0.027202,
     "end_time": "2024-04-10T21:47:15.240885",
     "exception": false,
     "start_time": "2024-04-10T21:47:15.213683",
     "status": "completed"
    },
    "tags": []
   },
   "source": [
    "it's time to map each age group to a numerical value."
   ]
  },
  {
   "cell_type": "code",
   "execution_count": 22,
   "id": "9695f159",
   "metadata": {
    "execution": {
     "iopub.execute_input": "2024-04-10T21:47:15.298813Z",
     "iopub.status.busy": "2024-04-10T21:47:15.298355Z",
     "iopub.status.idle": "2024-04-10T21:47:15.311254Z",
     "shell.execute_reply": "2024-04-10T21:47:15.310037Z"
    },
    "papermill": {
     "duration": 0.045069,
     "end_time": "2024-04-10T21:47:15.313617",
     "exception": false,
     "start_time": "2024-04-10T21:47:15.268548",
     "status": "completed"
    },
    "tags": []
   },
   "outputs": [],
   "source": [
    "# Map each Age value to a numerical value\n",
    "age_mapping = {'Baby': 1, 'Child': 2, 'Teenager': 3, 'Student': 4, 'Young Adult': 5, 'Adult': 6, 'Senior': 7}\n",
    "train['AgeGroup'] = train['AgeGroup'].map(age_mapping)\n",
    "test['AgeGroup'] = test['AgeGroup'].map(age_mapping)\n",
    "\n",
    "train.head()\n",
    "\n",
    "# Dropping the Age feature for now, might change\n",
    "train = train.drop(['Age'], axis = 1)\n",
    "test = test.drop(['Age'], axis = 1)"
   ]
  },
  {
   "cell_type": "markdown",
   "id": "0ba5455f",
   "metadata": {
    "papermill": {
     "duration": 0.02747,
     "end_time": "2024-04-10T21:47:15.368828",
     "exception": false,
     "start_time": "2024-04-10T21:47:15.341358",
     "status": "completed"
    },
    "tags": []
   },
   "source": [
    "#### Name Feature\n",
    "We can drop the name feature now that we've extracted the titles."
   ]
  },
  {
   "cell_type": "code",
   "execution_count": 23,
   "id": "a79241ae",
   "metadata": {
    "execution": {
     "iopub.execute_input": "2024-04-10T21:47:15.428291Z",
     "iopub.status.busy": "2024-04-10T21:47:15.427807Z",
     "iopub.status.idle": "2024-04-10T21:47:15.435900Z",
     "shell.execute_reply": "2024-04-10T21:47:15.434943Z"
    },
    "papermill": {
     "duration": 0.040845,
     "end_time": "2024-04-10T21:47:15.438329",
     "exception": false,
     "start_time": "2024-04-10T21:47:15.397484",
     "status": "completed"
    },
    "tags": []
   },
   "outputs": [],
   "source": [
    "# Drop the name feature since it contains no more useful information.\n",
    "train = train.drop([\"Name\"], axis = 1)\n",
    "test = test.drop([\"Name\"], axis = 1)"
   ]
  },
  {
   "cell_type": "markdown",
   "id": "6c7894b0",
   "metadata": {
    "papermill": {
     "duration": 0.027227,
     "end_time": "2024-04-10T21:47:15.493517",
     "exception": false,
     "start_time": "2024-04-10T21:47:15.466290",
     "status": "completed"
    },
    "tags": []
   },
   "source": [
    "#### Sex Feature"
   ]
  },
  {
   "cell_type": "code",
   "execution_count": 24,
   "id": "b13d2d7d",
   "metadata": {
    "execution": {
     "iopub.execute_input": "2024-04-10T21:47:15.551278Z",
     "iopub.status.busy": "2024-04-10T21:47:15.550416Z",
     "iopub.status.idle": "2024-04-10T21:47:15.571999Z",
     "shell.execute_reply": "2024-04-10T21:47:15.570736Z"
    },
    "papermill": {
     "duration": 0.053662,
     "end_time": "2024-04-10T21:47:15.574969",
     "exception": false,
     "start_time": "2024-04-10T21:47:15.521307",
     "status": "completed"
    },
    "tags": []
   },
   "outputs": [
    {
     "data": {
      "text/html": [
       "<div>\n",
       "<style scoped>\n",
       "    .dataframe tbody tr th:only-of-type {\n",
       "        vertical-align: middle;\n",
       "    }\n",
       "\n",
       "    .dataframe tbody tr th {\n",
       "        vertical-align: top;\n",
       "    }\n",
       "\n",
       "    .dataframe thead th {\n",
       "        text-align: right;\n",
       "    }\n",
       "</style>\n",
       "<table border=\"1\" class=\"dataframe\">\n",
       "  <thead>\n",
       "    <tr style=\"text-align: right;\">\n",
       "      <th></th>\n",
       "      <th>PassengerId</th>\n",
       "      <th>Survived</th>\n",
       "      <th>Pclass</th>\n",
       "      <th>Sex</th>\n",
       "      <th>SibSp</th>\n",
       "      <th>Parch</th>\n",
       "      <th>Fare</th>\n",
       "      <th>Embarked</th>\n",
       "      <th>age</th>\n",
       "      <th>AgeGroup</th>\n",
       "      <th>CabinBool</th>\n",
       "      <th>Title</th>\n",
       "    </tr>\n",
       "  </thead>\n",
       "  <tbody>\n",
       "    <tr>\n",
       "      <th>0</th>\n",
       "      <td>1</td>\n",
       "      <td>0</td>\n",
       "      <td>3</td>\n",
       "      <td>1</td>\n",
       "      <td>1</td>\n",
       "      <td>0</td>\n",
       "      <td>7.2500</td>\n",
       "      <td>S</td>\n",
       "      <td>22.0</td>\n",
       "      <td>4.0</td>\n",
       "      <td>0</td>\n",
       "      <td>1</td>\n",
       "    </tr>\n",
       "    <tr>\n",
       "      <th>1</th>\n",
       "      <td>2</td>\n",
       "      <td>1</td>\n",
       "      <td>1</td>\n",
       "      <td>0</td>\n",
       "      <td>1</td>\n",
       "      <td>0</td>\n",
       "      <td>71.2833</td>\n",
       "      <td>C</td>\n",
       "      <td>38.0</td>\n",
       "      <td>6.0</td>\n",
       "      <td>1</td>\n",
       "      <td>3</td>\n",
       "    </tr>\n",
       "    <tr>\n",
       "      <th>2</th>\n",
       "      <td>3</td>\n",
       "      <td>1</td>\n",
       "      <td>3</td>\n",
       "      <td>0</td>\n",
       "      <td>0</td>\n",
       "      <td>0</td>\n",
       "      <td>7.9250</td>\n",
       "      <td>S</td>\n",
       "      <td>26.0</td>\n",
       "      <td>5.0</td>\n",
       "      <td>0</td>\n",
       "      <td>2</td>\n",
       "    </tr>\n",
       "    <tr>\n",
       "      <th>3</th>\n",
       "      <td>4</td>\n",
       "      <td>1</td>\n",
       "      <td>1</td>\n",
       "      <td>0</td>\n",
       "      <td>1</td>\n",
       "      <td>0</td>\n",
       "      <td>53.1000</td>\n",
       "      <td>S</td>\n",
       "      <td>35.0</td>\n",
       "      <td>5.0</td>\n",
       "      <td>1</td>\n",
       "      <td>3</td>\n",
       "    </tr>\n",
       "    <tr>\n",
       "      <th>4</th>\n",
       "      <td>5</td>\n",
       "      <td>0</td>\n",
       "      <td>3</td>\n",
       "      <td>1</td>\n",
       "      <td>0</td>\n",
       "      <td>0</td>\n",
       "      <td>8.0500</td>\n",
       "      <td>S</td>\n",
       "      <td>35.0</td>\n",
       "      <td>5.0</td>\n",
       "      <td>0</td>\n",
       "      <td>1</td>\n",
       "    </tr>\n",
       "  </tbody>\n",
       "</table>\n",
       "</div>"
      ],
      "text/plain": [
       "   PassengerId  Survived  Pclass  Sex  SibSp  Parch     Fare Embarked   age  \\\n",
       "0            1         0       3    1      1      0   7.2500        S  22.0   \n",
       "1            2         1       1    0      1      0  71.2833        C  38.0   \n",
       "2            3         1       3    0      0      0   7.9250        S  26.0   \n",
       "3            4         1       1    0      1      0  53.1000        S  35.0   \n",
       "4            5         0       3    1      0      0   8.0500        S  35.0   \n",
       "\n",
       "   AgeGroup  CabinBool  Title  \n",
       "0       4.0          0      1  \n",
       "1       6.0          1      3  \n",
       "2       5.0          0      2  \n",
       "3       5.0          1      3  \n",
       "4       5.0          0      1  "
      ]
     },
     "execution_count": 24,
     "metadata": {},
     "output_type": "execute_result"
    }
   ],
   "source": [
    "# Map each Sex value to a numerical value\n",
    "sex_mapping = {\"female\": 0, \"male\": 1}\n",
    "train[\"Sex\"] = train[\"Sex\"].map(sex_mapping)\n",
    "test[\"Sex\"] = test[\"Sex\"].map(sex_mapping)\n",
    "\n",
    "train.head()"
   ]
  },
  {
   "cell_type": "markdown",
   "id": "de1ccaa2",
   "metadata": {
    "papermill": {
     "duration": 0.028936,
     "end_time": "2024-04-10T21:47:15.633586",
     "exception": false,
     "start_time": "2024-04-10T21:47:15.604650",
     "status": "completed"
    },
    "tags": []
   },
   "source": [
    "#### Embarked Feature"
   ]
  },
  {
   "cell_type": "code",
   "execution_count": 25,
   "id": "956fba46",
   "metadata": {
    "execution": {
     "iopub.execute_input": "2024-04-10T21:47:15.694416Z",
     "iopub.status.busy": "2024-04-10T21:47:15.693568Z",
     "iopub.status.idle": "2024-04-10T21:47:15.714035Z",
     "shell.execute_reply": "2024-04-10T21:47:15.712695Z"
    },
    "papermill": {
     "duration": 0.05395,
     "end_time": "2024-04-10T21:47:15.716647",
     "exception": false,
     "start_time": "2024-04-10T21:47:15.662697",
     "status": "completed"
    },
    "tags": []
   },
   "outputs": [
    {
     "data": {
      "text/html": [
       "<div>\n",
       "<style scoped>\n",
       "    .dataframe tbody tr th:only-of-type {\n",
       "        vertical-align: middle;\n",
       "    }\n",
       "\n",
       "    .dataframe tbody tr th {\n",
       "        vertical-align: top;\n",
       "    }\n",
       "\n",
       "    .dataframe thead th {\n",
       "        text-align: right;\n",
       "    }\n",
       "</style>\n",
       "<table border=\"1\" class=\"dataframe\">\n",
       "  <thead>\n",
       "    <tr style=\"text-align: right;\">\n",
       "      <th></th>\n",
       "      <th>PassengerId</th>\n",
       "      <th>Survived</th>\n",
       "      <th>Pclass</th>\n",
       "      <th>Sex</th>\n",
       "      <th>SibSp</th>\n",
       "      <th>Parch</th>\n",
       "      <th>Fare</th>\n",
       "      <th>Embarked</th>\n",
       "      <th>age</th>\n",
       "      <th>AgeGroup</th>\n",
       "      <th>CabinBool</th>\n",
       "      <th>Title</th>\n",
       "    </tr>\n",
       "  </thead>\n",
       "  <tbody>\n",
       "    <tr>\n",
       "      <th>0</th>\n",
       "      <td>1</td>\n",
       "      <td>0</td>\n",
       "      <td>3</td>\n",
       "      <td>1</td>\n",
       "      <td>1</td>\n",
       "      <td>0</td>\n",
       "      <td>7.2500</td>\n",
       "      <td>1</td>\n",
       "      <td>22.0</td>\n",
       "      <td>4.0</td>\n",
       "      <td>0</td>\n",
       "      <td>1</td>\n",
       "    </tr>\n",
       "    <tr>\n",
       "      <th>1</th>\n",
       "      <td>2</td>\n",
       "      <td>1</td>\n",
       "      <td>1</td>\n",
       "      <td>0</td>\n",
       "      <td>1</td>\n",
       "      <td>0</td>\n",
       "      <td>71.2833</td>\n",
       "      <td>2</td>\n",
       "      <td>38.0</td>\n",
       "      <td>6.0</td>\n",
       "      <td>1</td>\n",
       "      <td>3</td>\n",
       "    </tr>\n",
       "    <tr>\n",
       "      <th>2</th>\n",
       "      <td>3</td>\n",
       "      <td>1</td>\n",
       "      <td>3</td>\n",
       "      <td>0</td>\n",
       "      <td>0</td>\n",
       "      <td>0</td>\n",
       "      <td>7.9250</td>\n",
       "      <td>1</td>\n",
       "      <td>26.0</td>\n",
       "      <td>5.0</td>\n",
       "      <td>0</td>\n",
       "      <td>2</td>\n",
       "    </tr>\n",
       "    <tr>\n",
       "      <th>3</th>\n",
       "      <td>4</td>\n",
       "      <td>1</td>\n",
       "      <td>1</td>\n",
       "      <td>0</td>\n",
       "      <td>1</td>\n",
       "      <td>0</td>\n",
       "      <td>53.1000</td>\n",
       "      <td>1</td>\n",
       "      <td>35.0</td>\n",
       "      <td>5.0</td>\n",
       "      <td>1</td>\n",
       "      <td>3</td>\n",
       "    </tr>\n",
       "    <tr>\n",
       "      <th>4</th>\n",
       "      <td>5</td>\n",
       "      <td>0</td>\n",
       "      <td>3</td>\n",
       "      <td>1</td>\n",
       "      <td>0</td>\n",
       "      <td>0</td>\n",
       "      <td>8.0500</td>\n",
       "      <td>1</td>\n",
       "      <td>35.0</td>\n",
       "      <td>5.0</td>\n",
       "      <td>0</td>\n",
       "      <td>1</td>\n",
       "    </tr>\n",
       "  </tbody>\n",
       "</table>\n",
       "</div>"
      ],
      "text/plain": [
       "   PassengerId  Survived  Pclass  Sex  SibSp  Parch     Fare  Embarked   age  \\\n",
       "0            1         0       3    1      1      0   7.2500         1  22.0   \n",
       "1            2         1       1    0      1      0  71.2833         2  38.0   \n",
       "2            3         1       3    0      0      0   7.9250         1  26.0   \n",
       "3            4         1       1    0      1      0  53.1000         1  35.0   \n",
       "4            5         0       3    1      0      0   8.0500         1  35.0   \n",
       "\n",
       "   AgeGroup  CabinBool  Title  \n",
       "0       4.0          0      1  \n",
       "1       6.0          1      3  \n",
       "2       5.0          0      2  \n",
       "3       5.0          1      3  \n",
       "4       5.0          0      1  "
      ]
     },
     "execution_count": 25,
     "metadata": {},
     "output_type": "execute_result"
    }
   ],
   "source": [
    "# Map each Embarked value to a numerical value\n",
    "embarked_mapping = {\"S\": 1, \"C\": 2, \"Q\": 3}\n",
    "train[\"Embarked\"] = train[\"Embarked\"].map(embarked_mapping)\n",
    "test[\"Embarked\"] = test[\"Embarked\"].map(embarked_mapping)\n",
    "\n",
    "train.head()"
   ]
  },
  {
   "cell_type": "markdown",
   "id": "2cafc761",
   "metadata": {
    "papermill": {
     "duration": 0.029323,
     "end_time": "2024-04-10T21:47:15.775492",
     "exception": false,
     "start_time": "2024-04-10T21:47:15.746169",
     "status": "completed"
    },
    "tags": []
   },
   "source": [
    "#### Fare Feature\n",
    "It's time to separate the fare values into some logical groups as well as filling in the single missing value in the test dataset."
   ]
  },
  {
   "cell_type": "code",
   "execution_count": 26,
   "id": "ad250266",
   "metadata": {
    "execution": {
     "iopub.execute_input": "2024-04-10T21:47:15.835947Z",
     "iopub.status.busy": "2024-04-10T21:47:15.835564Z",
     "iopub.status.idle": "2024-04-10T21:47:15.859333Z",
     "shell.execute_reply": "2024-04-10T21:47:15.858197Z"
    },
    "papermill": {
     "duration": 0.057477,
     "end_time": "2024-04-10T21:47:15.862208",
     "exception": false,
     "start_time": "2024-04-10T21:47:15.804731",
     "status": "completed"
    },
    "tags": []
   },
   "outputs": [],
   "source": [
    "# Fill in missing Fare value in test set based on mean fare for that Pclass\n",
    "for x in range (len(test[\"Fare\"])):\n",
    "    if pd.isnull(test[\"Fare\"][x]):\n",
    "        pclass = test[\"Pclass\"][x] #Pclass = 3\n",
    "        test[\"Fare\"][x] = round(train[train[\"Pclass\"] == pclass][\"Fare\"].mean(), 4)\n",
    "        \n",
    "# Map Fare values into groups of numerical values\n",
    "train[\"FareBand\"] = pd.qcut(train[\"Fare\"], 4, labels = [1, 2, 3, 4])\n",
    "test[\"FareBand\"] = pd.qcut(test[\"Fare\"], 4, labels = [1, 2, 3, 4])\n",
    "\n",
    "# Drop Fare values\n",
    "train = train.drop([\"Fare\"], axis = 1)\n",
    "test = test.drop([\"Fare\"], axis = 1)\n"
   ]
  },
  {
   "cell_type": "code",
   "execution_count": 27,
   "id": "d1157eee",
   "metadata": {
    "execution": {
     "iopub.execute_input": "2024-04-10T21:47:15.922568Z",
     "iopub.status.busy": "2024-04-10T21:47:15.922182Z",
     "iopub.status.idle": "2024-04-10T21:47:15.939367Z",
     "shell.execute_reply": "2024-04-10T21:47:15.938512Z"
    },
    "papermill": {
     "duration": 0.05024,
     "end_time": "2024-04-10T21:47:15.941703",
     "exception": false,
     "start_time": "2024-04-10T21:47:15.891463",
     "status": "completed"
    },
    "tags": []
   },
   "outputs": [
    {
     "data": {
      "text/html": [
       "<div>\n",
       "<style scoped>\n",
       "    .dataframe tbody tr th:only-of-type {\n",
       "        vertical-align: middle;\n",
       "    }\n",
       "\n",
       "    .dataframe tbody tr th {\n",
       "        vertical-align: top;\n",
       "    }\n",
       "\n",
       "    .dataframe thead th {\n",
       "        text-align: right;\n",
       "    }\n",
       "</style>\n",
       "<table border=\"1\" class=\"dataframe\">\n",
       "  <thead>\n",
       "    <tr style=\"text-align: right;\">\n",
       "      <th></th>\n",
       "      <th>PassengerId</th>\n",
       "      <th>Survived</th>\n",
       "      <th>Pclass</th>\n",
       "      <th>Sex</th>\n",
       "      <th>SibSp</th>\n",
       "      <th>Parch</th>\n",
       "      <th>Embarked</th>\n",
       "      <th>age</th>\n",
       "      <th>AgeGroup</th>\n",
       "      <th>CabinBool</th>\n",
       "      <th>Title</th>\n",
       "      <th>FareBand</th>\n",
       "    </tr>\n",
       "  </thead>\n",
       "  <tbody>\n",
       "    <tr>\n",
       "      <th>0</th>\n",
       "      <td>1</td>\n",
       "      <td>0</td>\n",
       "      <td>3</td>\n",
       "      <td>1</td>\n",
       "      <td>1</td>\n",
       "      <td>0</td>\n",
       "      <td>1</td>\n",
       "      <td>22.0</td>\n",
       "      <td>4.0</td>\n",
       "      <td>0</td>\n",
       "      <td>1</td>\n",
       "      <td>1</td>\n",
       "    </tr>\n",
       "    <tr>\n",
       "      <th>1</th>\n",
       "      <td>2</td>\n",
       "      <td>1</td>\n",
       "      <td>1</td>\n",
       "      <td>0</td>\n",
       "      <td>1</td>\n",
       "      <td>0</td>\n",
       "      <td>2</td>\n",
       "      <td>38.0</td>\n",
       "      <td>6.0</td>\n",
       "      <td>1</td>\n",
       "      <td>3</td>\n",
       "      <td>4</td>\n",
       "    </tr>\n",
       "    <tr>\n",
       "      <th>2</th>\n",
       "      <td>3</td>\n",
       "      <td>1</td>\n",
       "      <td>3</td>\n",
       "      <td>0</td>\n",
       "      <td>0</td>\n",
       "      <td>0</td>\n",
       "      <td>1</td>\n",
       "      <td>26.0</td>\n",
       "      <td>5.0</td>\n",
       "      <td>0</td>\n",
       "      <td>2</td>\n",
       "      <td>2</td>\n",
       "    </tr>\n",
       "    <tr>\n",
       "      <th>3</th>\n",
       "      <td>4</td>\n",
       "      <td>1</td>\n",
       "      <td>1</td>\n",
       "      <td>0</td>\n",
       "      <td>1</td>\n",
       "      <td>0</td>\n",
       "      <td>1</td>\n",
       "      <td>35.0</td>\n",
       "      <td>5.0</td>\n",
       "      <td>1</td>\n",
       "      <td>3</td>\n",
       "      <td>4</td>\n",
       "    </tr>\n",
       "    <tr>\n",
       "      <th>4</th>\n",
       "      <td>5</td>\n",
       "      <td>0</td>\n",
       "      <td>3</td>\n",
       "      <td>1</td>\n",
       "      <td>0</td>\n",
       "      <td>0</td>\n",
       "      <td>1</td>\n",
       "      <td>35.0</td>\n",
       "      <td>5.0</td>\n",
       "      <td>0</td>\n",
       "      <td>1</td>\n",
       "      <td>2</td>\n",
       "    </tr>\n",
       "  </tbody>\n",
       "</table>\n",
       "</div>"
      ],
      "text/plain": [
       "   PassengerId  Survived  Pclass  Sex  SibSp  Parch  Embarked   age  AgeGroup  \\\n",
       "0            1         0       3    1      1      0         1  22.0       4.0   \n",
       "1            2         1       1    0      1      0         2  38.0       6.0   \n",
       "2            3         1       3    0      0      0         1  26.0       5.0   \n",
       "3            4         1       1    0      1      0         1  35.0       5.0   \n",
       "4            5         0       3    1      0      0         1  35.0       5.0   \n",
       "\n",
       "   CabinBool  Title FareBand  \n",
       "0          0      1        1  \n",
       "1          1      3        4  \n",
       "2          0      2        2  \n",
       "3          1      3        4  \n",
       "4          0      1        2  "
      ]
     },
     "execution_count": 27,
     "metadata": {},
     "output_type": "execute_result"
    }
   ],
   "source": [
    "train.head()"
   ]
  },
  {
   "cell_type": "code",
   "execution_count": 28,
   "id": "53914e80",
   "metadata": {
    "execution": {
     "iopub.execute_input": "2024-04-10T21:47:16.002550Z",
     "iopub.status.busy": "2024-04-10T21:47:16.002049Z",
     "iopub.status.idle": "2024-04-10T21:47:16.019257Z",
     "shell.execute_reply": "2024-04-10T21:47:16.018146Z"
    },
    "papermill": {
     "duration": 0.050523,
     "end_time": "2024-04-10T21:47:16.021688",
     "exception": false,
     "start_time": "2024-04-10T21:47:15.971165",
     "status": "completed"
    },
    "tags": []
   },
   "outputs": [
    {
     "data": {
      "text/html": [
       "<div>\n",
       "<style scoped>\n",
       "    .dataframe tbody tr th:only-of-type {\n",
       "        vertical-align: middle;\n",
       "    }\n",
       "\n",
       "    .dataframe tbody tr th {\n",
       "        vertical-align: top;\n",
       "    }\n",
       "\n",
       "    .dataframe thead th {\n",
       "        text-align: right;\n",
       "    }\n",
       "</style>\n",
       "<table border=\"1\" class=\"dataframe\">\n",
       "  <thead>\n",
       "    <tr style=\"text-align: right;\">\n",
       "      <th></th>\n",
       "      <th>PassengerId</th>\n",
       "      <th>Pclass</th>\n",
       "      <th>Sex</th>\n",
       "      <th>SibSp</th>\n",
       "      <th>Parch</th>\n",
       "      <th>Embarked</th>\n",
       "      <th>age</th>\n",
       "      <th>AgeGroup</th>\n",
       "      <th>CabinBool</th>\n",
       "      <th>Title</th>\n",
       "      <th>FareBand</th>\n",
       "    </tr>\n",
       "  </thead>\n",
       "  <tbody>\n",
       "    <tr>\n",
       "      <th>0</th>\n",
       "      <td>892</td>\n",
       "      <td>3</td>\n",
       "      <td>1</td>\n",
       "      <td>0</td>\n",
       "      <td>0</td>\n",
       "      <td>3</td>\n",
       "      <td>34.5</td>\n",
       "      <td>4.0</td>\n",
       "      <td>0</td>\n",
       "      <td>1</td>\n",
       "      <td>1</td>\n",
       "    </tr>\n",
       "    <tr>\n",
       "      <th>1</th>\n",
       "      <td>893</td>\n",
       "      <td>3</td>\n",
       "      <td>0</td>\n",
       "      <td>1</td>\n",
       "      <td>0</td>\n",
       "      <td>1</td>\n",
       "      <td>47.0</td>\n",
       "      <td>6.0</td>\n",
       "      <td>1</td>\n",
       "      <td>3</td>\n",
       "      <td>1</td>\n",
       "    </tr>\n",
       "    <tr>\n",
       "      <th>2</th>\n",
       "      <td>894</td>\n",
       "      <td>2</td>\n",
       "      <td>1</td>\n",
       "      <td>0</td>\n",
       "      <td>0</td>\n",
       "      <td>3</td>\n",
       "      <td>62.0</td>\n",
       "      <td>5.0</td>\n",
       "      <td>0</td>\n",
       "      <td>1</td>\n",
       "      <td>2</td>\n",
       "    </tr>\n",
       "    <tr>\n",
       "      <th>3</th>\n",
       "      <td>895</td>\n",
       "      <td>3</td>\n",
       "      <td>1</td>\n",
       "      <td>0</td>\n",
       "      <td>0</td>\n",
       "      <td>1</td>\n",
       "      <td>27.0</td>\n",
       "      <td>5.0</td>\n",
       "      <td>1</td>\n",
       "      <td>1</td>\n",
       "      <td>2</td>\n",
       "    </tr>\n",
       "    <tr>\n",
       "      <th>4</th>\n",
       "      <td>896</td>\n",
       "      <td>3</td>\n",
       "      <td>0</td>\n",
       "      <td>1</td>\n",
       "      <td>1</td>\n",
       "      <td>1</td>\n",
       "      <td>22.0</td>\n",
       "      <td>5.0</td>\n",
       "      <td>0</td>\n",
       "      <td>3</td>\n",
       "      <td>2</td>\n",
       "    </tr>\n",
       "  </tbody>\n",
       "</table>\n",
       "</div>"
      ],
      "text/plain": [
       "   PassengerId  Pclass  Sex  SibSp  Parch  Embarked   age  AgeGroup  \\\n",
       "0          892       3    1      0      0         3  34.5       4.0   \n",
       "1          893       3    0      1      0         1  47.0       6.0   \n",
       "2          894       2    1      0      0         3  62.0       5.0   \n",
       "3          895       3    1      0      0         1  27.0       5.0   \n",
       "4          896       3    0      1      1         1  22.0       5.0   \n",
       "\n",
       "   CabinBool  Title FareBand  \n",
       "0          0      1        1  \n",
       "1          1      3        1  \n",
       "2          0      1        2  \n",
       "3          1      1        2  \n",
       "4          0      3        2  "
      ]
     },
     "execution_count": 28,
     "metadata": {},
     "output_type": "execute_result"
    }
   ],
   "source": [
    "test.head()"
   ]
  },
  {
   "cell_type": "markdown",
   "id": "35d2efb0",
   "metadata": {
    "papermill": {
     "duration": 0.028651,
     "end_time": "2024-04-10T21:47:16.079827",
     "exception": false,
     "start_time": "2024-04-10T21:47:16.051176",
     "status": "completed"
    },
    "tags": []
   },
   "source": [
    "# 6) Choosing the Best Model"
   ]
  },
  {
   "cell_type": "markdown",
   "id": "49d39064",
   "metadata": {
    "papermill": {
     "duration": 0.030697,
     "end_time": "2024-04-10T21:47:16.140305",
     "exception": false,
     "start_time": "2024-04-10T21:47:16.109608",
     "status": "completed"
    },
    "tags": []
   },
   "source": [
    "#### Splitting the Training Data\n",
    "We will use part of our training data(22% in this case) to test the accuracy of our different models."
   ]
  },
  {
   "cell_type": "code",
   "execution_count": 29,
   "id": "462c2e28",
   "metadata": {
    "execution": {
     "iopub.execute_input": "2024-04-10T21:47:16.204928Z",
     "iopub.status.busy": "2024-04-10T21:47:16.204447Z",
     "iopub.status.idle": "2024-04-10T21:47:16.533450Z",
     "shell.execute_reply": "2024-04-10T21:47:16.532182Z"
    },
    "papermill": {
     "duration": 0.365515,
     "end_time": "2024-04-10T21:47:16.536697",
     "exception": false,
     "start_time": "2024-04-10T21:47:16.171182",
     "status": "completed"
    },
    "tags": []
   },
   "outputs": [],
   "source": [
    "from sklearn.model_selection import train_test_split\n",
    "\n",
    "predictors = train.drop([\"Survived\", \"PassengerId\"], axis=1)\n",
    "target = train[\"Survived\"]\n",
    "X_train, X_val, y_train, y_val = train_test_split(predictors,\n",
    "                                                  target,\n",
    "                                                  test_size=0.22, random_state=0)\n",
    "        \n",
    "        "
   ]
  },
  {
   "cell_type": "code",
   "execution_count": 30,
   "id": "3567cce6",
   "metadata": {
    "execution": {
     "iopub.execute_input": "2024-04-10T21:47:16.598107Z",
     "iopub.status.busy": "2024-04-10T21:47:16.597696Z",
     "iopub.status.idle": "2024-04-10T21:47:16.614905Z",
     "shell.execute_reply": "2024-04-10T21:47:16.613636Z"
    },
    "papermill": {
     "duration": 0.050177,
     "end_time": "2024-04-10T21:47:16.617346",
     "exception": false,
     "start_time": "2024-04-10T21:47:16.567169",
     "status": "completed"
    },
    "tags": []
   },
   "outputs": [
    {
     "data": {
      "text/html": [
       "<div>\n",
       "<style scoped>\n",
       "    .dataframe tbody tr th:only-of-type {\n",
       "        vertical-align: middle;\n",
       "    }\n",
       "\n",
       "    .dataframe tbody tr th {\n",
       "        vertical-align: top;\n",
       "    }\n",
       "\n",
       "    .dataframe thead th {\n",
       "        text-align: right;\n",
       "    }\n",
       "</style>\n",
       "<table border=\"1\" class=\"dataframe\">\n",
       "  <thead>\n",
       "    <tr style=\"text-align: right;\">\n",
       "      <th></th>\n",
       "      <th>Pclass</th>\n",
       "      <th>Sex</th>\n",
       "      <th>SibSp</th>\n",
       "      <th>Parch</th>\n",
       "      <th>Embarked</th>\n",
       "      <th>age</th>\n",
       "      <th>AgeGroup</th>\n",
       "      <th>CabinBool</th>\n",
       "      <th>Title</th>\n",
       "      <th>FareBand</th>\n",
       "    </tr>\n",
       "  </thead>\n",
       "  <tbody>\n",
       "    <tr>\n",
       "      <th>172</th>\n",
       "      <td>3</td>\n",
       "      <td>0</td>\n",
       "      <td>1</td>\n",
       "      <td>1</td>\n",
       "      <td>1</td>\n",
       "      <td>1.0</td>\n",
       "      <td>1.0</td>\n",
       "      <td>0</td>\n",
       "      <td>2</td>\n",
       "      <td>2</td>\n",
       "    </tr>\n",
       "    <tr>\n",
       "      <th>447</th>\n",
       "      <td>1</td>\n",
       "      <td>1</td>\n",
       "      <td>0</td>\n",
       "      <td>0</td>\n",
       "      <td>1</td>\n",
       "      <td>34.0</td>\n",
       "      <td>5.0</td>\n",
       "      <td>0</td>\n",
       "      <td>1</td>\n",
       "      <td>3</td>\n",
       "    </tr>\n",
       "    <tr>\n",
       "      <th>597</th>\n",
       "      <td>3</td>\n",
       "      <td>1</td>\n",
       "      <td>0</td>\n",
       "      <td>0</td>\n",
       "      <td>1</td>\n",
       "      <td>49.0</td>\n",
       "      <td>6.0</td>\n",
       "      <td>0</td>\n",
       "      <td>1</td>\n",
       "      <td>1</td>\n",
       "    </tr>\n",
       "    <tr>\n",
       "      <th>204</th>\n",
       "      <td>3</td>\n",
       "      <td>1</td>\n",
       "      <td>0</td>\n",
       "      <td>0</td>\n",
       "      <td>1</td>\n",
       "      <td>18.0</td>\n",
       "      <td>3.0</td>\n",
       "      <td>0</td>\n",
       "      <td>1</td>\n",
       "      <td>2</td>\n",
       "    </tr>\n",
       "    <tr>\n",
       "      <th>240</th>\n",
       "      <td>3</td>\n",
       "      <td>0</td>\n",
       "      <td>1</td>\n",
       "      <td>0</td>\n",
       "      <td>2</td>\n",
       "      <td>-0.5</td>\n",
       "      <td>4.0</td>\n",
       "      <td>0</td>\n",
       "      <td>2</td>\n",
       "      <td>2</td>\n",
       "    </tr>\n",
       "  </tbody>\n",
       "</table>\n",
       "</div>"
      ],
      "text/plain": [
       "     Pclass  Sex  SibSp  Parch  Embarked   age  AgeGroup  CabinBool  Title  \\\n",
       "172       3    0      1      1         1   1.0       1.0          0      2   \n",
       "447       1    1      0      0         1  34.0       5.0          0      1   \n",
       "597       3    1      0      0         1  49.0       6.0          0      1   \n",
       "204       3    1      0      0         1  18.0       3.0          0      1   \n",
       "240       3    0      1      0         2  -0.5       4.0          0      2   \n",
       "\n",
       "    FareBand  \n",
       "172        2  \n",
       "447        3  \n",
       "597        1  \n",
       "204        2  \n",
       "240        2  "
      ]
     },
     "execution_count": 30,
     "metadata": {},
     "output_type": "execute_result"
    }
   ],
   "source": [
    "X_train.head()"
   ]
  },
  {
   "cell_type": "code",
   "execution_count": 31,
   "id": "0b6e0e1d",
   "metadata": {
    "execution": {
     "iopub.execute_input": "2024-04-10T21:47:16.679223Z",
     "iopub.status.busy": "2024-04-10T21:47:16.678713Z",
     "iopub.status.idle": "2024-04-10T21:47:16.694953Z",
     "shell.execute_reply": "2024-04-10T21:47:16.694149Z"
    },
    "papermill": {
     "duration": 0.049567,
     "end_time": "2024-04-10T21:47:16.697168",
     "exception": false,
     "start_time": "2024-04-10T21:47:16.647601",
     "status": "completed"
    },
    "tags": []
   },
   "outputs": [
    {
     "data": {
      "text/html": [
       "<div>\n",
       "<style scoped>\n",
       "    .dataframe tbody tr th:only-of-type {\n",
       "        vertical-align: middle;\n",
       "    }\n",
       "\n",
       "    .dataframe tbody tr th {\n",
       "        vertical-align: top;\n",
       "    }\n",
       "\n",
       "    .dataframe thead th {\n",
       "        text-align: right;\n",
       "    }\n",
       "</style>\n",
       "<table border=\"1\" class=\"dataframe\">\n",
       "  <thead>\n",
       "    <tr style=\"text-align: right;\">\n",
       "      <th></th>\n",
       "      <th>Pclass</th>\n",
       "      <th>Sex</th>\n",
       "      <th>SibSp</th>\n",
       "      <th>Parch</th>\n",
       "      <th>Embarked</th>\n",
       "      <th>age</th>\n",
       "      <th>AgeGroup</th>\n",
       "      <th>CabinBool</th>\n",
       "      <th>Title</th>\n",
       "      <th>FareBand</th>\n",
       "    </tr>\n",
       "  </thead>\n",
       "  <tbody>\n",
       "    <tr>\n",
       "      <th>495</th>\n",
       "      <td>3</td>\n",
       "      <td>1</td>\n",
       "      <td>0</td>\n",
       "      <td>0</td>\n",
       "      <td>2</td>\n",
       "      <td>-0.5</td>\n",
       "      <td>5.0</td>\n",
       "      <td>0</td>\n",
       "      <td>1</td>\n",
       "      <td>3</td>\n",
       "    </tr>\n",
       "    <tr>\n",
       "      <th>648</th>\n",
       "      <td>3</td>\n",
       "      <td>1</td>\n",
       "      <td>0</td>\n",
       "      <td>0</td>\n",
       "      <td>1</td>\n",
       "      <td>-0.5</td>\n",
       "      <td>5.0</td>\n",
       "      <td>0</td>\n",
       "      <td>1</td>\n",
       "      <td>1</td>\n",
       "    </tr>\n",
       "    <tr>\n",
       "      <th>278</th>\n",
       "      <td>3</td>\n",
       "      <td>1</td>\n",
       "      <td>4</td>\n",
       "      <td>1</td>\n",
       "      <td>3</td>\n",
       "      <td>7.0</td>\n",
       "      <td>2.0</td>\n",
       "      <td>0</td>\n",
       "      <td>4</td>\n",
       "      <td>3</td>\n",
       "    </tr>\n",
       "    <tr>\n",
       "      <th>31</th>\n",
       "      <td>1</td>\n",
       "      <td>0</td>\n",
       "      <td>1</td>\n",
       "      <td>0</td>\n",
       "      <td>2</td>\n",
       "      <td>-0.5</td>\n",
       "      <td>6.0</td>\n",
       "      <td>1</td>\n",
       "      <td>3</td>\n",
       "      <td>4</td>\n",
       "    </tr>\n",
       "    <tr>\n",
       "      <th>255</th>\n",
       "      <td>3</td>\n",
       "      <td>0</td>\n",
       "      <td>0</td>\n",
       "      <td>2</td>\n",
       "      <td>2</td>\n",
       "      <td>29.0</td>\n",
       "      <td>5.0</td>\n",
       "      <td>0</td>\n",
       "      <td>3</td>\n",
       "      <td>3</td>\n",
       "    </tr>\n",
       "  </tbody>\n",
       "</table>\n",
       "</div>"
      ],
      "text/plain": [
       "     Pclass  Sex  SibSp  Parch  Embarked   age  AgeGroup  CabinBool  Title  \\\n",
       "495       3    1      0      0         2  -0.5       5.0          0      1   \n",
       "648       3    1      0      0         1  -0.5       5.0          0      1   \n",
       "278       3    1      4      1         3   7.0       2.0          0      4   \n",
       "31        1    0      1      0         2  -0.5       6.0          1      3   \n",
       "255       3    0      0      2         2  29.0       5.0          0      3   \n",
       "\n",
       "    FareBand  \n",
       "495        3  \n",
       "648        1  \n",
       "278        3  \n",
       "31         4  \n",
       "255        3  "
      ]
     },
     "execution_count": 31,
     "metadata": {},
     "output_type": "execute_result"
    }
   ],
   "source": [
    "X_val.head()"
   ]
  },
  {
   "cell_type": "markdown",
   "id": "aebce11b",
   "metadata": {
    "papermill": {
     "duration": 0.029627,
     "end_time": "2024-04-10T21:47:16.756813",
     "exception": false,
     "start_time": "2024-04-10T21:47:16.727186",
     "status": "completed"
    },
    "tags": []
   },
   "source": [
    "#### Testing Different Models\n",
    "I will be testing the following models with my training data:\n",
    "- Gaussian Naive Bayes\n",
    "- Logistic Regression\n",
    "- Support Vector Machines\n",
    "- Perceptron\n",
    "- Decision Tree Classifier\n",
    "- Random Forest Classifier\n",
    "- KNN or k-Nearest Neighbors\n",
    "- Stochastic Gradient Descent\n",
    "- Gradient Boosting Classifier\n",
    "\n",
    "For each model, we set the model, fit it with 80% of our training data, predict for 20% of the training data and check the accuracy."
   ]
  },
  {
   "cell_type": "code",
   "execution_count": 32,
   "id": "fc64d9f1",
   "metadata": {
    "execution": {
     "iopub.execute_input": "2024-04-10T21:47:16.821059Z",
     "iopub.status.busy": "2024-04-10T21:47:16.820616Z",
     "iopub.status.idle": "2024-04-10T21:47:16.842398Z",
     "shell.execute_reply": "2024-04-10T21:47:16.840874Z"
    },
    "papermill": {
     "duration": 0.057769,
     "end_time": "2024-04-10T21:47:16.845217",
     "exception": false,
     "start_time": "2024-04-10T21:47:16.787448",
     "status": "completed"
    },
    "tags": []
   },
   "outputs": [
    {
     "name": "stdout",
     "output_type": "stream",
     "text": [
      "78.68\n"
     ]
    }
   ],
   "source": [
    "\n",
    "\n",
    "# Gaussian Naive Bayes\n",
    "from sklearn.naive_bayes import GaussianNB\n",
    "from sklearn.metrics import accuracy_score\n",
    "\n",
    "gaussian = GaussianNB()\n",
    "gaussian.fit(X_train, y_train)\n",
    "y_pred = gaussian.predict(X_val)\n",
    "acc_gaussian = round(accuracy_score(y_pred, y_val) * 100, 2)\n",
    "print(acc_gaussian)"
   ]
  },
  {
   "cell_type": "code",
   "execution_count": 33,
   "id": "ff9f560f",
   "metadata": {
    "execution": {
     "iopub.execute_input": "2024-04-10T21:47:16.908992Z",
     "iopub.status.busy": "2024-04-10T21:47:16.908543Z",
     "iopub.status.idle": "2024-04-10T21:47:17.059913Z",
     "shell.execute_reply": "2024-04-10T21:47:17.058438Z"
    },
    "papermill": {
     "duration": 0.187535,
     "end_time": "2024-04-10T21:47:17.063413",
     "exception": false,
     "start_time": "2024-04-10T21:47:16.875878",
     "status": "completed"
    },
    "tags": []
   },
   "outputs": [
    {
     "name": "stdout",
     "output_type": "stream",
     "text": [
      "79.7\n"
     ]
    }
   ],
   "source": [
    "# Logistic Regression\n",
    "from sklearn.linear_model import LogisticRegression\n",
    "\n",
    "logreg = LogisticRegression()\n",
    "logreg.fit(X_train, y_train)\n",
    "y_pred = logreg.predict(X_val)\n",
    "acc_logreg = round(accuracy_score(y_pred, y_val)* 100, 2)\n",
    "print(acc_logreg)"
   ]
  },
  {
   "cell_type": "code",
   "execution_count": 34,
   "id": "602a49e5",
   "metadata": {
    "execution": {
     "iopub.execute_input": "2024-04-10T21:47:17.127029Z",
     "iopub.status.busy": "2024-04-10T21:47:17.126562Z",
     "iopub.status.idle": "2024-04-10T21:47:17.169975Z",
     "shell.execute_reply": "2024-04-10T21:47:17.168075Z"
    },
    "papermill": {
     "duration": 0.078476,
     "end_time": "2024-04-10T21:47:17.172790",
     "exception": false,
     "start_time": "2024-04-10T21:47:17.094314",
     "status": "completed"
    },
    "tags": []
   },
   "outputs": [
    {
     "name": "stdout",
     "output_type": "stream",
     "text": [
      "72.59\n"
     ]
    }
   ],
   "source": [
    "# Support Vector Machines\n",
    "from sklearn.svm import SVC\n",
    "\n",
    "svc = SVC()\n",
    "svc.fit(X_train, y_train)\n",
    "y_pred = svc.predict(X_val)\n",
    "acc_svc = round(accuracy_score(y_pred, y_val)* 100, 2)\n",
    "print(acc_svc)"
   ]
  },
  {
   "cell_type": "code",
   "execution_count": 35,
   "id": "7cb6f299",
   "metadata": {
    "execution": {
     "iopub.execute_input": "2024-04-10T21:47:17.237217Z",
     "iopub.status.busy": "2024-04-10T21:47:17.236732Z",
     "iopub.status.idle": "2024-04-10T21:47:17.293642Z",
     "shell.execute_reply": "2024-04-10T21:47:17.292228Z"
    },
    "papermill": {
     "duration": 0.092749,
     "end_time": "2024-04-10T21:47:17.296491",
     "exception": false,
     "start_time": "2024-04-10T21:47:17.203742",
     "status": "completed"
    },
    "tags": []
   },
   "outputs": [
    {
     "name": "stdout",
     "output_type": "stream",
     "text": [
      "77.16\n"
     ]
    }
   ],
   "source": [
    "# Linear SVC\n",
    "from sklearn.svm import LinearSVC\n",
    "\n",
    "linear_svc = LinearSVC()\n",
    "linear_svc.fit(X_train, y_train)\n",
    "y_pred = linear_svc.predict(X_val)\n",
    "acc_linear_svc = round(accuracy_score(y_pred, y_val)* 100, 2)\n",
    "print(acc_linear_svc)"
   ]
  },
  {
   "cell_type": "code",
   "execution_count": 36,
   "id": "bf01caeb",
   "metadata": {
    "execution": {
     "iopub.execute_input": "2024-04-10T21:47:17.361552Z",
     "iopub.status.busy": "2024-04-10T21:47:17.361134Z",
     "iopub.status.idle": "2024-04-10T21:47:17.378667Z",
     "shell.execute_reply": "2024-04-10T21:47:17.377147Z"
    },
    "papermill": {
     "duration": 0.053433,
     "end_time": "2024-04-10T21:47:17.381242",
     "exception": false,
     "start_time": "2024-04-10T21:47:17.327809",
     "status": "completed"
    },
    "tags": []
   },
   "outputs": [
    {
     "name": "stdout",
     "output_type": "stream",
     "text": [
      "51.27\n"
     ]
    }
   ],
   "source": [
    "# Perceptron\n",
    "from sklearn.linear_model import Perceptron\n",
    "\n",
    "perceptron = Perceptron()\n",
    "perceptron.fit(X_train, y_train)\n",
    "y_pred = perceptron.predict(X_val)\n",
    "acc_perceptron = round(accuracy_score(y_pred, y_val)* 100, 2)\n",
    "print(acc_perceptron)"
   ]
  },
  {
   "cell_type": "code",
   "execution_count": 37,
   "id": "02cce2d1",
   "metadata": {
    "execution": {
     "iopub.execute_input": "2024-04-10T21:47:17.449070Z",
     "iopub.status.busy": "2024-04-10T21:47:17.448619Z",
     "iopub.status.idle": "2024-04-10T21:47:17.569851Z",
     "shell.execute_reply": "2024-04-10T21:47:17.568678Z"
    },
    "papermill": {
     "duration": 0.159328,
     "end_time": "2024-04-10T21:47:17.572910",
     "exception": false,
     "start_time": "2024-04-10T21:47:17.413582",
     "status": "completed"
    },
    "tags": []
   },
   "outputs": [
    {
     "name": "stdout",
     "output_type": "stream",
     "text": [
      "77.66\n"
     ]
    }
   ],
   "source": [
    "# Decision Tree\n",
    "from sklearn.tree import DecisionTreeClassifier\n",
    "\n",
    "decisiontree = DecisionTreeClassifier()\n",
    "decisiontree.fit(X_train, y_train)\n",
    "y_pred = decisiontree.predict(X_val)\n",
    "acc_decisiontree = round(accuracy_score(y_pred, y_val)* 100, 2)\n",
    "print(acc_decisiontree)"
   ]
  },
  {
   "cell_type": "code",
   "execution_count": 38,
   "id": "09ad539d",
   "metadata": {
    "execution": {
     "iopub.execute_input": "2024-04-10T21:47:17.638141Z",
     "iopub.status.busy": "2024-04-10T21:47:17.637729Z",
     "iopub.status.idle": "2024-04-10T21:47:17.996460Z",
     "shell.execute_reply": "2024-04-10T21:47:17.995176Z"
    },
    "papermill": {
     "duration": 0.394621,
     "end_time": "2024-04-10T21:47:17.999207",
     "exception": false,
     "start_time": "2024-04-10T21:47:17.604586",
     "status": "completed"
    },
    "tags": []
   },
   "outputs": [
    {
     "name": "stdout",
     "output_type": "stream",
     "text": [
      "83.76\n"
     ]
    }
   ],
   "source": [
    "# Random Forest\n",
    "from sklearn.ensemble import RandomForestClassifier\n",
    "\n",
    "randomforest = RandomForestClassifier()\n",
    "randomforest.fit(X_train, y_train)\n",
    "y_pred = randomforest.predict(X_val)\n",
    "acc_randomforest = round(accuracy_score(y_pred, y_val)* 100, 2)\n",
    "print(acc_randomforest)"
   ]
  },
  {
   "cell_type": "code",
   "execution_count": 39,
   "id": "a3b1a78e",
   "metadata": {
    "execution": {
     "iopub.execute_input": "2024-04-10T21:47:18.067578Z",
     "iopub.status.busy": "2024-04-10T21:47:18.067124Z",
     "iopub.status.idle": "2024-04-10T21:47:18.098889Z",
     "shell.execute_reply": "2024-04-10T21:47:18.097502Z"
    },
    "papermill": {
     "duration": 0.067738,
     "end_time": "2024-04-10T21:47:18.101886",
     "exception": false,
     "start_time": "2024-04-10T21:47:18.034148",
     "status": "completed"
    },
    "tags": []
   },
   "outputs": [
    {
     "name": "stdout",
     "output_type": "stream",
     "text": [
      "77.16\n"
     ]
    }
   ],
   "source": [
    "#KNN or k-Nearest Neighbors\n",
    "from sklearn.neighbors import KNeighborsClassifier\n",
    "\n",
    "knn = KNeighborsClassifier()\n",
    "knn.fit(X_train, y_train)\n",
    "y_pred = knn.predict(X_val)\n",
    "acc_knn = round(accuracy_score(y_pred, y_val)*100, 2)\n",
    "print(acc_knn)"
   ]
  },
  {
   "cell_type": "code",
   "execution_count": 40,
   "id": "4cf2c18e",
   "metadata": {
    "execution": {
     "iopub.execute_input": "2024-04-10T21:47:18.167318Z",
     "iopub.status.busy": "2024-04-10T21:47:18.166859Z",
     "iopub.status.idle": "2024-04-10T21:47:18.185546Z",
     "shell.execute_reply": "2024-04-10T21:47:18.183685Z"
    },
    "papermill": {
     "duration": 0.054971,
     "end_time": "2024-04-10T21:47:18.188482",
     "exception": false,
     "start_time": "2024-04-10T21:47:18.133511",
     "status": "completed"
    },
    "tags": []
   },
   "outputs": [
    {
     "name": "stdout",
     "output_type": "stream",
     "text": [
      "51.78\n"
     ]
    }
   ],
   "source": [
    "# Stochastic Gradient Descent\n",
    "from sklearn.linear_model import SGDClassifier\n",
    "\n",
    "sgd = SGDClassifier()\n",
    "sgd.fit(X_train, y_train)\n",
    "y_pred = sgd.predict(X_val)\n",
    "acc_sgd = round(accuracy_score(y_pred, y_val)*100, 2)\n",
    "print(acc_sgd)"
   ]
  },
  {
   "cell_type": "code",
   "execution_count": 41,
   "id": "bd7da5a3",
   "metadata": {
    "execution": {
     "iopub.execute_input": "2024-04-10T21:47:18.253835Z",
     "iopub.status.busy": "2024-04-10T21:47:18.253388Z",
     "iopub.status.idle": "2024-04-10T21:47:18.411300Z",
     "shell.execute_reply": "2024-04-10T21:47:18.408967Z"
    },
    "papermill": {
     "duration": 0.194089,
     "end_time": "2024-04-10T21:47:18.414157",
     "exception": false,
     "start_time": "2024-04-10T21:47:18.220068",
     "status": "completed"
    },
    "tags": []
   },
   "outputs": [
    {
     "name": "stdout",
     "output_type": "stream",
     "text": [
      "85.79\n"
     ]
    }
   ],
   "source": [
    "#Gradient Boosting Classifier\n",
    "from sklearn.ensemble import GradientBoostingClassifier\n",
    "\n",
    "gbk = GradientBoostingClassifier()\n",
    "gbk.fit(X_train, y_train)\n",
    "y_pred = gbk.predict(X_val)\n",
    "acc_gbk = round(accuracy_score(y_pred, y_val)*100, 2)\n",
    "print(acc_gbk)"
   ]
  },
  {
   "cell_type": "markdown",
   "id": "29f858ae",
   "metadata": {
    "papermill": {
     "duration": 0.031043,
     "end_time": "2024-04-10T21:47:18.479275",
     "exception": false,
     "start_time": "2024-04-10T21:47:18.448232",
     "status": "completed"
    },
    "tags": []
   },
   "source": [
    "Let's compare the accuracies of each model!"
   ]
  },
  {
   "cell_type": "code",
   "execution_count": 42,
   "id": "7b6b8b87",
   "metadata": {
    "execution": {
     "iopub.execute_input": "2024-04-10T21:47:18.544435Z",
     "iopub.status.busy": "2024-04-10T21:47:18.543976Z",
     "iopub.status.idle": "2024-04-10T21:47:18.559519Z",
     "shell.execute_reply": "2024-04-10T21:47:18.558386Z"
    },
    "papermill": {
     "duration": 0.051571,
     "end_time": "2024-04-10T21:47:18.562281",
     "exception": false,
     "start_time": "2024-04-10T21:47:18.510710",
     "status": "completed"
    },
    "tags": []
   },
   "outputs": [
    {
     "data": {
      "text/html": [
       "<div>\n",
       "<style scoped>\n",
       "    .dataframe tbody tr th:only-of-type {\n",
       "        vertical-align: middle;\n",
       "    }\n",
       "\n",
       "    .dataframe tbody tr th {\n",
       "        vertical-align: top;\n",
       "    }\n",
       "\n",
       "    .dataframe thead th {\n",
       "        text-align: right;\n",
       "    }\n",
       "</style>\n",
       "<table border=\"1\" class=\"dataframe\">\n",
       "  <thead>\n",
       "    <tr style=\"text-align: right;\">\n",
       "      <th></th>\n",
       "      <th>Model</th>\n",
       "      <th>Score</th>\n",
       "    </tr>\n",
       "  </thead>\n",
       "  <tbody>\n",
       "    <tr>\n",
       "      <th>9</th>\n",
       "      <td>Gradient Boosting Classifier</td>\n",
       "      <td>85.79</td>\n",
       "    </tr>\n",
       "    <tr>\n",
       "      <th>3</th>\n",
       "      <td>Random Forest</td>\n",
       "      <td>83.76</td>\n",
       "    </tr>\n",
       "    <tr>\n",
       "      <th>2</th>\n",
       "      <td>Logistic Regression</td>\n",
       "      <td>79.70</td>\n",
       "    </tr>\n",
       "    <tr>\n",
       "      <th>4</th>\n",
       "      <td>Naive Bayes</td>\n",
       "      <td>78.68</td>\n",
       "    </tr>\n",
       "    <tr>\n",
       "      <th>7</th>\n",
       "      <td>Decision Tree</td>\n",
       "      <td>77.66</td>\n",
       "    </tr>\n",
       "    <tr>\n",
       "      <th>1</th>\n",
       "      <td>KNN</td>\n",
       "      <td>77.16</td>\n",
       "    </tr>\n",
       "    <tr>\n",
       "      <th>6</th>\n",
       "      <td>Linear SVC</td>\n",
       "      <td>77.16</td>\n",
       "    </tr>\n",
       "    <tr>\n",
       "      <th>0</th>\n",
       "      <td>Support Vector Machines</td>\n",
       "      <td>72.59</td>\n",
       "    </tr>\n",
       "    <tr>\n",
       "      <th>8</th>\n",
       "      <td>Stochastic Gradient Descent</td>\n",
       "      <td>51.78</td>\n",
       "    </tr>\n",
       "    <tr>\n",
       "      <th>5</th>\n",
       "      <td>Perceptron</td>\n",
       "      <td>51.27</td>\n",
       "    </tr>\n",
       "  </tbody>\n",
       "</table>\n",
       "</div>"
      ],
      "text/plain": [
       "                          Model  Score\n",
       "9  Gradient Boosting Classifier  85.79\n",
       "3                 Random Forest  83.76\n",
       "2           Logistic Regression  79.70\n",
       "4                   Naive Bayes  78.68\n",
       "7                 Decision Tree  77.66\n",
       "1                           KNN  77.16\n",
       "6                    Linear SVC  77.16\n",
       "0       Support Vector Machines  72.59\n",
       "8   Stochastic Gradient Descent  51.78\n",
       "5                    Perceptron  51.27"
      ]
     },
     "execution_count": 42,
     "metadata": {},
     "output_type": "execute_result"
    }
   ],
   "source": [
    "models = pd.DataFrame({\n",
    "    \"Model\":['Support Vector Machines',\n",
    "             'KNN', 'Logistic Regression', \n",
    "             'Random Forest', 'Naive Bayes',\n",
    "             'Perceptron', 'Linear SVC', \n",
    "             'Decision Tree', 'Stochastic Gradient Descent',\n",
    "             'Gradient Boosting Classifier'],\n",
    "    \"Score\":[acc_svc, acc_knn, acc_logreg, \n",
    "             acc_randomforest, acc_gaussian,\n",
    "             acc_perceptron,acc_linear_svc,\n",
    "             acc_decisiontree, acc_sgd,acc_gbk]})\n",
    "models.sort_values(by=\"Score\", ascending=False)"
   ]
  },
  {
   "cell_type": "markdown",
   "id": "ed780ae4",
   "metadata": {
    "papermill": {
     "duration": 0.031965,
     "end_time": "2024-04-10T21:47:18.625698",
     "exception": false,
     "start_time": "2024-04-10T21:47:18.593733",
     "status": "completed"
    },
    "tags": []
   },
   "source": [
    "I decided to use the Gradient Boosting Classifier model for the testing data."
   ]
  },
  {
   "cell_type": "markdown",
   "id": "73303cc6",
   "metadata": {
    "papermill": {
     "duration": 0.031364,
     "end_time": "2024-04-10T21:47:18.688733",
     "exception": false,
     "start_time": "2024-04-10T21:47:18.657369",
     "status": "completed"
    },
    "tags": []
   },
   "source": [
    "# 7) Creating Submission File"
   ]
  },
  {
   "cell_type": "code",
   "execution_count": 43,
   "id": "97d18294",
   "metadata": {
    "execution": {
     "iopub.execute_input": "2024-04-10T21:47:18.755220Z",
     "iopub.status.busy": "2024-04-10T21:47:18.754515Z",
     "iopub.status.idle": "2024-04-10T21:47:18.769874Z",
     "shell.execute_reply": "2024-04-10T21:47:18.768576Z"
    },
    "papermill": {
     "duration": 0.052131,
     "end_time": "2024-04-10T21:47:18.772733",
     "exception": false,
     "start_time": "2024-04-10T21:47:18.720602",
     "status": "completed"
    },
    "tags": []
   },
   "outputs": [],
   "source": [
    "# Set ids as PassengerId and predict survival\n",
    "ids = test[\"PassengerId\"]\n",
    "predictions = gbk.predict(test.drop(\"PassengerId\", axis=1))\n",
    "\n",
    "# Set the output as a dataframe and convert to csv file named submission.csv\n",
    "output = pd.DataFrame({\"PassengerId\": ids, \"Survived\": predictions })\n",
    "output.to_csv(\"submission.csv\", index=False)"
   ]
  },
  {
   "cell_type": "code",
   "execution_count": null,
   "id": "1e6d7362",
   "metadata": {
    "papermill": {
     "duration": 0.032168,
     "end_time": "2024-04-10T21:47:18.837782",
     "exception": false,
     "start_time": "2024-04-10T21:47:18.805614",
     "status": "completed"
    },
    "tags": []
   },
   "outputs": [],
   "source": []
  }
 ],
 "metadata": {
  "kaggle": {
   "accelerator": "none",
   "dataSources": [
    {
     "databundleVersionId": 26502,
     "sourceId": 3136,
     "sourceType": "competition"
    }
   ],
   "dockerImageVersionId": 30684,
   "isGpuEnabled": false,
   "isInternetEnabled": true,
   "language": "python",
   "sourceType": "notebook"
  },
  "kernelspec": {
   "display_name": "Python 3",
   "language": "python",
   "name": "python3"
  },
  "language_info": {
   "codemirror_mode": {
    "name": "ipython",
    "version": 3
   },
   "file_extension": ".py",
   "mimetype": "text/x-python",
   "name": "python",
   "nbconvert_exporter": "python",
   "pygments_lexer": "ipython3",
   "version": "3.10.13"
  },
  "papermill": {
   "default_parameters": {},
   "duration": 16.620837,
   "end_time": "2024-04-10T21:47:19.696518",
   "environment_variables": {},
   "exception": null,
   "input_path": "__notebook__.ipynb",
   "output_path": "__notebook__.ipynb",
   "parameters": {},
   "start_time": "2024-04-10T21:47:03.075681",
   "version": "2.5.0"
  }
 },
 "nbformat": 4,
 "nbformat_minor": 5
}
